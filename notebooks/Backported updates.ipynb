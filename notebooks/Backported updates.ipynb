{
 "cells": [
  {
   "cell_type": "markdown",
   "metadata": {},
   "source": [
    "# On backported updates"
   ]
  },
  {
   "cell_type": "code",
   "execution_count": 1,
   "metadata": {},
   "outputs": [],
   "source": [
    "import pandas\n",
    "import numpy as np\n",
    "import matplotlib\n",
    "import seaborn\n",
    "\n",
    "from scipy.stats import mannwhitneyu\n",
    "from cliffsDelta import cliffsDelta\n",
    "\n",
    "from IPython.display import display\n",
    "\n",
    "%matplotlib inline"
   ]
  },
  {
   "cell_type": "code",
   "execution_count": 2,
   "metadata": {},
   "outputs": [],
   "source": [
    "FIG_SIZE = (8, 3)\n",
    "FIG_SIZE_WIDE = (8, 2.5)\n",
    "\n",
    "ECOSYSTEMS = ['Cargo', 'NPM', 'Packagist', 'Rubygems']\n",
    "DATE_RANGE = pandas.to_datetime('2015-01-01'), pandas.to_datetime('2020-01-01')\n",
    "CENSOR_DATE = pandas.to_datetime('2020-01-12')\n",
    "\n",
    "PALETTE = seaborn.color_palette()\n",
    "PAL_REL = np.take(seaborn.color_palette('muted'), [3, 8, 2, 0], axis=0)\n",
    "COLORS = {e: PALETTE[i] for i, e in enumerate(ECOSYSTEMS)}\n",
    "\n",
    "matplotlib.rcParams['figure.figsize'] = FIG_SIZE\n",
    "matplotlib.rcParams['legend.framealpha'] = 1\n",
    "matplotlib.rcParams['text.latex.preamble'] = r'\\usepackage{amsmath}'\n",
    "\n",
    "SAVEFIG = False\n",
    "\n",
    "def _savefig(fig, name):\n",
    "    import os\n",
    "    fig.savefig(\n",
    "        os.path.join('..', 'figures', '{}.pdf'.format(name)),\n",
    "        bbox_inches='tight'\n",
    "    )\n",
    "    \n",
    "savefig = _savefig if SAVEFIG else lambda x, y: None"
   ]
  },
  {
   "cell_type": "markdown",
   "metadata": {},
   "source": [
    "# Datasets"
   ]
  },
  {
   "cell_type": "markdown",
   "metadata": {},
   "source": [
    "## Load data"
   ]
  },
  {
   "cell_type": "code",
   "execution_count": 3,
   "metadata": {},
   "outputs": [
    {
     "name": "stdout",
     "output_type": "stream",
     "text": [
      "Loading Cargo\n",
      ".. required packages\n",
      ".. dependent packages\n",
      "Loading NPM\n",
      ".. required packages\n",
      ".. dependent packages\n",
      "Loading Packagist\n",
      ".. required packages\n",
      ".. dependent packages\n",
      "Loading Rubygems\n",
      ".. required packages\n",
      ".. dependent packages\n",
      "Done!\n"
     ]
    }
   ],
   "source": [
    "df_required = dict()\n",
    "df_dependents = dict()\n",
    "\n",
    "for ecosystem in ECOSYSTEMS:\n",
    "    print('Loading', ecosystem)\n",
    "    print('.. required packages')\n",
    "    df_required[ecosystem] = (\n",
    "        pandas.read_csv(\n",
    "            '../data/{}-required.csv.gz'.format(ecosystem),\n",
    "            parse_dates=['date'],\n",
    "            infer_datetime_format=True,\n",
    "        )\n",
    "    )\n",
    "    \n",
    "    print('.. dependent packages')\n",
    "    df_dependents[ecosystem] = (\n",
    "        pandas.read_csv(\n",
    "            '../data/{}-dependents.csv.gz'.format(ecosystem),\n",
    "        )\n",
    "    )\n",
    "    \n",
    "print('Done!')"
   ]
  },
  {
   "cell_type": "markdown",
   "metadata": {},
   "source": [
    "## Data cleaning"
   ]
  },
  {
   "cell_type": "markdown",
   "metadata": {},
   "source": [
    "We know there are cases in which many releases of a package are imported at the same time, or in a non-revelant order. \n",
    "Such cases are problematic, since the corresponding updates are likely to be wrongly considered as backports. \n",
    "\n",
    "To mitigate this, we remove each package:\n",
    " - (1) for which the chronological order of its major releases does not follow the version order;\n",
    " - (2) for which the first chronological release is not the very first release;\n",
    " - (3) for which a release preceedes the release date of its corresponding major."
   ]
  },
  {
   "cell_type": "code",
   "execution_count": 4,
   "metadata": {},
   "outputs": [],
   "source": [
    "data = pandas.concat([\n",
    "    df_required[ecosystem]\n",
    "    [lambda d: d['kind'].isin(['major', 'initial'])]\n",
    "    [['package', 'rank', 'rank_date']]\n",
    "    .sort_values('rank')\n",
    "    # (1) and (2)\n",
    "    .groupby('package', sort=False, as_index=False)\n",
    "    .agg({\n",
    "        'rank_date': lambda s: s.rank().is_monotonic,\n",
    "    })\n",
    "    .query('not rank_date')\n",
    "    [['package']]\n",
    "    .append(\n",
    "        # (3)\n",
    "        df_required[ecosystem]\n",
    "        [lambda d: d['package'].isin(\n",
    "            df_required[ecosystem]\n",
    "            .sort_values('rank_date')\n",
    "            .groupby(['package', 'major'], sort=False, as_index=False)\n",
    "            .first()\n",
    "            .query('kind not in [\"major\", \"initial\"]')\n",
    "            .package    \n",
    "        )]\n",
    "        [['package']]\n",
    "        .drop_duplicates()\n",
    "    )\n",
    "    .assign(ecosystem=ecosystem)\n",
    "    [['ecosystem', 'package']]\n",
    "    for ecosystem in ECOSYSTEMS]\n",
    ")"
   ]
  },
  {
   "cell_type": "code",
   "execution_count": 5,
   "metadata": {},
   "outputs": [
    {
     "data": {
      "text/html": [
       "<div>\n",
       "<style scoped>\n",
       "    .dataframe tbody tr th:only-of-type {\n",
       "        vertical-align: middle;\n",
       "    }\n",
       "\n",
       "    .dataframe tbody tr th {\n",
       "        vertical-align: top;\n",
       "    }\n",
       "\n",
       "    .dataframe thead th {\n",
       "        text-align: right;\n",
       "    }\n",
       "</style>\n",
       "<table border=\"1\" class=\"dataframe\">\n",
       "  <thead>\n",
       "    <tr style=\"text-align: right;\">\n",
       "      <th></th>\n",
       "      <th>package</th>\n",
       "    </tr>\n",
       "    <tr>\n",
       "      <th>ecosystem</th>\n",
       "      <th></th>\n",
       "    </tr>\n",
       "  </thead>\n",
       "  <tbody>\n",
       "    <tr>\n",
       "      <th>Cargo</th>\n",
       "      <td>6</td>\n",
       "    </tr>\n",
       "    <tr>\n",
       "      <th>NPM</th>\n",
       "      <td>380</td>\n",
       "    </tr>\n",
       "    <tr>\n",
       "      <th>Packagist</th>\n",
       "      <td>96</td>\n",
       "    </tr>\n",
       "    <tr>\n",
       "      <th>Rubygems</th>\n",
       "      <td>81</td>\n",
       "    </tr>\n",
       "  </tbody>\n",
       "</table>\n",
       "</div>"
      ],
      "text/plain": [
       "           package\n",
       "ecosystem         \n",
       "Cargo            6\n",
       "NPM            380\n",
       "Packagist       96\n",
       "Rubygems        81"
      ]
     },
     "execution_count": 5,
     "metadata": {},
     "output_type": "execute_result"
    }
   ],
   "source": [
    "(\n",
    "    data\n",
    "    .groupby('ecosystem')\n",
    "    .count()\n",
    ")"
   ]
  },
  {
   "cell_type": "markdown",
   "metadata": {},
   "source": [
    "Let's have a look at some example. This package got its 2.y.z releases before its 1.y.z ones. "
   ]
  },
  {
   "cell_type": "code",
   "execution_count": 6,
   "metadata": {},
   "outputs": [
    {
     "data": {
      "text/html": [
       "<div>\n",
       "<style scoped>\n",
       "    .dataframe tbody tr th:only-of-type {\n",
       "        vertical-align: middle;\n",
       "    }\n",
       "\n",
       "    .dataframe tbody tr th {\n",
       "        vertical-align: top;\n",
       "    }\n",
       "\n",
       "    .dataframe thead th {\n",
       "        text-align: right;\n",
       "    }\n",
       "</style>\n",
       "<table border=\"1\" class=\"dataframe\">\n",
       "  <thead>\n",
       "    <tr style=\"text-align: right;\">\n",
       "      <th></th>\n",
       "      <th>version</th>\n",
       "      <th>rank</th>\n",
       "      <th>date</th>\n",
       "    </tr>\n",
       "  </thead>\n",
       "  <tbody>\n",
       "    <tr>\n",
       "      <th>10931</th>\n",
       "      <td>0.2.0</td>\n",
       "      <td>3</td>\n",
       "      <td>2015-08-18 18:07:20</td>\n",
       "    </tr>\n",
       "    <tr>\n",
       "      <th>10930</th>\n",
       "      <td>0.1.4</td>\n",
       "      <td>2</td>\n",
       "      <td>2015-08-18 18:13:45</td>\n",
       "    </tr>\n",
       "    <tr>\n",
       "      <th>10929</th>\n",
       "      <td>0.1.3</td>\n",
       "      <td>1</td>\n",
       "      <td>2015-08-18 18:20:27</td>\n",
       "    </tr>\n",
       "    <tr>\n",
       "      <th>10932</th>\n",
       "      <td>0.2.1</td>\n",
       "      <td>4</td>\n",
       "      <td>2015-09-09 20:22:14</td>\n",
       "    </tr>\n",
       "    <tr>\n",
       "      <th>10933</th>\n",
       "      <td>0.2.2</td>\n",
       "      <td>5</td>\n",
       "      <td>2016-02-21 23:02:45</td>\n",
       "    </tr>\n",
       "    <tr>\n",
       "      <th>...</th>\n",
       "      <td>...</td>\n",
       "      <td>...</td>\n",
       "      <td>...</td>\n",
       "    </tr>\n",
       "    <tr>\n",
       "      <th>11004</th>\n",
       "      <td>60.4.1</td>\n",
       "      <td>76</td>\n",
       "      <td>2019-07-12 11:41:24</td>\n",
       "    </tr>\n",
       "    <tr>\n",
       "      <th>10994</th>\n",
       "      <td>50.3.1</td>\n",
       "      <td>66</td>\n",
       "      <td>2019-07-12 11:43:42</td>\n",
       "    </tr>\n",
       "    <tr>\n",
       "      <th>10984</th>\n",
       "      <td>40.3.1</td>\n",
       "      <td>56</td>\n",
       "      <td>2019-07-12 11:45:58</td>\n",
       "    </tr>\n",
       "    <tr>\n",
       "      <th>11014</th>\n",
       "      <td>80.1.2</td>\n",
       "      <td>86</td>\n",
       "      <td>2019-12-04 06:57:19</td>\n",
       "    </tr>\n",
       "    <tr>\n",
       "      <th>11015</th>\n",
       "      <td>90.0.0</td>\n",
       "      <td>87</td>\n",
       "      <td>2019-12-15 05:54:27</td>\n",
       "    </tr>\n",
       "  </tbody>\n",
       "</table>\n",
       "<p>87 rows × 3 columns</p>\n",
       "</div>"
      ],
      "text/plain": [
       "      version  rank                date\n",
       "10931   0.2.0     3 2015-08-18 18:07:20\n",
       "10930   0.1.4     2 2015-08-18 18:13:45\n",
       "10929   0.1.3     1 2015-08-18 18:20:27\n",
       "10932   0.2.1     4 2015-09-09 20:22:14\n",
       "10933   0.2.2     5 2016-02-21 23:02:45\n",
       "...       ...   ...                 ...\n",
       "11004  60.4.1    76 2019-07-12 11:41:24\n",
       "10994  50.3.1    66 2019-07-12 11:43:42\n",
       "10984  40.3.1    56 2019-07-12 11:45:58\n",
       "11014  80.1.2    86 2019-12-04 06:57:19\n",
       "11015  90.0.0    87 2019-12-15 05:54:27\n",
       "\n",
       "[87 rows x 3 columns]"
      ]
     },
     "execution_count": 6,
     "metadata": {},
     "output_type": "execute_result"
    }
   ],
   "source": [
    "df_required['Cargo'].query('package == \"llvm-sys\"').sort_values('date')[['version', 'rank', 'date']]"
   ]
  },
  {
   "cell_type": "markdown",
   "metadata": {},
   "source": [
    "Let's remove these packages, and the related dependents."
   ]
  },
  {
   "cell_type": "code",
   "execution_count": 7,
   "metadata": {},
   "outputs": [],
   "source": [
    "for ecosystem in ECOSYSTEMS:\n",
    "    packages = data[lambda d: d['ecosystem'] == ecosystem].package\n",
    "    df_required[ecosystem] = df_required[ecosystem][lambda d: ~d['package'].isin(packages)]\n",
    "    df_dependents[ecosystem] = df_dependents[ecosystem][lambda d: ~d['target'].isin(packages)]"
   ]
  },
  {
   "cell_type": "markdown",
   "metadata": {},
   "source": [
    "## Data overview"
   ]
  },
  {
   "cell_type": "code",
   "execution_count": 8,
   "metadata": {},
   "outputs": [
    {
     "data": {
      "text/html": [
       "<div>\n",
       "<style scoped>\n",
       "    .dataframe tbody tr th:only-of-type {\n",
       "        vertical-align: middle;\n",
       "    }\n",
       "\n",
       "    .dataframe tbody tr th {\n",
       "        vertical-align: top;\n",
       "    }\n",
       "\n",
       "    .dataframe thead th {\n",
       "        text-align: right;\n",
       "    }\n",
       "</style>\n",
       "<table border=\"1\" class=\"dataframe\">\n",
       "  <thead>\n",
       "    <tr style=\"text-align: right;\">\n",
       "      <th></th>\n",
       "      <th>Cargo</th>\n",
       "      <th>NPM</th>\n",
       "      <th>Packagist</th>\n",
       "      <th>Rubygems</th>\n",
       "    </tr>\n",
       "  </thead>\n",
       "  <tbody>\n",
       "    <tr>\n",
       "      <th>required</th>\n",
       "      <td>1185</td>\n",
       "      <td>15281</td>\n",
       "      <td>2247</td>\n",
       "      <td>652</td>\n",
       "    </tr>\n",
       "    <tr>\n",
       "      <th>releases</th>\n",
       "      <td>26185</td>\n",
       "      <td>570676</td>\n",
       "      <td>100870</td>\n",
       "      <td>35264</td>\n",
       "    </tr>\n",
       "    <tr>\n",
       "      <th>dependents</th>\n",
       "      <td>13143</td>\n",
       "      <td>242618</td>\n",
       "      <td>35488</td>\n",
       "      <td>7915</td>\n",
       "    </tr>\n",
       "    <tr>\n",
       "      <th>dependencies</th>\n",
       "      <td>59814</td>\n",
       "      <td>1021843</td>\n",
       "      <td>89667</td>\n",
       "      <td>15066</td>\n",
       "    </tr>\n",
       "  </tbody>\n",
       "</table>\n",
       "</div>"
      ],
      "text/plain": [
       "              Cargo      NPM Packagist Rubygems\n",
       "required       1185    15281      2247      652\n",
       "releases      26185   570676    100870    35264\n",
       "dependents    13143   242618     35488     7915\n",
       "dependencies  59814  1021843     89667    15066"
      ]
     },
     "execution_count": 8,
     "metadata": {},
     "output_type": "execute_result"
    }
   ],
   "source": [
    "data = pandas.DataFrame(index=['required', 'releases', 'dependents', 'dependencies'], columns=ECOSYSTEMS)\n",
    "\n",
    "for ecosystem in ECOSYSTEMS:\n",
    "    data.at['required', ecosystem] = len(df_required[ecosystem].drop_duplicates('package'))\n",
    "    data.at['releases', ecosystem] = len(df_required[ecosystem])\n",
    "    data.at['dependents', ecosystem] = len(df_dependents[ecosystem].drop_duplicates('source'))\n",
    "    data.at['dependencies', ecosystem] = len(df_dependents[ecosystem])\n",
    "    \n",
    "data"
   ]
  },
  {
   "cell_type": "code",
   "execution_count": 9,
   "metadata": {},
   "outputs": [
    {
     "data": {
      "text/plain": [
       "required          19365.0\n",
       "releases         732995.0\n",
       "dependents       299164.0\n",
       "dependencies    1186390.0\n",
       "dtype: float64"
      ]
     },
     "execution_count": 9,
     "metadata": {},
     "output_type": "execute_result"
    }
   ],
   "source": [
    "data.T[['required', 'releases', 'dependents', 'dependencies']].sum()"
   ]
  },
  {
   "cell_type": "markdown",
   "metadata": {},
   "source": [
    "Our dependency constraint parsers were able to cope with the large majority of dependency constraints. However, some of them could not be parsed. Let's quantify this. Since the analyses that rely on this preparatory parsing step focus on the latest snapshot of each ecosystem, we only consider this snapshot to quantify this phenomenon."
   ]
  },
  {
   "cell_type": "code",
   "execution_count": 10,
   "metadata": {},
   "outputs": [
    {
     "data": {
      "text/html": [
       "<div>\n",
       "<style scoped>\n",
       "    .dataframe tbody tr th:only-of-type {\n",
       "        vertical-align: middle;\n",
       "    }\n",
       "\n",
       "    .dataframe tbody tr th {\n",
       "        vertical-align: top;\n",
       "    }\n",
       "\n",
       "    .dataframe thead th {\n",
       "        text-align: right;\n",
       "    }\n",
       "</style>\n",
       "<table border=\"1\" class=\"dataframe\">\n",
       "  <thead>\n",
       "    <tr style=\"text-align: right;\">\n",
       "      <th>c_empty</th>\n",
       "      <th>False</th>\n",
       "      <th>True</th>\n",
       "      <th>All</th>\n",
       "      <th>prop</th>\n",
       "    </tr>\n",
       "    <tr>\n",
       "      <th>ecosystem</th>\n",
       "      <th></th>\n",
       "      <th></th>\n",
       "      <th></th>\n",
       "      <th></th>\n",
       "    </tr>\n",
       "  </thead>\n",
       "  <tbody>\n",
       "    <tr>\n",
       "      <th>Cargo</th>\n",
       "      <td>13143.0</td>\n",
       "      <td>0.0</td>\n",
       "      <td>13143</td>\n",
       "      <td>0.000000</td>\n",
       "    </tr>\n",
       "    <tr>\n",
       "      <th>NPM</th>\n",
       "      <td>240949.0</td>\n",
       "      <td>1669.0</td>\n",
       "      <td>242618</td>\n",
       "      <td>0.006879</td>\n",
       "    </tr>\n",
       "    <tr>\n",
       "      <th>Packagist</th>\n",
       "      <td>34624.0</td>\n",
       "      <td>864.0</td>\n",
       "      <td>35488</td>\n",
       "      <td>0.024346</td>\n",
       "    </tr>\n",
       "    <tr>\n",
       "      <th>Rubygems</th>\n",
       "      <td>7400.0</td>\n",
       "      <td>515.0</td>\n",
       "      <td>7915</td>\n",
       "      <td>0.065066</td>\n",
       "    </tr>\n",
       "    <tr>\n",
       "      <th>All</th>\n",
       "      <td>296116.0</td>\n",
       "      <td>3048.0</td>\n",
       "      <td>299164</td>\n",
       "      <td>0.010188</td>\n",
       "    </tr>\n",
       "  </tbody>\n",
       "</table>\n",
       "</div>"
      ],
      "text/plain": [
       "c_empty       False    True     All      prop\n",
       "ecosystem                                    \n",
       "Cargo       13143.0     0.0   13143  0.000000\n",
       "NPM        240949.0  1669.0  242618  0.006879\n",
       "Packagist   34624.0   864.0   35488  0.024346\n",
       "Rubygems     7400.0   515.0    7915  0.065066\n",
       "All        296116.0  3048.0  299164  0.010188"
      ]
     },
     "execution_count": 10,
     "metadata": {},
     "output_type": "execute_result"
    }
   ],
   "source": [
    "(\n",
    "    pandas.concat([\n",
    "        df_dependents[ecosystem]\n",
    "        .sort_values('rank')\n",
    "        .drop_duplicates('source', keep='last')\n",
    "        .assign(ecosystem=ecosystem)\n",
    "        for ecosystem in ECOSYSTEMS], \n",
    "        axis=0\n",
    "    )\n",
    "    .pivot_table(index='ecosystem', columns=['c_empty'], values='target', aggfunc='count', margins=True)\n",
    "    .fillna(0)\n",
    "    .assign(prop=lambda d: d[True] / d['All'])\n",
    ")"
   ]
  },
  {
   "cell_type": "markdown",
   "metadata": {},
   "source": [
    "# On the need to backport updates to previous major"
   ]
  },
  {
   "cell_type": "markdown",
   "metadata": {},
   "source": [
    "## Permissivity of dependency constraints"
   ]
  },
  {
   "cell_type": "markdown",
   "metadata": {},
   "source": [
    "We look at how permissive dependency constraints are, this is, whether they accept patches, minor or major releases. Since we know from previous work that such permissiveness depends on whether the target package is 0.y.z or >=1.0.0, we distinguish these two cases. \n",
    "\n",
    "Let's first quantify the number of targets for each category."
   ]
  },
  {
   "cell_type": "code",
   "execution_count": 11,
   "metadata": {},
   "outputs": [
    {
     "data": {
      "text/html": [
       "<div>\n",
       "<style scoped>\n",
       "    .dataframe tbody tr th:only-of-type {\n",
       "        vertical-align: middle;\n",
       "    }\n",
       "\n",
       "    .dataframe tbody tr th {\n",
       "        vertical-align: top;\n",
       "    }\n",
       "\n",
       "    .dataframe thead th {\n",
       "        text-align: right;\n",
       "    }\n",
       "</style>\n",
       "<table border=\"1\" class=\"dataframe\">\n",
       "  <thead>\n",
       "    <tr style=\"text-align: right;\">\n",
       "      <th></th>\n",
       "      <th></th>\n",
       "      <th>target</th>\n",
       "      <th>prop</th>\n",
       "    </tr>\n",
       "    <tr>\n",
       "      <th>ecosystem</th>\n",
       "      <th>c_dev</th>\n",
       "      <th></th>\n",
       "      <th></th>\n",
       "    </tr>\n",
       "  </thead>\n",
       "  <tbody>\n",
       "    <tr>\n",
       "      <th rowspan=\"2\" valign=\"top\">Cargo</th>\n",
       "      <th>False</th>\n",
       "      <td>21455</td>\n",
       "      <td>0.358695</td>\n",
       "    </tr>\n",
       "    <tr>\n",
       "      <th>True</th>\n",
       "      <td>38359</td>\n",
       "      <td>0.641305</td>\n",
       "    </tr>\n",
       "    <tr>\n",
       "      <th rowspan=\"2\" valign=\"top\">NPM</th>\n",
       "      <th>False</th>\n",
       "      <td>919629</td>\n",
       "      <td>0.899971</td>\n",
       "    </tr>\n",
       "    <tr>\n",
       "      <th>True</th>\n",
       "      <td>102214</td>\n",
       "      <td>0.100029</td>\n",
       "    </tr>\n",
       "    <tr>\n",
       "      <th rowspan=\"2\" valign=\"top\">Packagist</th>\n",
       "      <th>False</th>\n",
       "      <td>86410</td>\n",
       "      <td>0.963677</td>\n",
       "    </tr>\n",
       "    <tr>\n",
       "      <th>True</th>\n",
       "      <td>3257</td>\n",
       "      <td>0.036323</td>\n",
       "    </tr>\n",
       "    <tr>\n",
       "      <th rowspan=\"2\" valign=\"top\">Rubygems</th>\n",
       "      <th>False</th>\n",
       "      <td>12555</td>\n",
       "      <td>0.833333</td>\n",
       "    </tr>\n",
       "    <tr>\n",
       "      <th>True</th>\n",
       "      <td>2511</td>\n",
       "      <td>0.166667</td>\n",
       "    </tr>\n",
       "  </tbody>\n",
       "</table>\n",
       "</div>"
      ],
      "text/plain": [
       "                 target      prop\n",
       "ecosystem c_dev                  \n",
       "Cargo     False   21455  0.358695\n",
       "          True    38359  0.641305\n",
       "NPM       False  919629  0.899971\n",
       "          True   102214  0.100029\n",
       "Packagist False   86410  0.963677\n",
       "          True     3257  0.036323\n",
       "Rubygems  False   12555  0.833333\n",
       "          True     2511  0.166667"
      ]
     },
     "execution_count": 11,
     "metadata": {},
     "output_type": "execute_result"
    }
   ],
   "source": [
    "pandas.concat([\n",
    "    df_dependents[ecosystem]\n",
    "    .groupby('c_dev', as_index=False)\n",
    "    [['target']]\n",
    "    .count()\n",
    "    .assign(prop=lambda d: d['target'] / d['target'].sum())\n",
    "    .assign(ecosystem=ecosystem)\n",
    "    for ecosystem in ECOSYSTEMS], axis=0\n",
    ").set_index(['ecosystem', 'c_dev'])"
   ]
  },
  {
   "cell_type": "code",
   "execution_count": 12,
   "metadata": {},
   "outputs": [],
   "source": [
    "data = pandas.concat([\n",
    "    df_dependents[ecosystem]\n",
    "    .sort_values('rank')\n",
    "    .drop_duplicates(['source', 'target'], keep='last')\n",
    "    .assign(\n",
    "        n=1,\n",
    "        # Correct values, as patch superseeded by minor superseeded by major\n",
    "        patch=lambda d: d['c_patch'] & ~d['c_minor'] & ~d['c_major'],\n",
    "        minor=lambda d: d['c_minor'] & ~d['c_major'],\n",
    "        major=lambda d: d['c_major'],\n",
    "    )\n",
    "    .pivot_table(index='c_dev', values=['n', 'major', 'minor', 'patch'], aggfunc='sum')\n",
    "    .apply(lambda s: s / s.n, axis=1)\n",
    "    .drop(columns=['n'])\n",
    "    .reset_index()\n",
    "    .rename(columns={'c_dev': 'kind'})\n",
    "    .replace({'kind': {True: '0.y.z', False: '>=1.0.0'}})\n",
    "    .assign(ecosystem=ecosystem)\n",
    "    for ecosystem in ECOSYSTEMS],\n",
    "    axis=0\n",
    ").set_index(['ecosystem', 'kind'])"
   ]
  },
  {
   "cell_type": "code",
   "execution_count": 13,
   "metadata": {},
   "outputs": [
    {
     "data": {
      "image/png": "[encoded data removed]",
      "text/plain": [
       "<Figure size 576x216 with 2 Axes>"
      ]
     },
     "metadata": {
      "needs_background": "light"
     },
     "output_type": "display_data"
    }
   ],
   "source": [
    "fig, axes = matplotlib.pyplot.subplots(\n",
    "    ncols=2, \n",
    "    sharex=False, \n",
    "    sharey=True,\n",
    "    gridspec_kw=dict(wspace=0)\n",
    ")\n",
    "\n",
    "for i, kind in enumerate(['0.y.z', '>=1.0.0']):\n",
    "    (\n",
    "        data\n",
    "        .xs(kind, level=1)\n",
    "        [['patch', 'minor', 'major']]\n",
    "        .plot.bar(stacked=True, color=PAL_REL[0:3][::-1], linewidth=1, edgecolor=(0, 0, 0, 0.3), legend=False, ax=axes[i])\n",
    "    )\n",
    "    \n",
    "    axes[i].set(\n",
    "        title='target is {}'.format(kind),\n",
    "        xlabel='', \n",
    "        ylabel=''\n",
    "    )\n",
    "    axes[i].xaxis.set_tick_params(rotation=0)\n",
    "\n",
    "positions = [\n",
    "    ((0.40, 0.92), (0.06, 0.45, 0.93)),\n",
    "    ((0.40, 0.84), (0.08, 0.45, 0.90)),\n",
    "    ((0.40, 0.90), (0.05, 0.48, 0.84)),\n",
    "    ((0.20, 0.65), (0.04, 0.28, 0.70)),\n",
    "]\n",
    "for i, ecosystem in enumerate(ECOSYSTEMS):\n",
    "    for j, kind in enumerate(['0.y.z', '>=1.0.0']):\n",
    "        for k, release in enumerate(['patch', 'minor', 'major']):\n",
    "            value = data.loc[ecosystem, kind][release]\n",
    "            if kind == '0.y.z' and release == 'major':\n",
    "                continue\n",
    "            axes[j].annotate('{:.1%}'.format(value), (i + 0.03, positions[i][j][k]), ha='center', va='center')\n",
    "    \n",
    "axes[0].legend(\n",
    "    loc='lower center',\n",
    "    ncol=3,\n",
    "    bbox_to_anchor=(1, -0.32),\n",
    ")\n",
    "\n",
    "seaborn.despine(fig, top=True, right=True)\n",
    "\n",
    "axes[0].set(\n",
    "    xlabel='',\n",
    "    ylabel='proportion of constraints',\n",
    "    ylim=(0, 1),\n",
    ")\n",
    "\n",
    "savefig(fig, 'need_permissiveness')"
   ]
  },
  {
   "cell_type": "code",
   "execution_count": 14,
   "metadata": {},
   "outputs": [
    {
     "data": {
      "text/html": [
       "<div>\n",
       "<style scoped>\n",
       "    .dataframe tbody tr th:only-of-type {\n",
       "        vertical-align: middle;\n",
       "    }\n",
       "\n",
       "    .dataframe tbody tr th {\n",
       "        vertical-align: top;\n",
       "    }\n",
       "\n",
       "    .dataframe thead tr th {\n",
       "        text-align: left;\n",
       "    }\n",
       "</style>\n",
       "<table border=\"1\" class=\"dataframe\">\n",
       "  <thead>\n",
       "    <tr>\n",
       "      <th>ecosystem</th>\n",
       "      <th colspan=\"2\" halign=\"left\">Cargo</th>\n",
       "      <th colspan=\"2\" halign=\"left\">NPM</th>\n",
       "      <th colspan=\"2\" halign=\"left\">Packagist</th>\n",
       "      <th colspan=\"2\" halign=\"left\">Rubygems</th>\n",
       "    </tr>\n",
       "    <tr>\n",
       "      <th>kind</th>\n",
       "      <th>&gt;=1.0.0</th>\n",
       "      <th>0.y.z</th>\n",
       "      <th>&gt;=1.0.0</th>\n",
       "      <th>0.y.z</th>\n",
       "      <th>&gt;=1.0.0</th>\n",
       "      <th>0.y.z</th>\n",
       "      <th>&gt;=1.0.0</th>\n",
       "      <th>0.y.z</th>\n",
       "    </tr>\n",
       "  </thead>\n",
       "  <tbody>\n",
       "    <tr>\n",
       "      <th>major</th>\n",
       "      <td>0.006991</td>\n",
       "      <td>0.000000</td>\n",
       "      <td>0.010734</td>\n",
       "      <td>0.000000</td>\n",
       "      <td>0.056186</td>\n",
       "      <td>0.000000</td>\n",
       "      <td>0.380725</td>\n",
       "      <td>0.000000</td>\n",
       "    </tr>\n",
       "    <tr>\n",
       "      <th>minor</th>\n",
       "      <td>0.965882</td>\n",
       "      <td>0.003598</td>\n",
       "      <td>0.806637</td>\n",
       "      <td>0.001829</td>\n",
       "      <td>0.780512</td>\n",
       "      <td>0.131409</td>\n",
       "      <td>0.432895</td>\n",
       "      <td>0.482676</td>\n",
       "    </tr>\n",
       "    <tr>\n",
       "      <th>patch</th>\n",
       "      <td>0.019762</td>\n",
       "      <td>0.980396</td>\n",
       "      <td>0.030481</td>\n",
       "      <td>0.785587</td>\n",
       "      <td>0.116665</td>\n",
       "      <td>0.834203</td>\n",
       "      <td>0.081800</td>\n",
       "      <td>0.436878</td>\n",
       "    </tr>\n",
       "  </tbody>\n",
       "</table>\n",
       "</div>"
      ],
      "text/plain": [
       "ecosystem     Cargo                 NPM           Packagist            \\\n",
       "kind        >=1.0.0     0.y.z   >=1.0.0     0.y.z   >=1.0.0     0.y.z   \n",
       "major      0.006991  0.000000  0.010734  0.000000  0.056186  0.000000   \n",
       "minor      0.965882  0.003598  0.806637  0.001829  0.780512  0.131409   \n",
       "patch      0.019762  0.980396  0.030481  0.785587  0.116665  0.834203   \n",
       "\n",
       "ecosystem  Rubygems            \n",
       "kind        >=1.0.0     0.y.z  \n",
       "major      0.380725  0.000000  \n",
       "minor      0.432895  0.482676  \n",
       "patch      0.081800  0.436878  "
      ]
     },
     "execution_count": 14,
     "metadata": {},
     "output_type": "execute_result"
    }
   ],
   "source": [
    "data.T"
   ]
  },
  {
   "cell_type": "markdown",
   "metadata": {},
   "source": [
    "As expected, most dependencies (except in Rubygems) are \"compliant with semver\". That means that, in a situation where they make use of the latest major release of a target package, they will automatically benefit from the latest patch (for 0.y.z) and minor releases (for >=1.0.0)."
   ]
  },
  {
   "cell_type": "markdown",
   "metadata": {},
   "source": [
    "## Releases being used by dependent packages"
   ]
  },
  {
   "cell_type": "markdown",
   "metadata": {},
   "source": [
    "However, we expect that not all dependents make use of the latest major of a target package. Let's quantify how many dependents make use of: the latest release, a previous patch, a previous minor or a previous major."
   ]
  },
  {
   "cell_type": "code",
   "execution_count": 15,
   "metadata": {},
   "outputs": [],
   "source": [
    "data = pandas.concat([\n",
    "    df_dependents[ecosystem]\n",
    "    [['source', 'target', 'selected']]\n",
    "    # Get highest release of target package\n",
    "    .merge(\n",
    "        df_required[ecosystem]\n",
    "        .drop_duplicates('package', keep='last')\n",
    "        [['package', 'major', 'minor', 'patch']],\n",
    "        how='inner',\n",
    "        left_on='target',\n",
    "        right_on='package',\n",
    "    )\n",
    "    # Get release for selected one\n",
    "    .merge(\n",
    "        df_required[ecosystem]\n",
    "        [['package', 'rank', 'major', 'minor', 'patch']],\n",
    "        how='inner',\n",
    "        left_on=['target', 'selected'],\n",
    "        right_on=['package', 'rank'],\n",
    "        suffixes=(None, '_selected'),\n",
    "    )\n",
    "    .drop(columns=['package', 'package_selected', 'rank'])\n",
    "    # Identify release being used\n",
    "    .eval('''\n",
    "        latest = major_selected == major and minor_selected == minor and patch_selected == patch\n",
    "        previous_major = major_selected < major\n",
    "        previous_minor = major_selected == major and minor_selected < minor\n",
    "        previous_patch = major_selected == major and minor_selected == minor and patch_selected < patch\n",
    "    ''')\n",
    "    .assign(kind=lambda d: d[['latest', 'previous_major', 'previous_minor', 'previous_patch']].idxmax(axis=1))\n",
    "    .assign(ecosystem=ecosystem)\n",
    "    [['ecosystem', 'source', 'target', 'kind']]\n",
    "    for ecosystem in ECOSYSTEMS],\n",
    ")"
   ]
  },
  {
   "cell_type": "code",
   "execution_count": 16,
   "metadata": {},
   "outputs": [
    {
     "data": {
      "image/png": "[encoded data removed]",
      "text/plain": [
       "<Figure size 576x216 with 1 Axes>"
      ]
     },
     "metadata": {
      "needs_background": "light"
     },
     "output_type": "display_data"
    }
   ],
   "source": [
    "fig, ax = matplotlib.pyplot.subplots()\n",
    "\n",
    "temp = (\n",
    "    data\n",
    "    .groupby(['ecosystem', 'kind'])\n",
    "    .agg({'source': 'count'})\n",
    "    .div(\n",
    "        data\n",
    "        .groupby('ecosystem')\n",
    "        .agg({'source': 'count'})\n",
    "    )\n",
    "    .reset_index()\n",
    "    .replace({'kind': {'latest': 'latest release', 'previous_major': 'a previous major', 'previous_minor': 'a previous minor', 'previous_patch': 'a previous patch'}})\n",
    ")\n",
    "\n",
    "seaborn.barplot(\n",
    "    x='ecosystem',\n",
    "    y='source',\n",
    "    hue='kind',\n",
    "    hue_order=['latest release', 'a previous patch', 'a previous minor', 'a previous major'],\n",
    "    order=ECOSYSTEMS,\n",
    "    data=temp,\n",
    "    palette=np.take(PAL_REL, [2, 3, 1, 0], axis=0),\n",
    "    ax=ax\n",
    ")\n",
    "\n",
    "for i, ecosystem in enumerate(ECOSYSTEMS):\n",
    "    for j, label in enumerate(['latest release', 'a previous patch', 'a previous minor', 'a previous major']):\n",
    "        value = temp[lambda d: (d['ecosystem'] == ecosystem) & (d['kind'] == label)].iloc[0].source\n",
    "        x = i + (j * 0.2 - 0.30)\n",
    "        ax.annotate('{:.0%}'.format(value), (x, value + 0.03), ha='center', va='center')\n",
    "\n",
    "ax.legend(ncol=2, loc='upper left')\n",
    "\n",
    "ax.set(\n",
    "    xlabel='',\n",
    "    ylabel='proportion of dependents',\n",
    "    ylim=(0, 1.1),\n",
    ")\n",
    "\n",
    "savefig(fig, 'need_used_released')"
   ]
  },
  {
   "cell_type": "code",
   "execution_count": 17,
   "metadata": {},
   "outputs": [
    {
     "data": {
      "text/html": [
       "<style  type=\"text/css\" >\n",
       "#T_69bd1a04_04a1_11eb_b23c_6805ca2351fbrow0_col0{\n",
       "            background-color:  #0c74b2;\n",
       "            color:  #f1f1f1;\n",
       "        }#T_69bd1a04_04a1_11eb_b23c_6805ca2351fbrow0_col1{\n",
       "            background-color:  #f7f0f7;\n",
       "            color:  #000000;\n",
       "        }#T_69bd1a04_04a1_11eb_b23c_6805ca2351fbrow0_col2{\n",
       "            background-color:  #dad9ea;\n",
       "            color:  #000000;\n",
       "        }#T_69bd1a04_04a1_11eb_b23c_6805ca2351fbrow0_col3,#T_69bd1a04_04a1_11eb_b23c_6805ca2351fbrow2_col3{\n",
       "            background-color:  #fff7fb;\n",
       "            color:  #000000;\n",
       "        }#T_69bd1a04_04a1_11eb_b23c_6805ca2351fbrow1_col0{\n",
       "            background-color:  #3b92c1;\n",
       "            color:  #000000;\n",
       "        }#T_69bd1a04_04a1_11eb_b23c_6805ca2351fbrow1_col1{\n",
       "            background-color:  #c6cce3;\n",
       "            color:  #000000;\n",
       "        }#T_69bd1a04_04a1_11eb_b23c_6805ca2351fbrow1_col2,#T_69bd1a04_04a1_11eb_b23c_6805ca2351fbrow3_col2,#T_69bd1a04_04a1_11eb_b23c_6805ca2351fbrow4_col2{\n",
       "            background-color:  #f2ecf5;\n",
       "            color:  #000000;\n",
       "        }#T_69bd1a04_04a1_11eb_b23c_6805ca2351fbrow1_col3{\n",
       "            background-color:  #fcf4fa;\n",
       "            color:  #000000;\n",
       "        }#T_69bd1a04_04a1_11eb_b23c_6805ca2351fbrow2_col0{\n",
       "            background-color:  #1379b5;\n",
       "            color:  #f1f1f1;\n",
       "        }#T_69bd1a04_04a1_11eb_b23c_6805ca2351fbrow2_col1{\n",
       "            background-color:  #d1d2e6;\n",
       "            color:  #000000;\n",
       "        }#T_69bd1a04_04a1_11eb_b23c_6805ca2351fbrow2_col2{\n",
       "            background-color:  #faf2f8;\n",
       "            color:  #000000;\n",
       "        }#T_69bd1a04_04a1_11eb_b23c_6805ca2351fbrow3_col0{\n",
       "            background-color:  #04649d;\n",
       "            color:  #f1f1f1;\n",
       "        }#T_69bd1a04_04a1_11eb_b23c_6805ca2351fbrow3_col1{\n",
       "            background-color:  #f1ebf5;\n",
       "            color:  #000000;\n",
       "        }#T_69bd1a04_04a1_11eb_b23c_6805ca2351fbrow3_col3{\n",
       "            background-color:  #fef6fb;\n",
       "            color:  #000000;\n",
       "        }#T_69bd1a04_04a1_11eb_b23c_6805ca2351fbrow4_col0{\n",
       "            background-color:  #348ebf;\n",
       "            color:  #000000;\n",
       "        }#T_69bd1a04_04a1_11eb_b23c_6805ca2351fbrow4_col1{\n",
       "            background-color:  #cdd0e5;\n",
       "            color:  #000000;\n",
       "        }#T_69bd1a04_04a1_11eb_b23c_6805ca2351fbrow4_col3{\n",
       "            background-color:  #fdf5fa;\n",
       "            color:  #000000;\n",
       "        }</style><table id=\"T_69bd1a04_04a1_11eb_b23c_6805ca2351fb\" ><thead>    <tr>        <th class=\"index_name level0\" >kind</th>        <th class=\"col_heading level0 col0\" >latest</th>        <th class=\"col_heading level0 col1\" >previous_major</th>        <th class=\"col_heading level0 col2\" >previous_minor</th>        <th class=\"col_heading level0 col3\" >previous_patch</th>    </tr>    <tr>        <th class=\"index_name level0\" >ecosystem</th>        <th class=\"blank\" ></th>        <th class=\"blank\" ></th>        <th class=\"blank\" ></th>        <th class=\"blank\" ></th>    </tr></thead><tbody>\n",
       "                <tr>\n",
       "                        <th id=\"T_69bd1a04_04a1_11eb_b23c_6805ca2351fblevel0_row0\" class=\"row_heading level0 row0\" >Cargo</th>\n",
       "                        <td id=\"T_69bd1a04_04a1_11eb_b23c_6805ca2351fbrow0_col0\" class=\"data row0 col0\" >73.4%</td>\n",
       "                        <td id=\"T_69bd1a04_04a1_11eb_b23c_6805ca2351fbrow0_col1\" class=\"data row0 col1\" >5.7%</td>\n",
       "                        <td id=\"T_69bd1a04_04a1_11eb_b23c_6805ca2351fbrow0_col2\" class=\"data row0 col2\" >20.6%</td>\n",
       "                        <td id=\"T_69bd1a04_04a1_11eb_b23c_6805ca2351fbrow0_col3\" class=\"data row0 col3\" >0.3%</td>\n",
       "            </tr>\n",
       "            <tr>\n",
       "                        <th id=\"T_69bd1a04_04a1_11eb_b23c_6805ca2351fblevel0_row1\" class=\"row_heading level0 row1\" >NPM</th>\n",
       "                        <td id=\"T_69bd1a04_04a1_11eb_b23c_6805ca2351fbrow1_col0\" class=\"data row1 col0\" >61.5%</td>\n",
       "                        <td id=\"T_69bd1a04_04a1_11eb_b23c_6805ca2351fbrow1_col1\" class=\"data row1 col1\" >27.7%</td>\n",
       "                        <td id=\"T_69bd1a04_04a1_11eb_b23c_6805ca2351fbrow1_col2\" class=\"data row1 col2\" >8.7%</td>\n",
       "                        <td id=\"T_69bd1a04_04a1_11eb_b23c_6805ca2351fbrow1_col3\" class=\"data row1 col3\" >2.0%</td>\n",
       "            </tr>\n",
       "            <tr>\n",
       "                        <th id=\"T_69bd1a04_04a1_11eb_b23c_6805ca2351fblevel0_row2\" class=\"row_heading level0 row2\" >Packagist</th>\n",
       "                        <td id=\"T_69bd1a04_04a1_11eb_b23c_6805ca2351fbrow2_col0\" class=\"data row2 col0\" >71.4%</td>\n",
       "                        <td id=\"T_69bd1a04_04a1_11eb_b23c_6805ca2351fbrow2_col1\" class=\"data row2 col1\" >24.6%</td>\n",
       "                        <td id=\"T_69bd1a04_04a1_11eb_b23c_6805ca2351fbrow2_col2\" class=\"data row2 col2\" >3.6%</td>\n",
       "                        <td id=\"T_69bd1a04_04a1_11eb_b23c_6805ca2351fbrow2_col3\" class=\"data row2 col3\" >0.4%</td>\n",
       "            </tr>\n",
       "            <tr>\n",
       "                        <th id=\"T_69bd1a04_04a1_11eb_b23c_6805ca2351fblevel0_row3\" class=\"row_heading level0 row3\" >Rubygems</th>\n",
       "                        <td id=\"T_69bd1a04_04a1_11eb_b23c_6805ca2351fbrow3_col0\" class=\"data row3 col0\" >81.8%</td>\n",
       "                        <td id=\"T_69bd1a04_04a1_11eb_b23c_6805ca2351fbrow3_col1\" class=\"data row3 col1\" >9.0%</td>\n",
       "                        <td id=\"T_69bd1a04_04a1_11eb_b23c_6805ca2351fbrow3_col2\" class=\"data row3 col2\" >8.7%</td>\n",
       "                        <td id=\"T_69bd1a04_04a1_11eb_b23c_6805ca2351fbrow3_col3\" class=\"data row3 col3\" >0.4%</td>\n",
       "            </tr>\n",
       "            <tr>\n",
       "                        <th id=\"T_69bd1a04_04a1_11eb_b23c_6805ca2351fblevel0_row4\" class=\"row_heading level0 row4\" >All</th>\n",
       "                        <td id=\"T_69bd1a04_04a1_11eb_b23c_6805ca2351fbrow4_col0\" class=\"data row4 col0\" >63.1%</td>\n",
       "                        <td id=\"T_69bd1a04_04a1_11eb_b23c_6805ca2351fbrow4_col1\" class=\"data row4 col1\" >26.2%</td>\n",
       "                        <td id=\"T_69bd1a04_04a1_11eb_b23c_6805ca2351fbrow4_col2\" class=\"data row4 col2\" >8.9%</td>\n",
       "                        <td id=\"T_69bd1a04_04a1_11eb_b23c_6805ca2351fbrow4_col3\" class=\"data row4 col3\" >1.8%</td>\n",
       "            </tr>\n",
       "    </tbody></table>"
      ],
      "text/plain": [
       "<pandas.io.formats.style.Styler at 0x7f4066476a58>"
      ]
     },
     "execution_count": 17,
     "metadata": {},
     "output_type": "execute_result"
    }
   ],
   "source": [
    "(\n",
    "    pandas.crosstab(data['ecosystem'], data['kind'], normalize='index', margins=True)\n",
    "    .style.format('{:.1%}').background_gradient(vmin=0, vmax=1)\n",
    ")"
   ]
  },
  {
   "cell_type": "markdown",
   "metadata": {},
   "source": [
    "## Induced technical lag"
   ]
  },
  {
   "cell_type": "markdown",
   "metadata": {},
   "source": [
    "Relying on a previous version means that we \"lag behind\". We quantify this lag, in terms of time (difference between version used and latest version available) and in terms of versions (number of versions that were missed)."
   ]
  },
  {
   "cell_type": "code",
   "execution_count": 18,
   "metadata": {},
   "outputs": [],
   "source": [
    "data = pandas.concat([\n",
    "    df_dependents[ecosystem]\n",
    "    [['source', 'target', 'selected']]\n",
    "    # Get highest release of target package\n",
    "    .merge(\n",
    "        df_required[ecosystem]\n",
    "        .drop_duplicates('package', keep='last')\n",
    "        [['package', 'rank', 'date']],\n",
    "        how='inner',\n",
    "        left_on='target',\n",
    "        right_on='package',\n",
    "    )\n",
    "    # Get release for selected one\n",
    "    .merge(\n",
    "        df_required[ecosystem]\n",
    "        [['package', 'rank', 'date']],\n",
    "        how='inner',\n",
    "        left_on=['target', 'selected'],\n",
    "        right_on=['package', 'rank'],\n",
    "        suffixes=(None, '_selected'),\n",
    "    )\n",
    "    # Ignore up-to-date releases\n",
    "    [lambda d: d['rank'] != d['selected']]\n",
    "    .drop(columns=['package', 'package_selected'])\n",
    "    .assign(timelag=lambda d: d['date'] - d['date_selected'])\n",
    "    .assign(versionlag=lambda d: d['rank'] - d['selected'])\n",
    "    .assign(ecosystem=ecosystem)\n",
    "    [['ecosystem', 'source', 'target', 'timelag', 'versionlag']]\n",
    "    for ecosystem in ECOSYSTEMS],\n",
    ")"
   ]
  },
  {
   "cell_type": "markdown",
   "metadata": {},
   "source": [
    "### Time-lag"
   ]
  },
  {
   "cell_type": "code",
   "execution_count": 19,
   "metadata": {},
   "outputs": [
    {
     "data": {
      "image/png": "[encoded data removed]",
      "text/plain": [
       "<Figure size 576x216 with 1 Axes>"
      ]
     },
     "metadata": {
      "needs_background": "light"
     },
     "output_type": "display_data"
    }
   ],
   "source": [
    "fig, ax = matplotlib.pyplot.subplots()\n",
    "\n",
    "seaborn.boxenplot(\n",
    "    x='ecosystem',\n",
    "    y='timelag',\n",
    "    data=data.assign(timelag=lambda d: d['timelag'] / pandas.to_timedelta('30 day')),\n",
    "    order=ECOSYSTEMS,\n",
    "    palette=COLORS,\n",
    "    ax=ax,\n",
    ")\n",
    "\n",
    "ax.set(\n",
    "    xlabel='',\n",
    "    ylabel='time lag (in months)',\n",
    "    ylim=(0, 60),\n",
    ")\n",
    "\n",
    "savefig(fig, 'need_timelag')"
   ]
  },
  {
   "cell_type": "code",
   "execution_count": 20,
   "metadata": {},
   "outputs": [
    {
     "data": {
      "text/html": [
       "<div>\n",
       "<style scoped>\n",
       "    .dataframe tbody tr th:only-of-type {\n",
       "        vertical-align: middle;\n",
       "    }\n",
       "\n",
       "    .dataframe tbody tr th {\n",
       "        vertical-align: top;\n",
       "    }\n",
       "\n",
       "    .dataframe thead th {\n",
       "        text-align: right;\n",
       "    }\n",
       "</style>\n",
       "<table border=\"1\" class=\"dataframe\">\n",
       "  <thead>\n",
       "    <tr style=\"text-align: right;\">\n",
       "      <th>timelag</th>\n",
       "      <th>count</th>\n",
       "      <th>mean</th>\n",
       "      <th>std</th>\n",
       "      <th>min</th>\n",
       "      <th>25%</th>\n",
       "      <th>50%</th>\n",
       "      <th>75%</th>\n",
       "      <th>max</th>\n",
       "    </tr>\n",
       "    <tr>\n",
       "      <th>ecosystem</th>\n",
       "      <th></th>\n",
       "      <th></th>\n",
       "      <th></th>\n",
       "      <th></th>\n",
       "      <th></th>\n",
       "      <th></th>\n",
       "      <th></th>\n",
       "      <th></th>\n",
       "    </tr>\n",
       "  </thead>\n",
       "  <tbody>\n",
       "    <tr>\n",
       "      <th>Cargo</th>\n",
       "      <td>15516.0</td>\n",
       "      <td>7.554124</td>\n",
       "      <td>10.485656</td>\n",
       "      <td>-60.908777</td>\n",
       "      <td>2.129992</td>\n",
       "      <td>6.341589</td>\n",
       "      <td>11.583088</td>\n",
       "      <td>56.361447</td>\n",
       "    </tr>\n",
       "    <tr>\n",
       "      <th>NPM</th>\n",
       "      <td>383267.0</td>\n",
       "      <td>11.503991</td>\n",
       "      <td>11.548307</td>\n",
       "      <td>-81.491625</td>\n",
       "      <td>4.233987</td>\n",
       "      <td>8.857243</td>\n",
       "      <td>15.070653</td>\n",
       "      <td>103.785505</td>\n",
       "    </tr>\n",
       "    <tr>\n",
       "      <th>Packagist</th>\n",
       "      <td>24673.0</td>\n",
       "      <td>6.124878</td>\n",
       "      <td>11.317407</td>\n",
       "      <td>-44.487167</td>\n",
       "      <td>0.000983</td>\n",
       "      <td>2.062725</td>\n",
       "      <td>7.960320</td>\n",
       "      <td>101.691821</td>\n",
       "    </tr>\n",
       "    <tr>\n",
       "      <th>Rubygems</th>\n",
       "      <td>2570.0</td>\n",
       "      <td>19.309934</td>\n",
       "      <td>18.024859</td>\n",
       "      <td>-28.730652</td>\n",
       "      <td>6.534049</td>\n",
       "      <td>14.759125</td>\n",
       "      <td>28.337279</td>\n",
       "      <td>104.056190</td>\n",
       "    </tr>\n",
       "  </tbody>\n",
       "</table>\n",
       "</div>"
      ],
      "text/plain": [
       "timelag       count       mean        std        min       25%        50%  \\\n",
       "ecosystem                                                                   \n",
       "Cargo       15516.0   7.554124  10.485656 -60.908777  2.129992   6.341589   \n",
       "NPM        383267.0  11.503991  11.548307 -81.491625  4.233987   8.857243   \n",
       "Packagist   24673.0   6.124878  11.317407 -44.487167  0.000983   2.062725   \n",
       "Rubygems     2570.0  19.309934  18.024859 -28.730652  6.534049  14.759125   \n",
       "\n",
       "timelag          75%         max  \n",
       "ecosystem                         \n",
       "Cargo      11.583088   56.361447  \n",
       "NPM        15.070653  103.785505  \n",
       "Packagist   7.960320  101.691821  \n",
       "Rubygems   28.337279  104.056190  "
      ]
     },
     "execution_count": 20,
     "metadata": {},
     "output_type": "execute_result"
    }
   ],
   "source": [
    "(\n",
    "    data\n",
    "    .assign(timelag=lambda d: d['timelag'] / pandas.to_timedelta('30 day'))\n",
    "    .groupby('ecosystem')\n",
    "    .apply(lambda d: d['timelag'].describe())\n",
    ")"
   ]
  },
  {
   "cell_type": "markdown",
   "metadata": {},
   "source": [
    "### Version-lag"
   ]
  },
  {
   "cell_type": "code",
   "execution_count": 21,
   "metadata": {},
   "outputs": [
    {
     "data": {
      "image/png": "[encoded data removed]",
      "text/plain": [
       "<Figure size 576x216 with 1 Axes>"
      ]
     },
     "metadata": {
      "needs_background": "light"
     },
     "output_type": "display_data"
    }
   ],
   "source": [
    "fig, ax = matplotlib.pyplot.subplots()\n",
    "\n",
    "seaborn.boxenplot(\n",
    "    x='ecosystem',\n",
    "    y='versionlag',\n",
    "    data=data,\n",
    "    order=ECOSYSTEMS,\n",
    "    palette=COLORS,\n",
    "    ax=ax,\n",
    ")\n",
    "\n",
    "ax.set(\n",
    "    xlabel='',\n",
    "    ylabel='version lag',\n",
    "    ylim=(0, 60),\n",
    ")\n",
    "\n",
    "savefig(fig, 'need_versionlag')"
   ]
  },
  {
   "cell_type": "code",
   "execution_count": 22,
   "metadata": {},
   "outputs": [
    {
     "data": {
      "text/html": [
       "<div>\n",
       "<style scoped>\n",
       "    .dataframe tbody tr th:only-of-type {\n",
       "        vertical-align: middle;\n",
       "    }\n",
       "\n",
       "    .dataframe tbody tr th {\n",
       "        vertical-align: top;\n",
       "    }\n",
       "\n",
       "    .dataframe thead th {\n",
       "        text-align: right;\n",
       "    }\n",
       "</style>\n",
       "<table border=\"1\" class=\"dataframe\">\n",
       "  <thead>\n",
       "    <tr style=\"text-align: right;\">\n",
       "      <th>versionlag</th>\n",
       "      <th>count</th>\n",
       "      <th>mean</th>\n",
       "      <th>std</th>\n",
       "      <th>min</th>\n",
       "      <th>25%</th>\n",
       "      <th>50%</th>\n",
       "      <th>75%</th>\n",
       "      <th>max</th>\n",
       "    </tr>\n",
       "    <tr>\n",
       "      <th>ecosystem</th>\n",
       "      <th></th>\n",
       "      <th></th>\n",
       "      <th></th>\n",
       "      <th></th>\n",
       "      <th></th>\n",
       "      <th></th>\n",
       "      <th></th>\n",
       "      <th></th>\n",
       "    </tr>\n",
       "  </thead>\n",
       "  <tbody>\n",
       "    <tr>\n",
       "      <th>Cargo</th>\n",
       "      <td>15516.0</td>\n",
       "      <td>5.276940</td>\n",
       "      <td>8.341699</td>\n",
       "      <td>1.0</td>\n",
       "      <td>2.0</td>\n",
       "      <td>3.0</td>\n",
       "      <td>6.0</td>\n",
       "      <td>239.0</td>\n",
       "    </tr>\n",
       "    <tr>\n",
       "      <th>NPM</th>\n",
       "      <td>383267.0</td>\n",
       "      <td>11.708365</td>\n",
       "      <td>21.153103</td>\n",
       "      <td>1.0</td>\n",
       "      <td>2.0</td>\n",
       "      <td>5.0</td>\n",
       "      <td>13.0</td>\n",
       "      <td>1216.0</td>\n",
       "    </tr>\n",
       "    <tr>\n",
       "      <th>Packagist</th>\n",
       "      <td>24673.0</td>\n",
       "      <td>19.098164</td>\n",
       "      <td>34.333808</td>\n",
       "      <td>1.0</td>\n",
       "      <td>2.0</td>\n",
       "      <td>9.0</td>\n",
       "      <td>18.0</td>\n",
       "      <td>872.0</td>\n",
       "    </tr>\n",
       "    <tr>\n",
       "      <th>Rubygems</th>\n",
       "      <td>2570.0</td>\n",
       "      <td>11.475875</td>\n",
       "      <td>46.693701</td>\n",
       "      <td>1.0</td>\n",
       "      <td>2.0</td>\n",
       "      <td>4.0</td>\n",
       "      <td>10.0</td>\n",
       "      <td>907.0</td>\n",
       "    </tr>\n",
       "  </tbody>\n",
       "</table>\n",
       "</div>"
      ],
      "text/plain": [
       "versionlag     count       mean        std  min  25%  50%   75%     max\n",
       "ecosystem                                                              \n",
       "Cargo        15516.0   5.276940   8.341699  1.0  2.0  3.0   6.0   239.0\n",
       "NPM         383267.0  11.708365  21.153103  1.0  2.0  5.0  13.0  1216.0\n",
       "Packagist    24673.0  19.098164  34.333808  1.0  2.0  9.0  18.0   872.0\n",
       "Rubygems      2570.0  11.475875  46.693701  1.0  2.0  4.0  10.0   907.0"
      ]
     },
     "execution_count": 22,
     "metadata": {},
     "output_type": "execute_result"
    }
   ],
   "source": [
    "(\n",
    "    data\n",
    "    .groupby('ecosystem')\n",
    "    .apply(lambda d: d['versionlag'].describe())\n",
    ")"
   ]
  },
  {
   "cell_type": "markdown",
   "metadata": {},
   "source": [
    "## Number of major releases used by dependent packages"
   ]
  },
  {
   "cell_type": "markdown",
   "metadata": {},
   "source": [
    "Since many dependents make use of a previous major release, let's quantify, given a required package, the number of distinct major being used by dependent packages."
   ]
  },
  {
   "cell_type": "code",
   "execution_count": 23,
   "metadata": {},
   "outputs": [],
   "source": [
    "data = pandas.concat([\n",
    "    df_required[ecosystem]\n",
    "    # Get the number of distinct major for each package\n",
    "    .merge(\n",
    "        df_required[ecosystem]\n",
    "        .drop_duplicates(['package', 'major'])\n",
    "        .groupby('package', as_index=False, sort=False)\n",
    "        .agg({'major': 'count'})\n",
    "        .rename(columns={'major': 'nb_major'}),\n",
    "        how='left',\n",
    "        on='package',\n",
    "    )\n",
    "    # Get the number of major used for each package. \n",
    "    .merge(\n",
    "        df_required[ecosystem]\n",
    "        [['package', 'rank', 'major']]\n",
    "        .merge(\n",
    "            df_dependents[ecosystem]\n",
    "            [['target', 'selected']],\n",
    "            how='right',\n",
    "            left_on=['package', 'rank'],\n",
    "            right_on=['target', 'selected'],\n",
    "            suffixes=(None, '_selected'),\n",
    "        )\n",
    "        .drop(columns=['target', 'selected'])\n",
    "        .drop_duplicates(['package', 'major'])\n",
    "        .groupby('package', sort=False, as_index=False)\n",
    "        .agg({'major': 'count'})\n",
    "        .rename(columns={'major': 'used_major'})\n",
    "    )\n",
    "    [['package', 'nb_major', 'used_major']]\n",
    "    .drop_duplicates()\n",
    "    .assign(ecosystem=ecosystem)\n",
    "    for ecosystem in ECOSYSTEMS],\n",
    ")"
   ]
  },
  {
   "cell_type": "markdown",
   "metadata": {},
   "source": [
    "### Number of available major releases"
   ]
  },
  {
   "cell_type": "markdown",
   "metadata": {},
   "source": [
    "Let's first quantify the number of major releases that are available for each required package."
   ]
  },
  {
   "cell_type": "code",
   "execution_count": 24,
   "metadata": {},
   "outputs": [
    {
     "data": {
      "image/png": "[encoded data removed]",
      "text/plain": [
       "<Figure size 576x216 with 1 Axes>"
      ]
     },
     "metadata": {
      "needs_background": "light"
     },
     "output_type": "display_data"
    }
   ],
   "source": [
    "fig, ax = matplotlib.pyplot.subplots()\n",
    "\n",
    "seaborn.boxenplot(\n",
    "    x='ecosystem',\n",
    "    y='nb_major',\n",
    "    hue='ecosystem',\n",
    "    data=data,\n",
    "    order=ECOSYSTEMS,\n",
    "    palette=COLORS,\n",
    "    dodge=False,\n",
    "    ax=ax\n",
    ")\n",
    "\n",
    "ax.legend().remove()\n",
    "\n",
    "ax.set(\n",
    "    xlabel='',\n",
    "    ylabel='number of available\\nmajor releases',\n",
    "    ylim=(1, 12),\n",
    ")\n",
    "\n",
    "savefig(fig, 'need_number_major_available')"
   ]
  },
  {
   "cell_type": "code",
   "execution_count": 25,
   "metadata": {},
   "outputs": [
    {
     "data": {
      "text/html": [
       "<div>\n",
       "<style scoped>\n",
       "    .dataframe tbody tr th:only-of-type {\n",
       "        vertical-align: middle;\n",
       "    }\n",
       "\n",
       "    .dataframe tbody tr th {\n",
       "        vertical-align: top;\n",
       "    }\n",
       "\n",
       "    .dataframe thead th {\n",
       "        text-align: right;\n",
       "    }\n",
       "</style>\n",
       "<table border=\"1\" class=\"dataframe\">\n",
       "  <thead>\n",
       "    <tr style=\"text-align: right;\">\n",
       "      <th>nb_major</th>\n",
       "      <th>count</th>\n",
       "      <th>mean</th>\n",
       "      <th>std</th>\n",
       "      <th>min</th>\n",
       "      <th>25%</th>\n",
       "      <th>50%</th>\n",
       "      <th>75%</th>\n",
       "      <th>max</th>\n",
       "    </tr>\n",
       "    <tr>\n",
       "      <th>ecosystem</th>\n",
       "      <th></th>\n",
       "      <th></th>\n",
       "      <th></th>\n",
       "      <th></th>\n",
       "      <th></th>\n",
       "      <th></th>\n",
       "      <th></th>\n",
       "      <th></th>\n",
       "    </tr>\n",
       "  </thead>\n",
       "  <tbody>\n",
       "    <tr>\n",
       "      <th>Cargo</th>\n",
       "      <td>1181.0</td>\n",
       "      <td>2.947502</td>\n",
       "      <td>31.385827</td>\n",
       "      <td>1.0</td>\n",
       "      <td>1.0</td>\n",
       "      <td>1.0</td>\n",
       "      <td>1.0</td>\n",
       "      <td>637.0</td>\n",
       "    </tr>\n",
       "    <tr>\n",
       "      <th>NPM</th>\n",
       "      <td>15118.0</td>\n",
       "      <td>2.546898</td>\n",
       "      <td>2.643691</td>\n",
       "      <td>1.0</td>\n",
       "      <td>1.0</td>\n",
       "      <td>2.0</td>\n",
       "      <td>3.0</td>\n",
       "      <td>96.0</td>\n",
       "    </tr>\n",
       "    <tr>\n",
       "      <th>Packagist</th>\n",
       "      <td>2184.0</td>\n",
       "      <td>2.175824</td>\n",
       "      <td>1.581281</td>\n",
       "      <td>1.0</td>\n",
       "      <td>1.0</td>\n",
       "      <td>2.0</td>\n",
       "      <td>3.0</td>\n",
       "      <td>18.0</td>\n",
       "    </tr>\n",
       "    <tr>\n",
       "      <th>Rubygems</th>\n",
       "      <td>651.0</td>\n",
       "      <td>3.118280</td>\n",
       "      <td>5.476649</td>\n",
       "      <td>1.0</td>\n",
       "      <td>1.0</td>\n",
       "      <td>2.0</td>\n",
       "      <td>3.0</td>\n",
       "      <td>54.0</td>\n",
       "    </tr>\n",
       "  </tbody>\n",
       "</table>\n",
       "</div>"
      ],
      "text/plain": [
       "nb_major     count      mean        std  min  25%  50%  75%    max\n",
       "ecosystem                                                         \n",
       "Cargo       1181.0  2.947502  31.385827  1.0  1.0  1.0  1.0  637.0\n",
       "NPM        15118.0  2.546898   2.643691  1.0  1.0  2.0  3.0   96.0\n",
       "Packagist   2184.0  2.175824   1.581281  1.0  1.0  2.0  3.0   18.0\n",
       "Rubygems     651.0  3.118280   5.476649  1.0  1.0  2.0  3.0   54.0"
      ]
     },
     "execution_count": 25,
     "metadata": {},
     "output_type": "execute_result"
    }
   ],
   "source": [
    "(\n",
    "    data\n",
    "    .groupby('ecosystem')\n",
    "    .apply(lambda d: d['nb_major'].describe())\n",
    ")"
   ]
  },
  {
   "cell_type": "markdown",
   "metadata": {},
   "source": [
    "Or, using another way of showing things:"
   ]
  },
  {
   "cell_type": "code",
   "execution_count": 26,
   "metadata": {},
   "outputs": [
    {
     "data": {
      "image/png": "[encoded data removed]",
      "text/plain": [
       "<Figure size 576x216 with 1 Axes>"
      ]
     },
     "metadata": {
      "needs_background": "light"
     },
     "output_type": "display_data"
    }
   ],
   "source": [
    "fig, ax = matplotlib.pyplot.subplots()\n",
    "\n",
    "temp = (\n",
    "    data\n",
    "    .assign(nb_major=lambda d: d['nb_major'].where(d['nb_major'] < 4, '4+'))\n",
    "    .groupby(['nb_major', 'ecosystem'])\n",
    "    .agg({'package': 'count'})\n",
    "    .pipe(lambda df:\n",
    "        df.div(df.groupby('ecosystem').agg({'package': 'sum'}))\n",
    "    )\n",
    "    .reset_index()\n",
    ")\n",
    "\n",
    "seaborn.barplot(\n",
    "    x='nb_major',\n",
    "    y='package',\n",
    "    hue='ecosystem',\n",
    "    hue_order=ECOSYSTEMS,\n",
    "    data=temp,\n",
    "    palette=COLORS,\n",
    "    ax=ax,\n",
    ")\n",
    "\n",
    "for i, ecosystem in enumerate(ECOSYSTEMS):\n",
    "    for j, label in enumerate([1, 2, 3, '4+']):\n",
    "        value = temp[lambda d: (d['ecosystem'] == ecosystem) & (d['nb_major'] == label)].iloc[0].package\n",
    "        x = j + (i * 0.2 - 0.30)\n",
    "        ax.annotate('{:.0%}'.format(value), (x, value + 0.03), ha='center', va='center')\n",
    "\n",
    "\n",
    "ax.legend(title=None, ncol=2)\n",
    "\n",
    "ax.set(\n",
    "    xlabel='number of available major releases',\n",
    "    ylabel='proportion of packages',\n",
    "    ylim=(0, 1),\n",
    ")\n",
    "\n",
    "savefig(fig, 'need_number_major_available_barplot')"
   ]
  },
  {
   "cell_type": "markdown",
   "metadata": {},
   "source": [
    "### Number of used major releases"
   ]
  },
  {
   "cell_type": "markdown",
   "metadata": {},
   "source": [
    "Since from 35% to 85% (Cargo!) packages have only a single major version, we only consider packages having at least 2 major releases for the following analyses."
   ]
  },
  {
   "cell_type": "code",
   "execution_count": 27,
   "metadata": {},
   "outputs": [
    {
     "data": {
      "image/png": "[encoded data removed]",
      "text/plain": [
       "<Figure size 576x216 with 1 Axes>"
      ]
     },
     "metadata": {
      "needs_background": "light"
     },
     "output_type": "display_data"
    }
   ],
   "source": [
    "fig, ax = matplotlib.pyplot.subplots()\n",
    "\n",
    "seaborn.boxenplot(\n",
    "    x='ecosystem',\n",
    "    y='used_major',\n",
    "    hue='ecosystem',\n",
    "    data=data[lambda d: d['nb_major'] > 1],\n",
    "    palette=COLORS,\n",
    "    hue_order=ECOSYSTEMS,\n",
    "    dodge=False,\n",
    "    ax=ax\n",
    ")\n",
    "\n",
    "ax.legend().remove()\n",
    "\n",
    "ax.set(\n",
    "    xlabel='',\n",
    "    ylabel='number of required\\nmajor releases',\n",
    "    ylim=(1, 6),\n",
    ")\n",
    "\n",
    "savefig(fig, 'need_number_used_major')"
   ]
  },
  {
   "cell_type": "code",
   "execution_count": 28,
   "metadata": {},
   "outputs": [
    {
     "data": {
      "text/html": [
       "<div>\n",
       "<style scoped>\n",
       "    .dataframe tbody tr th:only-of-type {\n",
       "        vertical-align: middle;\n",
       "    }\n",
       "\n",
       "    .dataframe tbody tr th {\n",
       "        vertical-align: top;\n",
       "    }\n",
       "\n",
       "    .dataframe thead th {\n",
       "        text-align: right;\n",
       "    }\n",
       "</style>\n",
       "<table border=\"1\" class=\"dataframe\">\n",
       "  <thead>\n",
       "    <tr style=\"text-align: right;\">\n",
       "      <th>used_major</th>\n",
       "      <th>count</th>\n",
       "      <th>mean</th>\n",
       "      <th>std</th>\n",
       "      <th>min</th>\n",
       "      <th>25%</th>\n",
       "      <th>50%</th>\n",
       "      <th>75%</th>\n",
       "      <th>max</th>\n",
       "    </tr>\n",
       "    <tr>\n",
       "      <th>ecosystem</th>\n",
       "      <th></th>\n",
       "      <th></th>\n",
       "      <th></th>\n",
       "      <th></th>\n",
       "      <th></th>\n",
       "      <th></th>\n",
       "      <th></th>\n",
       "      <th></th>\n",
       "    </tr>\n",
       "  </thead>\n",
       "  <tbody>\n",
       "    <tr>\n",
       "      <th>Cargo</th>\n",
       "      <td>182.0</td>\n",
       "      <td>1.796703</td>\n",
       "      <td>0.984628</td>\n",
       "      <td>1.0</td>\n",
       "      <td>1.0</td>\n",
       "      <td>2.0</td>\n",
       "      <td>2.0</td>\n",
       "      <td>8.0</td>\n",
       "    </tr>\n",
       "    <tr>\n",
       "      <th>NPM</th>\n",
       "      <td>8832.0</td>\n",
       "      <td>2.023211</td>\n",
       "      <td>1.283601</td>\n",
       "      <td>1.0</td>\n",
       "      <td>1.0</td>\n",
       "      <td>2.0</td>\n",
       "      <td>2.0</td>\n",
       "      <td>30.0</td>\n",
       "    </tr>\n",
       "    <tr>\n",
       "      <th>Packagist</th>\n",
       "      <td>1240.0</td>\n",
       "      <td>1.725000</td>\n",
       "      <td>0.823987</td>\n",
       "      <td>1.0</td>\n",
       "      <td>1.0</td>\n",
       "      <td>2.0</td>\n",
       "      <td>2.0</td>\n",
       "      <td>7.0</td>\n",
       "    </tr>\n",
       "    <tr>\n",
       "      <th>Rubygems</th>\n",
       "      <td>418.0</td>\n",
       "      <td>1.614833</td>\n",
       "      <td>0.778900</td>\n",
       "      <td>1.0</td>\n",
       "      <td>1.0</td>\n",
       "      <td>1.0</td>\n",
       "      <td>2.0</td>\n",
       "      <td>5.0</td>\n",
       "    </tr>\n",
       "  </tbody>\n",
       "</table>\n",
       "</div>"
      ],
      "text/plain": [
       "used_major   count      mean       std  min  25%  50%  75%   max\n",
       "ecosystem                                                       \n",
       "Cargo        182.0  1.796703  0.984628  1.0  1.0  2.0  2.0   8.0\n",
       "NPM         8832.0  2.023211  1.283601  1.0  1.0  2.0  2.0  30.0\n",
       "Packagist   1240.0  1.725000  0.823987  1.0  1.0  2.0  2.0   7.0\n",
       "Rubygems     418.0  1.614833  0.778900  1.0  1.0  1.0  2.0   5.0"
      ]
     },
     "execution_count": 28,
     "metadata": {},
     "output_type": "execute_result"
    }
   ],
   "source": [
    "(\n",
    "    data\n",
    "    [lambda d: d['nb_major'] > 1]\n",
    "    .groupby('ecosystem')\n",
    "    .apply(lambda d: d['used_major'].describe())\n",
    ")"
   ]
  },
  {
   "cell_type": "markdown",
   "metadata": {},
   "source": [
    "Again, using a barplot:"
   ]
  },
  {
   "cell_type": "code",
   "execution_count": 29,
   "metadata": {},
   "outputs": [
    {
     "data": {
      "image/png": "[encoded data removed]",
      "text/plain": [
       "<Figure size 576x216 with 1 Axes>"
      ]
     },
     "metadata": {
      "needs_background": "light"
     },
     "output_type": "display_data"
    }
   ],
   "source": [
    "fig, ax = matplotlib.pyplot.subplots()\n",
    "\n",
    "temp = (\n",
    "    data\n",
    "    .assign(used_major=lambda d: d['used_major'].where(d['used_major'] < 4, '4+'))\n",
    "    .groupby(['used_major', 'ecosystem'])\n",
    "    .agg({'package': 'count'})\n",
    "    .pipe(lambda df:\n",
    "        df.div(df.groupby('ecosystem').agg({'package': 'sum'}))\n",
    "    )\n",
    "    .reset_index()\n",
    ")\n",
    "\n",
    "seaborn.barplot(\n",
    "    x='used_major',\n",
    "    y='package',\n",
    "    hue='ecosystem',\n",
    "    hue_order=ECOSYSTEMS,\n",
    "    data=temp,\n",
    "    palette=COLORS,\n",
    "    ax=ax,\n",
    ")\n",
    "\n",
    "for i, ecosystem in enumerate(ECOSYSTEMS):\n",
    "    for j, label in enumerate([1, 2, 3, '4+']):\n",
    "        value = temp[lambda d: (d['ecosystem'] == ecosystem) & (d['used_major'] == label)].iloc[0].package\n",
    "        x = j + (i * 0.2 - 0.30)\n",
    "        ax.annotate('{:.0%}'.format(value), (x, value + 0.03), ha='center', va='center')\n",
    "\n",
    "\n",
    "ax.legend(title=None, ncol=2)\n",
    "\n",
    "ax.set(\n",
    "    xlabel='number of required major releases',\n",
    "    ylabel='proportion of packages',\n",
    "    ylim=(0, 1),\n",
    ")\n",
    "\n",
    "savefig(fig, 'need_number_used_major_barplot')"
   ]
  },
  {
   "cell_type": "markdown",
   "metadata": {},
   "source": [
    "### Proportion of used major releases"
   ]
  },
  {
   "cell_type": "markdown",
   "metadata": {},
   "source": [
    "Let's do the same, but proportionally to the total number of major releases available. "
   ]
  },
  {
   "cell_type": "code",
   "execution_count": 30,
   "metadata": {},
   "outputs": [
    {
     "data": {
      "image/png": "[encoded data removed]",
      "text/plain": [
       "<Figure size 576x216 with 1 Axes>"
      ]
     },
     "metadata": {
      "needs_background": "light"
     },
     "output_type": "display_data"
    }
   ],
   "source": [
    "fig, ax = matplotlib.pyplot.subplots()\n",
    "\n",
    "seaborn.boxenplot(\n",
    "    x='ecosystem',\n",
    "    y='prop_major',\n",
    "    hue='ecosystem',\n",
    "    order=ECOSYSTEMS,\n",
    "    data=data[lambda d: d['nb_major'] > 1].eval('prop_major=used_major / nb_major'),\n",
    "    palette=COLORS,\n",
    "    dodge=False,\n",
    "    ax=ax\n",
    ")\n",
    "\n",
    "ax.legend().remove()\n",
    "\n",
    "ax.set(\n",
    "    xlabel='',\n",
    "    ylabel='proportion of required\\nmajor releases',\n",
    "    ylim=(0, 1),\n",
    ")\n",
    "\n",
    "savefig(fig, 'need_prop_major')"
   ]
  },
  {
   "cell_type": "code",
   "execution_count": 31,
   "metadata": {},
   "outputs": [
    {
     "data": {
      "text/html": [
       "<div>\n",
       "<style scoped>\n",
       "    .dataframe tbody tr th:only-of-type {\n",
       "        vertical-align: middle;\n",
       "    }\n",
       "\n",
       "    .dataframe tbody tr th {\n",
       "        vertical-align: top;\n",
       "    }\n",
       "\n",
       "    .dataframe thead th {\n",
       "        text-align: right;\n",
       "    }\n",
       "</style>\n",
       "<table border=\"1\" class=\"dataframe\">\n",
       "  <thead>\n",
       "    <tr style=\"text-align: right;\">\n",
       "      <th>prop_major</th>\n",
       "      <th>count</th>\n",
       "      <th>mean</th>\n",
       "      <th>std</th>\n",
       "      <th>min</th>\n",
       "      <th>25%</th>\n",
       "      <th>50%</th>\n",
       "      <th>75%</th>\n",
       "      <th>max</th>\n",
       "    </tr>\n",
       "    <tr>\n",
       "      <th>ecosystem</th>\n",
       "      <th></th>\n",
       "      <th></th>\n",
       "      <th></th>\n",
       "      <th></th>\n",
       "      <th></th>\n",
       "      <th></th>\n",
       "      <th></th>\n",
       "      <th></th>\n",
       "    </tr>\n",
       "  </thead>\n",
       "  <tbody>\n",
       "    <tr>\n",
       "      <th>Cargo</th>\n",
       "      <td>182.0</td>\n",
       "      <td>0.625628</td>\n",
       "      <td>0.297954</td>\n",
       "      <td>0.003140</td>\n",
       "      <td>0.375000</td>\n",
       "      <td>0.5</td>\n",
       "      <td>1.000000</td>\n",
       "      <td>1.0</td>\n",
       "    </tr>\n",
       "    <tr>\n",
       "      <th>NPM</th>\n",
       "      <td>8832.0</td>\n",
       "      <td>0.618504</td>\n",
       "      <td>0.258610</td>\n",
       "      <td>0.016393</td>\n",
       "      <td>0.500000</td>\n",
       "      <td>0.5</td>\n",
       "      <td>0.857143</td>\n",
       "      <td>1.0</td>\n",
       "    </tr>\n",
       "    <tr>\n",
       "      <th>Packagist</th>\n",
       "      <td>1240.0</td>\n",
       "      <td>0.611300</td>\n",
       "      <td>0.255812</td>\n",
       "      <td>0.055556</td>\n",
       "      <td>0.500000</td>\n",
       "      <td>0.5</td>\n",
       "      <td>0.800000</td>\n",
       "      <td>1.0</td>\n",
       "    </tr>\n",
       "    <tr>\n",
       "      <th>Rubygems</th>\n",
       "      <td>418.0</td>\n",
       "      <td>0.547036</td>\n",
       "      <td>0.266669</td>\n",
       "      <td>0.018519</td>\n",
       "      <td>0.333333</td>\n",
       "      <td>0.5</td>\n",
       "      <td>0.666667</td>\n",
       "      <td>1.0</td>\n",
       "    </tr>\n",
       "  </tbody>\n",
       "</table>\n",
       "</div>"
      ],
      "text/plain": [
       "prop_major   count      mean       std       min       25%  50%       75%  max\n",
       "ecosystem                                                                     \n",
       "Cargo        182.0  0.625628  0.297954  0.003140  0.375000  0.5  1.000000  1.0\n",
       "NPM         8832.0  0.618504  0.258610  0.016393  0.500000  0.5  0.857143  1.0\n",
       "Packagist   1240.0  0.611300  0.255812  0.055556  0.500000  0.5  0.800000  1.0\n",
       "Rubygems     418.0  0.547036  0.266669  0.018519  0.333333  0.5  0.666667  1.0"
      ]
     },
     "execution_count": 31,
     "metadata": {},
     "output_type": "execute_result"
    }
   ],
   "source": [
    "(\n",
    "    data\n",
    "    [lambda d: d['nb_major'] > 1]\n",
    "    .eval('prop_major=used_major / nb_major')\n",
    "    .groupby('ecosystem')\n",
    "    .apply(lambda d: d['prop_major'].describe())\n",
    ")"
   ]
  },
  {
   "cell_type": "markdown",
   "metadata": {},
   "source": [
    "## Package reuse index"
   ]
  },
  {
   "cell_type": "markdown",
   "metadata": {},
   "source": [
    "Since a package can have many distinct releases being used by dependent packages, we could propose a \"package reuse index\" whose goal is to quantify the number of these releases. There are two options there:\n",
    "\n",
    "1) A variant of a Gini-index, measuring the inequality in terms of \"release usage\". The more \"inequal\" this usage is, the more \"focused\" are dependent packages. However, this does not allow to show whether the \"focus\" is on the latest major or not. \n",
    "\n",
    "2) A variant of the H-index, where n means there are n releases each being used by n dependent packages. \n",
    "\n",
    "Let's first compute, for each available major, the number of dependent packages. We'll focus on packages with at least 2 major releases. "
   ]
  },
  {
   "cell_type": "code",
   "execution_count": 32,
   "metadata": {},
   "outputs": [],
   "source": [
    "data = pandas.concat([\n",
    "    df_required[ecosystem]\n",
    "    # Get dependents for each release\n",
    "    .merge(\n",
    "        df_dependents[ecosystem]\n",
    "        [['source', 'target', 'selected']],\n",
    "        how='left',\n",
    "        left_on=['package', 'rank'],\n",
    "        right_on=['target', 'selected']\n",
    "    )\n",
    "    # Group per major release, and count dependents\n",
    "    .groupby(['package', 'major'], as_index=False)\n",
    "    .agg({'source': 'count'})\n",
    "    # Remove packages with a single major\n",
    "    .groupby('package', as_index=False, sort=False)\n",
    "    .filter(lambda g: len(g) > 1)\n",
    "    .assign(ecosystem=ecosystem)\n",
    "    for ecosystem in ECOSYSTEMS]\n",
    ")"
   ]
  },
  {
   "cell_type": "markdown",
   "metadata": {},
   "source": [
    "### Variant of Gini-index"
   ]
  },
  {
   "cell_type": "markdown",
   "metadata": {},
   "source": [
    "Let's define a function to compute the Gini value of a numpy array. \n",
    "\n",
    "Taken from https://github.com/oliviaguest/gini\n",
    "\n",
    "1 = inequality; 0 = equality."
   ]
  },
  {
   "cell_type": "code",
   "execution_count": 33,
   "metadata": {},
   "outputs": [],
   "source": [
    "def gini(array):\n",
    "    \"\"\"Calculate the Gini coefficient of a numpy array.\"\"\"\n",
    "    # based on bottom eq:\n",
    "    # http://www.statsdirect.com/help/generatedimages/equations/equation154.svg\n",
    "    # from:\n",
    "    # http://www.statsdirect.com/help/default.htm#nonparametric_methods/gini.htm\n",
    "    # All values are treated equally, arrays must be 1d:\n",
    "    array = array.flatten()\n",
    "    if np.amin(array) < 0:\n",
    "        # Values cannot be negative:\n",
    "        array -= np.amin(array)\n",
    "    # Values cannot be 0:\n",
    "    array += 0.0000001\n",
    "    # Values must be sorted:\n",
    "    array = np.sort(array)\n",
    "    # Index per array element:\n",
    "    index = np.arange(1,array.shape[0]+1)\n",
    "    # Number of array elements:\n",
    "    n = array.shape[0]\n",
    "    # Gini coefficient:\n",
    "    return ((np.sum((2 * index - n  - 1) * array)) / (n * np.sum(array)))"
   ]
  },
  {
   "cell_type": "code",
   "execution_count": 34,
   "metadata": {},
   "outputs": [
    {
     "data": {
      "image/png": "[encoded data removed]",
      "text/plain": [
       "<Figure size 576x216 with 1 Axes>"
      ]
     },
     "metadata": {
      "needs_background": "light"
     },
     "output_type": "display_data"
    }
   ],
   "source": [
    "fix, ax = matplotlib.pyplot.subplots()\n",
    "\n",
    "seaborn.violinplot(\n",
    "    x='ecosystem',\n",
    "    y='source',\n",
    "    hue='ecosystem',\n",
    "    order=ECOSYSTEMS,\n",
    "    data=(\n",
    "        data\n",
    "        .groupby(['ecosystem', 'package'], as_index=False)\n",
    "        .agg({'source': lambda s: gini(s.to_numpy(dtype='float64'))})\n",
    "    ),\n",
    "    dodge=False,\n",
    "    palette=COLORS,\n",
    "    ax=ax\n",
    ")\n",
    "\n",
    "ax.legend().remove()\n",
    "\n",
    "ax.set(\n",
    "    xlabel='',\n",
    "    ylabel='Gini',\n",
    "    ylim=(0, 1),\n",
    ")\n",
    "\n",
    "savefig(fig, 'index_gini')"
   ]
  },
  {
   "cell_type": "code",
   "execution_count": 35,
   "metadata": {},
   "outputs": [
    {
     "data": {
      "text/html": [
       "<div>\n",
       "<style scoped>\n",
       "    .dataframe tbody tr th:only-of-type {\n",
       "        vertical-align: middle;\n",
       "    }\n",
       "\n",
       "    .dataframe tbody tr th {\n",
       "        vertical-align: top;\n",
       "    }\n",
       "\n",
       "    .dataframe thead th {\n",
       "        text-align: right;\n",
       "    }\n",
       "</style>\n",
       "<table border=\"1\" class=\"dataframe\">\n",
       "  <thead>\n",
       "    <tr style=\"text-align: right;\">\n",
       "      <th>gini</th>\n",
       "      <th>count</th>\n",
       "      <th>mean</th>\n",
       "      <th>std</th>\n",
       "      <th>min</th>\n",
       "      <th>25%</th>\n",
       "      <th>50%</th>\n",
       "      <th>75%</th>\n",
       "      <th>max</th>\n",
       "    </tr>\n",
       "    <tr>\n",
       "      <th>ecosystem</th>\n",
       "      <th></th>\n",
       "      <th></th>\n",
       "      <th></th>\n",
       "      <th></th>\n",
       "      <th></th>\n",
       "      <th></th>\n",
       "      <th></th>\n",
       "      <th></th>\n",
       "    </tr>\n",
       "  </thead>\n",
       "  <tbody>\n",
       "    <tr>\n",
       "      <th>Cargo</th>\n",
       "      <td>182.0</td>\n",
       "      <td>0.511962</td>\n",
       "      <td>0.208636</td>\n",
       "      <td>0.0</td>\n",
       "      <td>0.421974</td>\n",
       "      <td>0.5</td>\n",
       "      <td>0.666667</td>\n",
       "      <td>0.998030</td>\n",
       "    </tr>\n",
       "    <tr>\n",
       "      <th>NPM</th>\n",
       "      <td>8870.0</td>\n",
       "      <td>0.524775</td>\n",
       "      <td>0.184988</td>\n",
       "      <td>0.0</td>\n",
       "      <td>0.447368</td>\n",
       "      <td>0.5</td>\n",
       "      <td>0.666667</td>\n",
       "      <td>0.983606</td>\n",
       "    </tr>\n",
       "    <tr>\n",
       "      <th>Packagist</th>\n",
       "      <td>1272.0</td>\n",
       "      <td>0.500166</td>\n",
       "      <td>0.190635</td>\n",
       "      <td>0.0</td>\n",
       "      <td>0.439195</td>\n",
       "      <td>0.5</td>\n",
       "      <td>0.650000</td>\n",
       "      <td>0.944444</td>\n",
       "    </tr>\n",
       "    <tr>\n",
       "      <th>Rubygems</th>\n",
       "      <td>418.0</td>\n",
       "      <td>0.563750</td>\n",
       "      <td>0.186790</td>\n",
       "      <td>0.0</td>\n",
       "      <td>0.500000</td>\n",
       "      <td>0.5</td>\n",
       "      <td>0.666667</td>\n",
       "      <td>0.981481</td>\n",
       "    </tr>\n",
       "  </tbody>\n",
       "</table>\n",
       "</div>"
      ],
      "text/plain": [
       "gini        count      mean       std  min       25%  50%       75%       max\n",
       "ecosystem                                                                    \n",
       "Cargo       182.0  0.511962  0.208636  0.0  0.421974  0.5  0.666667  0.998030\n",
       "NPM        8870.0  0.524775  0.184988  0.0  0.447368  0.5  0.666667  0.983606\n",
       "Packagist  1272.0  0.500166  0.190635  0.0  0.439195  0.5  0.650000  0.944444\n",
       "Rubygems    418.0  0.563750  0.186790  0.0  0.500000  0.5  0.666667  0.981481"
      ]
     },
     "execution_count": 35,
     "metadata": {},
     "output_type": "execute_result"
    }
   ],
   "source": [
    "(\n",
    "    data\n",
    "    .groupby(['ecosystem', 'package'], as_index=False)\n",
    "    .agg(gini=('source', lambda s: gini(s.to_numpy(dtype='float64'))))\n",
    "    .groupby('ecosystem')\n",
    "    .apply(lambda g: g.gini.describe())\n",
    ")"
   ]
  },
  {
   "cell_type": "markdown",
   "metadata": {},
   "source": [
    "One can expect a relation between the number of dependents, available majors, required majors, and the Gini value..."
   ]
  },
  {
   "cell_type": "code",
   "execution_count": 36,
   "metadata": {},
   "outputs": [
    {
     "data": {
      "image/png": "[encoded data removed]",
      "text/plain": [
       "<Figure size 576x216 with 2 Axes>"
      ]
     },
     "metadata": {
      "needs_background": "light"
     },
     "output_type": "display_data"
    }
   ],
   "source": [
    "fig, ax = matplotlib.pyplot.subplots()\n",
    "\n",
    "seaborn.heatmap(\n",
    "    data=(\n",
    "        data\n",
    "        .assign(used_major=lambda d: d['source'] > 0)\n",
    "        .groupby(['ecosystem', 'package'], as_index=False)\n",
    "        .agg(\n",
    "            gini=('source', lambda s: gini(s.to_numpy(dtype='float64'))),\n",
    "            dependents=('source', 'sum'),\n",
    "            major=('major', 'count'),\n",
    "            used_major=('used_major', 'sum')\n",
    "        )\n",
    "        .eval('ratio_major = used_major / major')\n",
    "        [['gini', 'dependents', 'major', 'used_major', 'ratio_major']]\n",
    "        .rename(columns={\n",
    "            'gini': 'gini',\n",
    "            'dependents': 'dependents',\n",
    "            'major': 'avail. major',\n",
    "            'used_major': 'req. major',\n",
    "            'ratio_major': 'req./avail.'\n",
    "        })\n",
    "        .corr('spearman')\n",
    "    ),\n",
    "    vmin=-1,\n",
    "    vmax=1,\n",
    "    cmap='RdYlGn',\n",
    "    annot=True,\n",
    "    ax=ax,\n",
    ")\n",
    "\n",
    "savefig(fig, 'index_gini_corr')"
   ]
  },
  {
   "cell_type": "markdown",
   "metadata": {},
   "source": [
    "### Variant of H-index"
   ]
  },
  {
   "cell_type": "markdown",
   "metadata": {},
   "source": [
    "Let's first define a function that computes it."
   ]
  },
  {
   "cell_type": "code",
   "execution_count": 37,
   "metadata": {},
   "outputs": [],
   "source": [
    "def x_index(values):\n",
    "    for i, d in enumerate(sorted(values, reverse=True)):\n",
    "        if i + 1 >= d:\n",
    "            #return max(d, 10e-5)\n",
    "            return i + 1\n",
    "    return i + 1"
   ]
  },
  {
   "cell_type": "code",
   "execution_count": 38,
   "metadata": {},
   "outputs": [
    {
     "data": {
      "image/png": "[encoded data removed]",
      "text/plain": [
       "<Figure size 576x216 with 1 Axes>"
      ]
     },
     "metadata": {
      "needs_background": "light"
     },
     "output_type": "display_data"
    }
   ],
   "source": [
    "fix, ax = matplotlib.pyplot.subplots()\n",
    "\n",
    "seaborn.boxenplot(\n",
    "    x='ecosystem',\n",
    "    y='source',\n",
    "    hue='ecosystem',\n",
    "    order=ECOSYSTEMS,\n",
    "    data=(\n",
    "        data\n",
    "        .groupby(['ecosystem', 'package'], as_index=False)\n",
    "        .agg({'source': x_index})\n",
    "    ),\n",
    "    dodge=False,\n",
    "    palette=COLORS,\n",
    "    ax=ax\n",
    ")\n",
    "\n",
    "ax.legend().remove()\n",
    "\n",
    "ax.set(\n",
    "    xlabel='',\n",
    "    ylabel='h-index',\n",
    "    ylim=(1, 8),\n",
    ")\n",
    "\n",
    "savefig(fig, 'index_h')"
   ]
  },
  {
   "cell_type": "code",
   "execution_count": 39,
   "metadata": {},
   "outputs": [
    {
     "data": {
      "text/html": [
       "<div>\n",
       "<style scoped>\n",
       "    .dataframe tbody tr th:only-of-type {\n",
       "        vertical-align: middle;\n",
       "    }\n",
       "\n",
       "    .dataframe tbody tr th {\n",
       "        vertical-align: top;\n",
       "    }\n",
       "\n",
       "    .dataframe thead th {\n",
       "        text-align: right;\n",
       "    }\n",
       "</style>\n",
       "<table border=\"1\" class=\"dataframe\">\n",
       "  <thead>\n",
       "    <tr style=\"text-align: right;\">\n",
       "      <th>source</th>\n",
       "      <th>count</th>\n",
       "      <th>mean</th>\n",
       "      <th>std</th>\n",
       "      <th>min</th>\n",
       "      <th>25%</th>\n",
       "      <th>50%</th>\n",
       "      <th>75%</th>\n",
       "      <th>max</th>\n",
       "    </tr>\n",
       "    <tr>\n",
       "      <th>ecosystem</th>\n",
       "      <th></th>\n",
       "      <th></th>\n",
       "      <th></th>\n",
       "      <th></th>\n",
       "      <th></th>\n",
       "      <th></th>\n",
       "      <th></th>\n",
       "      <th></th>\n",
       "    </tr>\n",
       "  </thead>\n",
       "  <tbody>\n",
       "    <tr>\n",
       "      <th>Cargo</th>\n",
       "      <td>182.0</td>\n",
       "      <td>2.197802</td>\n",
       "      <td>0.508921</td>\n",
       "      <td>2.0</td>\n",
       "      <td>2.0</td>\n",
       "      <td>2.0</td>\n",
       "      <td>2.0</td>\n",
       "      <td>5.0</td>\n",
       "    </tr>\n",
       "    <tr>\n",
       "      <th>NPM</th>\n",
       "      <td>8870.0</td>\n",
       "      <td>2.394814</td>\n",
       "      <td>0.823557</td>\n",
       "      <td>1.0</td>\n",
       "      <td>2.0</td>\n",
       "      <td>2.0</td>\n",
       "      <td>3.0</td>\n",
       "      <td>14.0</td>\n",
       "    </tr>\n",
       "    <tr>\n",
       "      <th>Packagist</th>\n",
       "      <td>1272.0</td>\n",
       "      <td>2.212264</td>\n",
       "      <td>0.542953</td>\n",
       "      <td>1.0</td>\n",
       "      <td>2.0</td>\n",
       "      <td>2.0</td>\n",
       "      <td>2.0</td>\n",
       "      <td>6.0</td>\n",
       "    </tr>\n",
       "    <tr>\n",
       "      <th>Rubygems</th>\n",
       "      <td>418.0</td>\n",
       "      <td>2.155502</td>\n",
       "      <td>0.394483</td>\n",
       "      <td>2.0</td>\n",
       "      <td>2.0</td>\n",
       "      <td>2.0</td>\n",
       "      <td>2.0</td>\n",
       "      <td>4.0</td>\n",
       "    </tr>\n",
       "  </tbody>\n",
       "</table>\n",
       "</div>"
      ],
      "text/plain": [
       "source      count      mean       std  min  25%  50%  75%   max\n",
       "ecosystem                                                      \n",
       "Cargo       182.0  2.197802  0.508921  2.0  2.0  2.0  2.0   5.0\n",
       "NPM        8870.0  2.394814  0.823557  1.0  2.0  2.0  3.0  14.0\n",
       "Packagist  1272.0  2.212264  0.542953  1.0  2.0  2.0  2.0   6.0\n",
       "Rubygems    418.0  2.155502  0.394483  2.0  2.0  2.0  2.0   4.0"
      ]
     },
     "execution_count": 39,
     "metadata": {},
     "output_type": "execute_result"
    }
   ],
   "source": [
    "(\n",
    "    data\n",
    "    .groupby(['ecosystem', 'package'], as_index=False)\n",
    "    .agg({'source': x_index})\n",
    "    .groupby('ecosystem').apply(lambda g: g.source.describe())\n",
    ")"
   ]
  },
  {
   "cell_type": "markdown",
   "metadata": {},
   "source": [
    "Is there any correlation with previously considered characteristics?"
   ]
  },
  {
   "cell_type": "code",
   "execution_count": 40,
   "metadata": {},
   "outputs": [
    {
     "data": {
      "image/png": "[encoded data removed]",
      "text/plain": [
       "<Figure size 576x216 with 2 Axes>"
      ]
     },
     "metadata": {
      "needs_background": "light"
     },
     "output_type": "display_data"
    }
   ],
   "source": [
    "fig, ax = matplotlib.pyplot.subplots()\n",
    "\n",
    "seaborn.heatmap(\n",
    "    data=(\n",
    "        data\n",
    "        .assign(used_major=lambda d: d['source'] > 0)\n",
    "        .groupby(['ecosystem', 'package'], as_index=False)\n",
    "        .agg(\n",
    "            h_index=('source', x_index),\n",
    "            gini=('source', lambda s: gini(s.to_numpy(dtype='float64'))),\n",
    "            dependents=('source', 'sum'),\n",
    "            major=('major', 'count'),\n",
    "            used_major=('used_major', 'sum')\n",
    "        )\n",
    "        .eval('ratio_major = used_major / major')\n",
    "        [['h_index', 'gini', 'dependents', 'major', 'used_major', 'ratio_major']]\n",
    "        .rename(columns={\n",
    "            'gini': 'gini',\n",
    "            'dependents': 'dependents',\n",
    "            'h_index': 'h-index',\n",
    "            'major': 'avail. M.',\n",
    "            'used_major': 'req. M.',\n",
    "            'ratio_major': 'req./avail.'\n",
    "        })\n",
    "        .corr('spearman')\n",
    "    ),\n",
    "    vmin=-1,\n",
    "    vmax=1,\n",
    "    cmap='RdYlGn',\n",
    "    annot=True,\n",
    "    ax=ax,\n",
    ")\n",
    "\n",
    "savefig(fig, 'index_h_corr')"
   ]
  },
  {
   "cell_type": "markdown",
   "metadata": {},
   "source": [
    "# On the prevalence of backported updates"
   ]
  },
  {
   "cell_type": "markdown",
   "metadata": {},
   "source": [
    "## Evolution of the number of packages with backports"
   ]
  },
  {
   "cell_type": "code",
   "execution_count": 41,
   "metadata": {},
   "outputs": [],
   "source": [
    "data = pandas.concat([\n",
    "    df_required[ecosystem]\n",
    "    # First release\n",
    "    [lambda d: d['rank'] == 1]\n",
    "    [['date']]\n",
    "    .assign(created=1)\n",
    "    # First backport, if any\n",
    "    .merge(\n",
    "        df_required[ecosystem]\n",
    "        [lambda d: d['backported']]\n",
    "        .drop_duplicates('package', keep='first')\n",
    "        [['date']]\n",
    "        .assign(backported=1),\n",
    "        how='outer',\n",
    "        on='date'\n",
    "    )\n",
    "    .fillna(0)\n",
    "    .set_index('date')\n",
    "    .sort_index()\n",
    "    .cumsum()\n",
    "    .assign(prop=lambda d: d['backported'] / d['created'])\n",
    "    .assign(ecosystem=ecosystem)\n",
    "    for ecosystem in ECOSYSTEMS],\n",
    ")"
   ]
  },
  {
   "cell_type": "code",
   "execution_count": 42,
   "metadata": {},
   "outputs": [
    {
     "data": {
      "image/png": "[encoded data removed]",
      "text/plain": [
       "<Figure size 576x216 with 1 Axes>"
      ]
     },
     "metadata": {
      "needs_background": "light"
     },
     "output_type": "display_data"
    }
   ],
   "source": [
    "fig, ax = matplotlib.pyplot.subplots()\n",
    "\n",
    "seaborn.lineplot(\n",
    "    x='date',\n",
    "    y='prop',\n",
    "    hue='ecosystem',\n",
    "    data=data,\n",
    "    palette=COLORS,\n",
    "    hue_order=ECOSYSTEMS,\n",
    "    ci=None,  # speed-up\n",
    "    ax=ax\n",
    ")\n",
    "\n",
    "ax.legend(title=None, ncol=2)\n",
    "\n",
    "ax.set(\n",
    "    xlabel='',\n",
    "    xlim=DATE_RANGE,\n",
    "    ylabel='proportion of packages',\n",
    "    ylim=(0, 1),\n",
    ")\n",
    "\n",
    "savefig(fig, 'prev_prop_packages')"
   ]
  },
  {
   "cell_type": "code",
   "execution_count": 43,
   "metadata": {},
   "outputs": [
    {
     "data": {
      "text/html": [
       "<div>\n",
       "<style scoped>\n",
       "    .dataframe tbody tr th:only-of-type {\n",
       "        vertical-align: middle;\n",
       "    }\n",
       "\n",
       "    .dataframe tbody tr th {\n",
       "        vertical-align: top;\n",
       "    }\n",
       "\n",
       "    .dataframe thead th {\n",
       "        text-align: right;\n",
       "    }\n",
       "</style>\n",
       "<table border=\"1\" class=\"dataframe\">\n",
       "  <thead>\n",
       "    <tr style=\"text-align: right;\">\n",
       "      <th></th>\n",
       "      <th>created</th>\n",
       "      <th>backported</th>\n",
       "      <th>prop</th>\n",
       "    </tr>\n",
       "    <tr>\n",
       "      <th>ecosystem</th>\n",
       "      <th></th>\n",
       "      <th></th>\n",
       "      <th></th>\n",
       "    </tr>\n",
       "  </thead>\n",
       "  <tbody>\n",
       "    <tr>\n",
       "      <th>Cargo</th>\n",
       "      <td>1185.0</td>\n",
       "      <td>21.0</td>\n",
       "      <td>0.017722</td>\n",
       "    </tr>\n",
       "    <tr>\n",
       "      <th>NPM</th>\n",
       "      <td>15281.0</td>\n",
       "      <td>1010.0</td>\n",
       "      <td>0.066095</td>\n",
       "    </tr>\n",
       "    <tr>\n",
       "      <th>Packagist</th>\n",
       "      <td>2247.0</td>\n",
       "      <td>457.0</td>\n",
       "      <td>0.203382</td>\n",
       "    </tr>\n",
       "    <tr>\n",
       "      <th>Rubygems</th>\n",
       "      <td>652.0</td>\n",
       "      <td>83.0</td>\n",
       "      <td>0.127301</td>\n",
       "    </tr>\n",
       "  </tbody>\n",
       "</table>\n",
       "</div>"
      ],
      "text/plain": [
       "           created  backported      prop\n",
       "ecosystem                               \n",
       "Cargo       1185.0        21.0  0.017722\n",
       "NPM        15281.0      1010.0  0.066095\n",
       "Packagist   2247.0       457.0  0.203382\n",
       "Rubygems     652.0        83.0  0.127301"
      ]
     },
     "execution_count": 43,
     "metadata": {},
     "output_type": "execute_result"
    }
   ],
   "source": [
    "(\n",
    "    data\n",
    "    .groupby('ecosystem')\n",
    "    .last()\n",
    ")"
   ]
  },
  {
   "cell_type": "markdown",
   "metadata": {},
   "source": [
    "## Proportion of backported releases for packages with backports"
   ]
  },
  {
   "cell_type": "code",
   "execution_count": 44,
   "metadata": {},
   "outputs": [],
   "source": [
    "data = pandas.concat([\n",
    "    df_required[ecosystem]\n",
    "    .groupby('package', as_index=False, sort=False)\n",
    "    .agg({\n",
    "        'version': 'count',\n",
    "        'backported': 'sum',\n",
    "    })\n",
    "    # Remove packages with no backport\n",
    "    [lambda d: d['backported'] > 0]\n",
    "    .assign(prop=lambda d: d['backported'] / d['version'])\n",
    "    .assign(ecosystem=ecosystem)\n",
    "    for ecosystem in ECOSYSTEMS]\n",
    ")"
   ]
  },
  {
   "cell_type": "code",
   "execution_count": 45,
   "metadata": {},
   "outputs": [
    {
     "data": {
      "image/png": "[encoded data removed]",
      "text/plain": [
       "<Figure size 576x216 with 1 Axes>"
      ]
     },
     "metadata": {
      "needs_background": "light"
     },
     "output_type": "display_data"
    }
   ],
   "source": [
    "fig, ax = matplotlib.pyplot.subplots()\n",
    "\n",
    "seaborn.violinplot(\n",
    "    x='ecosystem',\n",
    "    y='prop',\n",
    "    hue='ecosystem',\n",
    "    dodge=False,\n",
    "    data=data,\n",
    "    order=ECOSYSTEMS,\n",
    "    hue_order=ECOSYSTEMS,\n",
    "    palette=COLORS,\n",
    "    ax=ax,\n",
    ")\n",
    "\n",
    "ax.legend().remove()\n",
    "\n",
    "ax.set(\n",
    "    xlabel='',\n",
    "    ylabel='proportion of backports',\n",
    "    ylim=(0, 1),\n",
    ")\n",
    "\n",
    "savefig(fig, 'prev_prop_releases')"
   ]
  },
  {
   "cell_type": "code",
   "execution_count": 46,
   "metadata": {},
   "outputs": [
    {
     "data": {
      "text/html": [
       "<div>\n",
       "<style scoped>\n",
       "    .dataframe tbody tr th:only-of-type {\n",
       "        vertical-align: middle;\n",
       "    }\n",
       "\n",
       "    .dataframe tbody tr th {\n",
       "        vertical-align: top;\n",
       "    }\n",
       "\n",
       "    .dataframe thead th {\n",
       "        text-align: right;\n",
       "    }\n",
       "</style>\n",
       "<table border=\"1\" class=\"dataframe\">\n",
       "  <thead>\n",
       "    <tr style=\"text-align: right;\">\n",
       "      <th>prop</th>\n",
       "      <th>count</th>\n",
       "      <th>mean</th>\n",
       "      <th>std</th>\n",
       "      <th>min</th>\n",
       "      <th>25%</th>\n",
       "      <th>50%</th>\n",
       "      <th>75%</th>\n",
       "      <th>max</th>\n",
       "    </tr>\n",
       "    <tr>\n",
       "      <th>ecosystem</th>\n",
       "      <th></th>\n",
       "      <th></th>\n",
       "      <th></th>\n",
       "      <th></th>\n",
       "      <th></th>\n",
       "      <th></th>\n",
       "      <th></th>\n",
       "      <th></th>\n",
       "    </tr>\n",
       "  </thead>\n",
       "  <tbody>\n",
       "    <tr>\n",
       "      <th>Cargo</th>\n",
       "      <td>21.0</td>\n",
       "      <td>0.089929</td>\n",
       "      <td>0.208263</td>\n",
       "      <td>0.004878</td>\n",
       "      <td>0.017544</td>\n",
       "      <td>0.035714</td>\n",
       "      <td>0.061224</td>\n",
       "      <td>0.983333</td>\n",
       "    </tr>\n",
       "    <tr>\n",
       "      <th>NPM</th>\n",
       "      <td>1010.0</td>\n",
       "      <td>0.082332</td>\n",
       "      <td>0.113916</td>\n",
       "      <td>0.000663</td>\n",
       "      <td>0.022185</td>\n",
       "      <td>0.044694</td>\n",
       "      <td>0.090909</td>\n",
       "      <td>0.955556</td>\n",
       "    </tr>\n",
       "    <tr>\n",
       "      <th>Packagist</th>\n",
       "      <td>457.0</td>\n",
       "      <td>0.154782</td>\n",
       "      <td>0.162862</td>\n",
       "      <td>0.003155</td>\n",
       "      <td>0.033113</td>\n",
       "      <td>0.081081</td>\n",
       "      <td>0.220339</td>\n",
       "      <td>0.825243</td>\n",
       "    </tr>\n",
       "    <tr>\n",
       "      <th>Rubygems</th>\n",
       "      <td>83.0</td>\n",
       "      <td>0.082513</td>\n",
       "      <td>0.108938</td>\n",
       "      <td>0.006024</td>\n",
       "      <td>0.021391</td>\n",
       "      <td>0.045045</td>\n",
       "      <td>0.100000</td>\n",
       "      <td>0.586592</td>\n",
       "    </tr>\n",
       "  </tbody>\n",
       "</table>\n",
       "</div>"
      ],
      "text/plain": [
       "prop        count      mean       std       min       25%       50%       75%  \\\n",
       "ecosystem                                                                       \n",
       "Cargo        21.0  0.089929  0.208263  0.004878  0.017544  0.035714  0.061224   \n",
       "NPM        1010.0  0.082332  0.113916  0.000663  0.022185  0.044694  0.090909   \n",
       "Packagist   457.0  0.154782  0.162862  0.003155  0.033113  0.081081  0.220339   \n",
       "Rubygems     83.0  0.082513  0.108938  0.006024  0.021391  0.045045  0.100000   \n",
       "\n",
       "prop            max  \n",
       "ecosystem            \n",
       "Cargo      0.983333  \n",
       "NPM        0.955556  \n",
       "Packagist  0.825243  \n",
       "Rubygems   0.586592  "
      ]
     },
     "execution_count": 46,
     "metadata": {},
     "output_type": "execute_result"
    }
   ],
   "source": [
    "(\n",
    "    data\n",
    "    .groupby('ecosystem')\n",
    "    .apply(lambda g: g['prop'].describe())\n",
    ")"
   ]
  },
  {
   "cell_type": "markdown",
   "metadata": {},
   "source": [
    "## Relation between backports and dependents"
   ]
  },
  {
   "cell_type": "markdown",
   "metadata": {},
   "source": [
    "We see whether there is relation between the presence of backports and the number of dependent packages."
   ]
  },
  {
   "cell_type": "code",
   "execution_count": 47,
   "metadata": {},
   "outputs": [],
   "source": [
    "data = pandas.concat([\n",
    "    df_required[ecosystem]\n",
    "    # Get dependents for each release\n",
    "    .merge(\n",
    "        df_dependents[ecosystem]\n",
    "        [['source', 'target', 'selected']],\n",
    "        how='left',\n",
    "        left_on=['package', 'rank'],\n",
    "        right_on=['target', 'selected']\n",
    "    )\n",
    "    # Group per major release, and count dependents\n",
    "    .groupby(['package', 'major'], as_index=False)\n",
    "    .agg({'source': 'count', 'backported': 'sum'})\n",
    "    # For each package, get nb major, used major, dependents and backports\n",
    "    .assign(used_major=lambda d: d['source'] > 0)\n",
    "    .groupby('package', as_index=False, sort=False)\n",
    "    .agg(\n",
    "        major=('major', 'count'),\n",
    "        used_major=('used_major', 'sum'),\n",
    "        backports=('backported', 'sum')\n",
    "    )\n",
    "    .merge(\n",
    "        df_dependents[ecosystem]\n",
    "        .groupby('target', sort=False, as_index=False)\n",
    "        .agg(dependents=('source', 'count')),\n",
    "        how='left',\n",
    "        left_on='package',\n",
    "        right_on='target',\n",
    "    )\n",
    "    .assign(ecosystem=ecosystem)\n",
    "    for ecosystem in ECOSYSTEMS]\n",
    ")"
   ]
  },
  {
   "cell_type": "code",
   "execution_count": 48,
   "metadata": {},
   "outputs": [
    {
     "data": {
      "image/png": "[encoded data removed]",
      "text/plain": [
       "<Figure size 576x216 with 1 Axes>"
      ]
     },
     "metadata": {
      "needs_background": "light"
     },
     "output_type": "display_data"
    }
   ],
   "source": [
    "fig, ax = matplotlib.pyplot.subplots()\n",
    "\n",
    "seaborn.boxenplot(\n",
    "    x='ecosystem',\n",
    "    y='dependents',\n",
    "    hue='backports',\n",
    "    data=(\n",
    "        data\n",
    "        .assign(backports=lambda d: d['backports'] > 0)\n",
    "        .replace({'backports': {True: 'with backports', False: 'without backports'}})\n",
    "    ),\n",
    "    order=ECOSYSTEMS,\n",
    "    palette=PAL_REL,\n",
    "    ax=ax,\n",
    ")\n",
    "\n",
    "ax.legend(title=None, ncol=2)\n",
    "\n",
    "ax.set(\n",
    "    xlabel='',\n",
    "    ylabel='number of dependents',\n",
    "    yscale='symlog',\n",
    "    ylim=(1, 10e4),\n",
    ")\n",
    "\n",
    "savefig(fig, 'prev_backport_dependents')"
   ]
  },
  {
   "cell_type": "code",
   "execution_count": 49,
   "metadata": {},
   "outputs": [
    {
     "data": {
      "text/html": [
       "<div>\n",
       "<style scoped>\n",
       "    .dataframe tbody tr th:only-of-type {\n",
       "        vertical-align: middle;\n",
       "    }\n",
       "\n",
       "    .dataframe tbody tr th {\n",
       "        vertical-align: top;\n",
       "    }\n",
       "\n",
       "    .dataframe thead tr th {\n",
       "        text-align: left;\n",
       "    }\n",
       "\n",
       "    .dataframe thead tr:last-of-type th {\n",
       "        text-align: right;\n",
       "    }\n",
       "</style>\n",
       "<table border=\"1\" class=\"dataframe\">\n",
       "  <thead>\n",
       "    <tr>\n",
       "      <th></th>\n",
       "      <th></th>\n",
       "      <th colspan=\"8\" halign=\"left\">dependents</th>\n",
       "    </tr>\n",
       "    <tr>\n",
       "      <th></th>\n",
       "      <th></th>\n",
       "      <th>count</th>\n",
       "      <th>mean</th>\n",
       "      <th>std</th>\n",
       "      <th>min</th>\n",
       "      <th>25%</th>\n",
       "      <th>50%</th>\n",
       "      <th>75%</th>\n",
       "      <th>max</th>\n",
       "    </tr>\n",
       "    <tr>\n",
       "      <th>ecosystem</th>\n",
       "      <th>backports</th>\n",
       "      <th></th>\n",
       "      <th></th>\n",
       "      <th></th>\n",
       "      <th></th>\n",
       "      <th></th>\n",
       "      <th></th>\n",
       "      <th></th>\n",
       "      <th></th>\n",
       "    </tr>\n",
       "  </thead>\n",
       "  <tbody>\n",
       "    <tr>\n",
       "      <th rowspan=\"2\" valign=\"top\">Cargo</th>\n",
       "      <th>with backports</th>\n",
       "      <td>21.0</td>\n",
       "      <td>383.571429</td>\n",
       "      <td>871.701587</td>\n",
       "      <td>5.0</td>\n",
       "      <td>7.0</td>\n",
       "      <td>31.0</td>\n",
       "      <td>172.00</td>\n",
       "      <td>3647.0</td>\n",
       "    </tr>\n",
       "    <tr>\n",
       "      <th>without backports</th>\n",
       "      <td>1164.0</td>\n",
       "      <td>44.466495</td>\n",
       "      <td>157.653761</td>\n",
       "      <td>5.0</td>\n",
       "      <td>6.0</td>\n",
       "      <td>10.0</td>\n",
       "      <td>24.00</td>\n",
       "      <td>2466.0</td>\n",
       "    </tr>\n",
       "    <tr>\n",
       "      <th rowspan=\"2\" valign=\"top\">NPM</th>\n",
       "      <th>with backports</th>\n",
       "      <td>1010.0</td>\n",
       "      <td>279.304950</td>\n",
       "      <td>1360.764012</td>\n",
       "      <td>5.0</td>\n",
       "      <td>9.0</td>\n",
       "      <td>20.0</td>\n",
       "      <td>72.00</td>\n",
       "      <td>26163.0</td>\n",
       "    </tr>\n",
       "    <tr>\n",
       "      <th>without backports</th>\n",
       "      <td>14271.0</td>\n",
       "      <td>51.835541</td>\n",
       "      <td>373.278294</td>\n",
       "      <td>5.0</td>\n",
       "      <td>6.0</td>\n",
       "      <td>10.0</td>\n",
       "      <td>22.00</td>\n",
       "      <td>18354.0</td>\n",
       "    </tr>\n",
       "    <tr>\n",
       "      <th rowspan=\"2\" valign=\"top\">Packagist</th>\n",
       "      <th>with backports</th>\n",
       "      <td>457.0</td>\n",
       "      <td>108.234136</td>\n",
       "      <td>372.454995</td>\n",
       "      <td>5.0</td>\n",
       "      <td>8.0</td>\n",
       "      <td>16.0</td>\n",
       "      <td>56.00</td>\n",
       "      <td>4844.0</td>\n",
       "    </tr>\n",
       "    <tr>\n",
       "      <th>without backports</th>\n",
       "      <td>1790.0</td>\n",
       "      <td>22.460335</td>\n",
       "      <td>73.742973</td>\n",
       "      <td>5.0</td>\n",
       "      <td>6.0</td>\n",
       "      <td>9.0</td>\n",
       "      <td>16.75</td>\n",
       "      <td>1648.0</td>\n",
       "    </tr>\n",
       "    <tr>\n",
       "      <th rowspan=\"2\" valign=\"top\">Rubygems</th>\n",
       "      <th>with backports</th>\n",
       "      <td>83.0</td>\n",
       "      <td>45.783133</td>\n",
       "      <td>75.329204</td>\n",
       "      <td>5.0</td>\n",
       "      <td>6.0</td>\n",
       "      <td>15.0</td>\n",
       "      <td>41.00</td>\n",
       "      <td>420.0</td>\n",
       "    </tr>\n",
       "    <tr>\n",
       "      <th>without backports</th>\n",
       "      <td>569.0</td>\n",
       "      <td>19.799649</td>\n",
       "      <td>37.548962</td>\n",
       "      <td>5.0</td>\n",
       "      <td>7.0</td>\n",
       "      <td>10.0</td>\n",
       "      <td>18.00</td>\n",
       "      <td>664.0</td>\n",
       "    </tr>\n",
       "  </tbody>\n",
       "</table>\n",
       "</div>"
      ],
      "text/plain": [
       "                            dependents                                     \\\n",
       "                                 count        mean          std  min  25%   \n",
       "ecosystem backports                                                         \n",
       "Cargo     with backports          21.0  383.571429   871.701587  5.0  7.0   \n",
       "          without backports     1164.0   44.466495   157.653761  5.0  6.0   \n",
       "NPM       with backports        1010.0  279.304950  1360.764012  5.0  9.0   \n",
       "          without backports    14271.0   51.835541   373.278294  5.0  6.0   \n",
       "Packagist with backports         457.0  108.234136   372.454995  5.0  8.0   \n",
       "          without backports     1790.0   22.460335    73.742973  5.0  6.0   \n",
       "Rubygems  with backports          83.0   45.783133    75.329204  5.0  6.0   \n",
       "          without backports      569.0   19.799649    37.548962  5.0  7.0   \n",
       "\n",
       "                                                    \n",
       "                              50%     75%      max  \n",
       "ecosystem backports                                 \n",
       "Cargo     with backports     31.0  172.00   3647.0  \n",
       "          without backports  10.0   24.00   2466.0  \n",
       "NPM       with backports     20.0   72.00  26163.0  \n",
       "          without backports  10.0   22.00  18354.0  \n",
       "Packagist with backports     16.0   56.00   4844.0  \n",
       "          without backports   9.0   16.75   1648.0  \n",
       "Rubygems  with backports     15.0   41.00    420.0  \n",
       "          without backports  10.0   18.00    664.0  "
      ]
     },
     "execution_count": 49,
     "metadata": {},
     "output_type": "execute_result"
    }
   ],
   "source": [
    "(\n",
    "    data\n",
    "    .assign(backports=lambda d: d['backports'] > 0)\n",
    "    .replace({'backports': {True: 'with backports', False: 'without backports'}})\n",
    "    .groupby(['ecosystem', 'backports'])\n",
    "    .apply(lambda g: g[['dependents']].describe())\n",
    "    .unstack()\n",
    ")"
   ]
  },
  {
   "cell_type": "markdown",
   "metadata": {},
   "source": [
    "Is there a statistical difference between these distributions?"
   ]
  },
  {
   "cell_type": "code",
   "execution_count": 50,
   "metadata": {},
   "outputs": [
    {
     "name": "stdout",
     "output_type": "stream",
     "text": [
      "Cargo      with vs. without: p=0.00802; d=0.305 (small)\n",
      "NPM        with vs. without: p=0.00000; d=0.311 (small)\n",
      "Packagist  with vs. without: p=0.00000; d=0.328 (small)\n",
      "Rubygems   with vs. without: p=0.00354; d=0.182 (small)\n"
     ]
    }
   ],
   "source": [
    "for ecosystem in ECOSYSTEMS:\n",
    "    A = data[lambda d: (d['ecosystem'] == ecosystem) & (d['backports'] > 0)].dependents\n",
    "    B = data[lambda d: (d['ecosystem'] == ecosystem) & (d['backports'] == 0)].dependents\n",
    "    m = mannwhitneyu(A, B)\n",
    "    d, dl = cliffsDelta(A, B)\n",
    "    \n",
    "    print('{:10} with vs. without: p={:.5f}; d={:.3f} ({})'.format(ecosystem, m.pvalue, d, dl))"
   ]
  },
  {
   "cell_type": "markdown",
   "metadata": {},
   "source": [
    "## Relation between backports and used major"
   ]
  },
  {
   "cell_type": "markdown",
   "metadata": {},
   "source": [
    "We see whether there is a relation between the presence of backports and the number of major releases being used."
   ]
  },
  {
   "cell_type": "code",
   "execution_count": 51,
   "metadata": {},
   "outputs": [
    {
     "data": {
      "image/png": "[encoded data removed]",
      "text/plain": [
       "<Figure size 576x216 with 1 Axes>"
      ]
     },
     "metadata": {
      "needs_background": "light"
     },
     "output_type": "display_data"
    }
   ],
   "source": [
    "fig, ax = matplotlib.pyplot.subplots()\n",
    "\n",
    "seaborn.boxenplot(\n",
    "    x='ecosystem',\n",
    "    y='used_major',\n",
    "    hue='backports',\n",
    "    data=(\n",
    "        data\n",
    "        .assign(backports=lambda d: d['backports'] > 0)\n",
    "        .replace({'backports': {True: 'with backports', False: 'without backports'}})\n",
    "    ),\n",
    "    order=ECOSYSTEMS,\n",
    "    palette=PAL_REL,\n",
    "    ax=ax,\n",
    ")\n",
    "\n",
    "ax.legend(title=None, ncol=2)\n",
    "\n",
    "ax.set(\n",
    "    xlabel='',\n",
    "    ylabel='number of required major',\n",
    "    ylim=(1, 10),\n",
    ")\n",
    "\n",
    "savefig(fig, 'prev_backport_used_major')"
   ]
  },
  {
   "cell_type": "code",
   "execution_count": 52,
   "metadata": {},
   "outputs": [
    {
     "data": {
      "text/html": [
       "<div>\n",
       "<style scoped>\n",
       "    .dataframe tbody tr th:only-of-type {\n",
       "        vertical-align: middle;\n",
       "    }\n",
       "\n",
       "    .dataframe tbody tr th {\n",
       "        vertical-align: top;\n",
       "    }\n",
       "\n",
       "    .dataframe thead tr th {\n",
       "        text-align: left;\n",
       "    }\n",
       "\n",
       "    .dataframe thead tr:last-of-type th {\n",
       "        text-align: right;\n",
       "    }\n",
       "</style>\n",
       "<table border=\"1\" class=\"dataframe\">\n",
       "  <thead>\n",
       "    <tr>\n",
       "      <th></th>\n",
       "      <th></th>\n",
       "      <th colspan=\"8\" halign=\"left\">used_major</th>\n",
       "    </tr>\n",
       "    <tr>\n",
       "      <th></th>\n",
       "      <th></th>\n",
       "      <th>count</th>\n",
       "      <th>mean</th>\n",
       "      <th>std</th>\n",
       "      <th>min</th>\n",
       "      <th>25%</th>\n",
       "      <th>50%</th>\n",
       "      <th>75%</th>\n",
       "      <th>max</th>\n",
       "    </tr>\n",
       "    <tr>\n",
       "      <th>ecosystem</th>\n",
       "      <th>backports</th>\n",
       "      <th></th>\n",
       "      <th></th>\n",
       "      <th></th>\n",
       "      <th></th>\n",
       "      <th></th>\n",
       "      <th></th>\n",
       "      <th></th>\n",
       "      <th></th>\n",
       "    </tr>\n",
       "  </thead>\n",
       "  <tbody>\n",
       "    <tr>\n",
       "      <th rowspan=\"2\" valign=\"top\">Cargo</th>\n",
       "      <th>with backports</th>\n",
       "      <td>21.0</td>\n",
       "      <td>2.523810</td>\n",
       "      <td>1.661898</td>\n",
       "      <td>1.0</td>\n",
       "      <td>2.0</td>\n",
       "      <td>2.0</td>\n",
       "      <td>3.0</td>\n",
       "      <td>8.0</td>\n",
       "    </tr>\n",
       "    <tr>\n",
       "      <th>without backports</th>\n",
       "      <td>1164.0</td>\n",
       "      <td>1.093643</td>\n",
       "      <td>0.394277</td>\n",
       "      <td>0.0</td>\n",
       "      <td>1.0</td>\n",
       "      <td>1.0</td>\n",
       "      <td>1.0</td>\n",
       "      <td>5.0</td>\n",
       "    </tr>\n",
       "    <tr>\n",
       "      <th rowspan=\"2\" valign=\"top\">NPM</th>\n",
       "      <th>with backports</th>\n",
       "      <td>1010.0</td>\n",
       "      <td>2.526733</td>\n",
       "      <td>1.630294</td>\n",
       "      <td>0.0</td>\n",
       "      <td>2.0</td>\n",
       "      <td>2.0</td>\n",
       "      <td>3.0</td>\n",
       "      <td>15.0</td>\n",
       "    </tr>\n",
       "    <tr>\n",
       "      <th>without backports</th>\n",
       "      <td>14271.0</td>\n",
       "      <td>1.513769</td>\n",
       "      <td>1.030612</td>\n",
       "      <td>0.0</td>\n",
       "      <td>1.0</td>\n",
       "      <td>1.0</td>\n",
       "      <td>2.0</td>\n",
       "      <td>30.0</td>\n",
       "    </tr>\n",
       "    <tr>\n",
       "      <th rowspan=\"2\" valign=\"top\">Packagist</th>\n",
       "      <th>with backports</th>\n",
       "      <td>457.0</td>\n",
       "      <td>2.122538</td>\n",
       "      <td>0.947223</td>\n",
       "      <td>0.0</td>\n",
       "      <td>1.0</td>\n",
       "      <td>2.0</td>\n",
       "      <td>3.0</td>\n",
       "      <td>7.0</td>\n",
       "    </tr>\n",
       "    <tr>\n",
       "      <th>without backports</th>\n",
       "      <td>1790.0</td>\n",
       "      <td>1.180447</td>\n",
       "      <td>0.535344</td>\n",
       "      <td>0.0</td>\n",
       "      <td>1.0</td>\n",
       "      <td>1.0</td>\n",
       "      <td>1.0</td>\n",
       "      <td>5.0</td>\n",
       "    </tr>\n",
       "    <tr>\n",
       "      <th rowspan=\"2\" valign=\"top\">Rubygems</th>\n",
       "      <th>with backports</th>\n",
       "      <td>83.0</td>\n",
       "      <td>1.951807</td>\n",
       "      <td>1.010960</td>\n",
       "      <td>1.0</td>\n",
       "      <td>1.0</td>\n",
       "      <td>2.0</td>\n",
       "      <td>2.0</td>\n",
       "      <td>5.0</td>\n",
       "    </tr>\n",
       "    <tr>\n",
       "      <th>without backports</th>\n",
       "      <td>569.0</td>\n",
       "      <td>1.311072</td>\n",
       "      <td>0.590327</td>\n",
       "      <td>0.0</td>\n",
       "      <td>1.0</td>\n",
       "      <td>1.0</td>\n",
       "      <td>2.0</td>\n",
       "      <td>4.0</td>\n",
       "    </tr>\n",
       "  </tbody>\n",
       "</table>\n",
       "</div>"
      ],
      "text/plain": [
       "                            used_major                                     \\\n",
       "                                 count      mean       std  min  25%  50%   \n",
       "ecosystem backports                                                         \n",
       "Cargo     with backports          21.0  2.523810  1.661898  1.0  2.0  2.0   \n",
       "          without backports     1164.0  1.093643  0.394277  0.0  1.0  1.0   \n",
       "NPM       with backports        1010.0  2.526733  1.630294  0.0  2.0  2.0   \n",
       "          without backports    14271.0  1.513769  1.030612  0.0  1.0  1.0   \n",
       "Packagist with backports         457.0  2.122538  0.947223  0.0  1.0  2.0   \n",
       "          without backports     1790.0  1.180447  0.535344  0.0  1.0  1.0   \n",
       "Rubygems  with backports          83.0  1.951807  1.010960  1.0  1.0  2.0   \n",
       "          without backports      569.0  1.311072  0.590327  0.0  1.0  1.0   \n",
       "\n",
       "                                        \n",
       "                             75%   max  \n",
       "ecosystem backports                     \n",
       "Cargo     with backports     3.0   8.0  \n",
       "          without backports  1.0   5.0  \n",
       "NPM       with backports     3.0  15.0  \n",
       "          without backports  2.0  30.0  \n",
       "Packagist with backports     3.0   7.0  \n",
       "          without backports  1.0   5.0  \n",
       "Rubygems  with backports     2.0   5.0  \n",
       "          without backports  2.0   4.0  "
      ]
     },
     "execution_count": 52,
     "metadata": {},
     "output_type": "execute_result"
    }
   ],
   "source": [
    "(\n",
    "    data\n",
    "    .assign(backports=lambda d: d['backports'] > 0)\n",
    "    .replace({'backports': {True: 'with backports', False: 'without backports'}})\n",
    "    .groupby(['ecosystem', 'backports'])\n",
    "    .apply(lambda g: g[['used_major']].describe())\n",
    "    .unstack()\n",
    ")"
   ]
  },
  {
   "cell_type": "code",
   "execution_count": 53,
   "metadata": {},
   "outputs": [
    {
     "name": "stdout",
     "output_type": "stream",
     "text": [
      "Cargo      with vs. without: p=0.00000; d=0.745 (large)\n",
      "NPM        with vs. without: p=0.00000; d=0.471 (medium)\n",
      "Packagist  with vs. without: p=0.00000; d=0.601 (large)\n",
      "Rubygems   with vs. without: p=0.00000; d=0.382 (medium)\n"
     ]
    }
   ],
   "source": [
    "for ecosystem in ECOSYSTEMS:\n",
    "    A = data[lambda d: (d['ecosystem'] == ecosystem) & (d['backports'] > 0)].used_major\n",
    "    B = data[lambda d: (d['ecosystem'] == ecosystem) & (d['backports'] == 0)].used_major\n",
    "    m = mannwhitneyu(A, B)\n",
    "    d, dl = cliffsDelta(A, B)\n",
    "    \n",
    "    print('{:10} with vs. without: p={:.5f}; d={:.3f} ({})'.format(ecosystem, m.pvalue, d, dl))"
   ]
  },
  {
   "cell_type": "markdown",
   "metadata": {},
   "source": [
    "Can we suspect any other correlation? "
   ]
  },
  {
   "cell_type": "code",
   "execution_count": 54,
   "metadata": {},
   "outputs": [
    {
     "data": {
      "image/png": "[encoded data removed]",
      "text/plain": [
       "<Figure size 576x216 with 2 Axes>"
      ]
     },
     "metadata": {
      "needs_background": "light"
     },
     "output_type": "display_data"
    }
   ],
   "source": [
    "fig, ax = matplotlib.pyplot.subplots()\n",
    "\n",
    "seaborn.heatmap(\n",
    "    data=(\n",
    "        data\n",
    "        [['backports', 'dependents', 'major', 'used_major']]\n",
    "        .eval('ratio_major = used_major / major')\n",
    "        .rename(columns={\n",
    "            'major': 'avail. M.',\n",
    "            'used_major': 'req. M.',\n",
    "            'ratio_major': 'req./avail.'\n",
    "        })\n",
    "        .corr('spearman')\n",
    "    ),\n",
    "    vmin=-1,\n",
    "    vmax=1,\n",
    "    cmap='RdYlGn',\n",
    "    annot=True,\n",
    "    ax=ax,\n",
    ")\n",
    "\n",
    "ax.set_xticklabels(ax.get_xticklabels(), rotation=0, ha='center')\n",
    "\n",
    "savefig(fig, 'prev_correlation')"
   ]
  },
  {
   "cell_type": "markdown",
   "metadata": {},
   "source": [
    "# How and when are releases backported?"
   ]
  },
  {
   "cell_type": "markdown",
   "metadata": {},
   "source": [
    "## Backport release type"
   ]
  },
  {
   "cell_type": "markdown",
   "metadata": {},
   "source": [
    "The type of a backport depends on the \"source\" release (the one being backported) and the \"target\" release (the one being the backport). We expect that most backports correspond to patches being backported as patches, but it could be the case that some minor release has its fixes being backported as patch as well."
   ]
  },
  {
   "cell_type": "code",
   "execution_count": 55,
   "metadata": {},
   "outputs": [],
   "source": [
    "data = pandas.concat([\n",
    "    df_required[ecosystem]\n",
    "    .merge(\n",
    "        df_required[ecosystem].drop(columns=['backported', 'backported_from']),\n",
    "        how='inner',\n",
    "        left_on=['package', 'backported_from'],\n",
    "        right_on=['package', 'rank'],\n",
    "        suffixes=(None, '_from'),\n",
    "    )\n",
    "    .assign(ecosystem=ecosystem)\n",
    "    for ecosystem in ECOSYSTEMS]\n",
    ")"
   ]
  },
  {
   "cell_type": "code",
   "execution_count": 56,
   "metadata": {},
   "outputs": [
    {
     "data": {
      "text/html": [
       "<style  type=\"text/css\" >\n",
       "#T_7363cfbc_04a1_11eb_b23c_6805ca2351fbrow0_col0,#T_7363cfbc_04a1_11eb_b23c_6805ca2351fbrow0_col1{\n",
       "            background-color:  #e8e4f0;\n",
       "            color:  #000000;\n",
       "        }#T_7363cfbc_04a1_11eb_b23c_6805ca2351fbrow0_col2,#T_7363cfbc_04a1_11eb_b23c_6805ca2351fbrow0_col3,#T_7363cfbc_04a1_11eb_b23c_6805ca2351fbrow1_col2,#T_7363cfbc_04a1_11eb_b23c_6805ca2351fbrow1_col3,#T_7363cfbc_04a1_11eb_b23c_6805ca2351fbrow2_col2,#T_7363cfbc_04a1_11eb_b23c_6805ca2351fbrow2_col3,#T_7363cfbc_04a1_11eb_b23c_6805ca2351fbrow6_col0,#T_7363cfbc_04a1_11eb_b23c_6805ca2351fbrow6_col2,#T_7363cfbc_04a1_11eb_b23c_6805ca2351fbrow9_col0,#T_7363cfbc_04a1_11eb_b23c_6805ca2351fbrow9_col2,#T_7363cfbc_04a1_11eb_b23c_6805ca2351fbrow9_col3{\n",
       "            background-color:  #fff7fb;\n",
       "            color:  #000000;\n",
       "        }#T_7363cfbc_04a1_11eb_b23c_6805ca2351fbrow1_col0,#T_7363cfbc_04a1_11eb_b23c_6805ca2351fbrow2_col0{\n",
       "            background-color:  #faf2f8;\n",
       "            color:  #000000;\n",
       "        }#T_7363cfbc_04a1_11eb_b23c_6805ca2351fbrow1_col1{\n",
       "            background-color:  #efe9f3;\n",
       "            color:  #000000;\n",
       "        }#T_7363cfbc_04a1_11eb_b23c_6805ca2351fbrow2_col1{\n",
       "            background-color:  #62a2cb;\n",
       "            color:  #000000;\n",
       "        }#T_7363cfbc_04a1_11eb_b23c_6805ca2351fbrow3_col0,#T_7363cfbc_04a1_11eb_b23c_6805ca2351fbrow5_col2{\n",
       "            background-color:  #fbf3f9;\n",
       "            color:  #000000;\n",
       "        }#T_7363cfbc_04a1_11eb_b23c_6805ca2351fbrow3_col1{\n",
       "            background-color:  #e3e0ee;\n",
       "            color:  #000000;\n",
       "        }#T_7363cfbc_04a1_11eb_b23c_6805ca2351fbrow3_col2,#T_7363cfbc_04a1_11eb_b23c_6805ca2351fbrow6_col1,#T_7363cfbc_04a1_11eb_b23c_6805ca2351fbrow6_col3,#T_7363cfbc_04a1_11eb_b23c_6805ca2351fbrow7_col0,#T_7363cfbc_04a1_11eb_b23c_6805ca2351fbrow7_col2{\n",
       "            background-color:  #fdf5fa;\n",
       "            color:  #000000;\n",
       "        }#T_7363cfbc_04a1_11eb_b23c_6805ca2351fbrow3_col3,#T_7363cfbc_04a1_11eb_b23c_6805ca2351fbrow4_col0,#T_7363cfbc_04a1_11eb_b23c_6805ca2351fbrow10_col3{\n",
       "            background-color:  #f0eaf4;\n",
       "            color:  #000000;\n",
       "        }#T_7363cfbc_04a1_11eb_b23c_6805ca2351fbrow4_col1{\n",
       "            background-color:  #f1ebf5;\n",
       "            color:  #000000;\n",
       "        }#T_7363cfbc_04a1_11eb_b23c_6805ca2351fbrow4_col2{\n",
       "            background-color:  #f6eff7;\n",
       "            color:  #000000;\n",
       "        }#T_7363cfbc_04a1_11eb_b23c_6805ca2351fbrow4_col3,#T_7363cfbc_04a1_11eb_b23c_6805ca2351fbrow7_col1,#T_7363cfbc_04a1_11eb_b23c_6805ca2351fbrow7_col3,#T_7363cfbc_04a1_11eb_b23c_6805ca2351fbrow11_col3{\n",
       "            background-color:  #f7f0f7;\n",
       "            color:  #000000;\n",
       "        }#T_7363cfbc_04a1_11eb_b23c_6805ca2351fbrow5_col0{\n",
       "            background-color:  #f8f1f8;\n",
       "            color:  #000000;\n",
       "        }#T_7363cfbc_04a1_11eb_b23c_6805ca2351fbrow5_col1{\n",
       "            background-color:  #569dc8;\n",
       "            color:  #000000;\n",
       "        }#T_7363cfbc_04a1_11eb_b23c_6805ca2351fbrow5_col3{\n",
       "            background-color:  #b3c3de;\n",
       "            color:  #000000;\n",
       "        }#T_7363cfbc_04a1_11eb_b23c_6805ca2351fbrow8_col0,#T_7363cfbc_04a1_11eb_b23c_6805ca2351fbrow8_col2,#T_7363cfbc_04a1_11eb_b23c_6805ca2351fbrow10_col2,#T_7363cfbc_04a1_11eb_b23c_6805ca2351fbrow11_col2{\n",
       "            background-color:  #fef6fb;\n",
       "            color:  #000000;\n",
       "        }#T_7363cfbc_04a1_11eb_b23c_6805ca2351fbrow8_col1{\n",
       "            background-color:  #03517e;\n",
       "            color:  #f1f1f1;\n",
       "        }#T_7363cfbc_04a1_11eb_b23c_6805ca2351fbrow8_col3{\n",
       "            background-color:  #023858;\n",
       "            color:  #f1f1f1;\n",
       "        }#T_7363cfbc_04a1_11eb_b23c_6805ca2351fbrow9_col1,#T_7363cfbc_04a1_11eb_b23c_6805ca2351fbrow10_col0,#T_7363cfbc_04a1_11eb_b23c_6805ca2351fbrow11_col0{\n",
       "            background-color:  #fbf4f9;\n",
       "            color:  #000000;\n",
       "        }#T_7363cfbc_04a1_11eb_b23c_6805ca2351fbrow10_col1{\n",
       "            background-color:  #4496c3;\n",
       "            color:  #000000;\n",
       "        }#T_7363cfbc_04a1_11eb_b23c_6805ca2351fbrow11_col1{\n",
       "            background-color:  #b7c5df;\n",
       "            color:  #000000;\n",
       "        }</style><table id=\"T_7363cfbc_04a1_11eb_b23c_6805ca2351fb\" ><thead>    <tr>        <th class=\"blank\" ></th>        <th class=\"blank level0\" ></th>        <th class=\"col_heading level0 col0\" colspan=2>package_prop</th>        <th class=\"col_heading level0 col2\" colspan=2>package</th>    </tr>    <tr>        <th class=\"blank\" ></th>        <th class=\"index_name level1\" >kind</th>        <th class=\"col_heading level1 col0\" >minor</th>        <th class=\"col_heading level1 col1\" >patch</th>        <th class=\"col_heading level1 col2\" >minor</th>        <th class=\"col_heading level1 col3\" >patch</th>    </tr>    <tr>        <th class=\"index_name level0\" >ecosystem</th>        <th class=\"index_name level1\" >kind_from</th>        <th class=\"blank\" ></th>        <th class=\"blank\" ></th>        <th class=\"blank\" ></th>        <th class=\"blank\" ></th>    </tr></thead><tbody>\n",
       "                <tr>\n",
       "                        <th id=\"T_7363cfbc_04a1_11eb_b23c_6805ca2351fblevel0_row0\" class=\"row_heading level0 row0\" rowspan=3>Cargo</th>\n",
       "                        <th id=\"T_7363cfbc_04a1_11eb_b23c_6805ca2351fblevel1_row0\" class=\"row_heading level1 row0\" >major</th>\n",
       "                        <td id=\"T_7363cfbc_04a1_11eb_b23c_6805ca2351fbrow0_col0\" class=\"data row0 col0\" >14.3%</td>\n",
       "                        <td id=\"T_7363cfbc_04a1_11eb_b23c_6805ca2351fbrow0_col1\" class=\"data row0 col1\" >14.3%</td>\n",
       "                        <td id=\"T_7363cfbc_04a1_11eb_b23c_6805ca2351fbrow0_col2\" class=\"data row0 col2\" >4</td>\n",
       "                        <td id=\"T_7363cfbc_04a1_11eb_b23c_6805ca2351fbrow0_col3\" class=\"data row0 col3\" >4</td>\n",
       "            </tr>\n",
       "            <tr>\n",
       "                                <th id=\"T_7363cfbc_04a1_11eb_b23c_6805ca2351fblevel1_row1\" class=\"row_heading level1 row1\" >minor</th>\n",
       "                        <td id=\"T_7363cfbc_04a1_11eb_b23c_6805ca2351fbrow1_col0\" class=\"data row1 col0\" >3.6%</td>\n",
       "                        <td id=\"T_7363cfbc_04a1_11eb_b23c_6805ca2351fbrow1_col1\" class=\"data row1 col1\" >10.7%</td>\n",
       "                        <td id=\"T_7363cfbc_04a1_11eb_b23c_6805ca2351fbrow1_col2\" class=\"data row1 col2\" >1</td>\n",
       "                        <td id=\"T_7363cfbc_04a1_11eb_b23c_6805ca2351fbrow1_col3\" class=\"data row1 col3\" >3</td>\n",
       "            </tr>\n",
       "            <tr>\n",
       "                                <th id=\"T_7363cfbc_04a1_11eb_b23c_6805ca2351fblevel1_row2\" class=\"row_heading level1 row2\" >patch</th>\n",
       "                        <td id=\"T_7363cfbc_04a1_11eb_b23c_6805ca2351fbrow2_col0\" class=\"data row2 col0\" >3.6%</td>\n",
       "                        <td id=\"T_7363cfbc_04a1_11eb_b23c_6805ca2351fbrow2_col1\" class=\"data row2 col1\" >53.6%</td>\n",
       "                        <td id=\"T_7363cfbc_04a1_11eb_b23c_6805ca2351fbrow2_col2\" class=\"data row2 col2\" >1</td>\n",
       "                        <td id=\"T_7363cfbc_04a1_11eb_b23c_6805ca2351fbrow2_col3\" class=\"data row2 col3\" >15</td>\n",
       "            </tr>\n",
       "            <tr>\n",
       "                        <th id=\"T_7363cfbc_04a1_11eb_b23c_6805ca2351fblevel0_row3\" class=\"row_heading level0 row3\" rowspan=3>NPM</th>\n",
       "                        <th id=\"T_7363cfbc_04a1_11eb_b23c_6805ca2351fblevel1_row3\" class=\"row_heading level1 row3\" >major</th>\n",
       "                        <td id=\"T_7363cfbc_04a1_11eb_b23c_6805ca2351fbrow3_col0\" class=\"data row3 col0\" >2.9%</td>\n",
       "                        <td id=\"T_7363cfbc_04a1_11eb_b23c_6805ca2351fbrow3_col1\" class=\"data row3 col1\" >16.7%</td>\n",
       "                        <td id=\"T_7363cfbc_04a1_11eb_b23c_6805ca2351fbrow3_col2\" class=\"data row3 col2\" >154</td>\n",
       "                        <td id=\"T_7363cfbc_04a1_11eb_b23c_6805ca2351fbrow3_col3\" class=\"data row3 col3\" >880</td>\n",
       "            </tr>\n",
       "            <tr>\n",
       "                                <th id=\"T_7363cfbc_04a1_11eb_b23c_6805ca2351fblevel1_row4\" class=\"row_heading level1 row4\" >minor</th>\n",
       "                        <td id=\"T_7363cfbc_04a1_11eb_b23c_6805ca2351fbrow4_col0\" class=\"data row4 col0\" >10.1%</td>\n",
       "                        <td id=\"T_7363cfbc_04a1_11eb_b23c_6805ca2351fbrow4_col1\" class=\"data row4 col1\" >9.2%</td>\n",
       "                        <td id=\"T_7363cfbc_04a1_11eb_b23c_6805ca2351fbrow4_col2\" class=\"data row4 col2\" >532</td>\n",
       "                        <td id=\"T_7363cfbc_04a1_11eb_b23c_6805ca2351fbrow4_col3\" class=\"data row4 col3\" >488</td>\n",
       "            </tr>\n",
       "            <tr>\n",
       "                                <th id=\"T_7363cfbc_04a1_11eb_b23c_6805ca2351fblevel1_row5\" class=\"row_heading level1 row5\" >patch</th>\n",
       "                        <td id=\"T_7363cfbc_04a1_11eb_b23c_6805ca2351fbrow5_col0\" class=\"data row5 col0\" >5.0%</td>\n",
       "                        <td id=\"T_7363cfbc_04a1_11eb_b23c_6805ca2351fbrow5_col1\" class=\"data row5 col1\" >56.1%</td>\n",
       "                        <td id=\"T_7363cfbc_04a1_11eb_b23c_6805ca2351fbrow5_col2\" class=\"data row5 col2\" >264</td>\n",
       "                        <td id=\"T_7363cfbc_04a1_11eb_b23c_6805ca2351fbrow5_col3\" class=\"data row5 col3\" >2960</td>\n",
       "            </tr>\n",
       "            <tr>\n",
       "                        <th id=\"T_7363cfbc_04a1_11eb_b23c_6805ca2351fblevel0_row6\" class=\"row_heading level0 row6\" rowspan=3>Packagist</th>\n",
       "                        <th id=\"T_7363cfbc_04a1_11eb_b23c_6805ca2351fblevel1_row6\" class=\"row_heading level1 row6\" >major</th>\n",
       "                        <td id=\"T_7363cfbc_04a1_11eb_b23c_6805ca2351fbrow6_col0\" class=\"data row6 col0\" >0.3%</td>\n",
       "                        <td id=\"T_7363cfbc_04a1_11eb_b23c_6805ca2351fbrow6_col1\" class=\"data row6 col1\" >1.7%</td>\n",
       "                        <td id=\"T_7363cfbc_04a1_11eb_b23c_6805ca2351fbrow6_col2\" class=\"data row6 col2\" >26</td>\n",
       "                        <td id=\"T_7363cfbc_04a1_11eb_b23c_6805ca2351fbrow6_col3\" class=\"data row6 col3\" >159</td>\n",
       "            </tr>\n",
       "            <tr>\n",
       "                                <th id=\"T_7363cfbc_04a1_11eb_b23c_6805ca2351fblevel1_row7\" class=\"row_heading level1 row7\" >minor</th>\n",
       "                        <td id=\"T_7363cfbc_04a1_11eb_b23c_6805ca2351fbrow7_col0\" class=\"data row7 col0\" >1.5%</td>\n",
       "                        <td id=\"T_7363cfbc_04a1_11eb_b23c_6805ca2351fbrow7_col1\" class=\"data row7 col1\" >5.2%</td>\n",
       "                        <td id=\"T_7363cfbc_04a1_11eb_b23c_6805ca2351fbrow7_col2\" class=\"data row7 col2\" >144</td>\n",
       "                        <td id=\"T_7363cfbc_04a1_11eb_b23c_6805ca2351fbrow7_col3\" class=\"data row7 col3\" >500</td>\n",
       "            </tr>\n",
       "            <tr>\n",
       "                                <th id=\"T_7363cfbc_04a1_11eb_b23c_6805ca2351fblevel1_row8\" class=\"row_heading level1 row8\" >patch</th>\n",
       "                        <td id=\"T_7363cfbc_04a1_11eb_b23c_6805ca2351fbrow8_col0\" class=\"data row8 col0\" >0.5%</td>\n",
       "                        <td id=\"T_7363cfbc_04a1_11eb_b23c_6805ca2351fbrow8_col1\" class=\"data row8 col1\" >90.8%</td>\n",
       "                        <td id=\"T_7363cfbc_04a1_11eb_b23c_6805ca2351fbrow8_col2\" class=\"data row8 col2\" >51</td>\n",
       "                        <td id=\"T_7363cfbc_04a1_11eb_b23c_6805ca2351fbrow8_col3\" class=\"data row8 col3\" >8732</td>\n",
       "            </tr>\n",
       "            <tr>\n",
       "                        <th id=\"T_7363cfbc_04a1_11eb_b23c_6805ca2351fblevel0_row9\" class=\"row_heading level0 row9\" rowspan=3>Rubygems</th>\n",
       "                        <th id=\"T_7363cfbc_04a1_11eb_b23c_6805ca2351fblevel1_row9\" class=\"row_heading level1 row9\" >major</th>\n",
       "                        <td id=\"T_7363cfbc_04a1_11eb_b23c_6805ca2351fbrow9_col0\" class=\"data row9 col0\" >0.2%</td>\n",
       "                        <td id=\"T_7363cfbc_04a1_11eb_b23c_6805ca2351fbrow9_col1\" class=\"data row9 col1\" >2.3%</td>\n",
       "                        <td id=\"T_7363cfbc_04a1_11eb_b23c_6805ca2351fbrow9_col2\" class=\"data row9 col2\" >3</td>\n",
       "                        <td id=\"T_7363cfbc_04a1_11eb_b23c_6805ca2351fbrow9_col3\" class=\"data row9 col3\" >35</td>\n",
       "            </tr>\n",
       "            <tr>\n",
       "                                <th id=\"T_7363cfbc_04a1_11eb_b23c_6805ca2351fblevel1_row10\" class=\"row_heading level1 row10\" >minor</th>\n",
       "                        <td id=\"T_7363cfbc_04a1_11eb_b23c_6805ca2351fbrow10_col0\" class=\"data row10 col0\" >2.7%</td>\n",
       "                        <td id=\"T_7363cfbc_04a1_11eb_b23c_6805ca2351fbrow10_col1\" class=\"data row10 col1\" >59.7%</td>\n",
       "                        <td id=\"T_7363cfbc_04a1_11eb_b23c_6805ca2351fbrow10_col2\" class=\"data row10 col2\" >40</td>\n",
       "                        <td id=\"T_7363cfbc_04a1_11eb_b23c_6805ca2351fbrow10_col3\" class=\"data row10 col3\" >891</td>\n",
       "            </tr>\n",
       "            <tr>\n",
       "                                <th id=\"T_7363cfbc_04a1_11eb_b23c_6805ca2351fblevel1_row11\" class=\"row_heading level1 row11\" >patch</th>\n",
       "                        <td id=\"T_7363cfbc_04a1_11eb_b23c_6805ca2351fbrow11_col0\" class=\"data row11 col0\" >2.6%</td>\n",
       "                        <td id=\"T_7363cfbc_04a1_11eb_b23c_6805ca2351fbrow11_col1\" class=\"data row11 col1\" >32.4%</td>\n",
       "                        <td id=\"T_7363cfbc_04a1_11eb_b23c_6805ca2351fbrow11_col2\" class=\"data row11 col2\" >39</td>\n",
       "                        <td id=\"T_7363cfbc_04a1_11eb_b23c_6805ca2351fbrow11_col3\" class=\"data row11 col3\" >484</td>\n",
       "            </tr>\n",
       "    </tbody></table>"
      ],
      "text/plain": [
       "<pandas.io.formats.style.Styler at 0x7f406664fcf8>"
      ]
     },
     "execution_count": 56,
     "metadata": {},
     "output_type": "execute_result"
    }
   ],
   "source": [
    "(\n",
    "    data\n",
    "    .groupby(['ecosystem', 'kind_from', 'kind'])\n",
    "    .agg({'package': 'count'})\n",
    "    .div(\n",
    "        data\n",
    "        .groupby('ecosystem')\n",
    "        .agg({'package': 'count'})\n",
    "    )\n",
    "    .unstack()\n",
    "    .merge(\n",
    "        data\n",
    "        .groupby(['ecosystem', 'kind_from', 'kind'])\n",
    "        .agg({'package': 'count'})\n",
    "        .unstack(),\n",
    "        left_index=True,\n",
    "        right_index=True,\n",
    "        suffixes=('_prop', None)\n",
    "    )\n",
    "    .style\n",
    "    .format('{:.1%}', subset='package_prop')\n",
    "    .background_gradient(subset='package_prop', vmin=0, vmax=1, axis=None)\n",
    "    .background_gradient(subset='package', axis=None)\n",
    ")"
   ]
  },
  {
   "cell_type": "markdown",
   "metadata": {},
   "source": [
    "Or, all package distributions combined:"
   ]
  },
  {
   "cell_type": "code",
   "execution_count": 57,
   "metadata": {},
   "outputs": [
    {
     "data": {
      "text/html": [
       "<style  type=\"text/css\" >\n",
       "#T_736edb0a_04a1_11eb_b23c_6805ca2351fbrow0_col0{\n",
       "            background-color:  #fef6fa;\n",
       "            color:  #000000;\n",
       "        }#T_736edb0a_04a1_11eb_b23c_6805ca2351fbrow0_col1{\n",
       "            background-color:  #f5eff6;\n",
       "            color:  #000000;\n",
       "        }#T_736edb0a_04a1_11eb_b23c_6805ca2351fbrow1_col0{\n",
       "            background-color:  #f8f1f8;\n",
       "            color:  #000000;\n",
       "        }#T_736edb0a_04a1_11eb_b23c_6805ca2351fbrow1_col1{\n",
       "            background-color:  #eee8f3;\n",
       "            color:  #000000;\n",
       "        }#T_736edb0a_04a1_11eb_b23c_6805ca2351fbrow2_col0{\n",
       "            background-color:  #fcf4fa;\n",
       "            color:  #000000;\n",
       "        }#T_736edb0a_04a1_11eb_b23c_6805ca2351fbrow2_col1{\n",
       "            background-color:  #0771b1;\n",
       "            color:  #f1f1f1;\n",
       "        }</style><table id=\"T_736edb0a_04a1_11eb_b23c_6805ca2351fb\" ><thead>    <tr>        <th class=\"blank level0\" ></th>        <th class=\"col_heading level0 col0\" colspan=2>package</th>    </tr>    <tr>        <th class=\"index_name level1\" >kind</th>        <th class=\"col_heading level1 col0\" >minor</th>        <th class=\"col_heading level1 col1\" >patch</th>    </tr>    <tr>        <th class=\"index_name level0\" >kind_from</th>        <th class=\"blank\" ></th>        <th class=\"blank\" ></th>    </tr></thead><tbody>\n",
       "                <tr>\n",
       "                        <th id=\"T_736edb0a_04a1_11eb_b23c_6805ca2351fblevel0_row0\" class=\"row_heading level0 row0\" >major</th>\n",
       "                        <td id=\"T_736edb0a_04a1_11eb_b23c_6805ca2351fbrow0_col0\" class=\"data row0 col0\" >1.1%</td>\n",
       "                        <td id=\"T_736edb0a_04a1_11eb_b23c_6805ca2351fbrow0_col1\" class=\"data row0 col1\" >6.6%</td>\n",
       "            </tr>\n",
       "            <tr>\n",
       "                        <th id=\"T_736edb0a_04a1_11eb_b23c_6805ca2351fblevel0_row1\" class=\"row_heading level0 row1\" >minor</th>\n",
       "                        <td id=\"T_736edb0a_04a1_11eb_b23c_6805ca2351fbrow1_col0\" class=\"data row1 col0\" >4.4%</td>\n",
       "                        <td id=\"T_736edb0a_04a1_11eb_b23c_6805ca2351fbrow1_col1\" class=\"data row1 col1\" >11.5%</td>\n",
       "            </tr>\n",
       "            <tr>\n",
       "                        <th id=\"T_736edb0a_04a1_11eb_b23c_6805ca2351fblevel0_row2\" class=\"row_heading level0 row2\" >patch</th>\n",
       "                        <td id=\"T_736edb0a_04a1_11eb_b23c_6805ca2351fbrow2_col0\" class=\"data row2 col0\" >2.2%</td>\n",
       "                        <td id=\"T_736edb0a_04a1_11eb_b23c_6805ca2351fbrow2_col1\" class=\"data row2 col1\" >74.3%</td>\n",
       "            </tr>\n",
       "    </tbody></table>"
      ],
      "text/plain": [
       "<pandas.io.formats.style.Styler at 0x7f4063ec3a20>"
      ]
     },
     "execution_count": 57,
     "metadata": {},
     "output_type": "execute_result"
    }
   ],
   "source": [
    "(\n",
    "    data\n",
    "    .groupby(['kind_from', 'kind'])\n",
    "    .agg({'package': 'count'})\n",
    "    .div(len(data))\n",
    "    .unstack()\n",
    "    .style\n",
    "    .format('{:.1%}', subset='package')\n",
    "    .background_gradient(subset='package', vmin=0, vmax=1, axis=None)\n",
    ")"
   ]
  },
  {
   "cell_type": "markdown",
   "metadata": {},
   "source": [
    "## Time and number of versions w.r.t. first `(N+1).x.x`"
   ]
  },
  {
   "cell_type": "markdown",
   "metadata": {},
   "source": [
    "We expect that most backports are \"quickly\" released when a new major is available, in order to allow security or stability fixes to be available for dependents during their transition to the new major. "
   ]
  },
  {
   "cell_type": "code",
   "execution_count": null,
   "metadata": {},
   "outputs": [],
   "source": []
  },
  {
   "cell_type": "markdown",
   "metadata": {},
   "source": [
    "## Time and number of versions w.r.t. first `(N).x.x`"
   ]
  },
  {
   "cell_type": "markdown",
   "metadata": {},
   "source": [
    "Here we merely look at how long major versions are \"supported\". This aims to confirm that major releases having backports have more a \"long-term support\" than major releases without backports."
   ]
  },
  {
   "cell_type": "code",
   "execution_count": null,
   "metadata": {},
   "outputs": [],
   "source": []
  },
  {
   "cell_type": "markdown",
   "metadata": {},
   "source": [
    "## Time and number of versions w.r.t. last (N).x.x"
   ]
  },
  {
   "cell_type": "markdown",
   "metadata": {},
   "source": [
    "Same idea, but this time relatively to the latest (non-backported) release in the current branch."
   ]
  },
  {
   "cell_type": "code",
   "execution_count": null,
   "metadata": {},
   "outputs": [],
   "source": []
  }
 ],
 "metadata": {
  "kernelspec": {
   "display_name": "Python 3",
   "language": "python",
   "name": "python3"
  },
  "language_info": {
   "codemirror_mode": {
    "name": "ipython",
    "version": 3
   },
   "file_extension": ".py",
   "mimetype": "text/x-python",
   "name": "python",
   "nbconvert_exporter": "python",
   "pygments_lexer": "ipython3",
   "version": "3.6.8"
  }
 },
 "nbformat": 4,
 "nbformat_minor": 4
}
