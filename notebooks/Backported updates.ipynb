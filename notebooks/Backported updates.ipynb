{
 "cells": [
  {
   "cell_type": "markdown",
   "metadata": {},
   "source": [
    "# On backported updates"
   ]
  },
  {
   "cell_type": "code",
   "execution_count": 218,
   "metadata": {},
   "outputs": [],
   "source": [
    "import pandas\n",
    "import numpy as np\n",
    "import matplotlib\n",
    "import seaborn\n",
    "\n",
    "from scipy.stats import mannwhitneyu\n",
    "from cliffsDelta import cliffsDelta\n",
    "\n",
    "from IPython.display import display\n",
    "\n",
    "%matplotlib inline"
   ]
  },
  {
   "cell_type": "code",
   "execution_count": 210,
   "metadata": {},
   "outputs": [],
   "source": [
    "FIG_SIZE = (8, 3)\n",
    "FIG_SIZE_WIDE = (8, 2.5)\n",
    "\n",
    "ECOSYSTEMS = ['Cargo', 'NPM', 'Packagist', 'Rubygems']\n",
    "DATE_RANGE = pandas.to_datetime('2015-01-01'), pandas.to_datetime('2020-01-01')\n",
    "CENSOR_DATE = pandas.to_datetime('2020-01-12')\n",
    "\n",
    "PALETTE = seaborn.color_palette()\n",
    "PAL_REL = np.take(seaborn.color_palette('muted'), [3, 8, 2, 0], axis=0)\n",
    "COLORS = {e: PALETTE[i] for i, e in enumerate(ECOSYSTEMS)}\n",
    "\n",
    "matplotlib.rcParams['figure.figsize'] = FIG_SIZE\n",
    "matplotlib.rcParams['legend.framealpha'] = 1\n",
    "matplotlib.rcParams['text.latex.preamble'] = r'\\usepackage{amsmath}'\n",
    "\n",
    "SAVEFIG = False\n",
    "\n",
    "def _savefig(fig, name):\n",
    "    import os\n",
    "    fig.savefig(\n",
    "        os.path.join('..', 'figures', '{}.pdf'.format(name)),\n",
    "        bbox_inches='tight'\n",
    "    )\n",
    "    \n",
    "savefig = _savefig if SAVEFIG else lambda x, y: None"
   ]
  },
  {
   "cell_type": "markdown",
   "metadata": {},
   "source": [
    "# Datasets"
   ]
  },
  {
   "cell_type": "markdown",
   "metadata": {},
   "source": [
    "## Load data"
   ]
  },
  {
   "cell_type": "code",
   "execution_count": 3,
   "metadata": {},
   "outputs": [
    {
     "name": "stdout",
     "output_type": "stream",
     "text": [
      "Loading Cargo\n",
      ".. required packages\n",
      ".. dependent packages\n",
      "Loading NPM\n",
      ".. required packages\n",
      ".. dependent packages\n",
      "Loading Packagist\n",
      ".. required packages\n",
      ".. dependent packages\n",
      "Loading Rubygems\n",
      ".. required packages\n",
      ".. dependent packages\n",
      "Done!\n"
     ]
    }
   ],
   "source": [
    "df_required = dict()\n",
    "df_dependents = dict()\n",
    "\n",
    "for ecosystem in ECOSYSTEMS:\n",
    "    print('Loading', ecosystem)\n",
    "    print('.. required packages')\n",
    "    df_required[ecosystem] = (\n",
    "        pandas.read_csv(\n",
    "            '../data/{}-required.csv.gz'.format(ecosystem),\n",
    "            parse_dates=['date'],\n",
    "            infer_datetime_format=True,\n",
    "        )\n",
    "    )\n",
    "    \n",
    "    print('.. dependent packages')\n",
    "    df_dependents[ecosystem] = (\n",
    "        pandas.read_csv(\n",
    "            '../data/{}-dependents.csv.gz'.format(ecosystem),\n",
    "        )\n",
    "    )\n",
    "    \n",
    "print('Done!')"
   ]
  },
  {
   "cell_type": "markdown",
   "metadata": {},
   "source": [
    "## Data overview"
   ]
  },
  {
   "cell_type": "code",
   "execution_count": 4,
   "metadata": {},
   "outputs": [
    {
     "data": {
      "text/html": [
       "<div>\n",
       "<style scoped>\n",
       "    .dataframe tbody tr th:only-of-type {\n",
       "        vertical-align: middle;\n",
       "    }\n",
       "\n",
       "    .dataframe tbody tr th {\n",
       "        vertical-align: top;\n",
       "    }\n",
       "\n",
       "    .dataframe thead th {\n",
       "        text-align: right;\n",
       "    }\n",
       "</style>\n",
       "<table border=\"1\" class=\"dataframe\">\n",
       "  <thead>\n",
       "    <tr style=\"text-align: right;\">\n",
       "      <th></th>\n",
       "      <th>Cargo</th>\n",
       "      <th>NPM</th>\n",
       "      <th>Packagist</th>\n",
       "      <th>Rubygems</th>\n",
       "    </tr>\n",
       "  </thead>\n",
       "  <tbody>\n",
       "    <tr>\n",
       "      <th>required</th>\n",
       "      <td>1190</td>\n",
       "      <td>15644</td>\n",
       "      <td>2335</td>\n",
       "      <td>715</td>\n",
       "    </tr>\n",
       "    <tr>\n",
       "      <th>releases</th>\n",
       "      <td>26344</td>\n",
       "      <td>591812</td>\n",
       "      <td>107912</td>\n",
       "      <td>40219</td>\n",
       "    </tr>\n",
       "    <tr>\n",
       "      <th>dependents</th>\n",
       "      <td>13148</td>\n",
       "      <td>247408</td>\n",
       "      <td>36770</td>\n",
       "      <td>11237</td>\n",
       "    </tr>\n",
       "    <tr>\n",
       "      <th>dependencies</th>\n",
       "      <td>59901</td>\n",
       "      <td>1069343</td>\n",
       "      <td>93061</td>\n",
       "      <td>23991</td>\n",
       "    </tr>\n",
       "  </tbody>\n",
       "</table>\n",
       "</div>"
      ],
      "text/plain": [
       "              Cargo      NPM Packagist Rubygems\n",
       "required       1190    15644      2335      715\n",
       "releases      26344   591812    107912    40219\n",
       "dependents    13148   247408     36770    11237\n",
       "dependencies  59901  1069343     93061    23991"
      ]
     },
     "execution_count": 4,
     "metadata": {},
     "output_type": "execute_result"
    }
   ],
   "source": [
    "data = pandas.DataFrame(index=['required', 'releases', 'dependents', 'dependencies'], columns=ECOSYSTEMS)\n",
    "\n",
    "for ecosystem in ECOSYSTEMS:\n",
    "    data.at['required', ecosystem] = len(df_required[ecosystem].drop_duplicates('package'))\n",
    "    data.at['releases', ecosystem] = len(df_required[ecosystem])\n",
    "    data.at['dependents', ecosystem] = len(df_dependents[ecosystem].drop_duplicates('source'))\n",
    "    data.at['dependencies', ecosystem] = len(df_dependents[ecosystem])\n",
    "    \n",
    "data"
   ]
  },
  {
   "cell_type": "code",
   "execution_count": 5,
   "metadata": {},
   "outputs": [
    {
     "data": {
      "text/plain": [
       "required          19884.0\n",
       "releases         766287.0\n",
       "dependents       308563.0\n",
       "dependencies    1246296.0\n",
       "dtype: float64"
      ]
     },
     "execution_count": 5,
     "metadata": {},
     "output_type": "execute_result"
    }
   ],
   "source": [
    "data.T[['required', 'releases', 'dependents', 'dependencies']].sum()"
   ]
  },
  {
   "cell_type": "markdown",
   "metadata": {},
   "source": [
    "Our dependency constraint parsers were able to cope with the large majority of dependency constraints. However, some of them could not be parsed. Let's quantify this. Since the analyses that rely on this preparatory parsing step focus on the latest snapshot of each ecosystem, we only consider this snapshot to quantify this phenomenon."
   ]
  },
  {
   "cell_type": "code",
   "execution_count": 6,
   "metadata": {},
   "outputs": [
    {
     "data": {
      "text/html": [
       "<div>\n",
       "<style scoped>\n",
       "    .dataframe tbody tr th:only-of-type {\n",
       "        vertical-align: middle;\n",
       "    }\n",
       "\n",
       "    .dataframe tbody tr th {\n",
       "        vertical-align: top;\n",
       "    }\n",
       "\n",
       "    .dataframe thead th {\n",
       "        text-align: right;\n",
       "    }\n",
       "</style>\n",
       "<table border=\"1\" class=\"dataframe\">\n",
       "  <thead>\n",
       "    <tr style=\"text-align: right;\">\n",
       "      <th>c_empty</th>\n",
       "      <th>False</th>\n",
       "      <th>True</th>\n",
       "      <th>All</th>\n",
       "      <th>prop</th>\n",
       "    </tr>\n",
       "    <tr>\n",
       "      <th>ecosystem</th>\n",
       "      <th></th>\n",
       "      <th></th>\n",
       "      <th></th>\n",
       "      <th></th>\n",
       "    </tr>\n",
       "  </thead>\n",
       "  <tbody>\n",
       "    <tr>\n",
       "      <th>Cargo</th>\n",
       "      <td>13148.0</td>\n",
       "      <td>0.0</td>\n",
       "      <td>13148</td>\n",
       "      <td>0.000000</td>\n",
       "    </tr>\n",
       "    <tr>\n",
       "      <th>NPM</th>\n",
       "      <td>245762.0</td>\n",
       "      <td>1646.0</td>\n",
       "      <td>247408</td>\n",
       "      <td>0.006653</td>\n",
       "    </tr>\n",
       "    <tr>\n",
       "      <th>Packagist</th>\n",
       "      <td>35896.0</td>\n",
       "      <td>874.0</td>\n",
       "      <td>36770</td>\n",
       "      <td>0.023769</td>\n",
       "    </tr>\n",
       "    <tr>\n",
       "      <th>Rubygems</th>\n",
       "      <td>10560.0</td>\n",
       "      <td>677.0</td>\n",
       "      <td>11237</td>\n",
       "      <td>0.060247</td>\n",
       "    </tr>\n",
       "    <tr>\n",
       "      <th>All</th>\n",
       "      <td>305366.0</td>\n",
       "      <td>3197.0</td>\n",
       "      <td>308563</td>\n",
       "      <td>0.010361</td>\n",
       "    </tr>\n",
       "  </tbody>\n",
       "</table>\n",
       "</div>"
      ],
      "text/plain": [
       "c_empty       False    True     All      prop\n",
       "ecosystem                                    \n",
       "Cargo       13148.0     0.0   13148  0.000000\n",
       "NPM        245762.0  1646.0  247408  0.006653\n",
       "Packagist   35896.0   874.0   36770  0.023769\n",
       "Rubygems    10560.0   677.0   11237  0.060247\n",
       "All        305366.0  3197.0  308563  0.010361"
      ]
     },
     "execution_count": 6,
     "metadata": {},
     "output_type": "execute_result"
    }
   ],
   "source": [
    "(\n",
    "    pandas.concat([\n",
    "        df_dependents[ecosystem]\n",
    "        .sort_values('rank')\n",
    "        .drop_duplicates('source', keep='last')\n",
    "        .assign(ecosystem=ecosystem)\n",
    "        for ecosystem in ECOSYSTEMS], \n",
    "        axis=0\n",
    "    )\n",
    "    .pivot_table(index='ecosystem', columns=['c_empty'], values='target', aggfunc='count', margins=True)\n",
    "    .fillna(0)\n",
    "    .assign(prop=lambda d: d[True] / d['All'])\n",
    ")"
   ]
  },
  {
   "cell_type": "markdown",
   "metadata": {},
   "source": [
    "# On the need to backport updates to previous major"
   ]
  },
  {
   "cell_type": "markdown",
   "metadata": {},
   "source": [
    "## Permissivity of dependency constraints"
   ]
  },
  {
   "cell_type": "markdown",
   "metadata": {},
   "source": [
    "We look at how permissive dependency constraints are, this is, whether they accept patches, minor or major releases. Since we know from previous work that such permissiveness depends on whether the target package is 0.y.z or >=1.0.0, we distinguish these two cases. \n",
    "\n",
    "Let's first quantify the number of targets for each category."
   ]
  },
  {
   "cell_type": "code",
   "execution_count": 7,
   "metadata": {},
   "outputs": [
    {
     "data": {
      "text/html": [
       "<div>\n",
       "<style scoped>\n",
       "    .dataframe tbody tr th:only-of-type {\n",
       "        vertical-align: middle;\n",
       "    }\n",
       "\n",
       "    .dataframe tbody tr th {\n",
       "        vertical-align: top;\n",
       "    }\n",
       "\n",
       "    .dataframe thead th {\n",
       "        text-align: right;\n",
       "    }\n",
       "</style>\n",
       "<table border=\"1\" class=\"dataframe\">\n",
       "  <thead>\n",
       "    <tr style=\"text-align: right;\">\n",
       "      <th></th>\n",
       "      <th></th>\n",
       "      <th>target</th>\n",
       "      <th>prop</th>\n",
       "    </tr>\n",
       "    <tr>\n",
       "      <th>ecosystem</th>\n",
       "      <th>c_dev</th>\n",
       "      <th></th>\n",
       "      <th></th>\n",
       "    </tr>\n",
       "  </thead>\n",
       "  <tbody>\n",
       "    <tr>\n",
       "      <th rowspan=\"2\" valign=\"top\">Cargo</th>\n",
       "      <th>False</th>\n",
       "      <td>21475</td>\n",
       "      <td>0.358508</td>\n",
       "    </tr>\n",
       "    <tr>\n",
       "      <th>True</th>\n",
       "      <td>38426</td>\n",
       "      <td>0.641492</td>\n",
       "    </tr>\n",
       "    <tr>\n",
       "      <th rowspan=\"2\" valign=\"top\">NPM</th>\n",
       "      <th>False</th>\n",
       "      <td>965910</td>\n",
       "      <td>0.903274</td>\n",
       "    </tr>\n",
       "    <tr>\n",
       "      <th>True</th>\n",
       "      <td>103433</td>\n",
       "      <td>0.096726</td>\n",
       "    </tr>\n",
       "    <tr>\n",
       "      <th rowspan=\"2\" valign=\"top\">Packagist</th>\n",
       "      <th>False</th>\n",
       "      <td>89750</td>\n",
       "      <td>0.964421</td>\n",
       "    </tr>\n",
       "    <tr>\n",
       "      <th>True</th>\n",
       "      <td>3311</td>\n",
       "      <td>0.035579</td>\n",
       "    </tr>\n",
       "    <tr>\n",
       "      <th rowspan=\"2\" valign=\"top\">Rubygems</th>\n",
       "      <th>False</th>\n",
       "      <td>20821</td>\n",
       "      <td>0.867867</td>\n",
       "    </tr>\n",
       "    <tr>\n",
       "      <th>True</th>\n",
       "      <td>3170</td>\n",
       "      <td>0.132133</td>\n",
       "    </tr>\n",
       "  </tbody>\n",
       "</table>\n",
       "</div>"
      ],
      "text/plain": [
       "                 target      prop\n",
       "ecosystem c_dev                  \n",
       "Cargo     False   21475  0.358508\n",
       "          True    38426  0.641492\n",
       "NPM       False  965910  0.903274\n",
       "          True   103433  0.096726\n",
       "Packagist False   89750  0.964421\n",
       "          True     3311  0.035579\n",
       "Rubygems  False   20821  0.867867\n",
       "          True     3170  0.132133"
      ]
     },
     "execution_count": 7,
     "metadata": {},
     "output_type": "execute_result"
    }
   ],
   "source": [
    "ecosystem = 'Cargo'\n",
    "\n",
    "pandas.concat([\n",
    "    df_dependents[ecosystem]\n",
    "    .groupby('c_dev', as_index=False)\n",
    "    [['target']]\n",
    "    .count()\n",
    "    .assign(prop=lambda d: d['target'] / d['target'].sum())\n",
    "    .assign(ecosystem=ecosystem)\n",
    "    for ecosystem in ECOSYSTEMS], axis=0\n",
    ").set_index(['ecosystem', 'c_dev'])"
   ]
  },
  {
   "cell_type": "code",
   "execution_count": 8,
   "metadata": {},
   "outputs": [],
   "source": [
    "data = pandas.concat([\n",
    "    df_dependents[ecosystem]\n",
    "    .sort_values('rank')\n",
    "    .drop_duplicates(['source', 'target'], keep='last')\n",
    "    .assign(\n",
    "        n=1,\n",
    "        # Correct values, as patch superseeded by minor superseeded by major\n",
    "        patch=lambda d: d['c_patch'] & ~d['c_minor'] & ~d['c_major'],\n",
    "        minor=lambda d: d['c_minor'] & ~d['c_major'],\n",
    "        major=lambda d: d['c_major'],\n",
    "    )\n",
    "    .pivot_table(index='c_dev', values=['n', 'major', 'minor', 'patch'], aggfunc='sum')\n",
    "    .apply(lambda s: s / s.n, axis=1)\n",
    "    .drop(columns=['n'])\n",
    "    .reset_index()\n",
    "    .rename(columns={'c_dev': 'kind'})\n",
    "    .replace({'kind': {True: '0.y.z', False: '>=1.0.0'}})\n",
    "    .assign(ecosystem=ecosystem)\n",
    "    for ecosystem in ECOSYSTEMS],\n",
    "    axis=0\n",
    ").set_index(['ecosystem', 'kind'])"
   ]
  },
  {
   "cell_type": "code",
   "execution_count": 9,
   "metadata": {},
   "outputs": [
    {
     "data": {
      "image/png": "[encoded data removed]",
      "text/plain": [
       "<Figure size 576x180 with 2 Axes>"
      ]
     },
     "metadata": {
      "needs_background": "light"
     },
     "output_type": "display_data"
    }
   ],
   "source": [
    "fig, axes = matplotlib.pyplot.subplots(\n",
    "    ncols=2, \n",
    "    sharex=False, \n",
    "    sharey=True,\n",
    "    gridspec_kw=dict(wspace=0)\n",
    ")\n",
    "\n",
    "fig.set_size_inches(FIG_SIZE_WIDE)\n",
    "\n",
    "for i, kind in enumerate(['0.y.z', '>=1.0.0']):\n",
    "    (\n",
    "        data\n",
    "        .xs(kind, level=1)\n",
    "        [['patch', 'minor', 'major']]\n",
    "        .plot.bar(stacked=True, color=PAL_REL[::-1], linewidth=1, edgecolor=(0, 0, 0, 0.3), legend=False, ax=axes[i])\n",
    "    )\n",
    "    \n",
    "    axes[i].set(\n",
    "        title='target is {}'.format(kind),\n",
    "        xlabel='', \n",
    "        ylabel=''\n",
    "    )\n",
    "    axes[i].xaxis.set_tick_params(rotation=0)\n",
    "\n",
    "positions = [\n",
    "    ((0.40, 0.92), (0.06, 0.45, 0.90)),\n",
    "    ((0.40, 0.84), (0.08, 0.45, 0.90)),\n",
    "    ((0.40, 0.90), (0.05, 0.48, 0.84)),\n",
    "    ((0.20, 0.65), (0.04, 0.28, 0.70)),\n",
    "]\n",
    "for i, ecosystem in enumerate(ECOSYSTEMS):\n",
    "    for j, kind in enumerate(['0.y.z', '>=1.0.0']):\n",
    "        for k, release in enumerate(['patch', 'minor', 'major']):\n",
    "            value = data.loc[ecosystem, kind][release]\n",
    "            if kind == '0.y.z' and release == 'major':\n",
    "                continue\n",
    "            axes[j].annotate('{:.1%}'.format(value), (i + 0.03, positions[i][j][k]), ha='center', va='center')\n",
    "    \n",
    "axes[0].legend(\n",
    "    loc='lower center',\n",
    "    ncol=3,\n",
    "    bbox_to_anchor=(1, -0.32),\n",
    ")\n",
    "\n",
    "seaborn.despine(fig, top=True, right=True)\n",
    "\n",
    "axes[0].set(\n",
    "    xlabel='',\n",
    "    ylabel='proportion of constraints',\n",
    "    ylim=(0, 1),\n",
    ")\n",
    "\n",
    "savefig(fig, 'need_permissiveness')"
   ]
  },
  {
   "cell_type": "code",
   "execution_count": 10,
   "metadata": {},
   "outputs": [
    {
     "data": {
      "text/html": [
       "<div>\n",
       "<style scoped>\n",
       "    .dataframe tbody tr th:only-of-type {\n",
       "        vertical-align: middle;\n",
       "    }\n",
       "\n",
       "    .dataframe tbody tr th {\n",
       "        vertical-align: top;\n",
       "    }\n",
       "\n",
       "    .dataframe thead tr th {\n",
       "        text-align: left;\n",
       "    }\n",
       "</style>\n",
       "<table border=\"1\" class=\"dataframe\">\n",
       "  <thead>\n",
       "    <tr>\n",
       "      <th>ecosystem</th>\n",
       "      <th colspan=\"2\" halign=\"left\">Cargo</th>\n",
       "      <th colspan=\"2\" halign=\"left\">NPM</th>\n",
       "      <th colspan=\"2\" halign=\"left\">Packagist</th>\n",
       "      <th colspan=\"2\" halign=\"left\">Rubygems</th>\n",
       "    </tr>\n",
       "    <tr>\n",
       "      <th>kind</th>\n",
       "      <th>&gt;=1.0.0</th>\n",
       "      <th>0.y.z</th>\n",
       "      <th>&gt;=1.0.0</th>\n",
       "      <th>0.y.z</th>\n",
       "      <th>&gt;=1.0.0</th>\n",
       "      <th>0.y.z</th>\n",
       "      <th>&gt;=1.0.0</th>\n",
       "      <th>0.y.z</th>\n",
       "    </tr>\n",
       "  </thead>\n",
       "  <tbody>\n",
       "    <tr>\n",
       "      <th>major</th>\n",
       "      <td>0.006985</td>\n",
       "      <td>0.000000</td>\n",
       "      <td>0.012305</td>\n",
       "      <td>0.000000</td>\n",
       "      <td>0.056669</td>\n",
       "      <td>0.000000</td>\n",
       "      <td>0.420105</td>\n",
       "      <td>0.000000</td>\n",
       "    </tr>\n",
       "    <tr>\n",
       "      <th>minor</th>\n",
       "      <td>0.965914</td>\n",
       "      <td>0.003591</td>\n",
       "      <td>0.806013</td>\n",
       "      <td>0.001827</td>\n",
       "      <td>0.781270</td>\n",
       "      <td>0.129568</td>\n",
       "      <td>0.408818</td>\n",
       "      <td>0.500946</td>\n",
       "    </tr>\n",
       "    <tr>\n",
       "      <th>patch</th>\n",
       "      <td>0.019744</td>\n",
       "      <td>0.980430</td>\n",
       "      <td>0.031203</td>\n",
       "      <td>0.785301</td>\n",
       "      <td>0.114474</td>\n",
       "      <td>0.836303</td>\n",
       "      <td>0.084002</td>\n",
       "      <td>0.426498</td>\n",
       "    </tr>\n",
       "  </tbody>\n",
       "</table>\n",
       "</div>"
      ],
      "text/plain": [
       "ecosystem     Cargo                 NPM           Packagist            \\\n",
       "kind        >=1.0.0     0.y.z   >=1.0.0     0.y.z   >=1.0.0     0.y.z   \n",
       "major      0.006985  0.000000  0.012305  0.000000  0.056669  0.000000   \n",
       "minor      0.965914  0.003591  0.806013  0.001827  0.781270  0.129568   \n",
       "patch      0.019744  0.980430  0.031203  0.785301  0.114474  0.836303   \n",
       "\n",
       "ecosystem  Rubygems            \n",
       "kind        >=1.0.0     0.y.z  \n",
       "major      0.420105  0.000000  \n",
       "minor      0.408818  0.500946  \n",
       "patch      0.084002  0.426498  "
      ]
     },
     "execution_count": 10,
     "metadata": {},
     "output_type": "execute_result"
    }
   ],
   "source": [
    "data.T"
   ]
  },
  {
   "cell_type": "markdown",
   "metadata": {},
   "source": [
    "As expected, most dependencies (except in Rubygems) are \"compliant with semver\". That means that, in a situation where they make use of the latest major release of a target package, they will automatically benefit from the latest patch (for 0.y.z) and minor releases (for >=1.0.0)."
   ]
  },
  {
   "cell_type": "markdown",
   "metadata": {},
   "source": [
    "## Releases being used by dependent packages"
   ]
  },
  {
   "cell_type": "markdown",
   "metadata": {},
   "source": [
    "However, we expect that not all dependents make use of the latest major of a target package. Let's quantify how many dependents make use of: the latest release, a previous patch, a previous minor or a previous major."
   ]
  },
  {
   "cell_type": "code",
   "execution_count": 11,
   "metadata": {},
   "outputs": [],
   "source": [
    "data = pandas.concat([\n",
    "    df_dependents[ecosystem]\n",
    "    [['source', 'target', 'selected']]\n",
    "    # Get highest release of target package\n",
    "    .merge(\n",
    "        df_required[ecosystem]\n",
    "        .drop_duplicates('package', keep='last')\n",
    "        [['package', 'major', 'minor', 'patch']],\n",
    "        how='inner',\n",
    "        left_on='target',\n",
    "        right_on='package',\n",
    "    )\n",
    "    # Get release for selected one\n",
    "    .merge(\n",
    "        df_required[ecosystem]\n",
    "        [['package', 'rank', 'major', 'minor', 'patch']],\n",
    "        how='inner',\n",
    "        left_on=['target', 'selected'],\n",
    "        right_on=['package', 'rank'],\n",
    "        suffixes=(None, '_selected'),\n",
    "    )\n",
    "    .drop(columns=['package', 'package_selected', 'rank'])\n",
    "    # Identify release being used\n",
    "    .eval('''\n",
    "        latest = major_selected == major and minor_selected == minor and patch_selected == patch\n",
    "        previous_major = major_selected < major\n",
    "        previous_minor = major_selected == major and minor_selected < minor\n",
    "        previous_patch = major_selected == major and minor_selected == minor and patch_selected < patch\n",
    "    ''')\n",
    "    .assign(kind=lambda d: d[['latest', 'previous_major', 'previous_minor', 'previous_patch']].idxmax(axis=1))\n",
    "    .assign(ecosystem=ecosystem)\n",
    "    [['ecosystem', 'source', 'target', 'kind']]\n",
    "    for ecosystem in ECOSYSTEMS],\n",
    ")"
   ]
  },
  {
   "cell_type": "code",
   "execution_count": 12,
   "metadata": {},
   "outputs": [
    {
     "data": {
      "image/png": "[encoded data removed]",
      "text/plain": [
       "<Figure size 576x216 with 1 Axes>"
      ]
     },
     "metadata": {
      "needs_background": "light"
     },
     "output_type": "display_data"
    }
   ],
   "source": [
    "fig, ax = matplotlib.pyplot.subplots()\n",
    "\n",
    "temp = (\n",
    "    data\n",
    "    .groupby(['ecosystem', 'kind'])\n",
    "    .agg({'source': 'count'})\n",
    "    .div(\n",
    "        data\n",
    "        .groupby('ecosystem')\n",
    "        .agg({'source': 'count'})\n",
    "    )\n",
    "    .reset_index()\n",
    "    .replace({'kind': {'latest': 'latest release', 'previous_major': 'a previous major', 'previous_minor': 'a previous minor', 'previous_patch': 'a previous patch'}})\n",
    ")\n",
    "\n",
    "seaborn.barplot(\n",
    "    x='ecosystem',\n",
    "    y='source',\n",
    "    hue='kind',\n",
    "    hue_order=['latest release', 'a previous patch', 'a previous minor', 'a previous major'],\n",
    "    order=ECOSYSTEMS,\n",
    "    data=temp,\n",
    "    palette=PAL_REL[::-1],\n",
    "    ax=ax\n",
    ")\n",
    "\n",
    "for i, ecosystem in enumerate(ECOSYSTEMS):\n",
    "    for j, label in enumerate(['latest release', 'a previous patch', 'a previous minor', 'a previous major']):\n",
    "        value = temp[lambda d: (d['ecosystem'] == ecosystem) & (d['kind'] == label)].iloc[0].source\n",
    "        x = i + (j * 0.2 - 0.30)\n",
    "        ax.annotate('{:.0%}'.format(value), (x, value + 0.05), ha='center', va='center')\n",
    "\n",
    "ax.legend(ncol=2, loc='upper left')\n",
    "\n",
    "ax.set(\n",
    "    xlabel='',\n",
    "    ylabel='proportion of dependents',\n",
    "    ylim=(0, 1.1),\n",
    ")\n",
    "\n",
    "savefig(fig, 'need_used_released')"
   ]
  },
  {
   "cell_type": "code",
   "execution_count": 13,
   "metadata": {},
   "outputs": [
    {
     "data": {
      "text/html": [
       "<div>\n",
       "<style scoped>\n",
       "    .dataframe tbody tr th:only-of-type {\n",
       "        vertical-align: middle;\n",
       "    }\n",
       "\n",
       "    .dataframe tbody tr th {\n",
       "        vertical-align: top;\n",
       "    }\n",
       "\n",
       "    .dataframe thead th {\n",
       "        text-align: right;\n",
       "    }\n",
       "</style>\n",
       "<table border=\"1\" class=\"dataframe\">\n",
       "  <thead>\n",
       "    <tr style=\"text-align: right;\">\n",
       "      <th></th>\n",
       "      <th></th>\n",
       "      <th>source</th>\n",
       "    </tr>\n",
       "    <tr>\n",
       "      <th>ecosystem</th>\n",
       "      <th>kind</th>\n",
       "      <th></th>\n",
       "    </tr>\n",
       "  </thead>\n",
       "  <tbody>\n",
       "    <tr>\n",
       "      <th rowspan=\"4\" valign=\"top\">Cargo</th>\n",
       "      <th>latest</th>\n",
       "      <td>0.733942</td>\n",
       "    </tr>\n",
       "    <tr>\n",
       "      <th>previous_major</th>\n",
       "      <td>0.057286</td>\n",
       "    </tr>\n",
       "    <tr>\n",
       "      <th>previous_minor</th>\n",
       "      <td>0.205932</td>\n",
       "    </tr>\n",
       "    <tr>\n",
       "      <th>previous_patch</th>\n",
       "      <td>0.002839</td>\n",
       "    </tr>\n",
       "    <tr>\n",
       "      <th rowspan=\"4\" valign=\"top\">NPM</th>\n",
       "      <th>latest</th>\n",
       "      <td>0.617968</td>\n",
       "    </tr>\n",
       "    <tr>\n",
       "      <th>previous_major</th>\n",
       "      <td>0.275707</td>\n",
       "    </tr>\n",
       "    <tr>\n",
       "      <th>previous_minor</th>\n",
       "      <td>0.086173</td>\n",
       "    </tr>\n",
       "    <tr>\n",
       "      <th>previous_patch</th>\n",
       "      <td>0.020153</td>\n",
       "    </tr>\n",
       "    <tr>\n",
       "      <th rowspan=\"4\" valign=\"top\">Packagist</th>\n",
       "      <th>latest</th>\n",
       "      <td>0.717885</td>\n",
       "    </tr>\n",
       "    <tr>\n",
       "      <th>previous_major</th>\n",
       "      <td>0.242196</td>\n",
       "    </tr>\n",
       "    <tr>\n",
       "      <th>previous_minor</th>\n",
       "      <td>0.036182</td>\n",
       "    </tr>\n",
       "    <tr>\n",
       "      <th>previous_patch</th>\n",
       "      <td>0.003738</td>\n",
       "    </tr>\n",
       "    <tr>\n",
       "      <th rowspan=\"4\" valign=\"top\">Rubygems</th>\n",
       "      <th>latest</th>\n",
       "      <td>0.789833</td>\n",
       "    </tr>\n",
       "    <tr>\n",
       "      <th>previous_major</th>\n",
       "      <td>0.137554</td>\n",
       "    </tr>\n",
       "    <tr>\n",
       "      <th>previous_minor</th>\n",
       "      <td>0.067807</td>\n",
       "    </tr>\n",
       "    <tr>\n",
       "      <th>previous_patch</th>\n",
       "      <td>0.004806</td>\n",
       "    </tr>\n",
       "  </tbody>\n",
       "</table>\n",
       "</div>"
      ],
      "text/plain": [
       "                            source\n",
       "ecosystem kind                    \n",
       "Cargo     latest          0.733942\n",
       "          previous_major  0.057286\n",
       "          previous_minor  0.205932\n",
       "          previous_patch  0.002839\n",
       "NPM       latest          0.617968\n",
       "          previous_major  0.275707\n",
       "          previous_minor  0.086173\n",
       "          previous_patch  0.020153\n",
       "Packagist latest          0.717885\n",
       "          previous_major  0.242196\n",
       "          previous_minor  0.036182\n",
       "          previous_patch  0.003738\n",
       "Rubygems  latest          0.789833\n",
       "          previous_major  0.137554\n",
       "          previous_minor  0.067807\n",
       "          previous_patch  0.004806"
      ]
     },
     "execution_count": 13,
     "metadata": {},
     "output_type": "execute_result"
    }
   ],
   "source": [
    "(\n",
    "    data\n",
    "    .groupby(['ecosystem', 'kind'])\n",
    "    .agg({'source': 'count'})\n",
    "    # Comment next line for absolute values\n",
    "    .div(data.groupby('ecosystem').agg({'source': 'count'}))\n",
    ")"
   ]
  },
  {
   "cell_type": "markdown",
   "metadata": {},
   "source": [
    "## Induced technical lag"
   ]
  },
  {
   "cell_type": "markdown",
   "metadata": {},
   "source": [
    "Relying on a previous version means that we \"lag behind\". We quantify this lag, in terms of time (difference between version used and latest version available) and in terms of versions (number of versions that were missed)."
   ]
  },
  {
   "cell_type": "code",
   "execution_count": 14,
   "metadata": {},
   "outputs": [],
   "source": [
    "data = pandas.concat([\n",
    "    df_dependents[ecosystem]\n",
    "    [['source', 'target', 'selected']]\n",
    "    # Get highest release of target package\n",
    "    .merge(\n",
    "        df_required[ecosystem]\n",
    "        .drop_duplicates('package', keep='last')\n",
    "        [['package', 'rank', 'date']],\n",
    "        how='inner',\n",
    "        left_on='target',\n",
    "        right_on='package',\n",
    "    )\n",
    "    # Get release for selected one\n",
    "    .merge(\n",
    "        df_required[ecosystem]\n",
    "        [['package', 'rank', 'date']],\n",
    "        how='inner',\n",
    "        left_on=['target', 'selected'],\n",
    "        right_on=['package', 'rank'],\n",
    "        suffixes=(None, '_selected'),\n",
    "    )\n",
    "    # Ignore up-to-date releases\n",
    "    [lambda d: d['rank'] != d['selected']]\n",
    "    .drop(columns=['package', 'package_selected'])\n",
    "    .assign(timelag=lambda d: d['date'] - d['date_selected'])\n",
    "    .assign(versionlag=lambda d: d['rank'] - d['selected'])\n",
    "    .assign(ecosystem=ecosystem)\n",
    "    [['ecosystem', 'source', 'target', 'timelag', 'versionlag']]\n",
    "    for ecosystem in ECOSYSTEMS],\n",
    ")"
   ]
  },
  {
   "cell_type": "markdown",
   "metadata": {},
   "source": [
    "### Time-lag"
   ]
  },
  {
   "cell_type": "code",
   "execution_count": 15,
   "metadata": {},
   "outputs": [
    {
     "data": {
      "image/png": "[encoded data removed]",
      "text/plain": [
       "<Figure size 576x216 with 1 Axes>"
      ]
     },
     "metadata": {
      "needs_background": "light"
     },
     "output_type": "display_data"
    }
   ],
   "source": [
    "fig, ax = matplotlib.pyplot.subplots()\n",
    "\n",
    "seaborn.boxenplot(\n",
    "    x='ecosystem',\n",
    "    y='timelag',\n",
    "    data=data.assign(timelag=lambda d: d['timelag'] / pandas.to_timedelta('30 day')),\n",
    "    order=ECOSYSTEMS,\n",
    "    palette=COLORS,\n",
    "    ax=ax,\n",
    ")\n",
    "\n",
    "ax.set(\n",
    "    xlabel='',\n",
    "    ylabel='time lag (in months)',\n",
    "    ylim=(0, 60),\n",
    ")\n",
    "\n",
    "savefig(fig, 'need_timelag')"
   ]
  },
  {
   "cell_type": "code",
   "execution_count": 16,
   "metadata": {},
   "outputs": [
    {
     "data": {
      "text/html": [
       "<div>\n",
       "<style scoped>\n",
       "    .dataframe tbody tr th:only-of-type {\n",
       "        vertical-align: middle;\n",
       "    }\n",
       "\n",
       "    .dataframe tbody tr th {\n",
       "        vertical-align: top;\n",
       "    }\n",
       "\n",
       "    .dataframe thead th {\n",
       "        text-align: right;\n",
       "    }\n",
       "</style>\n",
       "<table border=\"1\" class=\"dataframe\">\n",
       "  <thead>\n",
       "    <tr style=\"text-align: right;\">\n",
       "      <th>timelag</th>\n",
       "      <th>count</th>\n",
       "      <th>mean</th>\n",
       "      <th>std</th>\n",
       "      <th>min</th>\n",
       "      <th>25%</th>\n",
       "      <th>50%</th>\n",
       "      <th>75%</th>\n",
       "      <th>max</th>\n",
       "    </tr>\n",
       "    <tr>\n",
       "      <th>ecosystem</th>\n",
       "      <th></th>\n",
       "      <th></th>\n",
       "      <th></th>\n",
       "      <th></th>\n",
       "      <th></th>\n",
       "      <th></th>\n",
       "      <th></th>\n",
       "      <th></th>\n",
       "    </tr>\n",
       "  </thead>\n",
       "  <tbody>\n",
       "    <tr>\n",
       "      <th>Cargo</th>\n",
       "      <td>15554.0</td>\n",
       "      <td>7.554672</td>\n",
       "      <td>10.474680</td>\n",
       "      <td>-60.908777</td>\n",
       "      <td>2.149137</td>\n",
       "      <td>6.341589</td>\n",
       "      <td>11.583088</td>\n",
       "      <td>56.361447</td>\n",
       "    </tr>\n",
       "    <tr>\n",
       "      <th>NPM</th>\n",
       "      <td>398211.0</td>\n",
       "      <td>11.209899</td>\n",
       "      <td>12.198101</td>\n",
       "      <td>-81.491625</td>\n",
       "      <td>3.929245</td>\n",
       "      <td>8.733797</td>\n",
       "      <td>14.968530</td>\n",
       "      <td>103.785505</td>\n",
       "    </tr>\n",
       "    <tr>\n",
       "      <th>Packagist</th>\n",
       "      <td>25286.0</td>\n",
       "      <td>5.980185</td>\n",
       "      <td>11.912336</td>\n",
       "      <td>-59.578580</td>\n",
       "      <td>0.000780</td>\n",
       "      <td>2.062725</td>\n",
       "      <td>8.192110</td>\n",
       "      <td>101.691821</td>\n",
       "    </tr>\n",
       "    <tr>\n",
       "      <th>Rubygems</th>\n",
       "      <td>4767.0</td>\n",
       "      <td>16.643779</td>\n",
       "      <td>18.146921</td>\n",
       "      <td>-28.730652</td>\n",
       "      <td>1.624873</td>\n",
       "      <td>12.970496</td>\n",
       "      <td>23.705577</td>\n",
       "      <td>120.269035</td>\n",
       "    </tr>\n",
       "  </tbody>\n",
       "</table>\n",
       "</div>"
      ],
      "text/plain": [
       "timelag       count       mean        std        min       25%        50%  \\\n",
       "ecosystem                                                                   \n",
       "Cargo       15554.0   7.554672  10.474680 -60.908777  2.149137   6.341589   \n",
       "NPM        398211.0  11.209899  12.198101 -81.491625  3.929245   8.733797   \n",
       "Packagist   25286.0   5.980185  11.912336 -59.578580  0.000780   2.062725   \n",
       "Rubygems     4767.0  16.643779  18.146921 -28.730652  1.624873  12.970496   \n",
       "\n",
       "timelag          75%         max  \n",
       "ecosystem                         \n",
       "Cargo      11.583088   56.361447  \n",
       "NPM        14.968530  103.785505  \n",
       "Packagist   8.192110  101.691821  \n",
       "Rubygems   23.705577  120.269035  "
      ]
     },
     "execution_count": 16,
     "metadata": {},
     "output_type": "execute_result"
    }
   ],
   "source": [
    "(\n",
    "    data\n",
    "    .assign(timelag=lambda d: d['timelag'] / pandas.to_timedelta('30 day'))\n",
    "    .groupby('ecosystem')\n",
    "    .apply(lambda d: d['timelag'].describe())\n",
    ")"
   ]
  },
  {
   "cell_type": "markdown",
   "metadata": {},
   "source": [
    "### Version-lag"
   ]
  },
  {
   "cell_type": "code",
   "execution_count": 17,
   "metadata": {},
   "outputs": [
    {
     "data": {
      "image/png": "[encoded data removed]",
      "text/plain": [
       "<Figure size 576x216 with 1 Axes>"
      ]
     },
     "metadata": {
      "needs_background": "light"
     },
     "output_type": "display_data"
    }
   ],
   "source": [
    "fig, ax = matplotlib.pyplot.subplots()\n",
    "\n",
    "seaborn.boxenplot(\n",
    "    x='ecosystem',\n",
    "    y='versionlag',\n",
    "    data=data,\n",
    "    order=ECOSYSTEMS,\n",
    "    palette=COLORS,\n",
    "    ax=ax,\n",
    ")\n",
    "\n",
    "ax.set(\n",
    "    xlabel='',\n",
    "    ylabel='version lag',\n",
    "    ylim=(0, 60),\n",
    ")\n",
    "\n",
    "savefig(fig, 'need_versionlag')"
   ]
  },
  {
   "cell_type": "code",
   "execution_count": 18,
   "metadata": {},
   "outputs": [
    {
     "data": {
      "text/html": [
       "<div>\n",
       "<style scoped>\n",
       "    .dataframe tbody tr th:only-of-type {\n",
       "        vertical-align: middle;\n",
       "    }\n",
       "\n",
       "    .dataframe tbody tr th {\n",
       "        vertical-align: top;\n",
       "    }\n",
       "\n",
       "    .dataframe thead th {\n",
       "        text-align: right;\n",
       "    }\n",
       "</style>\n",
       "<table border=\"1\" class=\"dataframe\">\n",
       "  <thead>\n",
       "    <tr style=\"text-align: right;\">\n",
       "      <th>versionlag</th>\n",
       "      <th>count</th>\n",
       "      <th>mean</th>\n",
       "      <th>std</th>\n",
       "      <th>min</th>\n",
       "      <th>25%</th>\n",
       "      <th>50%</th>\n",
       "      <th>75%</th>\n",
       "      <th>max</th>\n",
       "    </tr>\n",
       "    <tr>\n",
       "      <th>ecosystem</th>\n",
       "      <th></th>\n",
       "      <th></th>\n",
       "      <th></th>\n",
       "      <th></th>\n",
       "      <th></th>\n",
       "      <th></th>\n",
       "      <th></th>\n",
       "      <th></th>\n",
       "    </tr>\n",
       "  </thead>\n",
       "  <tbody>\n",
       "    <tr>\n",
       "      <th>Cargo</th>\n",
       "      <td>15554.0</td>\n",
       "      <td>5.271956</td>\n",
       "      <td>8.333072</td>\n",
       "      <td>1.0</td>\n",
       "      <td>2.0</td>\n",
       "      <td>3.0</td>\n",
       "      <td>6.0</td>\n",
       "      <td>239.0</td>\n",
       "    </tr>\n",
       "    <tr>\n",
       "      <th>NPM</th>\n",
       "      <td>398211.0</td>\n",
       "      <td>12.896223</td>\n",
       "      <td>26.609820</td>\n",
       "      <td>1.0</td>\n",
       "      <td>2.0</td>\n",
       "      <td>5.0</td>\n",
       "      <td>13.0</td>\n",
       "      <td>1216.0</td>\n",
       "    </tr>\n",
       "    <tr>\n",
       "      <th>Packagist</th>\n",
       "      <td>25286.0</td>\n",
       "      <td>19.211935</td>\n",
       "      <td>34.339034</td>\n",
       "      <td>1.0</td>\n",
       "      <td>2.0</td>\n",
       "      <td>9.0</td>\n",
       "      <td>19.0</td>\n",
       "      <td>872.0</td>\n",
       "    </tr>\n",
       "    <tr>\n",
       "      <th>Rubygems</th>\n",
       "      <td>4767.0</td>\n",
       "      <td>9.103000</td>\n",
       "      <td>34.961853</td>\n",
       "      <td>1.0</td>\n",
       "      <td>2.0</td>\n",
       "      <td>3.0</td>\n",
       "      <td>8.0</td>\n",
       "      <td>907.0</td>\n",
       "    </tr>\n",
       "  </tbody>\n",
       "</table>\n",
       "</div>"
      ],
      "text/plain": [
       "versionlag     count       mean        std  min  25%  50%   75%     max\n",
       "ecosystem                                                              \n",
       "Cargo        15554.0   5.271956   8.333072  1.0  2.0  3.0   6.0   239.0\n",
       "NPM         398211.0  12.896223  26.609820  1.0  2.0  5.0  13.0  1216.0\n",
       "Packagist    25286.0  19.211935  34.339034  1.0  2.0  9.0  19.0   872.0\n",
       "Rubygems      4767.0   9.103000  34.961853  1.0  2.0  3.0   8.0   907.0"
      ]
     },
     "execution_count": 18,
     "metadata": {},
     "output_type": "execute_result"
    }
   ],
   "source": [
    "(\n",
    "    data\n",
    "    .groupby('ecosystem')\n",
    "    .apply(lambda d: d['versionlag'].describe())\n",
    ")"
   ]
  },
  {
   "cell_type": "markdown",
   "metadata": {},
   "source": [
    "## Number of major releases used by dependent packages"
   ]
  },
  {
   "cell_type": "markdown",
   "metadata": {},
   "source": [
    "Since many dependents make use of a previous major release, let's quantify, given a required package, the number of distinct major being used by dependent packages."
   ]
  },
  {
   "cell_type": "code",
   "execution_count": 38,
   "metadata": {},
   "outputs": [],
   "source": [
    "data = pandas.concat([\n",
    "    df_required[ecosystem]\n",
    "    # Get the number of distinct major for each package\n",
    "    .merge(\n",
    "        df_required[ecosystem]\n",
    "        .drop_duplicates(['package', 'major'])\n",
    "        .groupby('package', as_index=False, sort=False)\n",
    "        .agg({'major': 'count'})\n",
    "        .rename(columns={'major': 'nb_major'}),\n",
    "        how='left',\n",
    "        on='package',\n",
    "    )\n",
    "    # Get the number of major used for each package. \n",
    "    .merge(\n",
    "        df_required[ecosystem]\n",
    "        [['package', 'rank', 'major']]\n",
    "        .merge(\n",
    "            df_dependents[ecosystem]\n",
    "            [['target', 'selected']],\n",
    "            how='right',\n",
    "            left_on=['package', 'rank'],\n",
    "            right_on=['target', 'selected'],\n",
    "            suffixes=(None, '_selected'),\n",
    "        )\n",
    "        .drop(columns=['target', 'selected'])\n",
    "        .drop_duplicates(['package', 'major'])\n",
    "        .groupby('package', sort=False, as_index=False)\n",
    "        .agg({'major': 'count'})\n",
    "        .rename(columns={'major': 'used_major'})\n",
    "    )\n",
    "    [['package', 'nb_major', 'used_major']]\n",
    "    .drop_duplicates()\n",
    "    .assign(ecosystem=ecosystem)\n",
    "    for ecosystem in ECOSYSTEMS],\n",
    ")"
   ]
  },
  {
   "cell_type": "markdown",
   "metadata": {},
   "source": [
    "### Number of available major releases"
   ]
  },
  {
   "cell_type": "markdown",
   "metadata": {},
   "source": [
    "Let's first quantify the number of major releases that are available for each required package."
   ]
  },
  {
   "cell_type": "code",
   "execution_count": 20,
   "metadata": {},
   "outputs": [
    {
     "data": {
      "image/png": "[encoded data removed]",
      "text/plain": [
       "<Figure size 576x216 with 1 Axes>"
      ]
     },
     "metadata": {
      "needs_background": "light"
     },
     "output_type": "display_data"
    }
   ],
   "source": [
    "fig, ax = matplotlib.pyplot.subplots()\n",
    "\n",
    "seaborn.boxenplot(\n",
    "    x='ecosystem',\n",
    "    y='nb_major',\n",
    "    hue='ecosystem',\n",
    "    data=data,\n",
    "    order=ECOSYSTEMS,\n",
    "    palette=COLORS,\n",
    "    dodge=False,\n",
    "    ax=ax\n",
    ")\n",
    "\n",
    "ax.legend().remove()\n",
    "\n",
    "ax.set(\n",
    "    xlabel='',\n",
    "    ylabel='number of available\\nmajor releases',\n",
    "    ylim=(1, 12),\n",
    ")\n",
    "\n",
    "savefig(fig, 'need_number_major_available')"
   ]
  },
  {
   "cell_type": "code",
   "execution_count": 21,
   "metadata": {},
   "outputs": [
    {
     "data": {
      "text/html": [
       "<div>\n",
       "<style scoped>\n",
       "    .dataframe tbody tr th:only-of-type {\n",
       "        vertical-align: middle;\n",
       "    }\n",
       "\n",
       "    .dataframe tbody tr th {\n",
       "        vertical-align: top;\n",
       "    }\n",
       "\n",
       "    .dataframe thead th {\n",
       "        text-align: right;\n",
       "    }\n",
       "</style>\n",
       "<table border=\"1\" class=\"dataframe\">\n",
       "  <thead>\n",
       "    <tr style=\"text-align: right;\">\n",
       "      <th>nb_major</th>\n",
       "      <th>count</th>\n",
       "      <th>mean</th>\n",
       "      <th>std</th>\n",
       "      <th>min</th>\n",
       "      <th>25%</th>\n",
       "      <th>50%</th>\n",
       "      <th>75%</th>\n",
       "      <th>max</th>\n",
       "    </tr>\n",
       "    <tr>\n",
       "      <th>ecosystem</th>\n",
       "      <th></th>\n",
       "      <th></th>\n",
       "      <th></th>\n",
       "      <th></th>\n",
       "      <th></th>\n",
       "      <th></th>\n",
       "      <th></th>\n",
       "      <th></th>\n",
       "    </tr>\n",
       "  </thead>\n",
       "  <tbody>\n",
       "    <tr>\n",
       "      <th>Cargo</th>\n",
       "      <td>1186.0</td>\n",
       "      <td>2.948567</td>\n",
       "      <td>31.320581</td>\n",
       "      <td>1.0</td>\n",
       "      <td>1.0</td>\n",
       "      <td>1.0</td>\n",
       "      <td>1.0</td>\n",
       "      <td>637.0</td>\n",
       "    </tr>\n",
       "    <tr>\n",
       "      <th>NPM</th>\n",
       "      <td>15480.0</td>\n",
       "      <td>2.568282</td>\n",
       "      <td>2.657018</td>\n",
       "      <td>1.0</td>\n",
       "      <td>1.0</td>\n",
       "      <td>2.0</td>\n",
       "      <td>3.0</td>\n",
       "      <td>96.0</td>\n",
       "    </tr>\n",
       "    <tr>\n",
       "      <th>Packagist</th>\n",
       "      <td>2270.0</td>\n",
       "      <td>2.230396</td>\n",
       "      <td>1.733514</td>\n",
       "      <td>1.0</td>\n",
       "      <td>1.0</td>\n",
       "      <td>2.0</td>\n",
       "      <td>3.0</td>\n",
       "      <td>35.0</td>\n",
       "    </tr>\n",
       "    <tr>\n",
       "      <th>Rubygems</th>\n",
       "      <td>714.0</td>\n",
       "      <td>3.144258</td>\n",
       "      <td>5.254016</td>\n",
       "      <td>1.0</td>\n",
       "      <td>1.0</td>\n",
       "      <td>2.0</td>\n",
       "      <td>3.0</td>\n",
       "      <td>54.0</td>\n",
       "    </tr>\n",
       "  </tbody>\n",
       "</table>\n",
       "</div>"
      ],
      "text/plain": [
       "nb_major     count      mean        std  min  25%  50%  75%    max\n",
       "ecosystem                                                         \n",
       "Cargo       1186.0  2.948567  31.320581  1.0  1.0  1.0  1.0  637.0\n",
       "NPM        15480.0  2.568282   2.657018  1.0  1.0  2.0  3.0   96.0\n",
       "Packagist   2270.0  2.230396   1.733514  1.0  1.0  2.0  3.0   35.0\n",
       "Rubygems     714.0  3.144258   5.254016  1.0  1.0  2.0  3.0   54.0"
      ]
     },
     "execution_count": 21,
     "metadata": {},
     "output_type": "execute_result"
    }
   ],
   "source": [
    "(\n",
    "    data\n",
    "    .groupby('ecosystem')\n",
    "    .apply(lambda d: d['nb_major'].describe())\n",
    ")"
   ]
  },
  {
   "cell_type": "markdown",
   "metadata": {},
   "source": [
    "Or, using another way of showing things:"
   ]
  },
  {
   "cell_type": "code",
   "execution_count": 22,
   "metadata": {},
   "outputs": [
    {
     "data": {
      "image/png": "[encoded data removed]",
      "text/plain": [
       "<Figure size 576x216 with 1 Axes>"
      ]
     },
     "metadata": {
      "needs_background": "light"
     },
     "output_type": "display_data"
    }
   ],
   "source": [
    "fig, ax = matplotlib.pyplot.subplots()\n",
    "\n",
    "temp = (\n",
    "    data\n",
    "    .assign(nb_major=lambda d: d['nb_major'].where(d['nb_major'] < 5, '5+'))\n",
    "    .groupby(['nb_major', 'ecosystem'])\n",
    "    .agg({'package': 'count'})\n",
    "    .pipe(lambda df:\n",
    "        df.div(df.groupby('ecosystem').agg({'package': 'sum'}))\n",
    "    )\n",
    "    .reset_index()\n",
    ")\n",
    "\n",
    "seaborn.barplot(\n",
    "    x='nb_major',\n",
    "    y='package',\n",
    "    hue='ecosystem',\n",
    "    hue_order=ECOSYSTEMS,\n",
    "    data=temp,\n",
    "    palette=COLORS,\n",
    "    ax=ax,\n",
    ")\n",
    "\n",
    "for i, ecosystem in enumerate(ECOSYSTEMS):\n",
    "    for j, label in enumerate([1, 2, 3, 4, '5+']):\n",
    "        value = temp[lambda d: (d['ecosystem'] == ecosystem) & (d['nb_major'] == label)].iloc[0].package\n",
    "        x = j + (i * 0.2 - 0.30)\n",
    "        ax.annotate('.{:.0f}'.format(value*100), (x, value + 0.05), ha='center', va='center')\n",
    "\n",
    "\n",
    "ax.legend(title=None, ncol=2)\n",
    "\n",
    "ax.set(\n",
    "    xlabel='number of available major releases',\n",
    "    ylabel='proportion of packages',\n",
    "    ylim=(0, 1),\n",
    ")\n",
    "\n",
    "savefig(fig, 'need_number_major_available_barplot')"
   ]
  },
  {
   "cell_type": "markdown",
   "metadata": {},
   "source": [
    "### Number of used major releases"
   ]
  },
  {
   "cell_type": "markdown",
   "metadata": {},
   "source": [
    "Since 34% to 84% (Cargo!) packages have only a single major version, we only consider packages having at least 2 major releases for the following analyses."
   ]
  },
  {
   "cell_type": "code",
   "execution_count": 23,
   "metadata": {},
   "outputs": [
    {
     "data": {
      "image/png": "[encoded data removed]",
      "text/plain": [
       "<Figure size 576x216 with 1 Axes>"
      ]
     },
     "metadata": {
      "needs_background": "light"
     },
     "output_type": "display_data"
    }
   ],
   "source": [
    "fig, ax = matplotlib.pyplot.subplots()\n",
    "\n",
    "seaborn.boxenplot(\n",
    "    x='ecosystem',\n",
    "    y='used_major',\n",
    "    hue='ecosystem',\n",
    "    data=data[lambda d: d['nb_major'] > 1],\n",
    "    palette=COLORS,\n",
    "    hue_order=ECOSYSTEMS,\n",
    "    dodge=False,\n",
    "    ax=ax\n",
    ")\n",
    "\n",
    "ax.legend().remove()\n",
    "\n",
    "ax.set(\n",
    "    xlabel='',\n",
    "    ylabel='number of required\\nmajor releases',\n",
    "    ylim=(1, 6),\n",
    ")\n",
    "\n",
    "savefig(fig, 'need_number_used_major')"
   ]
  },
  {
   "cell_type": "code",
   "execution_count": 24,
   "metadata": {},
   "outputs": [
    {
     "data": {
      "text/html": [
       "<div>\n",
       "<style scoped>\n",
       "    .dataframe tbody tr th:only-of-type {\n",
       "        vertical-align: middle;\n",
       "    }\n",
       "\n",
       "    .dataframe tbody tr th {\n",
       "        vertical-align: top;\n",
       "    }\n",
       "\n",
       "    .dataframe thead th {\n",
       "        text-align: right;\n",
       "    }\n",
       "</style>\n",
       "<table border=\"1\" class=\"dataframe\">\n",
       "  <thead>\n",
       "    <tr style=\"text-align: right;\">\n",
       "      <th>used_major</th>\n",
       "      <th>count</th>\n",
       "      <th>mean</th>\n",
       "      <th>std</th>\n",
       "      <th>min</th>\n",
       "      <th>25%</th>\n",
       "      <th>50%</th>\n",
       "      <th>75%</th>\n",
       "      <th>max</th>\n",
       "    </tr>\n",
       "    <tr>\n",
       "      <th>ecosystem</th>\n",
       "      <th></th>\n",
       "      <th></th>\n",
       "      <th></th>\n",
       "      <th></th>\n",
       "      <th></th>\n",
       "      <th></th>\n",
       "      <th></th>\n",
       "      <th></th>\n",
       "    </tr>\n",
       "  </thead>\n",
       "  <tbody>\n",
       "    <tr>\n",
       "      <th>Cargo</th>\n",
       "      <td>184.0</td>\n",
       "      <td>1.804348</td>\n",
       "      <td>0.994401</td>\n",
       "      <td>1.0</td>\n",
       "      <td>1.0</td>\n",
       "      <td>2.0</td>\n",
       "      <td>2.0</td>\n",
       "      <td>8.0</td>\n",
       "    </tr>\n",
       "    <tr>\n",
       "      <th>NPM</th>\n",
       "      <td>9118.0</td>\n",
       "      <td>2.022373</td>\n",
       "      <td>1.282916</td>\n",
       "      <td>1.0</td>\n",
       "      <td>1.0</td>\n",
       "      <td>2.0</td>\n",
       "      <td>2.0</td>\n",
       "      <td>30.0</td>\n",
       "    </tr>\n",
       "    <tr>\n",
       "      <th>Packagist</th>\n",
       "      <td>1319.0</td>\n",
       "      <td>1.736922</td>\n",
       "      <td>0.847075</td>\n",
       "      <td>1.0</td>\n",
       "      <td>1.0</td>\n",
       "      <td>2.0</td>\n",
       "      <td>2.0</td>\n",
       "      <td>7.0</td>\n",
       "    </tr>\n",
       "    <tr>\n",
       "      <th>Rubygems</th>\n",
       "      <td>474.0</td>\n",
       "      <td>1.664557</td>\n",
       "      <td>0.816925</td>\n",
       "      <td>1.0</td>\n",
       "      <td>1.0</td>\n",
       "      <td>1.0</td>\n",
       "      <td>2.0</td>\n",
       "      <td>5.0</td>\n",
       "    </tr>\n",
       "  </tbody>\n",
       "</table>\n",
       "</div>"
      ],
      "text/plain": [
       "used_major   count      mean       std  min  25%  50%  75%   max\n",
       "ecosystem                                                       \n",
       "Cargo        184.0  1.804348  0.994401  1.0  1.0  2.0  2.0   8.0\n",
       "NPM         9118.0  2.022373  1.282916  1.0  1.0  2.0  2.0  30.0\n",
       "Packagist   1319.0  1.736922  0.847075  1.0  1.0  2.0  2.0   7.0\n",
       "Rubygems     474.0  1.664557  0.816925  1.0  1.0  1.0  2.0   5.0"
      ]
     },
     "execution_count": 24,
     "metadata": {},
     "output_type": "execute_result"
    }
   ],
   "source": [
    "(\n",
    "    data\n",
    "    [lambda d: d['nb_major'] > 1]\n",
    "    .groupby('ecosystem')\n",
    "    .apply(lambda d: d['used_major'].describe())\n",
    ")"
   ]
  },
  {
   "cell_type": "markdown",
   "metadata": {},
   "source": [
    "Again, using a barplot:"
   ]
  },
  {
   "cell_type": "code",
   "execution_count": 25,
   "metadata": {},
   "outputs": [
    {
     "data": {
      "image/png": "[encoded data removed]",
      "text/plain": [
       "<Figure size 576x216 with 1 Axes>"
      ]
     },
     "metadata": {
      "needs_background": "light"
     },
     "output_type": "display_data"
    }
   ],
   "source": [
    "fig, ax = matplotlib.pyplot.subplots()\n",
    "\n",
    "temp = (\n",
    "    data\n",
    "    .assign(used_major=lambda d: d['used_major'].where(d['used_major'] < 5, '5+'))\n",
    "    .groupby(['used_major', 'ecosystem'])\n",
    "    .agg({'package': 'count'})\n",
    "    .pipe(lambda df:\n",
    "        df.div(df.groupby('ecosystem').agg({'package': 'sum'}))\n",
    "    )\n",
    "    .reset_index()\n",
    ")\n",
    "\n",
    "seaborn.barplot(\n",
    "    x='used_major',\n",
    "    y='package',\n",
    "    hue='ecosystem',\n",
    "    hue_order=ECOSYSTEMS,\n",
    "    data=temp,\n",
    "    palette=COLORS,\n",
    "    ax=ax,\n",
    ")\n",
    "\n",
    "for i, ecosystem in enumerate(ECOSYSTEMS):\n",
    "    for j, label in enumerate([1, 2, 3, 4, '5+']):\n",
    "        value = temp[lambda d: (d['ecosystem'] == ecosystem) & (d['used_major'] == label)].iloc[0].package\n",
    "        x = j + (i * 0.2 - 0.30)\n",
    "        ax.annotate('.{:.0f}'.format(value*100), (x, value + 0.04), ha='center', va='center')\n",
    "\n",
    "\n",
    "ax.legend(title=None, ncol=2)\n",
    "\n",
    "ax.set(\n",
    "    xlabel='number of required major releases',\n",
    "    ylabel='proportion of packages',\n",
    "    ylim=(0, 1),\n",
    ")\n",
    "\n",
    "savefig(fig, 'need_number_used_major_barplot')"
   ]
  },
  {
   "cell_type": "markdown",
   "metadata": {},
   "source": [
    "### Proportion of used major releases"
   ]
  },
  {
   "cell_type": "markdown",
   "metadata": {},
   "source": [
    "Let's do the same, but proportionally to the total number of major releases available. "
   ]
  },
  {
   "cell_type": "code",
   "execution_count": 40,
   "metadata": {},
   "outputs": [
    {
     "data": {
      "image/png": "[encoded data removed]",
      "text/plain": [
       "<Figure size 576x216 with 1 Axes>"
      ]
     },
     "metadata": {
      "needs_background": "light"
     },
     "output_type": "display_data"
    }
   ],
   "source": [
    "fig, ax = matplotlib.pyplot.subplots()\n",
    "\n",
    "seaborn.boxenplot(\n",
    "    x='ecosystem',\n",
    "    y='prop_major',\n",
    "    hue='ecosystem',\n",
    "    order=ECOSYSTEMS,\n",
    "    data=data[lambda d: d['nb_major'] > 1].eval('prop_major=used_major / nb_major'),\n",
    "    palette=COLORS,\n",
    "    dodge=False,\n",
    "    ax=ax\n",
    ")\n",
    "\n",
    "ax.legend().remove()\n",
    "\n",
    "ax.set(\n",
    "    xlabel='',\n",
    "    ylabel='proportion of required\\nmajor releases',\n",
    "    ylim=(0, 1),\n",
    ")\n",
    "\n",
    "savefig(fig, 'need_prop_major')"
   ]
  },
  {
   "cell_type": "code",
   "execution_count": 27,
   "metadata": {},
   "outputs": [
    {
     "data": {
      "text/html": [
       "<div>\n",
       "<style scoped>\n",
       "    .dataframe tbody tr th:only-of-type {\n",
       "        vertical-align: middle;\n",
       "    }\n",
       "\n",
       "    .dataframe tbody tr th {\n",
       "        vertical-align: top;\n",
       "    }\n",
       "\n",
       "    .dataframe thead th {\n",
       "        text-align: right;\n",
       "    }\n",
       "</style>\n",
       "<table border=\"1\" class=\"dataframe\">\n",
       "  <thead>\n",
       "    <tr style=\"text-align: right;\">\n",
       "      <th>prop_major</th>\n",
       "      <th>count</th>\n",
       "      <th>mean</th>\n",
       "      <th>std</th>\n",
       "      <th>min</th>\n",
       "      <th>25%</th>\n",
       "      <th>50%</th>\n",
       "      <th>75%</th>\n",
       "      <th>max</th>\n",
       "    </tr>\n",
       "    <tr>\n",
       "      <th>ecosystem</th>\n",
       "      <th></th>\n",
       "      <th></th>\n",
       "      <th></th>\n",
       "      <th></th>\n",
       "      <th></th>\n",
       "      <th></th>\n",
       "      <th></th>\n",
       "      <th></th>\n",
       "    </tr>\n",
       "  </thead>\n",
       "  <tbody>\n",
       "    <tr>\n",
       "      <th>Cargo</th>\n",
       "      <td>184.0</td>\n",
       "      <td>0.623521</td>\n",
       "      <td>0.297092</td>\n",
       "      <td>0.003140</td>\n",
       "      <td>0.375000</td>\n",
       "      <td>0.5</td>\n",
       "      <td>1.000000</td>\n",
       "      <td>1.0</td>\n",
       "    </tr>\n",
       "    <tr>\n",
       "      <th>NPM</th>\n",
       "      <td>9118.0</td>\n",
       "      <td>0.616194</td>\n",
       "      <td>0.257901</td>\n",
       "      <td>0.016393</td>\n",
       "      <td>0.500000</td>\n",
       "      <td>0.5</td>\n",
       "      <td>0.833333</td>\n",
       "      <td>1.0</td>\n",
       "    </tr>\n",
       "    <tr>\n",
       "      <th>Packagist</th>\n",
       "      <td>1319.0</td>\n",
       "      <td>0.608323</td>\n",
       "      <td>0.254845</td>\n",
       "      <td>0.055556</td>\n",
       "      <td>0.500000</td>\n",
       "      <td>0.5</td>\n",
       "      <td>0.750000</td>\n",
       "      <td>1.0</td>\n",
       "    </tr>\n",
       "    <tr>\n",
       "      <th>Rubygems</th>\n",
       "      <td>474.0</td>\n",
       "      <td>0.551113</td>\n",
       "      <td>0.264800</td>\n",
       "      <td>0.018519</td>\n",
       "      <td>0.333333</td>\n",
       "      <td>0.5</td>\n",
       "      <td>0.666667</td>\n",
       "      <td>1.0</td>\n",
       "    </tr>\n",
       "  </tbody>\n",
       "</table>\n",
       "</div>"
      ],
      "text/plain": [
       "prop_major   count      mean       std       min       25%  50%       75%  max\n",
       "ecosystem                                                                     \n",
       "Cargo        184.0  0.623521  0.297092  0.003140  0.375000  0.5  1.000000  1.0\n",
       "NPM         9118.0  0.616194  0.257901  0.016393  0.500000  0.5  0.833333  1.0\n",
       "Packagist   1319.0  0.608323  0.254845  0.055556  0.500000  0.5  0.750000  1.0\n",
       "Rubygems     474.0  0.551113  0.264800  0.018519  0.333333  0.5  0.666667  1.0"
      ]
     },
     "execution_count": 27,
     "metadata": {},
     "output_type": "execute_result"
    }
   ],
   "source": [
    "(\n",
    "    data\n",
    "    [lambda d: d['nb_major'] > 1]\n",
    "    .eval('prop_major=used_major / nb_major')\n",
    "    .groupby('ecosystem')\n",
    "    .apply(lambda d: d['prop_major'].describe())\n",
    ")"
   ]
  },
  {
   "cell_type": "markdown",
   "metadata": {},
   "source": [
    "## Package reuse index"
   ]
  },
  {
   "cell_type": "markdown",
   "metadata": {},
   "source": [
    "Since a package can have many distinct releases being used by dependent packages, we could propose a \"package reuse index\" whose goal is to quantify the number of these releases. There are two options there:\n",
    "\n",
    "1) A variant of a Gini-index, measuring the inequality in terms of \"release usage\". The more \"inequal\" this usage is, the more \"focused\" are dependent packages. However, this does not allow to show whether the \"focus\" is on the latest major or not. \n",
    "\n",
    "2) A variant of the H-index, where n means there are n releases each being used by n dependent packages. \n",
    "\n",
    "Let's first compute, for each available major, the number of dependent packages. We'll focus on packages with at least 2 major releases. "
   ]
  },
  {
   "cell_type": "code",
   "execution_count": 41,
   "metadata": {},
   "outputs": [],
   "source": [
    "data = pandas.concat([\n",
    "    df_required[ecosystem]\n",
    "    # Get dependents for each release\n",
    "    .merge(\n",
    "        df_dependents[ecosystem]\n",
    "        [['source', 'target', 'selected']],\n",
    "        how='left',\n",
    "        left_on=['package', 'rank'],\n",
    "        right_on=['target', 'selected']\n",
    "    )\n",
    "    # Group per major release, and count dependents\n",
    "    .groupby(['package', 'major'], as_index=False)\n",
    "    .agg({'source': 'count'})\n",
    "    # Remove packages with a single major\n",
    "    .groupby('package', as_index=False, sort=False)\n",
    "    .filter(lambda g: len(g) > 1)\n",
    "    .assign(ecosystem=ecosystem)\n",
    "    for ecosystem in ECOSYSTEMS]\n",
    ")"
   ]
  },
  {
   "cell_type": "markdown",
   "metadata": {},
   "source": [
    "### Variant of Gini-index"
   ]
  },
  {
   "cell_type": "markdown",
   "metadata": {},
   "source": [
    "Let's define a function to compute the Gini value of a numpy array. \n",
    "\n",
    "Taken from https://github.com/oliviaguest/gini\n",
    "\n",
    "1 = inequality; 0 = equality."
   ]
  },
  {
   "cell_type": "code",
   "execution_count": 29,
   "metadata": {},
   "outputs": [],
   "source": [
    "def gini(array):\n",
    "    \"\"\"Calculate the Gini coefficient of a numpy array.\"\"\"\n",
    "    # based on bottom eq:\n",
    "    # http://www.statsdirect.com/help/generatedimages/equations/equation154.svg\n",
    "    # from:\n",
    "    # http://www.statsdirect.com/help/default.htm#nonparametric_methods/gini.htm\n",
    "    # All values are treated equally, arrays must be 1d:\n",
    "    array = array.flatten()\n",
    "    if np.amin(array) < 0:\n",
    "        # Values cannot be negative:\n",
    "        array -= np.amin(array)\n",
    "    # Values cannot be 0:\n",
    "    array += 0.0000001\n",
    "    # Values must be sorted:\n",
    "    array = np.sort(array)\n",
    "    # Index per array element:\n",
    "    index = np.arange(1,array.shape[0]+1)\n",
    "    # Number of array elements:\n",
    "    n = array.shape[0]\n",
    "    # Gini coefficient:\n",
    "    return ((np.sum((2 * index - n  - 1) * array)) / (n * np.sum(array)))"
   ]
  },
  {
   "cell_type": "code",
   "execution_count": 94,
   "metadata": {},
   "outputs": [
    {
     "data": {
      "image/png": "[encoded data removed]",
      "text/plain": [
       "<Figure size 576x216 with 1 Axes>"
      ]
     },
     "metadata": {
      "needs_background": "light"
     },
     "output_type": "display_data"
    }
   ],
   "source": [
    "fix, ax = matplotlib.pyplot.subplots()\n",
    "\n",
    "seaborn.violinplot(\n",
    "    x='ecosystem',\n",
    "    y='source',\n",
    "    hue='ecosystem',\n",
    "    order=ECOSYSTEMS,\n",
    "    data=(\n",
    "        data\n",
    "        .groupby(['ecosystem', 'package'], as_index=False)\n",
    "        .agg({'source': lambda s: gini(s.to_numpy(dtype='float64'))})\n",
    "    ),\n",
    "    dodge=False,\n",
    "    palette=COLORS,\n",
    "    ax=ax\n",
    ")\n",
    "\n",
    "ax.legend().remove()\n",
    "\n",
    "ax.set(\n",
    "    xlabel='',\n",
    "    ylabel='Gini',\n",
    "    ylim=(0, 1),\n",
    ")\n",
    "\n",
    "savefig(fig, 'index_gini')"
   ]
  },
  {
   "cell_type": "code",
   "execution_count": 31,
   "metadata": {},
   "outputs": [
    {
     "data": {
      "text/html": [
       "<div>\n",
       "<style scoped>\n",
       "    .dataframe tbody tr th:only-of-type {\n",
       "        vertical-align: middle;\n",
       "    }\n",
       "\n",
       "    .dataframe tbody tr th {\n",
       "        vertical-align: top;\n",
       "    }\n",
       "\n",
       "    .dataframe thead th {\n",
       "        text-align: right;\n",
       "    }\n",
       "</style>\n",
       "<table border=\"1\" class=\"dataframe\">\n",
       "  <thead>\n",
       "    <tr style=\"text-align: right;\">\n",
       "      <th>gini</th>\n",
       "      <th>count</th>\n",
       "      <th>mean</th>\n",
       "      <th>std</th>\n",
       "      <th>min</th>\n",
       "      <th>25%</th>\n",
       "      <th>50%</th>\n",
       "      <th>75%</th>\n",
       "      <th>max</th>\n",
       "    </tr>\n",
       "    <tr>\n",
       "      <th>ecosystem</th>\n",
       "      <th></th>\n",
       "      <th></th>\n",
       "      <th></th>\n",
       "      <th></th>\n",
       "      <th></th>\n",
       "      <th></th>\n",
       "      <th></th>\n",
       "      <th></th>\n",
       "    </tr>\n",
       "  </thead>\n",
       "  <tbody>\n",
       "    <tr>\n",
       "      <th>Cargo</th>\n",
       "      <td>184.0</td>\n",
       "      <td>0.513157</td>\n",
       "      <td>0.208198</td>\n",
       "      <td>0.0</td>\n",
       "      <td>0.422709</td>\n",
       "      <td>0.50000</td>\n",
       "      <td>0.666667</td>\n",
       "      <td>0.998030</td>\n",
       "    </tr>\n",
       "    <tr>\n",
       "      <th>NPM</th>\n",
       "      <td>9157.0</td>\n",
       "      <td>0.526651</td>\n",
       "      <td>0.184491</td>\n",
       "      <td>0.0</td>\n",
       "      <td>0.452381</td>\n",
       "      <td>0.50000</td>\n",
       "      <td>0.666667</td>\n",
       "      <td>0.983606</td>\n",
       "    </tr>\n",
       "    <tr>\n",
       "      <th>Packagist</th>\n",
       "      <td>1353.0</td>\n",
       "      <td>0.502962</td>\n",
       "      <td>0.190432</td>\n",
       "      <td>0.0</td>\n",
       "      <td>0.444444</td>\n",
       "      <td>0.50000</td>\n",
       "      <td>0.658730</td>\n",
       "      <td>0.944444</td>\n",
       "    </tr>\n",
       "    <tr>\n",
       "      <th>Rubygems</th>\n",
       "      <td>474.0</td>\n",
       "      <td>0.567051</td>\n",
       "      <td>0.185414</td>\n",
       "      <td>0.0</td>\n",
       "      <td>0.500000</td>\n",
       "      <td>0.54759</td>\n",
       "      <td>0.666667</td>\n",
       "      <td>0.981481</td>\n",
       "    </tr>\n",
       "  </tbody>\n",
       "</table>\n",
       "</div>"
      ],
      "text/plain": [
       "gini        count      mean       std  min       25%      50%       75%  \\\n",
       "ecosystem                                                                 \n",
       "Cargo       184.0  0.513157  0.208198  0.0  0.422709  0.50000  0.666667   \n",
       "NPM        9157.0  0.526651  0.184491  0.0  0.452381  0.50000  0.666667   \n",
       "Packagist  1353.0  0.502962  0.190432  0.0  0.444444  0.50000  0.658730   \n",
       "Rubygems    474.0  0.567051  0.185414  0.0  0.500000  0.54759  0.666667   \n",
       "\n",
       "gini            max  \n",
       "ecosystem            \n",
       "Cargo      0.998030  \n",
       "NPM        0.983606  \n",
       "Packagist  0.944444  \n",
       "Rubygems   0.981481  "
      ]
     },
     "execution_count": 31,
     "metadata": {},
     "output_type": "execute_result"
    }
   ],
   "source": [
    "(\n",
    "    data\n",
    "    .groupby(['ecosystem', 'package'], as_index=False)\n",
    "    .agg(gini=('source', lambda s: gini(s.to_numpy(dtype='float64'))))\n",
    "    .groupby('ecosystem')\n",
    "    .apply(lambda g: g.gini.describe())\n",
    ")"
   ]
  },
  {
   "cell_type": "markdown",
   "metadata": {},
   "source": [
    "One can expect a relation between the number of dependents, available majors, required majors, and the Gini value..."
   ]
  },
  {
   "cell_type": "code",
   "execution_count": 100,
   "metadata": {},
   "outputs": [
    {
     "data": {
      "image/png": "[encoded data removed]",
      "text/plain": [
       "<Figure size 576x216 with 2 Axes>"
      ]
     },
     "metadata": {
      "needs_background": "light"
     },
     "output_type": "display_data"
    }
   ],
   "source": [
    "fig, ax = matplotlib.pyplot.subplots()\n",
    "\n",
    "seaborn.heatmap(\n",
    "    data=(\n",
    "        data\n",
    "        .assign(used_major=lambda d: d['source'] > 0)\n",
    "        .groupby(['ecosystem', 'package'], as_index=False)\n",
    "        .agg(\n",
    "            gini=('source', lambda s: gini(s.to_numpy(dtype='float64'))),\n",
    "            dependents=('source', 'sum'),\n",
    "            major=('major', 'count'),\n",
    "            used_major=('used_major', 'sum')\n",
    "        )\n",
    "        .eval('ratio_major = used_major / major')\n",
    "        [['gini', 'dependents', 'major', 'used_major', 'ratio_major']]\n",
    "        .rename(columns={\n",
    "            'gini': 'gini',\n",
    "            'dependents': 'dependents',\n",
    "            'major': 'avail. major',\n",
    "            'used_major': 'req. major',\n",
    "            'ratio_major': 'req./avail.'\n",
    "        })\n",
    "        .corr('spearman')\n",
    "    ),\n",
    "    vmin=-1,\n",
    "    vmax=1,\n",
    "    cmap='RdYlGn',\n",
    "    annot=True,\n",
    "    ax=ax,\n",
    ")\n",
    "\n",
    "savefig(fig, 'index_gini_corr')"
   ]
  },
  {
   "cell_type": "markdown",
   "metadata": {},
   "source": [
    "### Variant of H-index"
   ]
  },
  {
   "cell_type": "markdown",
   "metadata": {},
   "source": [
    "Let's first define a function that computes it."
   ]
  },
  {
   "cell_type": "code",
   "execution_count": 89,
   "metadata": {},
   "outputs": [],
   "source": [
    "def x_index(values):\n",
    "    for i, d in enumerate(sorted(values, reverse=True)):\n",
    "        if i + 1 >= d:\n",
    "            #return max(d, 10e-5)\n",
    "            return i + 1\n",
    "    return i + 1"
   ]
  },
  {
   "cell_type": "code",
   "execution_count": 95,
   "metadata": {},
   "outputs": [
    {
     "data": {
      "image/png": "[encoded data removed]",
      "text/plain": [
       "<Figure size 576x216 with 1 Axes>"
      ]
     },
     "metadata": {
      "needs_background": "light"
     },
     "output_type": "display_data"
    }
   ],
   "source": [
    "fix, ax = matplotlib.pyplot.subplots()\n",
    "\n",
    "seaborn.boxenplot(\n",
    "    x='ecosystem',\n",
    "    y='source',\n",
    "    hue='ecosystem',\n",
    "    order=ECOSYSTEMS,\n",
    "    data=(\n",
    "        data\n",
    "        .groupby(['ecosystem', 'package'], as_index=False)\n",
    "        .agg({'source': x_index})\n",
    "    ),\n",
    "    dodge=False,\n",
    "    palette=COLORS,\n",
    "    ax=ax\n",
    ")\n",
    "\n",
    "ax.legend().remove()\n",
    "\n",
    "ax.set(\n",
    "    xlabel='',\n",
    "    ylabel='h-index',\n",
    "    ylim=(1, 8),\n",
    ")\n",
    "\n",
    "savefig(fig, 'index_h')"
   ]
  },
  {
   "cell_type": "code",
   "execution_count": 96,
   "metadata": {},
   "outputs": [
    {
     "data": {
      "text/html": [
       "<div>\n",
       "<style scoped>\n",
       "    .dataframe tbody tr th:only-of-type {\n",
       "        vertical-align: middle;\n",
       "    }\n",
       "\n",
       "    .dataframe tbody tr th {\n",
       "        vertical-align: top;\n",
       "    }\n",
       "\n",
       "    .dataframe thead th {\n",
       "        text-align: right;\n",
       "    }\n",
       "</style>\n",
       "<table border=\"1\" class=\"dataframe\">\n",
       "  <thead>\n",
       "    <tr style=\"text-align: right;\">\n",
       "      <th>source</th>\n",
       "      <th>count</th>\n",
       "      <th>mean</th>\n",
       "      <th>std</th>\n",
       "      <th>min</th>\n",
       "      <th>25%</th>\n",
       "      <th>50%</th>\n",
       "      <th>75%</th>\n",
       "      <th>max</th>\n",
       "    </tr>\n",
       "    <tr>\n",
       "      <th>ecosystem</th>\n",
       "      <th></th>\n",
       "      <th></th>\n",
       "      <th></th>\n",
       "      <th></th>\n",
       "      <th></th>\n",
       "      <th></th>\n",
       "      <th></th>\n",
       "      <th></th>\n",
       "    </tr>\n",
       "  </thead>\n",
       "  <tbody>\n",
       "    <tr>\n",
       "      <th>Cargo</th>\n",
       "      <td>184.0</td>\n",
       "      <td>2.201087</td>\n",
       "      <td>0.509794</td>\n",
       "      <td>2.0</td>\n",
       "      <td>2.0</td>\n",
       "      <td>2.0</td>\n",
       "      <td>2.0</td>\n",
       "      <td>5.0</td>\n",
       "    </tr>\n",
       "    <tr>\n",
       "      <th>NPM</th>\n",
       "      <td>9157.0</td>\n",
       "      <td>2.395435</td>\n",
       "      <td>0.824028</td>\n",
       "      <td>1.0</td>\n",
       "      <td>2.0</td>\n",
       "      <td>2.0</td>\n",
       "      <td>3.0</td>\n",
       "      <td>14.0</td>\n",
       "    </tr>\n",
       "    <tr>\n",
       "      <th>Packagist</th>\n",
       "      <td>1353.0</td>\n",
       "      <td>2.212860</td>\n",
       "      <td>0.541677</td>\n",
       "      <td>1.0</td>\n",
       "      <td>2.0</td>\n",
       "      <td>2.0</td>\n",
       "      <td>2.0</td>\n",
       "      <td>6.0</td>\n",
       "    </tr>\n",
       "    <tr>\n",
       "      <th>Rubygems</th>\n",
       "      <td>474.0</td>\n",
       "      <td>2.189873</td>\n",
       "      <td>0.452644</td>\n",
       "      <td>2.0</td>\n",
       "      <td>2.0</td>\n",
       "      <td>2.0</td>\n",
       "      <td>2.0</td>\n",
       "      <td>5.0</td>\n",
       "    </tr>\n",
       "  </tbody>\n",
       "</table>\n",
       "</div>"
      ],
      "text/plain": [
       "source      count      mean       std  min  25%  50%  75%   max\n",
       "ecosystem                                                      \n",
       "Cargo       184.0  2.201087  0.509794  2.0  2.0  2.0  2.0   5.0\n",
       "NPM        9157.0  2.395435  0.824028  1.0  2.0  2.0  3.0  14.0\n",
       "Packagist  1353.0  2.212860  0.541677  1.0  2.0  2.0  2.0   6.0\n",
       "Rubygems    474.0  2.189873  0.452644  2.0  2.0  2.0  2.0   5.0"
      ]
     },
     "execution_count": 96,
     "metadata": {},
     "output_type": "execute_result"
    }
   ],
   "source": [
    "(\n",
    "    data\n",
    "    .groupby(['ecosystem', 'package'], as_index=False)\n",
    "    .agg({'source': x_index})\n",
    "    .groupby('ecosystem').apply(lambda g: g.source.describe())\n",
    ")"
   ]
  },
  {
   "cell_type": "markdown",
   "metadata": {},
   "source": [
    "Is there any correlation with previously considered characteristics?"
   ]
  },
  {
   "cell_type": "code",
   "execution_count": 104,
   "metadata": {},
   "outputs": [
    {
     "data": {
      "image/png": "[encoded data removed]",
      "text/plain": [
       "<Figure size 576x216 with 2 Axes>"
      ]
     },
     "metadata": {
      "needs_background": "light"
     },
     "output_type": "display_data"
    }
   ],
   "source": [
    "fig, ax = matplotlib.pyplot.subplots()\n",
    "\n",
    "seaborn.heatmap(\n",
    "    data=(\n",
    "        data\n",
    "        .assign(used_major=lambda d: d['source'] > 0)\n",
    "        .groupby(['ecosystem', 'package'], as_index=False)\n",
    "        .agg(\n",
    "            h_index=('source', x_index),\n",
    "            gini=('source', lambda s: gini(s.to_numpy(dtype='float64'))),\n",
    "            dependents=('source', 'sum'),\n",
    "            major=('major', 'count'),\n",
    "            used_major=('used_major', 'sum')\n",
    "        )\n",
    "        .eval('ratio_major = used_major / major')\n",
    "        [['h_index', 'gini', 'dependents', 'major', 'used_major', 'ratio_major']]\n",
    "        .rename(columns={\n",
    "            'gini': 'gini',\n",
    "            'dependents': 'dependents',\n",
    "            'h_index': 'h-index',\n",
    "            'major': 'avail. M.',\n",
    "            'used_major': 'req. M.',\n",
    "            'ratio_major': 'req./avail.'\n",
    "        })\n",
    "        .corr('spearman')\n",
    "    ),\n",
    "    vmin=-1,\n",
    "    vmax=1,\n",
    "    cmap='RdYlGn',\n",
    "    annot=True,\n",
    "    ax=ax,\n",
    ")\n",
    "\n",
    "savefig(fig, 'index_h_corr')"
   ]
  },
  {
   "cell_type": "markdown",
   "metadata": {},
   "source": [
    "# On the prevalence of backported updates"
   ]
  },
  {
   "cell_type": "markdown",
   "metadata": {},
   "source": [
    "## Evolution of the number of packages with backports"
   ]
  },
  {
   "cell_type": "code",
   "execution_count": 124,
   "metadata": {},
   "outputs": [],
   "source": [
    "data = pandas.concat([\n",
    "    df_required[ecosystem]\n",
    "    # First release\n",
    "    [lambda d: d['rank'] == 1]\n",
    "    [['date']]\n",
    "    .assign(created=1)\n",
    "    # First backport, if any\n",
    "    .merge(\n",
    "        df_required[ecosystem]\n",
    "        [lambda d: d['backported']]\n",
    "        .drop_duplicates('package', keep='first')\n",
    "        [['date']]\n",
    "        .assign(backported=1),\n",
    "        how='outer',\n",
    "        on='date'\n",
    "    )\n",
    "    .fillna(0)\n",
    "    .set_index('date')\n",
    "    .sort_index()\n",
    "    .cumsum()\n",
    "    .assign(prop=lambda d: d['backported'] / d['created'])\n",
    "    .assign(ecosystem=ecosystem)\n",
    "    for ecosystem in ECOSYSTEMS],\n",
    ")"
   ]
  },
  {
   "cell_type": "code",
   "execution_count": 136,
   "metadata": {},
   "outputs": [
    {
     "data": {
      "image/png": "[encoded data removed]",
      "text/plain": [
       "<Figure size 576x216 with 1 Axes>"
      ]
     },
     "metadata": {
      "needs_background": "light"
     },
     "output_type": "display_data"
    }
   ],
   "source": [
    "fig, ax = matplotlib.pyplot.subplots()\n",
    "\n",
    "seaborn.lineplot(\n",
    "    x='date',\n",
    "    y='prop',\n",
    "    hue='ecosystem',\n",
    "    data=data,\n",
    "    palette=COLORS,\n",
    "    hue_order=ECOSYSTEMS,\n",
    "    ci=None,  # speed-up\n",
    "    ax=ax\n",
    ")\n",
    "\n",
    "ax.legend(title=None, ncol=2)\n",
    "\n",
    "ax.set(\n",
    "    xlabel='',\n",
    "    xlim=DATE_RANGE,\n",
    "    ylabel='proportion of packages',\n",
    "    ylim=(0, 1),\n",
    ")\n",
    "\n",
    "savefig(fig, 'prev_prop_packages')"
   ]
  },
  {
   "cell_type": "code",
   "execution_count": 138,
   "metadata": {},
   "outputs": [
    {
     "data": {
      "text/html": [
       "<div>\n",
       "<style scoped>\n",
       "    .dataframe tbody tr th:only-of-type {\n",
       "        vertical-align: middle;\n",
       "    }\n",
       "\n",
       "    .dataframe tbody tr th {\n",
       "        vertical-align: top;\n",
       "    }\n",
       "\n",
       "    .dataframe thead th {\n",
       "        text-align: right;\n",
       "    }\n",
       "</style>\n",
       "<table border=\"1\" class=\"dataframe\">\n",
       "  <thead>\n",
       "    <tr style=\"text-align: right;\">\n",
       "      <th></th>\n",
       "      <th>created</th>\n",
       "      <th>backported</th>\n",
       "      <th>prop</th>\n",
       "    </tr>\n",
       "    <tr>\n",
       "      <th>ecosystem</th>\n",
       "      <th></th>\n",
       "      <th></th>\n",
       "      <th></th>\n",
       "    </tr>\n",
       "  </thead>\n",
       "  <tbody>\n",
       "    <tr>\n",
       "      <th>Cargo</th>\n",
       "      <td>1190.0</td>\n",
       "      <td>23.0</td>\n",
       "      <td>0.019328</td>\n",
       "    </tr>\n",
       "    <tr>\n",
       "      <th>NPM</th>\n",
       "      <td>15646.0</td>\n",
       "      <td>1228.0</td>\n",
       "      <td>0.078487</td>\n",
       "    </tr>\n",
       "    <tr>\n",
       "      <th>Packagist</th>\n",
       "      <td>2335.0</td>\n",
       "      <td>518.0</td>\n",
       "      <td>0.221842</td>\n",
       "    </tr>\n",
       "    <tr>\n",
       "      <th>Rubygems</th>\n",
       "      <td>715.0</td>\n",
       "      <td>122.0</td>\n",
       "      <td>0.170629</td>\n",
       "    </tr>\n",
       "  </tbody>\n",
       "</table>\n",
       "</div>"
      ],
      "text/plain": [
       "           created  backported      prop\n",
       "ecosystem                               \n",
       "Cargo       1190.0        23.0  0.019328\n",
       "NPM        15646.0      1228.0  0.078487\n",
       "Packagist   2335.0       518.0  0.221842\n",
       "Rubygems     715.0       122.0  0.170629"
      ]
     },
     "execution_count": 138,
     "metadata": {},
     "output_type": "execute_result"
    }
   ],
   "source": [
    "(\n",
    "    data\n",
    "    .groupby('ecosystem')\n",
    "    .last()\n",
    ")"
   ]
  },
  {
   "cell_type": "markdown",
   "metadata": {},
   "source": [
    "## Proportion of backported releases for packages with backports"
   ]
  },
  {
   "cell_type": "code",
   "execution_count": 146,
   "metadata": {},
   "outputs": [],
   "source": [
    "data = pandas.concat([\n",
    "    df_required[ecosystem]\n",
    "    .groupby('package', as_index=False, sort=False)\n",
    "    .agg({\n",
    "        'version': 'count',\n",
    "        'backported': 'sum',\n",
    "    })\n",
    "    # Remove packages with no backport\n",
    "    [lambda d: d['backported'] > 0]\n",
    "    .assign(prop=lambda d: d['backported'] / d['version'])\n",
    "    .assign(ecosystem=ecosystem)\n",
    "    for ecosystem in ECOSYSTEMS]\n",
    ")"
   ]
  },
  {
   "cell_type": "code",
   "execution_count": 151,
   "metadata": {},
   "outputs": [
    {
     "data": {
      "image/png": "[encoded data removed]",
      "text/plain": [
       "<Figure size 576x216 with 1 Axes>"
      ]
     },
     "metadata": {
      "needs_background": "light"
     },
     "output_type": "display_data"
    }
   ],
   "source": [
    "fig, ax = matplotlib.pyplot.subplots()\n",
    "\n",
    "seaborn.violinplot(\n",
    "    x='ecosystem',\n",
    "    y='prop',\n",
    "    hue='ecosystem',\n",
    "    dodge=False,\n",
    "    data=data,\n",
    "    order=ECOSYSTEMS,\n",
    "    hue_order=ECOSYSTEMS,\n",
    "    palette=COLORS,\n",
    "    ax=ax,\n",
    ")\n",
    "\n",
    "ax.legend().remove()\n",
    "\n",
    "ax.set(\n",
    "    xlabel='',\n",
    "    ylabel='proportion of backports',\n",
    "    ylim=(0, 1),\n",
    ")\n",
    "\n",
    "savefig(fig, 'prev_prop_releases')"
   ]
  },
  {
   "cell_type": "code",
   "execution_count": 149,
   "metadata": {},
   "outputs": [
    {
     "data": {
      "text/html": [
       "<div>\n",
       "<style scoped>\n",
       "    .dataframe tbody tr th:only-of-type {\n",
       "        vertical-align: middle;\n",
       "    }\n",
       "\n",
       "    .dataframe tbody tr th {\n",
       "        vertical-align: top;\n",
       "    }\n",
       "\n",
       "    .dataframe thead th {\n",
       "        text-align: right;\n",
       "    }\n",
       "</style>\n",
       "<table border=\"1\" class=\"dataframe\">\n",
       "  <thead>\n",
       "    <tr style=\"text-align: right;\">\n",
       "      <th>prop</th>\n",
       "      <th>count</th>\n",
       "      <th>mean</th>\n",
       "      <th>std</th>\n",
       "      <th>min</th>\n",
       "      <th>25%</th>\n",
       "      <th>50%</th>\n",
       "      <th>75%</th>\n",
       "      <th>max</th>\n",
       "    </tr>\n",
       "    <tr>\n",
       "      <th>ecosystem</th>\n",
       "      <th></th>\n",
       "      <th></th>\n",
       "      <th></th>\n",
       "      <th></th>\n",
       "      <th></th>\n",
       "      <th></th>\n",
       "      <th></th>\n",
       "      <th></th>\n",
       "    </tr>\n",
       "  </thead>\n",
       "  <tbody>\n",
       "    <tr>\n",
       "      <th>Cargo</th>\n",
       "      <td>23.0</td>\n",
       "      <td>0.117966</td>\n",
       "      <td>0.224624</td>\n",
       "      <td>0.004878</td>\n",
       "      <td>0.019189</td>\n",
       "      <td>0.044944</td>\n",
       "      <td>0.097222</td>\n",
       "      <td>0.983333</td>\n",
       "    </tr>\n",
       "    <tr>\n",
       "      <th>NPM</th>\n",
       "      <td>1226.0</td>\n",
       "      <td>0.120338</td>\n",
       "      <td>0.187833</td>\n",
       "      <td>0.000663</td>\n",
       "      <td>0.023810</td>\n",
       "      <td>0.051392</td>\n",
       "      <td>0.121981</td>\n",
       "      <td>0.990909</td>\n",
       "    </tr>\n",
       "    <tr>\n",
       "      <th>Packagist</th>\n",
       "      <td>518.0</td>\n",
       "      <td>0.166276</td>\n",
       "      <td>0.169280</td>\n",
       "      <td>0.003155</td>\n",
       "      <td>0.035877</td>\n",
       "      <td>0.090909</td>\n",
       "      <td>0.250000</td>\n",
       "      <td>0.866667</td>\n",
       "    </tr>\n",
       "    <tr>\n",
       "      <th>Rubygems</th>\n",
       "      <td>122.0</td>\n",
       "      <td>0.106820</td>\n",
       "      <td>0.123422</td>\n",
       "      <td>0.006024</td>\n",
       "      <td>0.023339</td>\n",
       "      <td>0.057190</td>\n",
       "      <td>0.132509</td>\n",
       "      <td>0.586592</td>\n",
       "    </tr>\n",
       "  </tbody>\n",
       "</table>\n",
       "</div>"
      ],
      "text/plain": [
       "prop        count      mean       std       min       25%       50%       75%  \\\n",
       "ecosystem                                                                       \n",
       "Cargo        23.0  0.117966  0.224624  0.004878  0.019189  0.044944  0.097222   \n",
       "NPM        1226.0  0.120338  0.187833  0.000663  0.023810  0.051392  0.121981   \n",
       "Packagist   518.0  0.166276  0.169280  0.003155  0.035877  0.090909  0.250000   \n",
       "Rubygems    122.0  0.106820  0.123422  0.006024  0.023339  0.057190  0.132509   \n",
       "\n",
       "prop            max  \n",
       "ecosystem            \n",
       "Cargo      0.983333  \n",
       "NPM        0.990909  \n",
       "Packagist  0.866667  \n",
       "Rubygems   0.586592  "
      ]
     },
     "execution_count": 149,
     "metadata": {},
     "output_type": "execute_result"
    }
   ],
   "source": [
    "(\n",
    "    data\n",
    "    .groupby('ecosystem')\n",
    "    .apply(lambda g: g['prop'].describe())\n",
    ")"
   ]
  },
  {
   "cell_type": "markdown",
   "metadata": {},
   "source": [
    "## Relation between backports and dependents"
   ]
  },
  {
   "cell_type": "markdown",
   "metadata": {},
   "source": [
    "We see whether there is relation between the presence of backports and the number of dependent packages."
   ]
  },
  {
   "cell_type": "code",
   "execution_count": 193,
   "metadata": {},
   "outputs": [],
   "source": [
    "data = pandas.concat([\n",
    "    df_required[ecosystem]\n",
    "    # Get dependents for each release\n",
    "    .merge(\n",
    "        df_dependents[ecosystem]\n",
    "        [['source', 'target', 'selected']],\n",
    "        how='left',\n",
    "        left_on=['package', 'rank'],\n",
    "        right_on=['target', 'selected']\n",
    "    )\n",
    "    # Group per major release, and count dependents\n",
    "    .groupby(['package', 'major'], as_index=False)\n",
    "    .agg({'source': 'count', 'backported': 'sum'})\n",
    "    # For each package, get nb major, used major, dependents and backports\n",
    "    .assign(used_major=lambda d: d['source'] > 0)\n",
    "    .groupby('package', as_index=False, sort=False)\n",
    "    .agg(\n",
    "        major=('major', 'count'),\n",
    "        used_major=('used_major', 'sum'),\n",
    "        backports=('backported', 'sum')\n",
    "    )\n",
    "    .merge(\n",
    "        df_dependents[ecosystem]\n",
    "        .groupby('target', sort=False, as_index=False)\n",
    "        .agg(dependents=('source', 'count')),\n",
    "        how='left',\n",
    "        left_on='package',\n",
    "        right_on='target',\n",
    "    )\n",
    "    .assign(ecosystem=ecosystem)\n",
    "    for ecosystem in ECOSYSTEMS]\n",
    ")"
   ]
  },
  {
   "cell_type": "code",
   "execution_count": 194,
   "metadata": {},
   "outputs": [
    {
     "data": {
      "image/png": "[encoded data removed]",
      "text/plain": [
       "<Figure size 432x288 with 1 Axes>"
      ]
     },
     "metadata": {
      "needs_background": "light"
     },
     "output_type": "display_data"
    }
   ],
   "source": [
    "fig, ax = matplotlib.pyplot.subplots()\n",
    "\n",
    "seaborn.boxenplot(\n",
    "    x='ecosystem',\n",
    "    y='dependents',\n",
    "    hue='backports',\n",
    "    data=(\n",
    "        data\n",
    "        .assign(backports=lambda d: d['backports'] > 0)\n",
    "        .replace({'backports': {True: 'with backports', False: 'without backports'}})\n",
    "    ),\n",
    "    order=ECOSYSTEMS,\n",
    "    palette=PAL_REL,\n",
    "    ax=ax,\n",
    ")\n",
    "\n",
    "ax.legend(title=None, ncol=2)\n",
    "\n",
    "ax.set(\n",
    "    xlabel='',\n",
    "    ylabel='number of dependents',\n",
    "    yscale='symlog',\n",
    "    ylim=(1, 10e4),\n",
    ")\n",
    "\n",
    "savefig(fig, 'prev_backport_dependents')"
   ]
  },
  {
   "cell_type": "code",
   "execution_count": 195,
   "metadata": {},
   "outputs": [
    {
     "data": {
      "text/html": [
       "<div>\n",
       "<style scoped>\n",
       "    .dataframe tbody tr th:only-of-type {\n",
       "        vertical-align: middle;\n",
       "    }\n",
       "\n",
       "    .dataframe tbody tr th {\n",
       "        vertical-align: top;\n",
       "    }\n",
       "\n",
       "    .dataframe thead tr th {\n",
       "        text-align: left;\n",
       "    }\n",
       "\n",
       "    .dataframe thead tr:last-of-type th {\n",
       "        text-align: right;\n",
       "    }\n",
       "</style>\n",
       "<table border=\"1\" class=\"dataframe\">\n",
       "  <thead>\n",
       "    <tr>\n",
       "      <th></th>\n",
       "      <th></th>\n",
       "      <th colspan=\"8\" halign=\"left\">dependents</th>\n",
       "    </tr>\n",
       "    <tr>\n",
       "      <th></th>\n",
       "      <th></th>\n",
       "      <th>count</th>\n",
       "      <th>mean</th>\n",
       "      <th>std</th>\n",
       "      <th>min</th>\n",
       "      <th>25%</th>\n",
       "      <th>50%</th>\n",
       "      <th>75%</th>\n",
       "      <th>max</th>\n",
       "    </tr>\n",
       "    <tr>\n",
       "      <th>ecosystem</th>\n",
       "      <th>backports</th>\n",
       "      <th></th>\n",
       "      <th></th>\n",
       "      <th></th>\n",
       "      <th></th>\n",
       "      <th></th>\n",
       "      <th></th>\n",
       "      <th></th>\n",
       "      <th></th>\n",
       "    </tr>\n",
       "  </thead>\n",
       "  <tbody>\n",
       "    <tr>\n",
       "      <th rowspan=\"2\" valign=\"top\">Cargo</th>\n",
       "      <th>with backports</th>\n",
       "      <td>23.0</td>\n",
       "      <td>351.086957</td>\n",
       "      <td>838.074520</td>\n",
       "      <td>5.0</td>\n",
       "      <td>7.5</td>\n",
       "      <td>21.0</td>\n",
       "      <td>146.00</td>\n",
       "      <td>3647.0</td>\n",
       "    </tr>\n",
       "    <tr>\n",
       "      <th>without backports</th>\n",
       "      <td>1167.0</td>\n",
       "      <td>44.409597</td>\n",
       "      <td>157.456210</td>\n",
       "      <td>5.0</td>\n",
       "      <td>6.0</td>\n",
       "      <td>10.0</td>\n",
       "      <td>24.00</td>\n",
       "      <td>2466.0</td>\n",
       "    </tr>\n",
       "    <tr>\n",
       "      <th rowspan=\"2\" valign=\"top\">NPM</th>\n",
       "      <th>with backports</th>\n",
       "      <td>1226.0</td>\n",
       "      <td>254.790375</td>\n",
       "      <td>1259.544375</td>\n",
       "      <td>5.0</td>\n",
       "      <td>8.0</td>\n",
       "      <td>18.0</td>\n",
       "      <td>65.50</td>\n",
       "      <td>26163.0</td>\n",
       "    </tr>\n",
       "    <tr>\n",
       "      <th>without backports</th>\n",
       "      <td>14418.0</td>\n",
       "      <td>52.501734</td>\n",
       "      <td>381.568644</td>\n",
       "      <td>5.0</td>\n",
       "      <td>6.0</td>\n",
       "      <td>10.0</td>\n",
       "      <td>22.00</td>\n",
       "      <td>18354.0</td>\n",
       "    </tr>\n",
       "    <tr>\n",
       "      <th rowspan=\"2\" valign=\"top\">Packagist</th>\n",
       "      <th>with backports</th>\n",
       "      <td>518.0</td>\n",
       "      <td>100.972973</td>\n",
       "      <td>352.618982</td>\n",
       "      <td>5.0</td>\n",
       "      <td>8.0</td>\n",
       "      <td>15.0</td>\n",
       "      <td>48.00</td>\n",
       "      <td>4844.0</td>\n",
       "    </tr>\n",
       "    <tr>\n",
       "      <th>without backports</th>\n",
       "      <td>1817.0</td>\n",
       "      <td>22.430930</td>\n",
       "      <td>73.284408</td>\n",
       "      <td>5.0</td>\n",
       "      <td>6.0</td>\n",
       "      <td>9.0</td>\n",
       "      <td>17.00</td>\n",
       "      <td>1648.0</td>\n",
       "    </tr>\n",
       "    <tr>\n",
       "      <th rowspan=\"2\" valign=\"top\">Rubygems</th>\n",
       "      <th>with backports</th>\n",
       "      <td>122.0</td>\n",
       "      <td>79.229508</td>\n",
       "      <td>191.011046</td>\n",
       "      <td>5.0</td>\n",
       "      <td>8.0</td>\n",
       "      <td>19.5</td>\n",
       "      <td>54.75</td>\n",
       "      <td>1469.0</td>\n",
       "    </tr>\n",
       "    <tr>\n",
       "      <th>without backports</th>\n",
       "      <td>593.0</td>\n",
       "      <td>24.156830</td>\n",
       "      <td>60.828270</td>\n",
       "      <td>5.0</td>\n",
       "      <td>7.0</td>\n",
       "      <td>10.0</td>\n",
       "      <td>19.00</td>\n",
       "      <td>756.0</td>\n",
       "    </tr>\n",
       "  </tbody>\n",
       "</table>\n",
       "</div>"
      ],
      "text/plain": [
       "                            dependents                                     \\\n",
       "                                 count        mean          std  min  25%   \n",
       "ecosystem backports                                                         \n",
       "Cargo     with backports          23.0  351.086957   838.074520  5.0  7.5   \n",
       "          without backports     1167.0   44.409597   157.456210  5.0  6.0   \n",
       "NPM       with backports        1226.0  254.790375  1259.544375  5.0  8.0   \n",
       "          without backports    14418.0   52.501734   381.568644  5.0  6.0   \n",
       "Packagist with backports         518.0  100.972973   352.618982  5.0  8.0   \n",
       "          without backports     1817.0   22.430930    73.284408  5.0  6.0   \n",
       "Rubygems  with backports         122.0   79.229508   191.011046  5.0  8.0   \n",
       "          without backports      593.0   24.156830    60.828270  5.0  7.0   \n",
       "\n",
       "                                                    \n",
       "                              50%     75%      max  \n",
       "ecosystem backports                                 \n",
       "Cargo     with backports     21.0  146.00   3647.0  \n",
       "          without backports  10.0   24.00   2466.0  \n",
       "NPM       with backports     18.0   65.50  26163.0  \n",
       "          without backports  10.0   22.00  18354.0  \n",
       "Packagist with backports     15.0   48.00   4844.0  \n",
       "          without backports   9.0   17.00   1648.0  \n",
       "Rubygems  with backports     19.5   54.75   1469.0  \n",
       "          without backports  10.0   19.00    756.0  "
      ]
     },
     "execution_count": 195,
     "metadata": {},
     "output_type": "execute_result"
    }
   ],
   "source": [
    "(\n",
    "    data\n",
    "    .assign(backports=lambda d: d['backports'] > 0)\n",
    "    .replace({'backports': {True: 'with backports', False: 'without backports'}})\n",
    "    .groupby(['ecosystem', 'backports'])\n",
    "    .apply(lambda g: g[['dependents']].describe())\n",
    "    .unstack()\n",
    ")"
   ]
  },
  {
   "cell_type": "markdown",
   "metadata": {},
   "source": [
    "Is there a statistical difference between these distributions?"
   ]
  },
  {
   "cell_type": "code",
   "execution_count": 196,
   "metadata": {},
   "outputs": [
    {
     "name": "stdout",
     "output_type": "stream",
     "text": [
      "Cargo      with vs. without: p=0.01159; d=0.275 (small)\n",
      "NPM        with vs. without: p=0.00000; d=0.281 (small)\n",
      "Packagist  with vs. without: p=0.00000; d=0.313 (small)\n",
      "Rubygems   with vs. without: p=0.00000; d=0.279 (small)\n"
     ]
    }
   ],
   "source": [
    "for ecosystem in ECOSYSTEMS:\n",
    "    A = data[lambda d: (d['ecosystem'] == ecosystem) & (d['backports'] > 0)].dependents\n",
    "    B = data[lambda d: (d['ecosystem'] == ecosystem) & (d['backports'] == 0)].dependents\n",
    "    m = mannwhitneyu(A, B)\n",
    "    d, dl = cliffsDelta(A, B)\n",
    "    \n",
    "    print('{:10} with vs. without: p={:.5f}; d={:.3f} ({})'.format(ecosystem, m.pvalue, d, dl))"
   ]
  },
  {
   "cell_type": "markdown",
   "metadata": {},
   "source": [
    "## Relation between backports and used major"
   ]
  },
  {
   "cell_type": "markdown",
   "metadata": {},
   "source": [
    "We see whether there is a relation between the presence of backports and the number of major releases being used."
   ]
  },
  {
   "cell_type": "code",
   "execution_count": 217,
   "metadata": {},
   "outputs": [
    {
     "data": {
      "image/png": "[encoded data removed]",
      "text/plain": [
       "<Figure size 576x216 with 1 Axes>"
      ]
     },
     "metadata": {
      "needs_background": "light"
     },
     "output_type": "display_data"
    }
   ],
   "source": [
    "fig, ax = matplotlib.pyplot.subplots()\n",
    "\n",
    "seaborn.boxenplot(\n",
    "    x='ecosystem',\n",
    "    y='used_major',\n",
    "    hue='backports',\n",
    "    data=(\n",
    "        data\n",
    "        .assign(backports=lambda d: d['backports'] > 0)\n",
    "        .replace({'backports': {True: 'with backports', False: 'without backports'}})\n",
    "    ),\n",
    "    order=ECOSYSTEMS,\n",
    "    palette=PAL_REL,\n",
    "    ax=ax,\n",
    ")\n",
    "\n",
    "ax.legend(title=None, ncol=2)\n",
    "\n",
    "ax.set(\n",
    "    xlabel='',\n",
    "    ylabel='number of required major',\n",
    "    ylim=(1, 10),\n",
    ")\n",
    "\n",
    "savefig(fig, 'prev_backport_used_major')"
   ]
  },
  {
   "cell_type": "code",
   "execution_count": 200,
   "metadata": {},
   "outputs": [
    {
     "data": {
      "text/html": [
       "<div>\n",
       "<style scoped>\n",
       "    .dataframe tbody tr th:only-of-type {\n",
       "        vertical-align: middle;\n",
       "    }\n",
       "\n",
       "    .dataframe tbody tr th {\n",
       "        vertical-align: top;\n",
       "    }\n",
       "\n",
       "    .dataframe thead tr th {\n",
       "        text-align: left;\n",
       "    }\n",
       "\n",
       "    .dataframe thead tr:last-of-type th {\n",
       "        text-align: right;\n",
       "    }\n",
       "</style>\n",
       "<table border=\"1\" class=\"dataframe\">\n",
       "  <thead>\n",
       "    <tr>\n",
       "      <th></th>\n",
       "      <th></th>\n",
       "      <th colspan=\"8\" halign=\"left\">used_major</th>\n",
       "    </tr>\n",
       "    <tr>\n",
       "      <th></th>\n",
       "      <th></th>\n",
       "      <th>count</th>\n",
       "      <th>mean</th>\n",
       "      <th>std</th>\n",
       "      <th>min</th>\n",
       "      <th>25%</th>\n",
       "      <th>50%</th>\n",
       "      <th>75%</th>\n",
       "      <th>max</th>\n",
       "    </tr>\n",
       "    <tr>\n",
       "      <th>ecosystem</th>\n",
       "      <th>backports</th>\n",
       "      <th></th>\n",
       "      <th></th>\n",
       "      <th></th>\n",
       "      <th></th>\n",
       "      <th></th>\n",
       "      <th></th>\n",
       "      <th></th>\n",
       "      <th></th>\n",
       "    </tr>\n",
       "  </thead>\n",
       "  <tbody>\n",
       "    <tr>\n",
       "      <th rowspan=\"2\" valign=\"top\">Cargo</th>\n",
       "      <th>with backports</th>\n",
       "      <td>23.0</td>\n",
       "      <td>2.521739</td>\n",
       "      <td>1.647852</td>\n",
       "      <td>1.0</td>\n",
       "      <td>2.0</td>\n",
       "      <td>2.0</td>\n",
       "      <td>3.0</td>\n",
       "      <td>8.0</td>\n",
       "    </tr>\n",
       "    <tr>\n",
       "      <th>without backports</th>\n",
       "      <td>1167.0</td>\n",
       "      <td>1.093402</td>\n",
       "      <td>0.393798</td>\n",
       "      <td>0.0</td>\n",
       "      <td>1.0</td>\n",
       "      <td>1.0</td>\n",
       "      <td>1.0</td>\n",
       "      <td>5.0</td>\n",
       "    </tr>\n",
       "    <tr>\n",
       "      <th rowspan=\"2\" valign=\"top\">NPM</th>\n",
       "      <th>with backports</th>\n",
       "      <td>1226.0</td>\n",
       "      <td>2.434747</td>\n",
       "      <td>1.591631</td>\n",
       "      <td>0.0</td>\n",
       "      <td>1.0</td>\n",
       "      <td>2.0</td>\n",
       "      <td>3.0</td>\n",
       "      <td>15.0</td>\n",
       "    </tr>\n",
       "    <tr>\n",
       "      <th>without backports</th>\n",
       "      <td>14418.0</td>\n",
       "      <td>1.513178</td>\n",
       "      <td>1.029360</td>\n",
       "      <td>0.0</td>\n",
       "      <td>1.0</td>\n",
       "      <td>1.0</td>\n",
       "      <td>2.0</td>\n",
       "      <td>30.0</td>\n",
       "    </tr>\n",
       "    <tr>\n",
       "      <th rowspan=\"2\" valign=\"top\">Packagist</th>\n",
       "      <th>with backports</th>\n",
       "      <td>518.0</td>\n",
       "      <td>2.098456</td>\n",
       "      <td>0.969535</td>\n",
       "      <td>0.0</td>\n",
       "      <td>1.0</td>\n",
       "      <td>2.0</td>\n",
       "      <td>3.0</td>\n",
       "      <td>7.0</td>\n",
       "    </tr>\n",
       "    <tr>\n",
       "      <th>without backports</th>\n",
       "      <td>1817.0</td>\n",
       "      <td>1.186021</td>\n",
       "      <td>0.551891</td>\n",
       "      <td>0.0</td>\n",
       "      <td>1.0</td>\n",
       "      <td>1.0</td>\n",
       "      <td>1.0</td>\n",
       "      <td>6.0</td>\n",
       "    </tr>\n",
       "    <tr>\n",
       "      <th rowspan=\"2\" valign=\"top\">Rubygems</th>\n",
       "      <th>with backports</th>\n",
       "      <td>122.0</td>\n",
       "      <td>2.032787</td>\n",
       "      <td>1.043947</td>\n",
       "      <td>1.0</td>\n",
       "      <td>1.0</td>\n",
       "      <td>2.0</td>\n",
       "      <td>3.0</td>\n",
       "      <td>5.0</td>\n",
       "    </tr>\n",
       "    <tr>\n",
       "      <th>without backports</th>\n",
       "      <td>593.0</td>\n",
       "      <td>1.317032</td>\n",
       "      <td>0.587594</td>\n",
       "      <td>0.0</td>\n",
       "      <td>1.0</td>\n",
       "      <td>1.0</td>\n",
       "      <td>2.0</td>\n",
       "      <td>4.0</td>\n",
       "    </tr>\n",
       "  </tbody>\n",
       "</table>\n",
       "</div>"
      ],
      "text/plain": [
       "                            used_major                                     \\\n",
       "                                 count      mean       std  min  25%  50%   \n",
       "ecosystem backports                                                         \n",
       "Cargo     with backports          23.0  2.521739  1.647852  1.0  2.0  2.0   \n",
       "          without backports     1167.0  1.093402  0.393798  0.0  1.0  1.0   \n",
       "NPM       with backports        1226.0  2.434747  1.591631  0.0  1.0  2.0   \n",
       "          without backports    14418.0  1.513178  1.029360  0.0  1.0  1.0   \n",
       "Packagist with backports         518.0  2.098456  0.969535  0.0  1.0  2.0   \n",
       "          without backports     1817.0  1.186021  0.551891  0.0  1.0  1.0   \n",
       "Rubygems  with backports         122.0  2.032787  1.043947  1.0  1.0  2.0   \n",
       "          without backports      593.0  1.317032  0.587594  0.0  1.0  1.0   \n",
       "\n",
       "                                        \n",
       "                             75%   max  \n",
       "ecosystem backports                     \n",
       "Cargo     with backports     3.0   8.0  \n",
       "          without backports  1.0   5.0  \n",
       "NPM       with backports     3.0  15.0  \n",
       "          without backports  2.0  30.0  \n",
       "Packagist with backports     3.0   7.0  \n",
       "          without backports  1.0   6.0  \n",
       "Rubygems  with backports     3.0   5.0  \n",
       "          without backports  2.0   4.0  "
      ]
     },
     "execution_count": 200,
     "metadata": {},
     "output_type": "execute_result"
    }
   ],
   "source": [
    "(\n",
    "    data\n",
    "    .assign(backports=lambda d: d['backports'] > 0)\n",
    "    .replace({'backports': {True: 'with backports', False: 'without backports'}})\n",
    "    .groupby(['ecosystem', 'backports'])\n",
    "    .apply(lambda g: g[['used_major']].describe())\n",
    "    .unstack()\n",
    ")"
   ]
  },
  {
   "cell_type": "code",
   "execution_count": 201,
   "metadata": {},
   "outputs": [
    {
     "name": "stdout",
     "output_type": "stream",
     "text": [
      "Cargo      with vs. without: p=0.00000; d=0.721 (large)\n",
      "NPM        with vs. without: p=0.00000; d=0.431 (medium)\n",
      "Packagist  with vs. without: p=0.00000; d=0.580 (large)\n",
      "Rubygems   with vs. without: p=0.00000; d=0.403 (medium)\n"
     ]
    }
   ],
   "source": [
    "for ecosystem in ECOSYSTEMS:\n",
    "    A = data[lambda d: (d['ecosystem'] == ecosystem) & (d['backports'] > 0)].used_major\n",
    "    B = data[lambda d: (d['ecosystem'] == ecosystem) & (d['backports'] == 0)].used_major\n",
    "    m = mannwhitneyu(A, B)\n",
    "    d, dl = cliffsDelta(A, B)\n",
    "    \n",
    "    print('{:10} with vs. without: p={:.5f}; d={:.3f} ({})'.format(ecosystem, m.pvalue, d, dl))"
   ]
  },
  {
   "cell_type": "markdown",
   "metadata": {},
   "source": [
    "Can we suspect any other correlation? "
   ]
  },
  {
   "cell_type": "code",
   "execution_count": 216,
   "metadata": {},
   "outputs": [
    {
     "data": {
      "image/png": "[encoded data removed]",
      "text/plain": [
       "<Figure size 576x216 with 2 Axes>"
      ]
     },
     "metadata": {
      "needs_background": "light"
     },
     "output_type": "display_data"
    }
   ],
   "source": [
    "fig, ax = matplotlib.pyplot.subplots()\n",
    "\n",
    "seaborn.heatmap(\n",
    "    data=(\n",
    "        data\n",
    "        [['backports', 'dependents', 'major', 'used_major']]\n",
    "        .eval('ratio_major = used_major / major')\n",
    "        .rename(columns={\n",
    "            'major': 'avail. M.',\n",
    "            'used_major': 'req. M.',\n",
    "            'ratio_major': 'req./avail.'\n",
    "        })\n",
    "        .corr('spearman')\n",
    "    ),\n",
    "    vmin=-1,\n",
    "    vmax=1,\n",
    "    cmap='RdYlGn',\n",
    "    annot=True,\n",
    "    ax=ax,\n",
    ")\n",
    "\n",
    "ax.set_xticklabels(ax.get_xticklabels(), rotation=0, ha='center')\n",
    "\n",
    "savefig(fig, 'prev_correlation')"
   ]
  },
  {
   "cell_type": "markdown",
   "metadata": {},
   "source": [
    "# How and when are releases backported?"
   ]
  },
  {
   "cell_type": "markdown",
   "metadata": {},
   "source": [
    "## Backport release type"
   ]
  },
  {
   "cell_type": "markdown",
   "metadata": {},
   "source": [
    "The type of a backport depends on the \"source\" release (the one being backported) and the \"target\" release (the one being the backport). We expect that most backports correspond to patches being backported as patches, but it could be the case that some minor release has its fixes being backported as patch as well."
   ]
  },
  {
   "cell_type": "code",
   "execution_count": null,
   "metadata": {},
   "outputs": [],
   "source": []
  },
  {
   "cell_type": "markdown",
   "metadata": {},
   "source": [
    "## Time and number of versions w.r.t. first `(N+1).x.x`"
   ]
  },
  {
   "cell_type": "markdown",
   "metadata": {},
   "source": [
    "We expect that most backports are \"quickly\" released when a new major is available, in order to allow security or stability fixes to be available for dependents during their transition to the new major. "
   ]
  },
  {
   "cell_type": "code",
   "execution_count": null,
   "metadata": {},
   "outputs": [],
   "source": []
  },
  {
   "cell_type": "markdown",
   "metadata": {},
   "source": [
    "## Time and number of versions w.r.t. first `(N).x.x`"
   ]
  },
  {
   "cell_type": "markdown",
   "metadata": {},
   "source": [
    "Here we merely look at how long major versions are \"supported\". This aims to confirm that major releases having backports have more a \"long-term support\" than major releases without backports."
   ]
  },
  {
   "cell_type": "code",
   "execution_count": null,
   "metadata": {},
   "outputs": [],
   "source": []
  },
  {
   "cell_type": "markdown",
   "metadata": {},
   "source": [
    "## Time and number of versions w.r.t. last (N).x.x"
   ]
  },
  {
   "cell_type": "markdown",
   "metadata": {},
   "source": [
    "Same idea, but this time relatively to the latest (non-backported) release in the current branch."
   ]
  },
  {
   "cell_type": "code",
   "execution_count": null,
   "metadata": {},
   "outputs": [],
   "source": []
  }
 ],
 "metadata": {
  "kernelspec": {
   "display_name": "Python 3",
   "language": "python",
   "name": "python3"
  },
  "language_info": {
   "codemirror_mode": {
    "name": "ipython",
    "version": 3
   },
   "file_extension": ".py",
   "mimetype": "text/x-python",
   "name": "python",
   "nbconvert_exporter": "python",
   "pygments_lexer": "ipython3",
   "version": "3.6.8"
  }
 },
 "nbformat": 4,
 "nbformat_minor": 4
}
