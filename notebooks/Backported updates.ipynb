{
 "cells": [
  {
   "cell_type": "markdown",
   "metadata": {},
   "source": [
    "# On backported updates"
   ]
  },
  {
   "cell_type": "code",
   "execution_count": 51,
   "metadata": {},
   "outputs": [],
   "source": [
    "import pandas\n",
    "import numpy as np\n",
    "import matplotlib\n",
    "import seaborn\n",
    "\n",
    "%matplotlib inline"
   ]
  },
  {
   "cell_type": "code",
   "execution_count": 52,
   "metadata": {},
   "outputs": [],
   "source": [
    "FIG_SIZE = (8, 3)\n",
    "FIG_SIZE_WIDE = (8, 2.5)\n",
    "\n",
    "ECOSYSTEMS = ['Cargo', 'NPM', 'Packagist', 'Rubygems']\n",
    "DATE_RANGE = pandas.to_datetime('2015-01-01'), pandas.to_datetime('2020-01-01')\n",
    "CENSOR_DATE = pandas.to_datetime('2020-01-12')\n",
    "\n",
    "PALETTE = seaborn.color_palette()\n",
    "PAL_REL = np.take(seaborn.color_palette('muted'), [3, 8, 2], axis=0)\n",
    "COLORS = {e: PALETTE[i] for i, e in enumerate(ECOSYSTEMS)}\n",
    "\n",
    "matplotlib.rcParams['figure.figsize'] = FIG_SIZE\n",
    "matplotlib.rcParams['legend.framealpha'] = 1\n",
    "matplotlib.rcParams['text.latex.preamble'] = [r'\\usepackage{amsmath}']\n",
    "\n",
    "SAVEFIG = False\n",
    "\n",
    "def _savefig(fig, name):\n",
    "    import os\n",
    "    fig.savefig(\n",
    "        os.path.join('..', 'figures', '{}.pdf'.format(name)),\n",
    "        bbox_inches='tight'\n",
    "    )\n",
    "    \n",
    "savefig = _savefig if SAVEFIG else lambda x, y: None"
   ]
  },
  {
   "cell_type": "markdown",
   "metadata": {},
   "source": [
    "# Datasets"
   ]
  },
  {
   "cell_type": "markdown",
   "metadata": {},
   "source": [
    "## Load data"
   ]
  },
  {
   "cell_type": "code",
   "execution_count": 53,
   "metadata": {},
   "outputs": [
    {
     "name": "stdout",
     "output_type": "stream",
     "text": [
      "Loading Cargo\n",
      ".. required packages\n",
      ".. dependent packages\n",
      "Loading NPM\n",
      ".. required packages\n",
      ".. dependent packages\n",
      "Loading Packagist\n",
      ".. required packages\n",
      ".. dependent packages\n",
      "Loading Rubygems\n",
      ".. required packages\n",
      ".. dependent packages\n",
      "Done!\n"
     ]
    }
   ],
   "source": [
    "df_required = dict()\n",
    "df_dependents = dict()\n",
    "\n",
    "for ecosystem in ECOSYSTEMS:\n",
    "    print('Loading', ecosystem)\n",
    "    print('.. required packages')\n",
    "    df_required[ecosystem] = (\n",
    "        pandas.read_csv(\n",
    "            '../data/{}-required.csv.gz'.format(ecosystem),\n",
    "            parse_dates=['date'],\n",
    "            infer_datetime_format=True,\n",
    "        )\n",
    "    )\n",
    "    \n",
    "    print('.. dependent packages')\n",
    "    df_dependents[ecosystem] = (\n",
    "        pandas.read_csv(\n",
    "            '../data/{}-dependents.csv.gz'.format(ecosystem),\n",
    "        )\n",
    "    )\n",
    "    \n",
    "print('Done!')"
   ]
  },
  {
   "cell_type": "markdown",
   "metadata": {},
   "source": [
    "## Data overview"
   ]
  },
  {
   "cell_type": "code",
   "execution_count": 55,
   "metadata": {},
   "outputs": [
    {
     "data": {
      "text/html": [
       "<div>\n",
       "<style scoped>\n",
       "    .dataframe tbody tr th:only-of-type {\n",
       "        vertical-align: middle;\n",
       "    }\n",
       "\n",
       "    .dataframe tbody tr th {\n",
       "        vertical-align: top;\n",
       "    }\n",
       "\n",
       "    .dataframe thead th {\n",
       "        text-align: right;\n",
       "    }\n",
       "</style>\n",
       "<table border=\"1\" class=\"dataframe\">\n",
       "  <thead>\n",
       "    <tr style=\"text-align: right;\">\n",
       "      <th></th>\n",
       "      <th>Cargo</th>\n",
       "      <th>NPM</th>\n",
       "      <th>Packagist</th>\n",
       "      <th>Rubygems</th>\n",
       "    </tr>\n",
       "  </thead>\n",
       "  <tbody>\n",
       "    <tr>\n",
       "      <th>required</th>\n",
       "      <td>1190</td>\n",
       "      <td>15644</td>\n",
       "      <td>2335</td>\n",
       "      <td>715</td>\n",
       "    </tr>\n",
       "    <tr>\n",
       "      <th>releases</th>\n",
       "      <td>26344</td>\n",
       "      <td>591812</td>\n",
       "      <td>107912</td>\n",
       "      <td>40219</td>\n",
       "    </tr>\n",
       "    <tr>\n",
       "      <th>dependents</th>\n",
       "      <td>13148</td>\n",
       "      <td>247408</td>\n",
       "      <td>36770</td>\n",
       "      <td>11237</td>\n",
       "    </tr>\n",
       "    <tr>\n",
       "      <th>dependencies</th>\n",
       "      <td>59901</td>\n",
       "      <td>1069343</td>\n",
       "      <td>93061</td>\n",
       "      <td>23991</td>\n",
       "    </tr>\n",
       "  </tbody>\n",
       "</table>\n",
       "</div>"
      ],
      "text/plain": [
       "              Cargo      NPM Packagist Rubygems\n",
       "required       1190    15644      2335      715\n",
       "releases      26344   591812    107912    40219\n",
       "dependents    13148   247408     36770    11237\n",
       "dependencies  59901  1069343     93061    23991"
      ]
     },
     "execution_count": 55,
     "metadata": {},
     "output_type": "execute_result"
    }
   ],
   "source": [
    "data = pandas.DataFrame(index=['required', 'releases', 'dependents', 'dependencies'], columns=ECOSYSTEMS)\n",
    "\n",
    "for ecosystem in ECOSYSTEMS:\n",
    "    data.at['required', ecosystem] = len(df_required[ecosystem].drop_duplicates('package'))\n",
    "    data.at['releases', ecosystem] = len(df_required[ecosystem])\n",
    "    data.at['dependents', ecosystem] = len(df_dependents[ecosystem].drop_duplicates('source'))\n",
    "    data.at['dependencies', ecosystem] = len(df_dependents[ecosystem])\n",
    "    \n",
    "data"
   ]
  },
  {
   "cell_type": "code",
   "execution_count": 56,
   "metadata": {},
   "outputs": [
    {
     "data": {
      "text/plain": [
       "required          19884.0\n",
       "releases         766287.0\n",
       "dependents       308563.0\n",
       "dependencies    1246296.0\n",
       "dtype: float64"
      ]
     },
     "execution_count": 56,
     "metadata": {},
     "output_type": "execute_result"
    }
   ],
   "source": [
    "data.T[['required', 'releases', 'dependents', 'dependencies']].sum()"
   ]
  },
  {
   "cell_type": "markdown",
   "metadata": {},
   "source": [
    "Our dependency constraint parsers were able to cope with the large majority of dependency constraints. However, some of them could not be parsed. Let's quantify this. Since the analyses that rely on this preparatory parsing step focus on the latest snapshot of each ecosystem, we only consider this snapshot to quantify this phenomenon."
   ]
  },
  {
   "cell_type": "code",
   "execution_count": 60,
   "metadata": {},
   "outputs": [
    {
     "data": {
      "text/html": [
       "<div>\n",
       "<style scoped>\n",
       "    .dataframe tbody tr th:only-of-type {\n",
       "        vertical-align: middle;\n",
       "    }\n",
       "\n",
       "    .dataframe tbody tr th {\n",
       "        vertical-align: top;\n",
       "    }\n",
       "\n",
       "    .dataframe thead th {\n",
       "        text-align: right;\n",
       "    }\n",
       "</style>\n",
       "<table border=\"1\" class=\"dataframe\">\n",
       "  <thead>\n",
       "    <tr style=\"text-align: right;\">\n",
       "      <th>c_empty</th>\n",
       "      <th>False</th>\n",
       "      <th>True</th>\n",
       "      <th>All</th>\n",
       "      <th>prop</th>\n",
       "    </tr>\n",
       "    <tr>\n",
       "      <th>ecosystem</th>\n",
       "      <th></th>\n",
       "      <th></th>\n",
       "      <th></th>\n",
       "      <th></th>\n",
       "    </tr>\n",
       "  </thead>\n",
       "  <tbody>\n",
       "    <tr>\n",
       "      <th>Cargo</th>\n",
       "      <td>13148.0</td>\n",
       "      <td>0.0</td>\n",
       "      <td>13148</td>\n",
       "      <td>0.000000</td>\n",
       "    </tr>\n",
       "    <tr>\n",
       "      <th>NPM</th>\n",
       "      <td>245762.0</td>\n",
       "      <td>1646.0</td>\n",
       "      <td>247408</td>\n",
       "      <td>0.006653</td>\n",
       "    </tr>\n",
       "    <tr>\n",
       "      <th>Packagist</th>\n",
       "      <td>35896.0</td>\n",
       "      <td>874.0</td>\n",
       "      <td>36770</td>\n",
       "      <td>0.023769</td>\n",
       "    </tr>\n",
       "    <tr>\n",
       "      <th>Rubygems</th>\n",
       "      <td>10560.0</td>\n",
       "      <td>677.0</td>\n",
       "      <td>11237</td>\n",
       "      <td>0.060247</td>\n",
       "    </tr>\n",
       "    <tr>\n",
       "      <th>All</th>\n",
       "      <td>305366.0</td>\n",
       "      <td>3197.0</td>\n",
       "      <td>308563</td>\n",
       "      <td>0.010361</td>\n",
       "    </tr>\n",
       "  </tbody>\n",
       "</table>\n",
       "</div>"
      ],
      "text/plain": [
       "c_empty       False    True     All      prop\n",
       "ecosystem                                    \n",
       "Cargo       13148.0     0.0   13148  0.000000\n",
       "NPM        245762.0  1646.0  247408  0.006653\n",
       "Packagist   35896.0   874.0   36770  0.023769\n",
       "Rubygems    10560.0   677.0   11237  0.060247\n",
       "All        305366.0  3197.0  308563  0.010361"
      ]
     },
     "execution_count": 60,
     "metadata": {},
     "output_type": "execute_result"
    }
   ],
   "source": [
    "(\n",
    "    pandas.concat([\n",
    "        df_dependents[ecosystem]\n",
    "        .sort_values('rank')\n",
    "        .drop_duplicates('source', keep='last')\n",
    "        .assign(ecosystem=ecosystem)\n",
    "        for ecosystem in ECOSYSTEMS], \n",
    "        axis=0\n",
    "    )\n",
    "    .pivot_table(index='ecosystem', columns=['c_empty'], values='target', aggfunc='count', margins=True)\n",
    "    .fillna(0)\n",
    "    .assign(prop=lambda d: d[True] / d['All'])\n",
    ")"
   ]
  },
  {
   "cell_type": "markdown",
   "metadata": {},
   "source": [
    "# On the need to backport updates to previous major"
   ]
  },
  {
   "cell_type": "markdown",
   "metadata": {},
   "source": [
    "## Permissivity of dependency constraints"
   ]
  },
  {
   "cell_type": "markdown",
   "metadata": {},
   "source": [
    "We look at how permissive dependency constraints are, this is, whether they accept patches, minor or major releases. Since we know from previous work that such permissiveness depends on whether the target package is 0.y.z or >=1.0.0, we distinguish these two cases. \n",
    "\n",
    "Let's first quantify the number of targets for each category."
   ]
  },
  {
   "cell_type": "code",
   "execution_count": 83,
   "metadata": {},
   "outputs": [
    {
     "data": {
      "text/html": [
       "<div>\n",
       "<style scoped>\n",
       "    .dataframe tbody tr th:only-of-type {\n",
       "        vertical-align: middle;\n",
       "    }\n",
       "\n",
       "    .dataframe tbody tr th {\n",
       "        vertical-align: top;\n",
       "    }\n",
       "\n",
       "    .dataframe thead th {\n",
       "        text-align: right;\n",
       "    }\n",
       "</style>\n",
       "<table border=\"1\" class=\"dataframe\">\n",
       "  <thead>\n",
       "    <tr style=\"text-align: right;\">\n",
       "      <th></th>\n",
       "      <th></th>\n",
       "      <th>target</th>\n",
       "      <th>prop</th>\n",
       "    </tr>\n",
       "    <tr>\n",
       "      <th>ecosystem</th>\n",
       "      <th>c_dev</th>\n",
       "      <th></th>\n",
       "      <th></th>\n",
       "    </tr>\n",
       "  </thead>\n",
       "  <tbody>\n",
       "    <tr>\n",
       "      <th rowspan=\"2\" valign=\"top\">Cargo</th>\n",
       "      <th>False</th>\n",
       "      <td>21475</td>\n",
       "      <td>0.358508</td>\n",
       "    </tr>\n",
       "    <tr>\n",
       "      <th>True</th>\n",
       "      <td>38426</td>\n",
       "      <td>0.641492</td>\n",
       "    </tr>\n",
       "    <tr>\n",
       "      <th rowspan=\"2\" valign=\"top\">NPM</th>\n",
       "      <th>False</th>\n",
       "      <td>965910</td>\n",
       "      <td>0.903274</td>\n",
       "    </tr>\n",
       "    <tr>\n",
       "      <th>True</th>\n",
       "      <td>103433</td>\n",
       "      <td>0.096726</td>\n",
       "    </tr>\n",
       "    <tr>\n",
       "      <th rowspan=\"2\" valign=\"top\">Packagist</th>\n",
       "      <th>False</th>\n",
       "      <td>89750</td>\n",
       "      <td>0.964421</td>\n",
       "    </tr>\n",
       "    <tr>\n",
       "      <th>True</th>\n",
       "      <td>3311</td>\n",
       "      <td>0.035579</td>\n",
       "    </tr>\n",
       "    <tr>\n",
       "      <th rowspan=\"2\" valign=\"top\">Rubygems</th>\n",
       "      <th>False</th>\n",
       "      <td>20821</td>\n",
       "      <td>0.867867</td>\n",
       "    </tr>\n",
       "    <tr>\n",
       "      <th>True</th>\n",
       "      <td>3170</td>\n",
       "      <td>0.132133</td>\n",
       "    </tr>\n",
       "  </tbody>\n",
       "</table>\n",
       "</div>"
      ],
      "text/plain": [
       "                 target      prop\n",
       "ecosystem c_dev                  \n",
       "Cargo     False   21475  0.358508\n",
       "          True    38426  0.641492\n",
       "NPM       False  965910  0.903274\n",
       "          True   103433  0.096726\n",
       "Packagist False   89750  0.964421\n",
       "          True     3311  0.035579\n",
       "Rubygems  False   20821  0.867867\n",
       "          True     3170  0.132133"
      ]
     },
     "execution_count": 83,
     "metadata": {},
     "output_type": "execute_result"
    }
   ],
   "source": [
    "ecosystem = 'Cargo'\n",
    "\n",
    "pandas.concat([\n",
    "    df_dependents[ecosystem]\n",
    "    .groupby('c_dev', as_index=False)\n",
    "    [['target']]\n",
    "    .count()\n",
    "    .assign(prop=lambda d: d['target'] / d['target'].sum())\n",
    "    .assign(ecosystem=ecosystem)\n",
    "    for ecosystem in ECOSYSTEMS], axis=0\n",
    ").set_index(['ecosystem', 'c_dev'])"
   ]
  },
  {
   "cell_type": "code",
   "execution_count": 61,
   "metadata": {},
   "outputs": [],
   "source": [
    "data = pandas.concat([\n",
    "    df_dependents[ecosystem]\n",
    "    .sort_values('rank')\n",
    "    .drop_duplicates(['source', 'target'], keep='last')\n",
    "    .assign(\n",
    "        n=1,\n",
    "        # Correct values, as patch superseeded by minor superseeded by major\n",
    "        patch=lambda d: d['c_patch'] & ~d['c_minor'] & ~d['c_major'],\n",
    "        minor=lambda d: d['c_minor'] & ~d['c_major'],\n",
    "        major=lambda d: d['c_major'],\n",
    "    )\n",
    "    .pivot_table(index='c_dev', values=['n', 'major', 'minor', 'patch'], aggfunc='sum')\n",
    "    .apply(lambda s: s / s.n, axis=1)\n",
    "    .drop(columns=['n'])\n",
    "    .reset_index()\n",
    "    .rename(columns={'c_dev': 'kind'})\n",
    "    .replace({'kind': {True: '0.y.z', False: '>=1.0.0'}})\n",
    "    .assign(ecosystem=ecosystem)\n",
    "    for ecosystem in ECOSYSTEMS],\n",
    "    axis=0\n",
    ").set_index(['ecosystem', 'kind'])"
   ]
  },
  {
   "cell_type": "code",
   "execution_count": 65,
   "metadata": {},
   "outputs": [
    {
     "data": {
      "image/png": "[encoded data removed]",
      "text/plain": [
       "<Figure size 576x180 with 2 Axes>"
      ]
     },
     "metadata": {
      "needs_background": "light"
     },
     "output_type": "display_data"
    }
   ],
   "source": [
    "fig, axes = matplotlib.pyplot.subplots(\n",
    "    ncols=2, \n",
    "    sharex=False, \n",
    "    sharey=True,\n",
    "    gridspec_kw=dict(wspace=0)\n",
    ")\n",
    "\n",
    "fig.set_size_inches(FIG_SIZE_WIDE)\n",
    "\n",
    "for i, kind in enumerate(['0.y.z', '>=1.0.0']):\n",
    "    (\n",
    "        data\n",
    "        .xs(kind, level=1)\n",
    "        [['patch', 'minor', 'major']]\n",
    "        .plot.bar(stacked=True, color=PAL_REL[::-1], linewidth=1, edgecolor=(0, 0, 0, 0.3), legend=False, ax=axes[i])\n",
    "    )\n",
    "    \n",
    "    axes[i].set(\n",
    "        title='target is {}'.format(kind),\n",
    "        xlabel='', \n",
    "        ylabel=''\n",
    "    )\n",
    "    axes[i].xaxis.set_tick_params(rotation=0)\n",
    "\n",
    "positions = [\n",
    "    ((0.40, 0.92), (0.06, 0.45, 0.90)),\n",
    "    ((0.40, 0.84), (0.08, 0.45, 0.90)),\n",
    "    ((0.40, 0.90), (0.05, 0.48, 0.84)),\n",
    "    ((0.20, 0.65), (0.04, 0.28, 0.70)),\n",
    "]\n",
    "for i, ecosystem in enumerate(ECOSYSTEMS):\n",
    "    for j, kind in enumerate(['0.y.z', '>=1.0.0']):\n",
    "        for k, release in enumerate(['patch', 'minor', 'major']):\n",
    "            value = data.loc[ecosystem, kind][release]\n",
    "            if kind == '0.y.z' and release == 'major':\n",
    "                continue\n",
    "            axes[j].annotate('{:.1%}'.format(value), (i + 0.03, positions[i][j][k]), ha='center', va='center')\n",
    "    \n",
    "axes[0].legend(\n",
    "    loc='lower center',\n",
    "    ncol=3,\n",
    "    bbox_to_anchor=(1, -0.32),\n",
    ")\n",
    "\n",
    "seaborn.despine(fig, top=True, right=True)\n",
    "\n",
    "axes[0].set(\n",
    "    xlabel='',\n",
    "    ylabel='proportion of constraints',\n",
    "    ylim=(0, 1),\n",
    ")\n",
    "\n",
    "savefig(fig, 'need_permissiveness')"
   ]
  },
  {
   "cell_type": "code",
   "execution_count": 66,
   "metadata": {},
   "outputs": [
    {
     "data": {
      "text/html": [
       "<div>\n",
       "<style scoped>\n",
       "    .dataframe tbody tr th:only-of-type {\n",
       "        vertical-align: middle;\n",
       "    }\n",
       "\n",
       "    .dataframe tbody tr th {\n",
       "        vertical-align: top;\n",
       "    }\n",
       "\n",
       "    .dataframe thead tr th {\n",
       "        text-align: left;\n",
       "    }\n",
       "</style>\n",
       "<table border=\"1\" class=\"dataframe\">\n",
       "  <thead>\n",
       "    <tr>\n",
       "      <th>ecosystem</th>\n",
       "      <th colspan=\"2\" halign=\"left\">Cargo</th>\n",
       "      <th colspan=\"2\" halign=\"left\">NPM</th>\n",
       "      <th colspan=\"2\" halign=\"left\">Packagist</th>\n",
       "      <th colspan=\"2\" halign=\"left\">Rubygems</th>\n",
       "    </tr>\n",
       "    <tr>\n",
       "      <th>kind</th>\n",
       "      <th>&gt;=1.0.0</th>\n",
       "      <th>0.y.z</th>\n",
       "      <th>&gt;=1.0.0</th>\n",
       "      <th>0.y.z</th>\n",
       "      <th>&gt;=1.0.0</th>\n",
       "      <th>0.y.z</th>\n",
       "      <th>&gt;=1.0.0</th>\n",
       "      <th>0.y.z</th>\n",
       "    </tr>\n",
       "  </thead>\n",
       "  <tbody>\n",
       "    <tr>\n",
       "      <th>major</th>\n",
       "      <td>0.006985</td>\n",
       "      <td>0.000000</td>\n",
       "      <td>0.012305</td>\n",
       "      <td>0.000000</td>\n",
       "      <td>0.056669</td>\n",
       "      <td>0.000000</td>\n",
       "      <td>0.420105</td>\n",
       "      <td>0.000000</td>\n",
       "    </tr>\n",
       "    <tr>\n",
       "      <th>minor</th>\n",
       "      <td>0.965914</td>\n",
       "      <td>0.003591</td>\n",
       "      <td>0.806013</td>\n",
       "      <td>0.001827</td>\n",
       "      <td>0.781270</td>\n",
       "      <td>0.129568</td>\n",
       "      <td>0.408818</td>\n",
       "      <td>0.500946</td>\n",
       "    </tr>\n",
       "    <tr>\n",
       "      <th>patch</th>\n",
       "      <td>0.019744</td>\n",
       "      <td>0.980430</td>\n",
       "      <td>0.031203</td>\n",
       "      <td>0.785301</td>\n",
       "      <td>0.114474</td>\n",
       "      <td>0.836303</td>\n",
       "      <td>0.084002</td>\n",
       "      <td>0.426498</td>\n",
       "    </tr>\n",
       "  </tbody>\n",
       "</table>\n",
       "</div>"
      ],
      "text/plain": [
       "ecosystem     Cargo                 NPM           Packagist            \\\n",
       "kind        >=1.0.0     0.y.z   >=1.0.0     0.y.z   >=1.0.0     0.y.z   \n",
       "major      0.006985  0.000000  0.012305  0.000000  0.056669  0.000000   \n",
       "minor      0.965914  0.003591  0.806013  0.001827  0.781270  0.129568   \n",
       "patch      0.019744  0.980430  0.031203  0.785301  0.114474  0.836303   \n",
       "\n",
       "ecosystem  Rubygems            \n",
       "kind        >=1.0.0     0.y.z  \n",
       "major      0.420105  0.000000  \n",
       "minor      0.408818  0.500946  \n",
       "patch      0.084002  0.426498  "
      ]
     },
     "execution_count": 66,
     "metadata": {},
     "output_type": "execute_result"
    }
   ],
   "source": [
    "data.T"
   ]
  },
  {
   "cell_type": "markdown",
   "metadata": {},
   "source": [
    "As expected, most dependencies (except in Rubygems) are \"compliant with semver\". That means that, in a situation where they make use of the latest major release of a target package, they will automatically benefit from the latest patch (for 0.y.z) and minor releases (for >=1.0.0)."
   ]
  },
  {
   "cell_type": "markdown",
   "metadata": {},
   "source": [
    "## Releases being used by dependent packages"
   ]
  },
  {
   "cell_type": "markdown",
   "metadata": {},
   "source": [
    "However, we expect that not all dependents make use of the latest major of a target package. Let's quantify how many dependents make use of: the latest release, a previous patch, a previous minor or a previous major."
   ]
  },
  {
   "cell_type": "code",
   "execution_count": null,
   "metadata": {},
   "outputs": [],
   "source": []
  },
  {
   "cell_type": "markdown",
   "metadata": {},
   "source": [
    "## Induced technical lag"
   ]
  },
  {
   "cell_type": "markdown",
   "metadata": {},
   "source": [
    "Relying on a previous version means that we \"lag behind\". We quantify this lag, in terms of time (difference between version used and latest version available) and in terms of versions (number of versions that were missed)."
   ]
  },
  {
   "cell_type": "markdown",
   "metadata": {},
   "source": [
    "### Time-lag"
   ]
  },
  {
   "cell_type": "code",
   "execution_count": null,
   "metadata": {},
   "outputs": [],
   "source": []
  },
  {
   "cell_type": "markdown",
   "metadata": {},
   "source": [
    "### Version-lag"
   ]
  },
  {
   "cell_type": "code",
   "execution_count": null,
   "metadata": {},
   "outputs": [],
   "source": []
  },
  {
   "cell_type": "markdown",
   "metadata": {},
   "source": [
    "## Number of major releases used by dependent packages"
   ]
  },
  {
   "cell_type": "markdown",
   "metadata": {},
   "source": [
    "Since many dependents make use of a previous major release, let's quantify, given a required package, the number of distinct major being used by dependent packages."
   ]
  },
  {
   "cell_type": "code",
   "execution_count": null,
   "metadata": {},
   "outputs": [],
   "source": []
  },
  {
   "cell_type": "markdown",
   "metadata": {},
   "source": [
    "## Package reuse index"
   ]
  },
  {
   "cell_type": "markdown",
   "metadata": {},
   "source": [
    "Since a package can have many distinct releases being used by dependent packages, we could propose a \"package reuse index\" whose goal is to quantify the number of these releases. There are two options there:\n",
    "\n",
    "1) A variant of a Gini-index, measuring the inequality in terms of \"release usage\". The more \"inequal\" this usage is, the more \"focused\" are dependent packages. However, this does not allow to show whether the \"focus\" is on the latest major or not. \n",
    "\n",
    "2) A variant of the H-index, where n means there are n releases each being used by n dependent packages. "
   ]
  },
  {
   "cell_type": "markdown",
   "metadata": {},
   "source": [
    "### Variant of Gini-index"
   ]
  },
  {
   "cell_type": "code",
   "execution_count": null,
   "metadata": {},
   "outputs": [],
   "source": []
  },
  {
   "cell_type": "markdown",
   "metadata": {},
   "source": [
    "### Variant of H-index"
   ]
  },
  {
   "cell_type": "code",
   "execution_count": null,
   "metadata": {},
   "outputs": [],
   "source": []
  },
  {
   "cell_type": "markdown",
   "metadata": {},
   "source": [
    "# On the prevalence of backported updates"
   ]
  },
  {
   "cell_type": "markdown",
   "metadata": {},
   "source": [
    "## Evolution of the number of packages with backports"
   ]
  },
  {
   "cell_type": "code",
   "execution_count": null,
   "metadata": {},
   "outputs": [],
   "source": []
  },
  {
   "cell_type": "markdown",
   "metadata": {},
   "source": [
    "## Evolution of the number of backports"
   ]
  },
  {
   "cell_type": "code",
   "execution_count": null,
   "metadata": {},
   "outputs": [],
   "source": []
  },
  {
   "cell_type": "markdown",
   "metadata": {},
   "source": [
    "## Relation between backports and dependents"
   ]
  },
  {
   "cell_type": "markdown",
   "metadata": {},
   "source": [
    "We see whether there is relation between the presence of backports and the number of dependent packages."
   ]
  },
  {
   "cell_type": "code",
   "execution_count": null,
   "metadata": {},
   "outputs": [],
   "source": []
  },
  {
   "cell_type": "markdown",
   "metadata": {},
   "source": [
    "## Relation between backports and used major"
   ]
  },
  {
   "cell_type": "markdown",
   "metadata": {},
   "source": [
    "We see whether there is a relation between the presence of backports and the number of major releases being used."
   ]
  },
  {
   "cell_type": "code",
   "execution_count": null,
   "metadata": {},
   "outputs": [],
   "source": []
  },
  {
   "cell_type": "markdown",
   "metadata": {},
   "source": [
    "# How and when are releases backported?"
   ]
  },
  {
   "cell_type": "markdown",
   "metadata": {},
   "source": [
    "## Backport release type"
   ]
  },
  {
   "cell_type": "markdown",
   "metadata": {},
   "source": [
    "The type of a backport depends on the \"source\" release (the one being backported) and the \"target\" release (the one being the backport). We expect that most backports correspond to patches being backported as patches, but it could be the case that some minor release has its fixes being backported as patch as well."
   ]
  },
  {
   "cell_type": "code",
   "execution_count": null,
   "metadata": {},
   "outputs": [],
   "source": []
  },
  {
   "cell_type": "markdown",
   "metadata": {},
   "source": [
    "## Time and number of versions w.r.t. first `(N+1).x.x`"
   ]
  },
  {
   "cell_type": "markdown",
   "metadata": {},
   "source": [
    "We expect that most backports are \"quickly\" released when a new major is available, in order to allow security or stability fixes to be available for dependents during their transition to the new major. "
   ]
  },
  {
   "cell_type": "code",
   "execution_count": null,
   "metadata": {},
   "outputs": [],
   "source": []
  },
  {
   "cell_type": "markdown",
   "metadata": {},
   "source": [
    "## Time and number of versions w.r.t. first `(N).x.x`"
   ]
  },
  {
   "cell_type": "markdown",
   "metadata": {},
   "source": [
    "Here we merely look at how long major versions are \"supported\". This aims to confirm that major releases having backports have more a \"long-term support\" than major releases without backports."
   ]
  },
  {
   "cell_type": "code",
   "execution_count": null,
   "metadata": {},
   "outputs": [],
   "source": []
  },
  {
   "cell_type": "markdown",
   "metadata": {},
   "source": [
    "## Time and number of versions w.r.t. last (N).x.x"
   ]
  },
  {
   "cell_type": "markdown",
   "metadata": {},
   "source": [
    "Same idea, but this time relatively to the latest (non-backported) release in the current branch."
   ]
  },
  {
   "cell_type": "code",
   "execution_count": null,
   "metadata": {},
   "outputs": [],
   "source": []
  }
 ],
 "metadata": {
  "kernelspec": {
   "display_name": "Python 3",
   "language": "python",
   "name": "python3"
  },
  "language_info": {
   "codemirror_mode": {
    "name": "ipython",
    "version": 3
   },
   "file_extension": ".py",
   "mimetype": "text/x-python",
   "name": "python",
   "nbconvert_exporter": "python",
   "pygments_lexer": "ipython3",
   "version": "3.6.8"
  }
 },
 "nbformat": 4,
 "nbformat_minor": 4
}
