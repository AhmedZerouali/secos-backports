{
 "cells": [
  {
   "cell_type": "code",
   "execution_count": 1,
   "metadata": {},
   "outputs": [],
   "source": [
    "import pandas\n",
    "import matplotlib\n",
    "import seaborn\n",
    "\n",
    "%matplotlib inline"
   ]
  },
  {
   "cell_type": "code",
   "execution_count": 2,
   "metadata": {},
   "outputs": [],
   "source": [
    "FIG_SIZE = (6, 3)\n",
    "PALETTE = seaborn.color_palette()\n",
    "PAL_SEC = seaborn.color_palette('Paired')\n",
    "PAL_REL = {k:v for k,v in zip(\n",
    "    ['major', 'minor', 'patch'], [seaborn.color_palette('muted')[i] for i in [1, 0, 2]]\n",
    ")}"
   ]
  },
  {
   "cell_type": "code",
   "execution_count": 3,
   "metadata": {},
   "outputs": [],
   "source": [
    "matplotlib.rcParams['figure.figsize'] = FIG_SIZE\n",
    "matplotlib.rcParams['text.latex.preamble'] = [r'\\usepackage{amsmath}']\n",
    "\n",
    "def _savefig(fig, name):\n",
    "    fig.savefig(\n",
    "        os.path.join(FIGURE_PATH, '{}.pdf'.format(name)),\n",
    "        bbox_inches='tight'\n",
    "    )\n",
    "\n",
    "# Disable figure export\n",
    "SAVEFIG = False\n",
    "savefig = _savefig if SAVEFIG else lambda x, y: None"
   ]
  },
  {
   "cell_type": "markdown",
   "metadata": {},
   "source": [
    "## Load data"
   ]
  },
  {
   "cell_type": "code",
   "execution_count": 4,
   "metadata": {},
   "outputs": [
    {
     "data": {
      "text/html": [
       "<div>\n",
       "<style scoped>\n",
       "    .dataframe tbody tr th:only-of-type {\n",
       "        vertical-align: middle;\n",
       "    }\n",
       "\n",
       "    .dataframe tbody tr th {\n",
       "        vertical-align: top;\n",
       "    }\n",
       "\n",
       "    .dataframe thead th {\n",
       "        text-align: right;\n",
       "    }\n",
       "</style>\n",
       "<table border=\"1\" class=\"dataframe\">\n",
       "  <thead>\n",
       "    <tr style=\"text-align: right;\">\n",
       "      <th></th>\n",
       "      <th>package</th>\n",
       "      <th>version</th>\n",
       "      <th>major</th>\n",
       "      <th>minor</th>\n",
       "      <th>patch</th>\n",
       "      <th>rank</th>\n",
       "      <th>date</th>\n",
       "      <th>rank_date</th>\n",
       "      <th>backported</th>\n",
       "      <th>backported_from</th>\n",
       "    </tr>\n",
       "  </thead>\n",
       "  <tbody>\n",
       "    <tr>\n",
       "      <th>0</th>\n",
       "      <td>0x.js</td>\n",
       "      <td>0.6.1</td>\n",
       "      <td>0.0</td>\n",
       "      <td>6.0</td>\n",
       "      <td>1.0</td>\n",
       "      <td>1</td>\n",
       "      <td>2017-06-20 07:07:49</td>\n",
       "      <td>1</td>\n",
       "      <td>False</td>\n",
       "      <td>NaN</td>\n",
       "    </tr>\n",
       "    <tr>\n",
       "      <th>1</th>\n",
       "      <td>0x.js</td>\n",
       "      <td>0.6.2</td>\n",
       "      <td>0.0</td>\n",
       "      <td>6.0</td>\n",
       "      <td>2.0</td>\n",
       "      <td>2</td>\n",
       "      <td>2017-06-21 13:37:13</td>\n",
       "      <td>2</td>\n",
       "      <td>False</td>\n",
       "      <td>NaN</td>\n",
       "    </tr>\n",
       "    <tr>\n",
       "      <th>2</th>\n",
       "      <td>0x.js</td>\n",
       "      <td>0.7.0</td>\n",
       "      <td>0.0</td>\n",
       "      <td>7.0</td>\n",
       "      <td>0.0</td>\n",
       "      <td>3</td>\n",
       "      <td>2017-06-22 23:20:18</td>\n",
       "      <td>3</td>\n",
       "      <td>False</td>\n",
       "      <td>NaN</td>\n",
       "    </tr>\n",
       "    <tr>\n",
       "      <th>3</th>\n",
       "      <td>0x.js</td>\n",
       "      <td>0.7.1</td>\n",
       "      <td>0.0</td>\n",
       "      <td>7.0</td>\n",
       "      <td>1.0</td>\n",
       "      <td>4</td>\n",
       "      <td>2017-06-26 22:31:57</td>\n",
       "      <td>4</td>\n",
       "      <td>False</td>\n",
       "      <td>NaN</td>\n",
       "    </tr>\n",
       "    <tr>\n",
       "      <th>4</th>\n",
       "      <td>0x.js</td>\n",
       "      <td>0.8.0</td>\n",
       "      <td>0.0</td>\n",
       "      <td>8.0</td>\n",
       "      <td>0.0</td>\n",
       "      <td>5</td>\n",
       "      <td>2017-07-05 02:01:37</td>\n",
       "      <td>5</td>\n",
       "      <td>False</td>\n",
       "      <td>NaN</td>\n",
       "    </tr>\n",
       "    <tr>\n",
       "      <th>...</th>\n",
       "      <td>...</td>\n",
       "      <td>...</td>\n",
       "      <td>...</td>\n",
       "      <td>...</td>\n",
       "      <td>...</td>\n",
       "      <td>...</td>\n",
       "      <td>...</td>\n",
       "      <td>...</td>\n",
       "      <td>...</td>\n",
       "      <td>...</td>\n",
       "    </tr>\n",
       "    <tr>\n",
       "      <th>157734</th>\n",
       "      <td>zxcvbn</td>\n",
       "      <td>4.2.0</td>\n",
       "      <td>4.0</td>\n",
       "      <td>2.0</td>\n",
       "      <td>0.0</td>\n",
       "      <td>21</td>\n",
       "      <td>2015-11-20 21:54:26</td>\n",
       "      <td>21</td>\n",
       "      <td>False</td>\n",
       "      <td>NaN</td>\n",
       "    </tr>\n",
       "    <tr>\n",
       "      <th>157735</th>\n",
       "      <td>zxcvbn</td>\n",
       "      <td>4.3.0</td>\n",
       "      <td>4.0</td>\n",
       "      <td>3.0</td>\n",
       "      <td>0.0</td>\n",
       "      <td>22</td>\n",
       "      <td>2016-05-04 02:26:38</td>\n",
       "      <td>22</td>\n",
       "      <td>False</td>\n",
       "      <td>NaN</td>\n",
       "    </tr>\n",
       "    <tr>\n",
       "      <th>157736</th>\n",
       "      <td>zxcvbn</td>\n",
       "      <td>4.4.0</td>\n",
       "      <td>4.0</td>\n",
       "      <td>4.0</td>\n",
       "      <td>0.0</td>\n",
       "      <td>23</td>\n",
       "      <td>2016-09-24 23:55:01</td>\n",
       "      <td>23</td>\n",
       "      <td>False</td>\n",
       "      <td>NaN</td>\n",
       "    </tr>\n",
       "    <tr>\n",
       "      <th>157737</th>\n",
       "      <td>zxcvbn</td>\n",
       "      <td>4.4.1</td>\n",
       "      <td>4.0</td>\n",
       "      <td>4.0</td>\n",
       "      <td>1.0</td>\n",
       "      <td>24</td>\n",
       "      <td>2016-10-31 22:00:41</td>\n",
       "      <td>24</td>\n",
       "      <td>False</td>\n",
       "      <td>NaN</td>\n",
       "    </tr>\n",
       "    <tr>\n",
       "      <th>157738</th>\n",
       "      <td>zxcvbn</td>\n",
       "      <td>4.4.2</td>\n",
       "      <td>4.0</td>\n",
       "      <td>4.0</td>\n",
       "      <td>2.0</td>\n",
       "      <td>25</td>\n",
       "      <td>2017-02-07 03:58:00</td>\n",
       "      <td>25</td>\n",
       "      <td>False</td>\n",
       "      <td>NaN</td>\n",
       "    </tr>\n",
       "  </tbody>\n",
       "</table>\n",
       "<p>157739 rows × 10 columns</p>\n",
       "</div>"
      ],
      "text/plain": [
       "       package version  major  minor  patch  rank                date  \\\n",
       "0        0x.js   0.6.1    0.0    6.0    1.0     1 2017-06-20 07:07:49   \n",
       "1        0x.js   0.6.2    0.0    6.0    2.0     2 2017-06-21 13:37:13   \n",
       "2        0x.js   0.7.0    0.0    7.0    0.0     3 2017-06-22 23:20:18   \n",
       "3        0x.js   0.7.1    0.0    7.0    1.0     4 2017-06-26 22:31:57   \n",
       "4        0x.js   0.8.0    0.0    8.0    0.0     5 2017-07-05 02:01:37   \n",
       "...        ...     ...    ...    ...    ...   ...                 ...   \n",
       "157734  zxcvbn   4.2.0    4.0    2.0    0.0    21 2015-11-20 21:54:26   \n",
       "157735  zxcvbn   4.3.0    4.0    3.0    0.0    22 2016-05-04 02:26:38   \n",
       "157736  zxcvbn   4.4.0    4.0    4.0    0.0    23 2016-09-24 23:55:01   \n",
       "157737  zxcvbn   4.4.1    4.0    4.0    1.0    24 2016-10-31 22:00:41   \n",
       "157738  zxcvbn   4.4.2    4.0    4.0    2.0    25 2017-02-07 03:58:00   \n",
       "\n",
       "        rank_date  backported  backported_from  \n",
       "0               1       False              NaN  \n",
       "1               2       False              NaN  \n",
       "2               3       False              NaN  \n",
       "3               4       False              NaN  \n",
       "4               5       False              NaN  \n",
       "...           ...         ...              ...  \n",
       "157734         21       False              NaN  \n",
       "157735         22       False              NaN  \n",
       "157736         23       False              NaN  \n",
       "157737         24       False              NaN  \n",
       "157738         25       False              NaN  \n",
       "\n",
       "[157739 rows x 10 columns]"
      ]
     },
     "execution_count": 4,
     "metadata": {},
     "output_type": "execute_result"
    }
   ],
   "source": [
    "df_required = (\n",
    "    pandas.read_csv(\n",
    "        '../data/required.csv.gz',\n",
    "        parse_dates=['date'], \n",
    "        infer_datetime_format=True,   \n",
    "    )\n",
    ")\n",
    "\n",
    "df_required"
   ]
  },
  {
   "cell_type": "code",
   "execution_count": 5,
   "metadata": {},
   "outputs": [
    {
     "data": {
      "text/html": [
       "<div>\n",
       "<style scoped>\n",
       "    .dataframe tbody tr th:only-of-type {\n",
       "        vertical-align: middle;\n",
       "    }\n",
       "\n",
       "    .dataframe tbody tr th {\n",
       "        vertical-align: top;\n",
       "    }\n",
       "\n",
       "    .dataframe thead th {\n",
       "        text-align: right;\n",
       "    }\n",
       "</style>\n",
       "<table border=\"1\" class=\"dataframe\">\n",
       "  <thead>\n",
       "    <tr style=\"text-align: right;\">\n",
       "      <th></th>\n",
       "      <th>source</th>\n",
       "      <th>version</th>\n",
       "      <th>date</th>\n",
       "      <th>target</th>\n",
       "      <th>constraint</th>\n",
       "      <th>interval</th>\n",
       "      <th>selected</th>\n",
       "      <th>c_empty</th>\n",
       "      <th>c_dev</th>\n",
       "      <th>c_major</th>\n",
       "      <th>c_minor</th>\n",
       "      <th>c_patch</th>\n",
       "    </tr>\n",
       "  </thead>\n",
       "  <tbody>\n",
       "    <tr>\n",
       "      <th>0</th>\n",
       "      <td>0-1-project</td>\n",
       "      <td>0.0.1</td>\n",
       "      <td>2018-12-10 06:44:08</td>\n",
       "      <td>chai</td>\n",
       "      <td>^4.2.0</td>\n",
       "      <td>[4.2.0,5.0.0)</td>\n",
       "      <td>71.0</td>\n",
       "      <td>False</td>\n",
       "      <td>False</td>\n",
       "      <td>False</td>\n",
       "      <td>True</td>\n",
       "      <td>True</td>\n",
       "    </tr>\n",
       "    <tr>\n",
       "      <th>1</th>\n",
       "      <td>0-1-project</td>\n",
       "      <td>0.0.1</td>\n",
       "      <td>2018-12-10 06:44:08</td>\n",
       "      <td>vue</td>\n",
       "      <td>^2.5.17</td>\n",
       "      <td>[2.5.17,3.0.0)</td>\n",
       "      <td>144.0</td>\n",
       "      <td>False</td>\n",
       "      <td>False</td>\n",
       "      <td>False</td>\n",
       "      <td>True</td>\n",
       "      <td>True</td>\n",
       "    </tr>\n",
       "    <tr>\n",
       "      <th>2</th>\n",
       "      <td>0-1-project</td>\n",
       "      <td>0.0.1</td>\n",
       "      <td>2018-12-10 06:44:08</td>\n",
       "      <td>vue-hot-reload-api</td>\n",
       "      <td>^2.3.1</td>\n",
       "      <td>[2.3.1,3.0.0)</td>\n",
       "      <td>30.0</td>\n",
       "      <td>False</td>\n",
       "      <td>False</td>\n",
       "      <td>False</td>\n",
       "      <td>True</td>\n",
       "      <td>True</td>\n",
       "    </tr>\n",
       "    <tr>\n",
       "      <th>3</th>\n",
       "      <td>0-1-project</td>\n",
       "      <td>0.0.1</td>\n",
       "      <td>2018-12-10 06:44:08</td>\n",
       "      <td>vue-template-compiler</td>\n",
       "      <td>^2.5.17</td>\n",
       "      <td>[2.5.17,3.0.0)</td>\n",
       "      <td>60.0</td>\n",
       "      <td>False</td>\n",
       "      <td>False</td>\n",
       "      <td>False</td>\n",
       "      <td>True</td>\n",
       "      <td>True</td>\n",
       "    </tr>\n",
       "    <tr>\n",
       "      <th>4</th>\n",
       "      <td>00.demo</td>\n",
       "      <td>1.0.0</td>\n",
       "      <td>2018-08-11 02:15:29</td>\n",
       "      <td>chalk</td>\n",
       "      <td>^2.1.0</td>\n",
       "      <td>[2.1.0,3.0.0)</td>\n",
       "      <td>23.0</td>\n",
       "      <td>False</td>\n",
       "      <td>False</td>\n",
       "      <td>False</td>\n",
       "      <td>True</td>\n",
       "      <td>True</td>\n",
       "    </tr>\n",
       "    <tr>\n",
       "      <th>...</th>\n",
       "      <td>...</td>\n",
       "      <td>...</td>\n",
       "      <td>...</td>\n",
       "      <td>...</td>\n",
       "      <td>...</td>\n",
       "      <td>...</td>\n",
       "      <td>...</td>\n",
       "      <td>...</td>\n",
       "      <td>...</td>\n",
       "      <td>...</td>\n",
       "      <td>...</td>\n",
       "      <td>...</td>\n",
       "    </tr>\n",
       "    <tr>\n",
       "      <th>736567</th>\n",
       "      <td>zzzd</td>\n",
       "      <td>1.0.0</td>\n",
       "      <td>2018-08-10 08:32:47</td>\n",
       "      <td>vuedraggable</td>\n",
       "      <td>^2.16.0</td>\n",
       "      <td>[2.16.0,3.0.0)</td>\n",
       "      <td>25.0</td>\n",
       "      <td>False</td>\n",
       "      <td>False</td>\n",
       "      <td>False</td>\n",
       "      <td>True</td>\n",
       "      <td>True</td>\n",
       "    </tr>\n",
       "    <tr>\n",
       "      <th>736568</th>\n",
       "      <td>zzzd</td>\n",
       "      <td>1.0.0</td>\n",
       "      <td>2018-08-10 08:32:47</td>\n",
       "      <td>vuex</td>\n",
       "      <td>^3.0.1</td>\n",
       "      <td>[3.0.1,4.0.0)</td>\n",
       "      <td>32.0</td>\n",
       "      <td>False</td>\n",
       "      <td>False</td>\n",
       "      <td>False</td>\n",
       "      <td>True</td>\n",
       "      <td>True</td>\n",
       "    </tr>\n",
       "    <tr>\n",
       "      <th>736569</th>\n",
       "      <td>zzzzhy</td>\n",
       "      <td>1.0.4</td>\n",
       "      <td>2018-07-09 09:16:20</td>\n",
       "      <td>react</td>\n",
       "      <td>^16.4.0</td>\n",
       "      <td>[16.4.0,17.0.0)</td>\n",
       "      <td>84.0</td>\n",
       "      <td>False</td>\n",
       "      <td>False</td>\n",
       "      <td>False</td>\n",
       "      <td>True</td>\n",
       "      <td>True</td>\n",
       "    </tr>\n",
       "    <tr>\n",
       "      <th>736570</th>\n",
       "      <td>zzzzhy</td>\n",
       "      <td>1.0.4</td>\n",
       "      <td>2018-07-09 09:16:20</td>\n",
       "      <td>react-dom</td>\n",
       "      <td>^16.4.0</td>\n",
       "      <td>[16.4.0,17.0.0)</td>\n",
       "      <td>52.0</td>\n",
       "      <td>False</td>\n",
       "      <td>False</td>\n",
       "      <td>False</td>\n",
       "      <td>True</td>\n",
       "      <td>True</td>\n",
       "    </tr>\n",
       "    <tr>\n",
       "      <th>736571</th>\n",
       "      <td>zzzzhy</td>\n",
       "      <td>1.0.4</td>\n",
       "      <td>2018-07-09 09:16:20</td>\n",
       "      <td>react-hot-loader</td>\n",
       "      <td>^4.2.0</td>\n",
       "      <td>[4.2.0,5.0.0)</td>\n",
       "      <td>83.0</td>\n",
       "      <td>False</td>\n",
       "      <td>False</td>\n",
       "      <td>False</td>\n",
       "      <td>True</td>\n",
       "      <td>True</td>\n",
       "    </tr>\n",
       "  </tbody>\n",
       "</table>\n",
       "<p>736572 rows × 12 columns</p>\n",
       "</div>"
      ],
      "text/plain": [
       "             source version                date                 target  \\\n",
       "0       0-1-project   0.0.1 2018-12-10 06:44:08                   chai   \n",
       "1       0-1-project   0.0.1 2018-12-10 06:44:08                    vue   \n",
       "2       0-1-project   0.0.1 2018-12-10 06:44:08     vue-hot-reload-api   \n",
       "3       0-1-project   0.0.1 2018-12-10 06:44:08  vue-template-compiler   \n",
       "4           00.demo   1.0.0 2018-08-11 02:15:29                  chalk   \n",
       "...             ...     ...                 ...                    ...   \n",
       "736567         zzzd   1.0.0 2018-08-10 08:32:47           vuedraggable   \n",
       "736568         zzzd   1.0.0 2018-08-10 08:32:47                   vuex   \n",
       "736569       zzzzhy   1.0.4 2018-07-09 09:16:20                  react   \n",
       "736570       zzzzhy   1.0.4 2018-07-09 09:16:20              react-dom   \n",
       "736571       zzzzhy   1.0.4 2018-07-09 09:16:20       react-hot-loader   \n",
       "\n",
       "       constraint         interval  selected  c_empty  c_dev  c_major  \\\n",
       "0          ^4.2.0    [4.2.0,5.0.0)      71.0    False  False    False   \n",
       "1         ^2.5.17   [2.5.17,3.0.0)     144.0    False  False    False   \n",
       "2          ^2.3.1    [2.3.1,3.0.0)      30.0    False  False    False   \n",
       "3         ^2.5.17   [2.5.17,3.0.0)      60.0    False  False    False   \n",
       "4          ^2.1.0    [2.1.0,3.0.0)      23.0    False  False    False   \n",
       "...           ...              ...       ...      ...    ...      ...   \n",
       "736567    ^2.16.0   [2.16.0,3.0.0)      25.0    False  False    False   \n",
       "736568     ^3.0.1    [3.0.1,4.0.0)      32.0    False  False    False   \n",
       "736569    ^16.4.0  [16.4.0,17.0.0)      84.0    False  False    False   \n",
       "736570    ^16.4.0  [16.4.0,17.0.0)      52.0    False  False    False   \n",
       "736571     ^4.2.0    [4.2.0,5.0.0)      83.0    False  False    False   \n",
       "\n",
       "        c_minor  c_patch  \n",
       "0          True     True  \n",
       "1          True     True  \n",
       "2          True     True  \n",
       "3          True     True  \n",
       "4          True     True  \n",
       "...         ...      ...  \n",
       "736567     True     True  \n",
       "736568     True     True  \n",
       "736569     True     True  \n",
       "736570     True     True  \n",
       "736571     True     True  \n",
       "\n",
       "[736572 rows x 12 columns]"
      ]
     },
     "execution_count": 5,
     "metadata": {},
     "output_type": "execute_result"
    }
   ],
   "source": [
    "df_dependents = (\n",
    "    pandas.read_csv(\n",
    "        '../data/dependents.csv.gz',\n",
    "        parse_dates=['date'],\n",
    "        infer_datetime_format=True,\n",
    "    )\n",
    ")\n",
    "\n",
    "df_dependents"
   ]
  },
  {
   "cell_type": "markdown",
   "metadata": {},
   "source": [
    "## Dataset overview"
   ]
  },
  {
   "cell_type": "markdown",
   "metadata": {},
   "source": [
    "### Some statistics"
   ]
  },
  {
   "cell_type": "code",
   "execution_count": 6,
   "metadata": {},
   "outputs": [
    {
     "name": "stdout",
     "output_type": "stream",
     "text": [
      "Number of required packages: 4451\n",
      "Number of releases: 157739\n",
      "Oldest release: 2010-11-09 23:36:08\n",
      "\n",
      "Number of dependent packages: 169455\n",
      "Number of dependencies: 736572\n",
      "\n",
      "Number of backports: 3010\n",
      "Number of packages with backports: 432\n"
     ]
    }
   ],
   "source": [
    "print('Number of required packages:', len(df_required.drop_duplicates('package')))\n",
    "print('Number of releases:', len(df_required))\n",
    "print('Oldest release:', df_required.date.min())\n",
    "print()\n",
    "print('Number of dependent packages:', len(df_dependents.drop_duplicates('source')))\n",
    "print('Number of dependencies:', len(df_dependents))\n",
    "print()\n",
    "print('Number of backports:', len(df_required[lambda d: d['backported']]))\n",
    "print('Number of packages with backports:', len(df_required[lambda d: d['backported']].drop_duplicates('package')))"
   ]
  },
  {
   "cell_type": "markdown",
   "metadata": {},
   "source": [
    "### Number of dependents"
   ]
  },
  {
   "cell_type": "code",
   "execution_count": 42,
   "metadata": {},
   "outputs": [
    {
     "data": {
      "image/png": "[encoded data removed]",
      "text/plain": [
       "<Figure size 432x216 with 1 Axes>"
      ]
     },
     "metadata": {
      "needs_background": "light"
     },
     "output_type": "display_data"
    }
   ],
   "source": [
    "fig, ax = matplotlib.pyplot.subplots()\n",
    "\n",
    "data = (\n",
    "    df_dependents\n",
    "    .groupby('target')\n",
    "    [['source']]\n",
    "    .count()\n",
    "    .assign(target=1)\n",
    "    .sort_values('source', ascending=False)\n",
    "    .groupby('source', sort=False)\n",
    "    .sum()\n",
    "    .cumsum()\n",
    "    .pipe(lambda df: df / df_dependents.target.nunique())\n",
    ")\n",
    "\n",
    "data.plot(legend=False, color=PALETTE[0], ax=ax)\n",
    "ax.axvline(20, 0, 1, linestyle=':', color='r', alpha=0.5)\n",
    "ax.text(20, -0.06, '20', va='top', ha='center')\n",
    "\n",
    "ax.set(\n",
    "    xlabel='minimal number of dependents',\n",
    "    xscale='log',\n",
    "    xlim=(10, None),\n",
    "    ylabel='proportion of required packages',\n",
    "    ylim=(0, 1),\n",
    ")\n",
    "ax.acorr\n",
    "savefig(fig, 'overview_dependents')"
   ]
  },
  {
   "cell_type": "code",
   "execution_count": 36,
   "metadata": {},
   "outputs": [
    {
     "data": {
      "text/html": [
       "<div>\n",
       "<style scoped>\n",
       "    .dataframe tbody tr th:only-of-type {\n",
       "        vertical-align: middle;\n",
       "    }\n",
       "\n",
       "    .dataframe tbody tr th {\n",
       "        vertical-align: top;\n",
       "    }\n",
       "\n",
       "    .dataframe thead th {\n",
       "        text-align: right;\n",
       "    }\n",
       "</style>\n",
       "<table border=\"1\" class=\"dataframe\">\n",
       "  <thead>\n",
       "    <tr style=\"text-align: right;\">\n",
       "      <th>target</th>\n",
       "      <th>0.000225</th>\n",
       "      <th>0.100427</th>\n",
       "      <th>0.201977</th>\n",
       "      <th>0.302404</th>\n",
       "      <th>0.402831</th>\n",
       "      <th>0.509548</th>\n",
       "      <th>0.609077</th>\n",
       "      <th>0.700966</th>\n",
       "      <th>0.820714</th>\n",
       "      <th>0.918670</th>\n",
       "    </tr>\n",
       "  </thead>\n",
       "  <tbody>\n",
       "    <tr>\n",
       "      <th>source</th>\n",
       "      <td>18523.0</td>\n",
       "      <td>259.0</td>\n",
       "      <td>121.0</td>\n",
       "      <td>77.0</td>\n",
       "      <td>56.0</td>\n",
       "      <td>43.0</td>\n",
       "      <td>35.0</td>\n",
       "      <td>30.0</td>\n",
       "      <td>25.0</td>\n",
       "      <td>22.0</td>\n",
       "    </tr>\n",
       "  </tbody>\n",
       "</table>\n",
       "</div>"
      ],
      "text/plain": [
       "target  0.000225  0.100427  0.201977  0.302404  0.402831  0.509548  0.609077  \\\n",
       "source   18523.0     259.0     121.0      77.0      56.0      43.0      35.0   \n",
       "\n",
       "target  0.700966  0.820714  0.918670  \n",
       "source      30.0      25.0      22.0  "
      ]
     },
     "execution_count": 36,
     "metadata": {},
     "output_type": "execute_result"
    }
   ],
   "source": [
    "pandas.concat(\n",
    "    (data.reset_index()[lambda d: d['target'] >= p].iloc[0] for p in pandas.np.arange(0, 1, 0.1)),\n",
    "    axis=1\n",
    ").T.set_index('target').T"
   ]
  },
  {
   "cell_type": "markdown",
   "metadata": {},
   "source": [
    "### Evolution of the number of considered required packages"
   ]
  },
  {
   "cell_type": "code",
   "execution_count": 60,
   "metadata": {},
   "outputs": [
    {
     "data": {
      "image/png": "[encoded data removed]",
      "text/plain": [
       "<Figure size 432x216 with 1 Axes>"
      ]
     },
     "metadata": {
      "needs_background": "light"
     },
     "output_type": "display_data"
    }
   ],
   "source": [
    "fig, ax = matplotlib.pyplot.subplots()\n",
    "fig.set_size_inches(FIG_SIZE)\n",
    "\n",
    "data = (\n",
    "    df_required\n",
    "    .sort_values('rank_date')\n",
    "    .drop_duplicates('package', keep='first')\n",
    "    .groupby('date')\n",
    "    [['package']]\n",
    "    .count()\n",
    "    .cumsum()\n",
    ")\n",
    "\n",
    "(data / len(df_required.drop_duplicates('package'))).plot(color=PALETTE[0], legend=False, ax=ax)\n",
    "\n",
    "ax.set(\n",
    "    xlabel='',\n",
    "    ylabel='proportion of required packages',\n",
    "    ylim=(0, 1)\n",
    ")\n",
    "fig.autofmt_xdate(bottom=0.2, rotation=0, ha='center')\n",
    "\n",
    "savefig(fig, 'overview_required')"
   ]
  },
  {
   "cell_type": "markdown",
   "metadata": {},
   "source": [
    "## How frequently are packages updated?"
   ]
  },
  {
   "cell_type": "markdown",
   "metadata": {},
   "source": [
    "### Time between updates\n",
    "\n",
    "(for required packages)"
   ]
  },
  {
   "cell_type": "code",
   "execution_count": null,
   "metadata": {},
   "outputs": [],
   "source": []
  },
  {
   "cell_type": "markdown",
   "metadata": {},
   "source": [
    "### Major frequency (time and updates)"
   ]
  },
  {
   "cell_type": "code",
   "execution_count": null,
   "metadata": {},
   "outputs": [],
   "source": []
  },
  {
   "cell_type": "markdown",
   "metadata": {},
   "source": [
    "### Stability index\n",
    "\n",
    "e.g. ratio time between major / time between non-major?"
   ]
  },
  {
   "cell_type": "code",
   "execution_count": null,
   "metadata": {},
   "outputs": [],
   "source": []
  },
  {
   "cell_type": "markdown",
   "metadata": {},
   "source": [
    "## How many versions are required?"
   ]
  },
  {
   "cell_type": "markdown",
   "metadata": {},
   "source": [
    "### Softness of dependency constraints"
   ]
  },
  {
   "cell_type": "code",
   "execution_count": null,
   "metadata": {},
   "outputs": [],
   "source": []
  },
  {
   "cell_type": "markdown",
   "metadata": {},
   "source": [
    "### Number of available/required versions"
   ]
  },
  {
   "cell_type": "code",
   "execution_count": null,
   "metadata": {},
   "outputs": [],
   "source": []
  },
  {
   "cell_type": "markdown",
   "metadata": {},
   "source": [
    "### Number of required packages w.r.t. required versions"
   ]
  },
  {
   "cell_type": "code",
   "execution_count": null,
   "metadata": {},
   "outputs": [],
   "source": []
  },
  {
   "cell_type": "markdown",
   "metadata": {},
   "source": [
    "### Reuse index\n",
    "\n",
    "e.g. Gini index dependents:releases"
   ]
  },
  {
   "cell_type": "code",
   "execution_count": null,
   "metadata": {},
   "outputs": [],
   "source": []
  },
  {
   "cell_type": "markdown",
   "metadata": {},
   "source": [
    "### Release type of required versions\n",
    "\n",
    "e.g. latest, a previous major, a previous minor, a previous patch."
   ]
  },
  {
   "cell_type": "code",
   "execution_count": null,
   "metadata": {},
   "outputs": [],
   "source": []
  },
  {
   "cell_type": "markdown",
   "metadata": {},
   "source": [
    "### Time lag of required versions"
   ]
  },
  {
   "cell_type": "code",
   "execution_count": null,
   "metadata": {},
   "outputs": [],
   "source": []
  },
  {
   "cell_type": "markdown",
   "metadata": {},
   "source": [
    "### Number of available/required major"
   ]
  },
  {
   "cell_type": "code",
   "execution_count": null,
   "metadata": {},
   "outputs": [],
   "source": []
  },
  {
   "cell_type": "markdown",
   "metadata": {},
   "source": [
    "### Number of required packages w.r.t. number of required majors"
   ]
  },
  {
   "cell_type": "code",
   "execution_count": null,
   "metadata": {},
   "outputs": [],
   "source": []
  },
  {
   "cell_type": "markdown",
   "metadata": {},
   "source": [
    "### Major reuse index\n",
    "\n",
    "e.g. Gini index dependents:major"
   ]
  },
  {
   "cell_type": "code",
   "execution_count": null,
   "metadata": {},
   "outputs": [],
   "source": []
  },
  {
   "cell_type": "markdown",
   "metadata": {},
   "source": [
    "## How prevalent are backports?"
   ]
  },
  {
   "cell_type": "markdown",
   "metadata": {},
   "source": [
    "### Number of packages with backports"
   ]
  },
  {
   "cell_type": "code",
   "execution_count": null,
   "metadata": {},
   "outputs": [],
   "source": []
  },
  {
   "cell_type": "markdown",
   "metadata": {},
   "source": [
    "### Number of backported releases"
   ]
  },
  {
   "cell_type": "code",
   "execution_count": null,
   "metadata": {},
   "outputs": [],
   "source": []
  },
  {
   "cell_type": "markdown",
   "metadata": {},
   "source": [
    "### Relation with number of required major?"
   ]
  },
  {
   "cell_type": "code",
   "execution_count": null,
   "metadata": {},
   "outputs": [],
   "source": []
  },
  {
   "cell_type": "markdown",
   "metadata": {},
   "source": [
    "### Backport coverage\n",
    "\n",
    "e.g. proportion of dependents using either the highest major or a major with a backport"
   ]
  },
  {
   "cell_type": "code",
   "execution_count": null,
   "metadata": {},
   "outputs": [],
   "source": []
  },
  {
   "cell_type": "markdown",
   "metadata": {},
   "source": [
    "## Relation between metrics"
   ]
  },
  {
   "cell_type": "markdown",
   "metadata": {},
   "source": [
    "### Correlation between metrics"
   ]
  },
  {
   "cell_type": "code",
   "execution_count": null,
   "metadata": {},
   "outputs": [],
   "source": []
  },
  {
   "cell_type": "markdown",
   "metadata": {},
   "source": [
    "## Which releases are backported?"
   ]
  },
  {
   "cell_type": "markdown",
   "metadata": {},
   "source": [
    "### Type of backports"
   ]
  },
  {
   "cell_type": "code",
   "execution_count": null,
   "metadata": {},
   "outputs": [],
   "source": []
  },
  {
   "cell_type": "markdown",
   "metadata": {},
   "source": [
    "### Type of backported releases"
   ]
  },
  {
   "cell_type": "code",
   "execution_count": null,
   "metadata": {},
   "outputs": [],
   "source": []
  },
  {
   "cell_type": "markdown",
   "metadata": {},
   "source": [
    "## How long to backport releases?\n",
    "\n",
    "In terms of time and #updates."
   ]
  },
  {
   "cell_type": "markdown",
   "metadata": {},
   "source": [
    "### Since last update, compared to other releases"
   ]
  },
  {
   "cell_type": "code",
   "execution_count": null,
   "metadata": {},
   "outputs": [],
   "source": []
  },
  {
   "cell_type": "markdown",
   "metadata": {},
   "source": [
    "### Since latest major\n",
    "\n",
    "e.g. since 3.0.0 for a 2.0.1 backport, assuming 3.2.1 is latest."
   ]
  },
  {
   "cell_type": "code",
   "execution_count": null,
   "metadata": {},
   "outputs": [],
   "source": []
  },
  {
   "cell_type": "markdown",
   "metadata": {},
   "source": [
    "### Since last release in current major\n",
    "\n",
    "e.g. since 2.0.0 for a 2.0.1 backport, assuming 2.0.0 was the latest before 3.0.0."
   ]
  },
  {
   "cell_type": "code",
   "execution_count": null,
   "metadata": {},
   "outputs": [],
   "source": []
  },
  {
   "cell_type": "markdown",
   "metadata": {},
   "source": [
    "## Tooling & metrics"
   ]
  },
  {
   "cell_type": "markdown",
   "metadata": {},
   "source": [
    "### Tool: Show library usage"
   ]
  },
  {
   "cell_type": "code",
   "execution_count": null,
   "metadata": {},
   "outputs": [],
   "source": []
  },
  {
   "cell_type": "markdown",
   "metadata": {},
   "source": [
    "### Tool: Show update \"impact\""
   ]
  },
  {
   "cell_type": "code",
   "execution_count": null,
   "metadata": {},
   "outputs": [],
   "source": []
  }
 ],
 "metadata": {
  "kernelspec": {
   "display_name": "Python 3",
   "language": "python",
   "name": "python3"
  },
  "language_info": {
   "codemirror_mode": {
    "name": "ipython",
    "version": 3
   },
   "file_extension": ".py",
   "mimetype": "text/x-python",
   "name": "python",
   "nbconvert_exporter": "python",
   "pygments_lexer": "ipython3",
   "version": "3.6.8"
  }
 },
 "nbformat": 4,
 "nbformat_minor": 4
}
