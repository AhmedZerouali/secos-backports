{
 "cells": [
  {
   "cell_type": "code",
   "execution_count": 1,
   "metadata": {},
   "outputs": [],
   "source": [
    "import pandas\n",
    "import matplotlib\n",
    "import seaborn\n",
    "\n",
    "%matplotlib inline"
   ]
  },
  {
   "cell_type": "code",
   "execution_count": 2,
   "metadata": {},
   "outputs": [],
   "source": [
    "FIG_SIZE = (6, 3)\n",
    "PALETTE = seaborn.color_palette()\n",
    "PAL_SEC = seaborn.color_palette('Paired')\n",
    "PAL_REL = {k:v for k,v in zip(\n",
    "    ['major', 'minor', 'patch', 'initial'], [PALETTE[i] for i in [3, 1, 2, 0]]\n",
    ")}"
   ]
  },
  {
   "cell_type": "code",
   "execution_count": 3,
   "metadata": {},
   "outputs": [],
   "source": [
    "matplotlib.rcParams['figure.figsize'] = FIG_SIZE\n",
    "matplotlib.rcParams['text.latex.preamble'] = [r'\\usepackage{amsmath}']\n",
    "\n",
    "def _savefig(fig, name):\n",
    "    fig.savefig(\n",
    "        os.path.join(FIGURE_PATH, '{}.pdf'.format(name)),\n",
    "        bbox_inches='tight'\n",
    "    )\n",
    "\n",
    "# Disable figure export\n",
    "SAVEFIG = False\n",
    "savefig = _savefig if SAVEFIG else lambda x, y: None"
   ]
  },
  {
   "cell_type": "markdown",
   "metadata": {},
   "source": [
    "## Load data"
   ]
  },
  {
   "cell_type": "code",
   "execution_count": 4,
   "metadata": {},
   "outputs": [
    {
     "data": {
      "text/html": [
       "<div>\n",
       "<style scoped>\n",
       "    .dataframe tbody tr th:only-of-type {\n",
       "        vertical-align: middle;\n",
       "    }\n",
       "\n",
       "    .dataframe tbody tr th {\n",
       "        vertical-align: top;\n",
       "    }\n",
       "\n",
       "    .dataframe thead th {\n",
       "        text-align: right;\n",
       "    }\n",
       "</style>\n",
       "<table border=\"1\" class=\"dataframe\">\n",
       "  <thead>\n",
       "    <tr style=\"text-align: right;\">\n",
       "      <th></th>\n",
       "      <th>package</th>\n",
       "      <th>version</th>\n",
       "      <th>major</th>\n",
       "      <th>minor</th>\n",
       "      <th>patch</th>\n",
       "      <th>kind</th>\n",
       "      <th>rank</th>\n",
       "      <th>date</th>\n",
       "      <th>rank_date</th>\n",
       "      <th>backported</th>\n",
       "      <th>backported_from</th>\n",
       "    </tr>\n",
       "  </thead>\n",
       "  <tbody>\n",
       "    <tr>\n",
       "      <th>0</th>\n",
       "      <td>0x.js</td>\n",
       "      <td>0.6.1</td>\n",
       "      <td>0.0</td>\n",
       "      <td>6.0</td>\n",
       "      <td>1.0</td>\n",
       "      <td>initial</td>\n",
       "      <td>1</td>\n",
       "      <td>2017-06-20 07:07:49</td>\n",
       "      <td>1</td>\n",
       "      <td>False</td>\n",
       "      <td>NaN</td>\n",
       "    </tr>\n",
       "    <tr>\n",
       "      <th>1</th>\n",
       "      <td>0x.js</td>\n",
       "      <td>0.6.2</td>\n",
       "      <td>0.0</td>\n",
       "      <td>6.0</td>\n",
       "      <td>2.0</td>\n",
       "      <td>patch</td>\n",
       "      <td>2</td>\n",
       "      <td>2017-06-21 13:37:13</td>\n",
       "      <td>2</td>\n",
       "      <td>False</td>\n",
       "      <td>NaN</td>\n",
       "    </tr>\n",
       "    <tr>\n",
       "      <th>2</th>\n",
       "      <td>0x.js</td>\n",
       "      <td>0.7.0</td>\n",
       "      <td>0.0</td>\n",
       "      <td>7.0</td>\n",
       "      <td>0.0</td>\n",
       "      <td>minor</td>\n",
       "      <td>3</td>\n",
       "      <td>2017-06-22 23:20:18</td>\n",
       "      <td>3</td>\n",
       "      <td>False</td>\n",
       "      <td>NaN</td>\n",
       "    </tr>\n",
       "    <tr>\n",
       "      <th>3</th>\n",
       "      <td>0x.js</td>\n",
       "      <td>0.7.1</td>\n",
       "      <td>0.0</td>\n",
       "      <td>7.0</td>\n",
       "      <td>1.0</td>\n",
       "      <td>patch</td>\n",
       "      <td>4</td>\n",
       "      <td>2017-06-26 22:31:57</td>\n",
       "      <td>4</td>\n",
       "      <td>False</td>\n",
       "      <td>NaN</td>\n",
       "    </tr>\n",
       "    <tr>\n",
       "      <th>4</th>\n",
       "      <td>0x.js</td>\n",
       "      <td>0.8.0</td>\n",
       "      <td>0.0</td>\n",
       "      <td>8.0</td>\n",
       "      <td>0.0</td>\n",
       "      <td>minor</td>\n",
       "      <td>5</td>\n",
       "      <td>2017-07-05 02:01:37</td>\n",
       "      <td>5</td>\n",
       "      <td>False</td>\n",
       "      <td>NaN</td>\n",
       "    </tr>\n",
       "    <tr>\n",
       "      <th>...</th>\n",
       "      <td>...</td>\n",
       "      <td>...</td>\n",
       "      <td>...</td>\n",
       "      <td>...</td>\n",
       "      <td>...</td>\n",
       "      <td>...</td>\n",
       "      <td>...</td>\n",
       "      <td>...</td>\n",
       "      <td>...</td>\n",
       "      <td>...</td>\n",
       "      <td>...</td>\n",
       "    </tr>\n",
       "    <tr>\n",
       "      <th>157734</th>\n",
       "      <td>zxcvbn</td>\n",
       "      <td>4.2.0</td>\n",
       "      <td>4.0</td>\n",
       "      <td>2.0</td>\n",
       "      <td>0.0</td>\n",
       "      <td>minor</td>\n",
       "      <td>21</td>\n",
       "      <td>2015-11-20 21:54:26</td>\n",
       "      <td>21</td>\n",
       "      <td>False</td>\n",
       "      <td>NaN</td>\n",
       "    </tr>\n",
       "    <tr>\n",
       "      <th>157735</th>\n",
       "      <td>zxcvbn</td>\n",
       "      <td>4.3.0</td>\n",
       "      <td>4.0</td>\n",
       "      <td>3.0</td>\n",
       "      <td>0.0</td>\n",
       "      <td>minor</td>\n",
       "      <td>22</td>\n",
       "      <td>2016-05-04 02:26:38</td>\n",
       "      <td>22</td>\n",
       "      <td>False</td>\n",
       "      <td>NaN</td>\n",
       "    </tr>\n",
       "    <tr>\n",
       "      <th>157736</th>\n",
       "      <td>zxcvbn</td>\n",
       "      <td>4.4.0</td>\n",
       "      <td>4.0</td>\n",
       "      <td>4.0</td>\n",
       "      <td>0.0</td>\n",
       "      <td>minor</td>\n",
       "      <td>23</td>\n",
       "      <td>2016-09-24 23:55:01</td>\n",
       "      <td>23</td>\n",
       "      <td>False</td>\n",
       "      <td>NaN</td>\n",
       "    </tr>\n",
       "    <tr>\n",
       "      <th>157737</th>\n",
       "      <td>zxcvbn</td>\n",
       "      <td>4.4.1</td>\n",
       "      <td>4.0</td>\n",
       "      <td>4.0</td>\n",
       "      <td>1.0</td>\n",
       "      <td>patch</td>\n",
       "      <td>24</td>\n",
       "      <td>2016-10-31 22:00:41</td>\n",
       "      <td>24</td>\n",
       "      <td>False</td>\n",
       "      <td>NaN</td>\n",
       "    </tr>\n",
       "    <tr>\n",
       "      <th>157738</th>\n",
       "      <td>zxcvbn</td>\n",
       "      <td>4.4.2</td>\n",
       "      <td>4.0</td>\n",
       "      <td>4.0</td>\n",
       "      <td>2.0</td>\n",
       "      <td>patch</td>\n",
       "      <td>25</td>\n",
       "      <td>2017-02-07 03:58:00</td>\n",
       "      <td>25</td>\n",
       "      <td>False</td>\n",
       "      <td>NaN</td>\n",
       "    </tr>\n",
       "  </tbody>\n",
       "</table>\n",
       "<p>157739 rows × 11 columns</p>\n",
       "</div>"
      ],
      "text/plain": [
       "       package version  major  minor  patch     kind  rank  \\\n",
       "0        0x.js   0.6.1    0.0    6.0    1.0  initial     1   \n",
       "1        0x.js   0.6.2    0.0    6.0    2.0    patch     2   \n",
       "2        0x.js   0.7.0    0.0    7.0    0.0    minor     3   \n",
       "3        0x.js   0.7.1    0.0    7.0    1.0    patch     4   \n",
       "4        0x.js   0.8.0    0.0    8.0    0.0    minor     5   \n",
       "...        ...     ...    ...    ...    ...      ...   ...   \n",
       "157734  zxcvbn   4.2.0    4.0    2.0    0.0    minor    21   \n",
       "157735  zxcvbn   4.3.0    4.0    3.0    0.0    minor    22   \n",
       "157736  zxcvbn   4.4.0    4.0    4.0    0.0    minor    23   \n",
       "157737  zxcvbn   4.4.1    4.0    4.0    1.0    patch    24   \n",
       "157738  zxcvbn   4.4.2    4.0    4.0    2.0    patch    25   \n",
       "\n",
       "                      date  rank_date  backported  backported_from  \n",
       "0      2017-06-20 07:07:49          1       False              NaN  \n",
       "1      2017-06-21 13:37:13          2       False              NaN  \n",
       "2      2017-06-22 23:20:18          3       False              NaN  \n",
       "3      2017-06-26 22:31:57          4       False              NaN  \n",
       "4      2017-07-05 02:01:37          5       False              NaN  \n",
       "...                    ...        ...         ...              ...  \n",
       "157734 2015-11-20 21:54:26         21       False              NaN  \n",
       "157735 2016-05-04 02:26:38         22       False              NaN  \n",
       "157736 2016-09-24 23:55:01         23       False              NaN  \n",
       "157737 2016-10-31 22:00:41         24       False              NaN  \n",
       "157738 2017-02-07 03:58:00         25       False              NaN  \n",
       "\n",
       "[157739 rows x 11 columns]"
      ]
     },
     "execution_count": 4,
     "metadata": {},
     "output_type": "execute_result"
    }
   ],
   "source": [
    "df_required = (\n",
    "    pandas.read_csv(\n",
    "        '../data/required.csv.gz',\n",
    "        parse_dates=['date'], \n",
    "        infer_datetime_format=True,   \n",
    "    )\n",
    ")\n",
    "\n",
    "df_required"
   ]
  },
  {
   "cell_type": "code",
   "execution_count": 5,
   "metadata": {},
   "outputs": [
    {
     "data": {
      "text/html": [
       "<div>\n",
       "<style scoped>\n",
       "    .dataframe tbody tr th:only-of-type {\n",
       "        vertical-align: middle;\n",
       "    }\n",
       "\n",
       "    .dataframe tbody tr th {\n",
       "        vertical-align: top;\n",
       "    }\n",
       "\n",
       "    .dataframe thead th {\n",
       "        text-align: right;\n",
       "    }\n",
       "</style>\n",
       "<table border=\"1\" class=\"dataframe\">\n",
       "  <thead>\n",
       "    <tr style=\"text-align: right;\">\n",
       "      <th></th>\n",
       "      <th>source</th>\n",
       "      <th>version</th>\n",
       "      <th>date</th>\n",
       "      <th>target</th>\n",
       "      <th>constraint</th>\n",
       "      <th>interval</th>\n",
       "      <th>selected</th>\n",
       "      <th>c_empty</th>\n",
       "      <th>c_dev</th>\n",
       "      <th>c_major</th>\n",
       "      <th>c_minor</th>\n",
       "      <th>c_patch</th>\n",
       "    </tr>\n",
       "  </thead>\n",
       "  <tbody>\n",
       "    <tr>\n",
       "      <th>0</th>\n",
       "      <td>0-1-project</td>\n",
       "      <td>0.0.1</td>\n",
       "      <td>2018-12-10 06:44:08</td>\n",
       "      <td>chai</td>\n",
       "      <td>^4.2.0</td>\n",
       "      <td>[4.2.0,5.0.0)</td>\n",
       "      <td>71.0</td>\n",
       "      <td>False</td>\n",
       "      <td>False</td>\n",
       "      <td>False</td>\n",
       "      <td>True</td>\n",
       "      <td>True</td>\n",
       "    </tr>\n",
       "    <tr>\n",
       "      <th>1</th>\n",
       "      <td>0-1-project</td>\n",
       "      <td>0.0.1</td>\n",
       "      <td>2018-12-10 06:44:08</td>\n",
       "      <td>vue</td>\n",
       "      <td>^2.5.17</td>\n",
       "      <td>[2.5.17,3.0.0)</td>\n",
       "      <td>144.0</td>\n",
       "      <td>False</td>\n",
       "      <td>False</td>\n",
       "      <td>False</td>\n",
       "      <td>True</td>\n",
       "      <td>True</td>\n",
       "    </tr>\n",
       "    <tr>\n",
       "      <th>2</th>\n",
       "      <td>0-1-project</td>\n",
       "      <td>0.0.1</td>\n",
       "      <td>2018-12-10 06:44:08</td>\n",
       "      <td>vue-hot-reload-api</td>\n",
       "      <td>^2.3.1</td>\n",
       "      <td>[2.3.1,3.0.0)</td>\n",
       "      <td>30.0</td>\n",
       "      <td>False</td>\n",
       "      <td>False</td>\n",
       "      <td>False</td>\n",
       "      <td>True</td>\n",
       "      <td>True</td>\n",
       "    </tr>\n",
       "    <tr>\n",
       "      <th>3</th>\n",
       "      <td>0-1-project</td>\n",
       "      <td>0.0.1</td>\n",
       "      <td>2018-12-10 06:44:08</td>\n",
       "      <td>vue-template-compiler</td>\n",
       "      <td>^2.5.17</td>\n",
       "      <td>[2.5.17,3.0.0)</td>\n",
       "      <td>60.0</td>\n",
       "      <td>False</td>\n",
       "      <td>False</td>\n",
       "      <td>False</td>\n",
       "      <td>True</td>\n",
       "      <td>True</td>\n",
       "    </tr>\n",
       "    <tr>\n",
       "      <th>4</th>\n",
       "      <td>00.demo</td>\n",
       "      <td>1.0.0</td>\n",
       "      <td>2018-08-11 02:15:29</td>\n",
       "      <td>chalk</td>\n",
       "      <td>^2.1.0</td>\n",
       "      <td>[2.1.0,3.0.0)</td>\n",
       "      <td>23.0</td>\n",
       "      <td>False</td>\n",
       "      <td>False</td>\n",
       "      <td>False</td>\n",
       "      <td>True</td>\n",
       "      <td>True</td>\n",
       "    </tr>\n",
       "    <tr>\n",
       "      <th>...</th>\n",
       "      <td>...</td>\n",
       "      <td>...</td>\n",
       "      <td>...</td>\n",
       "      <td>...</td>\n",
       "      <td>...</td>\n",
       "      <td>...</td>\n",
       "      <td>...</td>\n",
       "      <td>...</td>\n",
       "      <td>...</td>\n",
       "      <td>...</td>\n",
       "      <td>...</td>\n",
       "      <td>...</td>\n",
       "    </tr>\n",
       "    <tr>\n",
       "      <th>736567</th>\n",
       "      <td>zzzd</td>\n",
       "      <td>1.0.0</td>\n",
       "      <td>2018-08-10 08:32:47</td>\n",
       "      <td>vuedraggable</td>\n",
       "      <td>^2.16.0</td>\n",
       "      <td>[2.16.0,3.0.0)</td>\n",
       "      <td>25.0</td>\n",
       "      <td>False</td>\n",
       "      <td>False</td>\n",
       "      <td>False</td>\n",
       "      <td>True</td>\n",
       "      <td>True</td>\n",
       "    </tr>\n",
       "    <tr>\n",
       "      <th>736568</th>\n",
       "      <td>zzzd</td>\n",
       "      <td>1.0.0</td>\n",
       "      <td>2018-08-10 08:32:47</td>\n",
       "      <td>vuex</td>\n",
       "      <td>^3.0.1</td>\n",
       "      <td>[3.0.1,4.0.0)</td>\n",
       "      <td>32.0</td>\n",
       "      <td>False</td>\n",
       "      <td>False</td>\n",
       "      <td>False</td>\n",
       "      <td>True</td>\n",
       "      <td>True</td>\n",
       "    </tr>\n",
       "    <tr>\n",
       "      <th>736569</th>\n",
       "      <td>zzzzhy</td>\n",
       "      <td>1.0.4</td>\n",
       "      <td>2018-07-09 09:16:20</td>\n",
       "      <td>react</td>\n",
       "      <td>^16.4.0</td>\n",
       "      <td>[16.4.0,17.0.0)</td>\n",
       "      <td>84.0</td>\n",
       "      <td>False</td>\n",
       "      <td>False</td>\n",
       "      <td>False</td>\n",
       "      <td>True</td>\n",
       "      <td>True</td>\n",
       "    </tr>\n",
       "    <tr>\n",
       "      <th>736570</th>\n",
       "      <td>zzzzhy</td>\n",
       "      <td>1.0.4</td>\n",
       "      <td>2018-07-09 09:16:20</td>\n",
       "      <td>react-dom</td>\n",
       "      <td>^16.4.0</td>\n",
       "      <td>[16.4.0,17.0.0)</td>\n",
       "      <td>52.0</td>\n",
       "      <td>False</td>\n",
       "      <td>False</td>\n",
       "      <td>False</td>\n",
       "      <td>True</td>\n",
       "      <td>True</td>\n",
       "    </tr>\n",
       "    <tr>\n",
       "      <th>736571</th>\n",
       "      <td>zzzzhy</td>\n",
       "      <td>1.0.4</td>\n",
       "      <td>2018-07-09 09:16:20</td>\n",
       "      <td>react-hot-loader</td>\n",
       "      <td>^4.2.0</td>\n",
       "      <td>[4.2.0,5.0.0)</td>\n",
       "      <td>83.0</td>\n",
       "      <td>False</td>\n",
       "      <td>False</td>\n",
       "      <td>False</td>\n",
       "      <td>True</td>\n",
       "      <td>True</td>\n",
       "    </tr>\n",
       "  </tbody>\n",
       "</table>\n",
       "<p>736572 rows × 12 columns</p>\n",
       "</div>"
      ],
      "text/plain": [
       "             source version                date                 target  \\\n",
       "0       0-1-project   0.0.1 2018-12-10 06:44:08                   chai   \n",
       "1       0-1-project   0.0.1 2018-12-10 06:44:08                    vue   \n",
       "2       0-1-project   0.0.1 2018-12-10 06:44:08     vue-hot-reload-api   \n",
       "3       0-1-project   0.0.1 2018-12-10 06:44:08  vue-template-compiler   \n",
       "4           00.demo   1.0.0 2018-08-11 02:15:29                  chalk   \n",
       "...             ...     ...                 ...                    ...   \n",
       "736567         zzzd   1.0.0 2018-08-10 08:32:47           vuedraggable   \n",
       "736568         zzzd   1.0.0 2018-08-10 08:32:47                   vuex   \n",
       "736569       zzzzhy   1.0.4 2018-07-09 09:16:20                  react   \n",
       "736570       zzzzhy   1.0.4 2018-07-09 09:16:20              react-dom   \n",
       "736571       zzzzhy   1.0.4 2018-07-09 09:16:20       react-hot-loader   \n",
       "\n",
       "       constraint         interval  selected  c_empty  c_dev  c_major  \\\n",
       "0          ^4.2.0    [4.2.0,5.0.0)      71.0    False  False    False   \n",
       "1         ^2.5.17   [2.5.17,3.0.0)     144.0    False  False    False   \n",
       "2          ^2.3.1    [2.3.1,3.0.0)      30.0    False  False    False   \n",
       "3         ^2.5.17   [2.5.17,3.0.0)      60.0    False  False    False   \n",
       "4          ^2.1.0    [2.1.0,3.0.0)      23.0    False  False    False   \n",
       "...           ...              ...       ...      ...    ...      ...   \n",
       "736567    ^2.16.0   [2.16.0,3.0.0)      25.0    False  False    False   \n",
       "736568     ^3.0.1    [3.0.1,4.0.0)      32.0    False  False    False   \n",
       "736569    ^16.4.0  [16.4.0,17.0.0)      84.0    False  False    False   \n",
       "736570    ^16.4.0  [16.4.0,17.0.0)      52.0    False  False    False   \n",
       "736571     ^4.2.0    [4.2.0,5.0.0)      83.0    False  False    False   \n",
       "\n",
       "        c_minor  c_patch  \n",
       "0          True     True  \n",
       "1          True     True  \n",
       "2          True     True  \n",
       "3          True     True  \n",
       "4          True     True  \n",
       "...         ...      ...  \n",
       "736567     True     True  \n",
       "736568     True     True  \n",
       "736569     True     True  \n",
       "736570     True     True  \n",
       "736571     True     True  \n",
       "\n",
       "[736572 rows x 12 columns]"
      ]
     },
     "execution_count": 5,
     "metadata": {},
     "output_type": "execute_result"
    }
   ],
   "source": [
    "df_dependents = (\n",
    "    pandas.read_csv(\n",
    "        '../data/dependents.csv.gz',\n",
    "        parse_dates=['date'],\n",
    "        infer_datetime_format=True,\n",
    "    )\n",
    ")\n",
    "\n",
    "df_dependents"
   ]
  },
  {
   "cell_type": "markdown",
   "metadata": {},
   "source": [
    "## Dataset overview"
   ]
  },
  {
   "cell_type": "markdown",
   "metadata": {},
   "source": [
    "### Some statistics"
   ]
  },
  {
   "cell_type": "code",
   "execution_count": 6,
   "metadata": {},
   "outputs": [
    {
     "name": "stdout",
     "output_type": "stream",
     "text": [
      "Number of required packages: 4451\n",
      "Number of releases: 157739\n",
      "Oldest release: 2010-11-09 23:36:08\n",
      "\n",
      "Number of dependent packages: 169455\n",
      "Number of dependencies: 736572\n",
      "\n",
      "Number of backports: 3010\n",
      "Number of packages with backports: 432\n",
      "\n",
      "Initial development releases: 53045\n",
      "Packages < 1.0.0: 762\n"
     ]
    }
   ],
   "source": [
    "print('Number of required packages:', len(df_required.drop_duplicates('package')))\n",
    "print('Number of releases:', len(df_required))\n",
    "print('Oldest release:', df_required.date.min())\n",
    "print()\n",
    "print('Number of dependent packages:', len(df_dependents.drop_duplicates('source')))\n",
    "print('Number of dependencies:', len(df_dependents))\n",
    "print()\n",
    "print('Number of backports:', len(df_required[lambda d: d['backported']]))\n",
    "print('Number of packages with backports:', len(df_required[lambda d: d['backported']].drop_duplicates('package')))\n",
    "print()\n",
    "print('Initial development releases:', len(df_required[lambda d: d['major'] == 0]))\n",
    "print('Packages < 1.0.0:', len(df_required.groupby('package', sort=False).agg({'major': 'max'})[lambda d: d['major'] == 0]))"
   ]
  },
  {
   "cell_type": "markdown",
   "metadata": {},
   "source": [
    "### Number of dependents"
   ]
  },
  {
   "cell_type": "code",
   "execution_count": 7,
   "metadata": {},
   "outputs": [
    {
     "data": {
      "image/png": "[encoded data removed]",
      "text/plain": [
       "<Figure size 432x216 with 1 Axes>"
      ]
     },
     "metadata": {
      "needs_background": "light"
     },
     "output_type": "display_data"
    }
   ],
   "source": [
    "fig, ax = matplotlib.pyplot.subplots()\n",
    "\n",
    "data = (\n",
    "    df_dependents\n",
    "    .groupby('target')\n",
    "    [['source']]\n",
    "    .count()\n",
    "    .assign(target=1)\n",
    "    .sort_values('source', ascending=False)\n",
    "    .groupby('source', sort=False)\n",
    "    .sum()\n",
    "    .cumsum()\n",
    "    .pipe(lambda df: df / df_dependents.target.nunique())\n",
    ")\n",
    "\n",
    "data.plot(legend=False, color=PALETTE[0], ax=ax)\n",
    "ax.axvline(20, 0, 1, linestyle=':', color='r', alpha=0.5)\n",
    "ax.text(20, -0.06, '20', va='top', ha='center')\n",
    "\n",
    "ax.set(\n",
    "    xlabel='minimal number of dependents',\n",
    "    xscale='log',\n",
    "    xlim=(10, None),\n",
    "    ylabel='proportion of required packages',\n",
    "    ylim=(0, 1),\n",
    ")\n",
    "ax.acorr\n",
    "savefig(fig, 'overview_dependents')"
   ]
  },
  {
   "cell_type": "code",
   "execution_count": 8,
   "metadata": {},
   "outputs": [
    {
     "data": {
      "text/html": [
       "<div>\n",
       "<style scoped>\n",
       "    .dataframe tbody tr th:only-of-type {\n",
       "        vertical-align: middle;\n",
       "    }\n",
       "\n",
       "    .dataframe tbody tr th {\n",
       "        vertical-align: top;\n",
       "    }\n",
       "\n",
       "    .dataframe thead th {\n",
       "        text-align: right;\n",
       "    }\n",
       "</style>\n",
       "<table border=\"1\" class=\"dataframe\">\n",
       "  <thead>\n",
       "    <tr style=\"text-align: right;\">\n",
       "      <th>target</th>\n",
       "      <th>0.000225</th>\n",
       "      <th>0.100427</th>\n",
       "      <th>0.201977</th>\n",
       "      <th>0.302404</th>\n",
       "      <th>0.402831</th>\n",
       "      <th>0.509548</th>\n",
       "      <th>0.609077</th>\n",
       "      <th>0.700966</th>\n",
       "      <th>0.820714</th>\n",
       "      <th>0.918670</th>\n",
       "    </tr>\n",
       "  </thead>\n",
       "  <tbody>\n",
       "    <tr>\n",
       "      <th>source</th>\n",
       "      <td>18523.0</td>\n",
       "      <td>259.0</td>\n",
       "      <td>121.0</td>\n",
       "      <td>77.0</td>\n",
       "      <td>56.0</td>\n",
       "      <td>43.0</td>\n",
       "      <td>35.0</td>\n",
       "      <td>30.0</td>\n",
       "      <td>25.0</td>\n",
       "      <td>22.0</td>\n",
       "    </tr>\n",
       "  </tbody>\n",
       "</table>\n",
       "</div>"
      ],
      "text/plain": [
       "target  0.000225  0.100427  0.201977  0.302404  0.402831  0.509548  0.609077  \\\n",
       "source   18523.0     259.0     121.0      77.0      56.0      43.0      35.0   \n",
       "\n",
       "target  0.700966  0.820714  0.918670  \n",
       "source      30.0      25.0      22.0  "
      ]
     },
     "execution_count": 8,
     "metadata": {},
     "output_type": "execute_result"
    }
   ],
   "source": [
    "pandas.concat(\n",
    "    (data.reset_index()[lambda d: d['target'] >= p].iloc[0] for p in pandas.np.arange(0, 1, 0.1)),\n",
    "    axis=1\n",
    ").T.set_index('target').T"
   ]
  },
  {
   "cell_type": "markdown",
   "metadata": {},
   "source": [
    "### Evolution of the number of considered required packages"
   ]
  },
  {
   "cell_type": "code",
   "execution_count": 9,
   "metadata": {},
   "outputs": [
    {
     "data": {
      "image/png": "[encoded data removed]",
      "text/plain": [
       "<Figure size 432x216 with 1 Axes>"
      ]
     },
     "metadata": {
      "needs_background": "light"
     },
     "output_type": "display_data"
    }
   ],
   "source": [
    "fig, ax = matplotlib.pyplot.subplots()\n",
    "fig.set_size_inches(FIG_SIZE)\n",
    "\n",
    "data = (\n",
    "    df_required\n",
    "    .sort_values('rank_date')\n",
    "    .drop_duplicates('package', keep='first')\n",
    "    .groupby('date')\n",
    "    [['package']]\n",
    "    .count()\n",
    "    .cumsum()\n",
    "    .pipe(lambda df: df / len(df_required.drop_duplicates('package')))\n",
    "    .rename(columns={'package': 'required packages'})\n",
    "    .plot(color=PALETTE[0], ax=ax)\n",
    ")\n",
    "\n",
    "(\n",
    "    df_required\n",
    "    .groupby('date')\n",
    "    [['version']]\n",
    "    .count()\n",
    "    .cumsum()\n",
    "    .pipe(lambda df: df / len(df_required))\n",
    "    .rename(columns={'version': 'releases of required pkg.'})\n",
    "    .plot(color=PALETTE[1], ax=ax)\n",
    ")\n",
    "\n",
    "(\n",
    "    df_dependents\n",
    "    .groupby('date')\n",
    "    [['source']]\n",
    "    .count()\n",
    "    .cumsum()\n",
    "    .pipe(lambda df: df / len(df_dependents))\n",
    "    .rename(columns={'source': 'releases of dependent pkg.'})\n",
    "    .plot(color=PALETTE[2], ax=ax)\n",
    ")\n",
    "\n",
    "ax.set(\n",
    "    xlabel='',\n",
    "    ylabel='',\n",
    "    ylim=(0, 1)\n",
    ")\n",
    "fig.autofmt_xdate(bottom=0.2, rotation=0, ha='center')\n",
    "\n",
    "savefig(fig, 'overview_required')"
   ]
  },
  {
   "cell_type": "markdown",
   "metadata": {},
   "source": [
    "## How frequently are packages updated?"
   ]
  },
  {
   "cell_type": "markdown",
   "metadata": {},
   "source": [
    "### Time between releases"
   ]
  },
  {
   "cell_type": "markdown",
   "metadata": {},
   "source": [
    "Initial development releases (0.y.z) are excluded. "
   ]
  },
  {
   "cell_type": "code",
   "execution_count": 10,
   "metadata": {},
   "outputs": [],
   "source": [
    "data = []\n",
    "\n",
    "for kind in ['major', 'minor', 'patch', 'initial']:\n",
    "    if kind == 'major':\n",
    "        restricted = ['major']\n",
    "    elif kind == 'minor':\n",
    "        restricted = ['major', 'minor']\n",
    "    elif kind == 'patch' or kind == 'initial':\n",
    "        restricted = ['major', 'minor', 'patch']\n",
    "        \n",
    "    _ = (\n",
    "        df_required\n",
    "        [lambda d: d['major'] != 0]\n",
    "        [['package', 'rank', 'version', 'kind', 'rank_date', 'date']]\n",
    "        .sort_values('rank')\n",
    "        # Find next update\n",
    "        .pipe(lambda df: pandas.merge_asof(\n",
    "            left=df[lambda d: d['kind'] == kind], \n",
    "            right=(\n",
    "                df\n",
    "                [lambda d: d['kind'].isin(restricted)]\n",
    "                .assign(rank_next=lambda d: d['rank'])\n",
    "            ),\n",
    "            by='package',\n",
    "            on='rank',\n",
    "            allow_exact_matches=False,\n",
    "            direction='forward',\n",
    "            suffixes=('', '_next'),\n",
    "        ))\n",
    "        .dropna(subset=['rank_next'])\n",
    "    )\n",
    "    \n",
    "    data.append(_)\n",
    "\n",
    "data = (\n",
    "    pandas.concat(data, axis=0, sort=False)\n",
    "    .assign(\n",
    "        delay=lambda d: (d['date_next'] - d['date']).dt.days / 30,\n",
    "        update=lambda d: d['rank_next'] - d['rank'] - 1,\n",
    "    )\n",
    "    .sort_values(['package', 'rank'])\n",
    ")"
   ]
  },
  {
   "cell_type": "code",
   "execution_count": 11,
   "metadata": {},
   "outputs": [
    {
     "data": {
      "image/png": "[encoded data removed]",
      "text/plain": [
       "<Figure size 432x216 with 1 Axes>"
      ]
     },
     "metadata": {
      "needs_background": "light"
     },
     "output_type": "display_data"
    }
   ],
   "source": [
    "fig, ax = matplotlib.pyplot.subplots()\n",
    "fig.set_size_inches(FIG_SIZE)\n",
    "\n",
    "seaborn.boxenplot(\n",
    "    x='kind',\n",
    "    y='delay',\n",
    "    data=data,\n",
    "    order=['major', 'minor', 'patch'],\n",
    "    palette=PAL_REL,\n",
    "    ax=ax,\n",
    ")\n",
    "\n",
    "ax.set(\n",
    "    xlabel='release type', \n",
    "    ylabel='time between releases (in months)',\n",
    "    ylim=(0, 36),\n",
    ")\n",
    "\n",
    "savefig(fig, 'freq_time_releases')"
   ]
  },
  {
   "cell_type": "code",
   "execution_count": 12,
   "metadata": {},
   "outputs": [
    {
     "data": {
      "text/html": [
       "<div>\n",
       "<style scoped>\n",
       "    .dataframe tbody tr th:only-of-type {\n",
       "        vertical-align: middle;\n",
       "    }\n",
       "\n",
       "    .dataframe tbody tr th {\n",
       "        vertical-align: top;\n",
       "    }\n",
       "\n",
       "    .dataframe thead th {\n",
       "        text-align: right;\n",
       "    }\n",
       "</style>\n",
       "<table border=\"1\" class=\"dataframe\">\n",
       "  <thead>\n",
       "    <tr style=\"text-align: right;\">\n",
       "      <th></th>\n",
       "      <th>kind</th>\n",
       "      <th>initial</th>\n",
       "      <th>major</th>\n",
       "      <th>minor</th>\n",
       "      <th>patch</th>\n",
       "    </tr>\n",
       "  </thead>\n",
       "  <tbody>\n",
       "    <tr>\n",
       "      <th rowspan=\"8\" valign=\"top\">delay</th>\n",
       "      <th>count</th>\n",
       "      <td>1559.000000</td>\n",
       "      <td>5033.000000</td>\n",
       "      <td>22986.000000</td>\n",
       "      <td>67621.000000</td>\n",
       "    </tr>\n",
       "    <tr>\n",
       "      <th>mean</th>\n",
       "      <td>1.991255</td>\n",
       "      <td>8.541254</td>\n",
       "      <td>2.413405</td>\n",
       "      <td>0.890659</td>\n",
       "    </tr>\n",
       "    <tr>\n",
       "      <th>std</th>\n",
       "      <td>5.886762</td>\n",
       "      <td>9.804340</td>\n",
       "      <td>4.562398</td>\n",
       "      <td>2.753582</td>\n",
       "    </tr>\n",
       "    <tr>\n",
       "      <th>min</th>\n",
       "      <td>-90.533333</td>\n",
       "      <td>-43.233333</td>\n",
       "      <td>-66.133333</td>\n",
       "      <td>-55.466667</td>\n",
       "    </tr>\n",
       "    <tr>\n",
       "      <th>25%</th>\n",
       "      <td>0.000000</td>\n",
       "      <td>1.833333</td>\n",
       "      <td>0.233333</td>\n",
       "      <td>0.000000</td>\n",
       "    </tr>\n",
       "    <tr>\n",
       "      <th>50%</th>\n",
       "      <td>0.133333</td>\n",
       "      <td>5.200000</td>\n",
       "      <td>0.900000</td>\n",
       "      <td>0.166667</td>\n",
       "    </tr>\n",
       "    <tr>\n",
       "      <th>75%</th>\n",
       "      <td>1.316667</td>\n",
       "      <td>11.766667</td>\n",
       "      <td>2.666667</td>\n",
       "      <td>0.733333</td>\n",
       "    </tr>\n",
       "    <tr>\n",
       "      <th>max</th>\n",
       "      <td>56.133333</td>\n",
       "      <td>79.500000</td>\n",
       "      <td>75.000000</td>\n",
       "      <td>74.700000</td>\n",
       "    </tr>\n",
       "    <tr>\n",
       "      <th rowspan=\"8\" valign=\"top\">update</th>\n",
       "      <th>count</th>\n",
       "      <td>1559.000000</td>\n",
       "      <td>5033.000000</td>\n",
       "      <td>22986.000000</td>\n",
       "      <td>67621.000000</td>\n",
       "    </tr>\n",
       "    <tr>\n",
       "      <th>mean</th>\n",
       "      <td>0.000000</td>\n",
       "      <td>8.488973</td>\n",
       "      <td>1.864657</td>\n",
       "      <td>0.000000</td>\n",
       "    </tr>\n",
       "    <tr>\n",
       "      <th>std</th>\n",
       "      <td>0.000000</td>\n",
       "      <td>14.066569</td>\n",
       "      <td>10.756663</td>\n",
       "      <td>0.000000</td>\n",
       "    </tr>\n",
       "    <tr>\n",
       "      <th>min</th>\n",
       "      <td>0.000000</td>\n",
       "      <td>0.000000</td>\n",
       "      <td>0.000000</td>\n",
       "      <td>0.000000</td>\n",
       "    </tr>\n",
       "    <tr>\n",
       "      <th>25%</th>\n",
       "      <td>0.000000</td>\n",
       "      <td>1.000000</td>\n",
       "      <td>0.000000</td>\n",
       "      <td>0.000000</td>\n",
       "    </tr>\n",
       "    <tr>\n",
       "      <th>50%</th>\n",
       "      <td>0.000000</td>\n",
       "      <td>4.000000</td>\n",
       "      <td>1.000000</td>\n",
       "      <td>0.000000</td>\n",
       "    </tr>\n",
       "    <tr>\n",
       "      <th>75%</th>\n",
       "      <td>0.000000</td>\n",
       "      <td>10.000000</td>\n",
       "      <td>2.000000</td>\n",
       "      <td>0.000000</td>\n",
       "    </tr>\n",
       "    <tr>\n",
       "      <th>max</th>\n",
       "      <td>0.000000</td>\n",
       "      <td>314.000000</td>\n",
       "      <td>1215.000000</td>\n",
       "      <td>0.000000</td>\n",
       "    </tr>\n",
       "  </tbody>\n",
       "</table>\n",
       "</div>"
      ],
      "text/plain": [
       "kind              initial        major         minor         patch\n",
       "delay  count  1559.000000  5033.000000  22986.000000  67621.000000\n",
       "       mean      1.991255     8.541254      2.413405      0.890659\n",
       "       std       5.886762     9.804340      4.562398      2.753582\n",
       "       min     -90.533333   -43.233333    -66.133333    -55.466667\n",
       "       25%       0.000000     1.833333      0.233333      0.000000\n",
       "       50%       0.133333     5.200000      0.900000      0.166667\n",
       "       75%       1.316667    11.766667      2.666667      0.733333\n",
       "       max      56.133333    79.500000     75.000000     74.700000\n",
       "update count  1559.000000  5033.000000  22986.000000  67621.000000\n",
       "       mean      0.000000     8.488973      1.864657      0.000000\n",
       "       std       0.000000    14.066569     10.756663      0.000000\n",
       "       min       0.000000     0.000000      0.000000      0.000000\n",
       "       25%       0.000000     1.000000      0.000000      0.000000\n",
       "       50%       0.000000     4.000000      1.000000      0.000000\n",
       "       75%       0.000000    10.000000      2.000000      0.000000\n",
       "       max       0.000000   314.000000   1215.000000      0.000000"
      ]
     },
     "execution_count": 12,
     "metadata": {},
     "output_type": "execute_result"
    }
   ],
   "source": [
    "data.groupby('kind')[['delay', 'update']].describe().T"
   ]
  },
  {
   "cell_type": "markdown",
   "metadata": {},
   "source": [
    "### Average time between releases"
   ]
  },
  {
   "cell_type": "code",
   "execution_count": 13,
   "metadata": {},
   "outputs": [
    {
     "data": {
      "image/png": "[encoded data removed]",
      "text/plain": [
       "<Figure size 432x216 with 1 Axes>"
      ]
     },
     "metadata": {
      "needs_background": "light"
     },
     "output_type": "display_data"
    }
   ],
   "source": [
    "fig, ax = matplotlib.pyplot.subplots()\n",
    "fig.set_size_inches(FIG_SIZE)\n",
    "\n",
    "seaborn.boxenplot(\n",
    "    x='kind',\n",
    "    y='delay',\n",
    "    data=(\n",
    "        data\n",
    "        .groupby(['package', 'kind'], sort=False, as_index=False)\n",
    "        .mean()\n",
    "    ),\n",
    "    order=['major', 'minor', 'patch'],\n",
    "    palette=PAL_REL,\n",
    "    ax=ax,\n",
    ")\n",
    "\n",
    "ax.set(\n",
    "    xlabel='release type', \n",
    "    ylabel='average time between\\nreleases (in months)',\n",
    "    ylim=(0, 36),\n",
    ")\n",
    "\n",
    "savefig(fig, 'freq_package_time_releases')"
   ]
  },
  {
   "cell_type": "code",
   "execution_count": 14,
   "metadata": {},
   "outputs": [
    {
     "data": {
      "text/html": [
       "<div>\n",
       "<style scoped>\n",
       "    .dataframe tbody tr th:only-of-type {\n",
       "        vertical-align: middle;\n",
       "    }\n",
       "\n",
       "    .dataframe tbody tr th {\n",
       "        vertical-align: top;\n",
       "    }\n",
       "\n",
       "    .dataframe thead th {\n",
       "        text-align: right;\n",
       "    }\n",
       "</style>\n",
       "<table border=\"1\" class=\"dataframe\">\n",
       "  <thead>\n",
       "    <tr style=\"text-align: right;\">\n",
       "      <th></th>\n",
       "      <th>kind</th>\n",
       "      <th>initial</th>\n",
       "      <th>major</th>\n",
       "      <th>minor</th>\n",
       "      <th>patch</th>\n",
       "    </tr>\n",
       "  </thead>\n",
       "  <tbody>\n",
       "    <tr>\n",
       "      <th rowspan=\"8\" valign=\"top\">delay</th>\n",
       "      <th>count</th>\n",
       "      <td>1559.000000</td>\n",
       "      <td>1826.000000</td>\n",
       "      <td>2664.000000</td>\n",
       "      <td>3208.000000</td>\n",
       "    </tr>\n",
       "    <tr>\n",
       "      <th>mean</th>\n",
       "      <td>1.991255</td>\n",
       "      <td>11.924481</td>\n",
       "      <td>4.739523</td>\n",
       "      <td>2.458305</td>\n",
       "    </tr>\n",
       "    <tr>\n",
       "      <th>std</th>\n",
       "      <td>5.886762</td>\n",
       "      <td>10.398760</td>\n",
       "      <td>5.587899</td>\n",
       "      <td>3.829473</td>\n",
       "    </tr>\n",
       "    <tr>\n",
       "      <th>min</th>\n",
       "      <td>-90.533333</td>\n",
       "      <td>-18.150000</td>\n",
       "      <td>-15.200000</td>\n",
       "      <td>-4.500000</td>\n",
       "    </tr>\n",
       "    <tr>\n",
       "      <th>25%</th>\n",
       "      <td>0.000000</td>\n",
       "      <td>5.050833</td>\n",
       "      <td>1.555556</td>\n",
       "      <td>0.547238</td>\n",
       "    </tr>\n",
       "    <tr>\n",
       "      <th>50%</th>\n",
       "      <td>0.133333</td>\n",
       "      <td>9.108333</td>\n",
       "      <td>2.933333</td>\n",
       "      <td>1.310932</td>\n",
       "    </tr>\n",
       "    <tr>\n",
       "      <th>75%</th>\n",
       "      <td>1.316667</td>\n",
       "      <td>15.558333</td>\n",
       "      <td>5.783333</td>\n",
       "      <td>2.850000</td>\n",
       "    </tr>\n",
       "    <tr>\n",
       "      <th>max</th>\n",
       "      <td>56.133333</td>\n",
       "      <td>79.500000</td>\n",
       "      <td>67.166667</td>\n",
       "      <td>59.233333</td>\n",
       "    </tr>\n",
       "    <tr>\n",
       "      <th rowspan=\"8\" valign=\"top\">update</th>\n",
       "      <th>count</th>\n",
       "      <td>1559.000000</td>\n",
       "      <td>1826.000000</td>\n",
       "      <td>2664.000000</td>\n",
       "      <td>3208.000000</td>\n",
       "    </tr>\n",
       "    <tr>\n",
       "      <th>mean</th>\n",
       "      <td>0.000000</td>\n",
       "      <td>9.595264</td>\n",
       "      <td>2.045599</td>\n",
       "      <td>0.000000</td>\n",
       "    </tr>\n",
       "    <tr>\n",
       "      <th>std</th>\n",
       "      <td>0.000000</td>\n",
       "      <td>14.273836</td>\n",
       "      <td>5.637915</td>\n",
       "      <td>0.000000</td>\n",
       "    </tr>\n",
       "    <tr>\n",
       "      <th>min</th>\n",
       "      <td>0.000000</td>\n",
       "      <td>0.000000</td>\n",
       "      <td>0.000000</td>\n",
       "      <td>0.000000</td>\n",
       "    </tr>\n",
       "    <tr>\n",
       "      <th>25%</th>\n",
       "      <td>0.000000</td>\n",
       "      <td>2.333333</td>\n",
       "      <td>0.500000</td>\n",
       "      <td>0.000000</td>\n",
       "    </tr>\n",
       "    <tr>\n",
       "      <th>50%</th>\n",
       "      <td>0.000000</td>\n",
       "      <td>5.055556</td>\n",
       "      <td>1.068966</td>\n",
       "      <td>0.000000</td>\n",
       "    </tr>\n",
       "    <tr>\n",
       "      <th>75%</th>\n",
       "      <td>0.000000</td>\n",
       "      <td>11.729167</td>\n",
       "      <td>2.287202</td>\n",
       "      <td>0.000000</td>\n",
       "    </tr>\n",
       "    <tr>\n",
       "      <th>max</th>\n",
       "      <td>0.000000</td>\n",
       "      <td>314.000000</td>\n",
       "      <td>233.000000</td>\n",
       "      <td>0.000000</td>\n",
       "    </tr>\n",
       "  </tbody>\n",
       "</table>\n",
       "</div>"
      ],
      "text/plain": [
       "kind              initial        major        minor        patch\n",
       "delay  count  1559.000000  1826.000000  2664.000000  3208.000000\n",
       "       mean      1.991255    11.924481     4.739523     2.458305\n",
       "       std       5.886762    10.398760     5.587899     3.829473\n",
       "       min     -90.533333   -18.150000   -15.200000    -4.500000\n",
       "       25%       0.000000     5.050833     1.555556     0.547238\n",
       "       50%       0.133333     9.108333     2.933333     1.310932\n",
       "       75%       1.316667    15.558333     5.783333     2.850000\n",
       "       max      56.133333    79.500000    67.166667    59.233333\n",
       "update count  1559.000000  1826.000000  2664.000000  3208.000000\n",
       "       mean      0.000000     9.595264     2.045599     0.000000\n",
       "       std       0.000000    14.273836     5.637915     0.000000\n",
       "       min       0.000000     0.000000     0.000000     0.000000\n",
       "       25%       0.000000     2.333333     0.500000     0.000000\n",
       "       50%       0.000000     5.055556     1.068966     0.000000\n",
       "       75%       0.000000    11.729167     2.287202     0.000000\n",
       "       max       0.000000   314.000000   233.000000     0.000000"
      ]
     },
     "execution_count": 14,
     "metadata": {},
     "output_type": "execute_result"
    }
   ],
   "source": [
    "(\n",
    "    data\n",
    "    .groupby(['package', 'kind'], sort=False, as_index=False)\n",
    "    .mean()\n",
    "    .groupby('kind')[['delay', 'update']]\n",
    "    .describe()\n",
    "    .T\n",
    ")"
   ]
  },
  {
   "cell_type": "markdown",
   "metadata": {},
   "source": [
    "### Major frequency (time and updates)"
   ]
  },
  {
   "cell_type": "code",
   "execution_count": 15,
   "metadata": {},
   "outputs": [
    {
     "data": {
      "image/png": "[encoded data removed]",
      "text/plain": [
       "<Figure size 432x216 with 3 Axes>"
      ]
     },
     "metadata": {
      "needs_background": "light"
     },
     "output_type": "display_data"
    }
   ],
   "source": [
    "g = seaborn.JointGrid(\n",
    "    x='update',\n",
    "    y='delay',\n",
    "    data=(\n",
    "        data\n",
    "        [lambda d: d['kind'] == 'major']\n",
    "        .assign(\n",
    "            delay=lambda d: d['delay'] + pandas.np.random.rand(d.shape[0]) - 0.5,\n",
    "            update=lambda d: d['update'] + pandas.np.random.rand(d.shape[0]) - 0.5,\n",
    "        )\n",
    "    ),\n",
    "    xlim=(0, 50),\n",
    "    ylim=(0, 50)\n",
    ")\n",
    "g.plot_joint(seaborn.scatterplot, color=PAL_REL['major'], marker='.', s=50)\n",
    "g.plot_marginals(seaborn.kdeplot, color=PAL_REL['major'], shade=True)\n",
    "\n",
    "g.fig.set_size_inches(FIG_SIZE)\n",
    "\n",
    "g.ax_joint.set(\n",
    "    xlabel='number of updates between\\nmajor releases (jitter=0.5)',\n",
    "    ylabel='time between\\nmajor releases (in months)',\n",
    ")\n",
    "\n",
    "savefig(g.fig, 'freq_major')"
   ]
  },
  {
   "cell_type": "code",
   "execution_count": 16,
   "metadata": {},
   "outputs": [
    {
     "data": {
      "text/html": [
       "<div>\n",
       "<style scoped>\n",
       "    .dataframe tbody tr th:only-of-type {\n",
       "        vertical-align: middle;\n",
       "    }\n",
       "\n",
       "    .dataframe tbody tr th {\n",
       "        vertical-align: top;\n",
       "    }\n",
       "\n",
       "    .dataframe thead th {\n",
       "        text-align: right;\n",
       "    }\n",
       "</style>\n",
       "<table border=\"1\" class=\"dataframe\">\n",
       "  <thead>\n",
       "    <tr style=\"text-align: right;\">\n",
       "      <th></th>\n",
       "      <th>count</th>\n",
       "      <th>mean</th>\n",
       "      <th>std</th>\n",
       "      <th>min</th>\n",
       "      <th>25%</th>\n",
       "      <th>50%</th>\n",
       "      <th>75%</th>\n",
       "      <th>max</th>\n",
       "    </tr>\n",
       "  </thead>\n",
       "  <tbody>\n",
       "    <tr>\n",
       "      <th>delay</th>\n",
       "      <td>5033.0</td>\n",
       "      <td>8.541254</td>\n",
       "      <td>9.804340</td>\n",
       "      <td>-43.233333</td>\n",
       "      <td>1.833333</td>\n",
       "      <td>5.2</td>\n",
       "      <td>11.766667</td>\n",
       "      <td>79.5</td>\n",
       "    </tr>\n",
       "    <tr>\n",
       "      <th>update</th>\n",
       "      <td>5033.0</td>\n",
       "      <td>8.488973</td>\n",
       "      <td>14.066569</td>\n",
       "      <td>0.000000</td>\n",
       "      <td>1.000000</td>\n",
       "      <td>4.0</td>\n",
       "      <td>10.000000</td>\n",
       "      <td>314.0</td>\n",
       "    </tr>\n",
       "  </tbody>\n",
       "</table>\n",
       "</div>"
      ],
      "text/plain": [
       "         count      mean        std        min       25%  50%        75%  \\\n",
       "delay   5033.0  8.541254   9.804340 -43.233333  1.833333  5.2  11.766667   \n",
       "update  5033.0  8.488973  14.066569   0.000000  1.000000  4.0  10.000000   \n",
       "\n",
       "          max  \n",
       "delay    79.5  \n",
       "update  314.0  "
      ]
     },
     "execution_count": 16,
     "metadata": {},
     "output_type": "execute_result"
    }
   ],
   "source": [
    "(\n",
    "    data\n",
    "    [lambda d: d['kind'] == 'major']\n",
    "    [['delay', 'update']]\n",
    "    .describe()\n",
    "    .T\n",
    ")"
   ]
  },
  {
   "cell_type": "markdown",
   "metadata": {},
   "source": [
    "### Major frequency vs. update frequency (per package)"
   ]
  },
  {
   "cell_type": "code",
   "execution_count": 17,
   "metadata": {},
   "outputs": [
    {
     "data": {
      "image/png": "[encoded data removed]",
      "text/plain": [
       "<Figure size 432x216 with 3 Axes>"
      ]
     },
     "metadata": {
      "needs_background": "light"
     },
     "output_type": "display_data"
    }
   ],
   "source": [
    "\n",
    "g = seaborn.JointGrid(\n",
    "    x='update',\n",
    "    y='delay',\n",
    "    data=(\n",
    "        data\n",
    "        [lambda d: d['kind'] == 'major']\n",
    "        .assign(\n",
    "            delay=lambda d: d['delay'] + pandas.np.random.rand(d.shape[0]) - 0.5,\n",
    "            update=lambda d: d['update'] + pandas.np.random.rand(d.shape[0]) - 0.5,\n",
    "        )\n",
    "        .groupby(['package', 'kind'], sort=False, as_index=False)\n",
    "        .mean()\n",
    "    ),\n",
    "    xlim=(0, 50),\n",
    "    ylim=(0, 50)\n",
    ")\n",
    "g.plot_joint(seaborn.scatterplot, color=PAL_REL['major'], marker='.', s=50)\n",
    "g.plot_marginals(seaborn.kdeplot, color=PAL_REL['major'], shade=True)\n",
    "\n",
    "g.fig.set_size_inches(FIG_SIZE)\n",
    "g.ax_joint.set(\n",
    "    xlabel='average number of updates between\\nmajor releases (jitter=0.5)',\n",
    "    ylabel='average time between\\nmajor releases (in months)',\n",
    ")\n",
    "\n",
    "savefig(g.fig, 'freq_package_major')"
   ]
  },
  {
   "cell_type": "code",
   "execution_count": 18,
   "metadata": {},
   "outputs": [
    {
     "data": {
      "text/html": [
       "<div>\n",
       "<style scoped>\n",
       "    .dataframe tbody tr th:only-of-type {\n",
       "        vertical-align: middle;\n",
       "    }\n",
       "\n",
       "    .dataframe tbody tr th {\n",
       "        vertical-align: top;\n",
       "    }\n",
       "\n",
       "    .dataframe thead th {\n",
       "        text-align: right;\n",
       "    }\n",
       "</style>\n",
       "<table border=\"1\" class=\"dataframe\">\n",
       "  <thead>\n",
       "    <tr style=\"text-align: right;\">\n",
       "      <th></th>\n",
       "      <th>count</th>\n",
       "      <th>mean</th>\n",
       "      <th>std</th>\n",
       "      <th>min</th>\n",
       "      <th>25%</th>\n",
       "      <th>50%</th>\n",
       "      <th>75%</th>\n",
       "      <th>max</th>\n",
       "    </tr>\n",
       "  </thead>\n",
       "  <tbody>\n",
       "    <tr>\n",
       "      <th>delay</th>\n",
       "      <td>1826.0</td>\n",
       "      <td>11.924481</td>\n",
       "      <td>10.398760</td>\n",
       "      <td>-18.15</td>\n",
       "      <td>5.050833</td>\n",
       "      <td>9.108333</td>\n",
       "      <td>15.558333</td>\n",
       "      <td>79.5</td>\n",
       "    </tr>\n",
       "    <tr>\n",
       "      <th>update</th>\n",
       "      <td>1826.0</td>\n",
       "      <td>9.595264</td>\n",
       "      <td>14.273836</td>\n",
       "      <td>0.00</td>\n",
       "      <td>2.333333</td>\n",
       "      <td>5.055556</td>\n",
       "      <td>11.729167</td>\n",
       "      <td>314.0</td>\n",
       "    </tr>\n",
       "  </tbody>\n",
       "</table>\n",
       "</div>"
      ],
      "text/plain": [
       "         count       mean        std    min       25%       50%        75%  \\\n",
       "delay   1826.0  11.924481  10.398760 -18.15  5.050833  9.108333  15.558333   \n",
       "update  1826.0   9.595264  14.273836   0.00  2.333333  5.055556  11.729167   \n",
       "\n",
       "          max  \n",
       "delay    79.5  \n",
       "update  314.0  "
      ]
     },
     "execution_count": 18,
     "metadata": {},
     "output_type": "execute_result"
    }
   ],
   "source": [
    "(\n",
    "    data\n",
    "    [lambda d: d['kind'] == 'major']\n",
    "    .groupby(['package', 'kind'], sort=False, as_index=False)\n",
    "    [['delay', 'update']]\n",
    "    .mean()\n",
    "    .describe()\n",
    "    .T\n",
    ")"
   ]
  },
  {
   "cell_type": "markdown",
   "metadata": {},
   "source": [
    "### Stability index\n",
    "\n",
    "(1 - nb major / nb update) / (time between update)???\n"
   ]
  },
  {
   "cell_type": "code",
   "execution_count": null,
   "metadata": {},
   "outputs": [],
   "source": []
  },
  {
   "cell_type": "markdown",
   "metadata": {},
   "source": [
    "## How many versions are required?"
   ]
  },
  {
   "cell_type": "markdown",
   "metadata": {},
   "source": [
    "### Softness of dependency constraints"
   ]
  },
  {
   "cell_type": "code",
   "execution_count": null,
   "metadata": {},
   "outputs": [],
   "source": []
  },
  {
   "cell_type": "markdown",
   "metadata": {},
   "source": [
    "### Number of available/required versions"
   ]
  },
  {
   "cell_type": "code",
   "execution_count": null,
   "metadata": {},
   "outputs": [],
   "source": []
  },
  {
   "cell_type": "markdown",
   "metadata": {},
   "source": [
    "### Number of required packages w.r.t. required versions"
   ]
  },
  {
   "cell_type": "code",
   "execution_count": null,
   "metadata": {},
   "outputs": [],
   "source": []
  },
  {
   "cell_type": "markdown",
   "metadata": {},
   "source": [
    "### Reuse index\n",
    "\n",
    "e.g. Gini index dependents:releases"
   ]
  },
  {
   "cell_type": "code",
   "execution_count": null,
   "metadata": {},
   "outputs": [],
   "source": []
  },
  {
   "cell_type": "markdown",
   "metadata": {},
   "source": [
    "### Release type of required versions\n",
    "\n",
    "e.g. latest, a previous major, a previous minor, a previous patch."
   ]
  },
  {
   "cell_type": "code",
   "execution_count": null,
   "metadata": {},
   "outputs": [],
   "source": []
  },
  {
   "cell_type": "markdown",
   "metadata": {},
   "source": [
    "### Time lag of required versions"
   ]
  },
  {
   "cell_type": "code",
   "execution_count": null,
   "metadata": {},
   "outputs": [],
   "source": []
  },
  {
   "cell_type": "markdown",
   "metadata": {},
   "source": [
    "### Number of available/required major"
   ]
  },
  {
   "cell_type": "code",
   "execution_count": null,
   "metadata": {},
   "outputs": [],
   "source": []
  },
  {
   "cell_type": "markdown",
   "metadata": {},
   "source": [
    "### Number of required packages w.r.t. number of required majors"
   ]
  },
  {
   "cell_type": "code",
   "execution_count": null,
   "metadata": {},
   "outputs": [],
   "source": []
  },
  {
   "cell_type": "markdown",
   "metadata": {},
   "source": [
    "### Major reuse index\n",
    "\n",
    "e.g. Gini index dependents:major"
   ]
  },
  {
   "cell_type": "code",
   "execution_count": null,
   "metadata": {},
   "outputs": [],
   "source": []
  },
  {
   "cell_type": "markdown",
   "metadata": {},
   "source": [
    "## How prevalent are backports?"
   ]
  },
  {
   "cell_type": "markdown",
   "metadata": {},
   "source": [
    "### Number of packages with backports"
   ]
  },
  {
   "cell_type": "code",
   "execution_count": null,
   "metadata": {},
   "outputs": [],
   "source": []
  },
  {
   "cell_type": "markdown",
   "metadata": {},
   "source": [
    "### Number of backported releases"
   ]
  },
  {
   "cell_type": "code",
   "execution_count": null,
   "metadata": {},
   "outputs": [],
   "source": []
  },
  {
   "cell_type": "markdown",
   "metadata": {},
   "source": [
    "### Relation with number of required major?"
   ]
  },
  {
   "cell_type": "code",
   "execution_count": null,
   "metadata": {},
   "outputs": [],
   "source": []
  },
  {
   "cell_type": "markdown",
   "metadata": {},
   "source": [
    "### Backport coverage\n",
    "\n",
    "e.g. proportion of dependents using either the highest major or a major with a backport"
   ]
  },
  {
   "cell_type": "code",
   "execution_count": null,
   "metadata": {},
   "outputs": [],
   "source": []
  },
  {
   "cell_type": "markdown",
   "metadata": {},
   "source": [
    "## Relation between metrics"
   ]
  },
  {
   "cell_type": "markdown",
   "metadata": {},
   "source": [
    "### Correlation between metrics"
   ]
  },
  {
   "cell_type": "code",
   "execution_count": null,
   "metadata": {},
   "outputs": [],
   "source": []
  },
  {
   "cell_type": "markdown",
   "metadata": {},
   "source": [
    "## Which releases are backported?"
   ]
  },
  {
   "cell_type": "markdown",
   "metadata": {},
   "source": [
    "### Type of backports"
   ]
  },
  {
   "cell_type": "code",
   "execution_count": null,
   "metadata": {},
   "outputs": [],
   "source": []
  },
  {
   "cell_type": "markdown",
   "metadata": {},
   "source": [
    "### Type of backported releases"
   ]
  },
  {
   "cell_type": "code",
   "execution_count": null,
   "metadata": {},
   "outputs": [],
   "source": []
  },
  {
   "cell_type": "markdown",
   "metadata": {},
   "source": [
    "## How long to backport releases?\n",
    "\n",
    "In terms of time and #updates."
   ]
  },
  {
   "cell_type": "markdown",
   "metadata": {},
   "source": [
    "### Since last update, compared to other releases"
   ]
  },
  {
   "cell_type": "code",
   "execution_count": null,
   "metadata": {},
   "outputs": [],
   "source": []
  },
  {
   "cell_type": "markdown",
   "metadata": {},
   "source": [
    "### Since latest major\n",
    "\n",
    "e.g. since 3.0.0 for a 2.0.1 backport, assuming 3.2.1 is latest."
   ]
  },
  {
   "cell_type": "code",
   "execution_count": null,
   "metadata": {},
   "outputs": [],
   "source": []
  },
  {
   "cell_type": "markdown",
   "metadata": {},
   "source": [
    "### Since last release in current major\n",
    "\n",
    "e.g. since 2.0.0 for a 2.0.1 backport, assuming 2.0.0 was the latest before 3.0.0."
   ]
  },
  {
   "cell_type": "code",
   "execution_count": null,
   "metadata": {},
   "outputs": [],
   "source": []
  },
  {
   "cell_type": "markdown",
   "metadata": {},
   "source": [
    "## Tooling & metrics"
   ]
  },
  {
   "cell_type": "markdown",
   "metadata": {},
   "source": [
    "### Tool: Show library usage"
   ]
  },
  {
   "cell_type": "code",
   "execution_count": null,
   "metadata": {},
   "outputs": [],
   "source": []
  },
  {
   "cell_type": "markdown",
   "metadata": {},
   "source": [
    "### Tool: Show update \"impact\""
   ]
  },
  {
   "cell_type": "code",
   "execution_count": null,
   "metadata": {},
   "outputs": [],
   "source": []
  }
 ],
 "metadata": {
  "kernelspec": {
   "display_name": "Python 3",
   "language": "python",
   "name": "python3"
  },
  "language_info": {
   "codemirror_mode": {
    "name": "ipython",
    "version": 3
   },
   "file_extension": ".py",
   "mimetype": "text/x-python",
   "name": "python",
   "nbconvert_exporter": "python",
   "pygments_lexer": "ipython3",
   "version": "3.7.5"
  }
 },
 "nbformat": 4,
 "nbformat_minor": 4
}
