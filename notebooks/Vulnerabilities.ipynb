{
 "cells": [
  {
   "cell_type": "markdown",
   "metadata": {},
   "source": [
    "This notebook aims to study the vulnerabilities and how their fixes relate to backported updates. \n",
    "\n",
    "The data we relied on are subject to a non-disclosure agreement. That means we are not allowed to share these data, so you'll have to trust us ;)"
   ]
  },
  {
   "cell_type": "code",
   "execution_count": 1,
   "metadata": {},
   "outputs": [],
   "source": [
    "import pandas\n",
    "import numpy as np\n",
    "import matplotlib\n",
    "import seaborn\n",
    "\n",
    "from IPython.display import display\n",
    "\n",
    "%matplotlib inline"
   ]
  },
  {
   "cell_type": "code",
   "execution_count": 2,
   "metadata": {},
   "outputs": [],
   "source": [
    "FIG_SIZE = (8, 3)\n",
    "FIG_SIZE_WIDE = (8, 2.5)\n",
    "\n",
    "ECOSYSTEMS = ['NPM', 'Rubygems']\n",
    "DATE_RANGE = pandas.to_datetime('2015-01-01'), pandas.to_datetime('2020-01-01')\n",
    "CENSOR_DATE = pandas.to_datetime('2020-01-12')\n",
    "\n",
    "PALETTE = seaborn.color_palette()\n",
    "PAL_REL = np.take(seaborn.color_palette('muted'), [3, 8, 2, 0], axis=0)\n",
    "COLORS = {'NPM': PALETTE[1], 'Rubygems': PALETTE[3]}\n",
    "\n",
    "matplotlib.rcParams['figure.figsize'] = FIG_SIZE\n",
    "matplotlib.rcParams['legend.framealpha'] = 1\n",
    "matplotlib.rcParams['text.latex.preamble'] = r'\\usepackage{amsmath}'\n",
    "\n",
    "SAVEFIG = False\n",
    "\n",
    "def _savefig(fig, name):\n",
    "    import os\n",
    "    fig.savefig(\n",
    "        os.path.join('..', 'figures', '{}.pdf'.format(name)),\n",
    "        bbox_inches='tight'\n",
    "    )\n",
    "    \n",
    "savefig = _savefig if SAVEFIG else lambda x, y: None"
   ]
  },
  {
   "cell_type": "markdown",
   "metadata": {},
   "source": [
    "# Dataset"
   ]
  },
  {
   "cell_type": "code",
   "execution_count": 58,
   "metadata": {},
   "outputs": [],
   "source": [
    "df_vuln = (\n",
    "    pandas.read_csv('../data-raw/vulnerabilities.csv.gz', index_col=0, infer_datetime_format=True, parse_dates=['published', 'disclosed'])\n",
    "    .rename(columns={\n",
    "        'Id': 'id',\n",
    "        'vuln_name': 'vulnerability', \n",
    "        'base': 'ecosystem', \n",
    "        'cvssScore': 'score',\n",
    "        'fixedIn': 'fixed', \n",
    "        'affecting': 'affected',\n",
    "    })\n",
    "    .replace({'ecosystem': {'npm': 'NPM', 'RubyGems': 'Rubygems'}})\n",
    ")"
   ]
  },
  {
   "cell_type": "markdown",
   "metadata": {},
   "source": [
    "The dataset contains expressions to capture which versions are affected, and in which versions a vulnerability was fixed. \n",
    "We'll parse these expressions to convert them to intervals, so we can manipulate them more easily. "
   ]
  },
  {
   "cell_type": "code",
   "execution_count": 12,
   "metadata": {},
   "outputs": [],
   "source": [
    "import sys\n",
    "\n",
    "sys.path.append('../data')\n",
    "\n",
    "from parsers import parse_or_empty, NPMParser\n",
    "\n",
    "parser = NPMParser()\n",
    "\n",
    "affected = dict()\n",
    "fixed = dict()\n",
    "\n",
    "for expr in df_vuln.affected.drop_duplicates():\n",
    "    affected[expr] = parse_or_empty(parser, expr)\n",
    "    \n",
    "for expr in df_vuln.fixed.drop_duplicates():\n",
    "    fixed[expr] = parse_or_empty(parser, expr)"
   ]
  },
  {
   "cell_type": "code",
   "execution_count": 59,
   "metadata": {},
   "outputs": [],
   "source": [
    "df_vuln = (\n",
    "    df_vuln\n",
    "    .replace({\n",
    "        'affected': {k: str(v) for k,v in affected.items()},\n",
    "        'fixed': {k: str(v) for k,v in fixed.items()},\n",
    "    })\n",
    "    .assign(status=lambda d: np.where(d['fixed'] == '()', 'open', 'closed'))\n",
    ")"
   ]
  },
  {
   "cell_type": "code",
   "execution_count": 61,
   "metadata": {},
   "outputs": [
    {
     "data": {
      "text/html": [
       "<div>\n",
       "<style scoped>\n",
       "    .dataframe tbody tr th:only-of-type {\n",
       "        vertical-align: middle;\n",
       "    }\n",
       "\n",
       "    .dataframe tbody tr th {\n",
       "        vertical-align: top;\n",
       "    }\n",
       "\n",
       "    .dataframe thead th {\n",
       "        text-align: right;\n",
       "    }\n",
       "</style>\n",
       "<table border=\"1\" class=\"dataframe\">\n",
       "  <thead>\n",
       "    <tr style=\"text-align: right;\">\n",
       "      <th></th>\n",
       "      <th>id</th>\n",
       "      <th>package</th>\n",
       "      <th>published</th>\n",
       "      <th>disclosed</th>\n",
       "      <th>severity</th>\n",
       "      <th>vulnerability</th>\n",
       "      <th>ecosystem</th>\n",
       "      <th>score</th>\n",
       "      <th>fixed</th>\n",
       "      <th>affected</th>\n",
       "      <th>status</th>\n",
       "    </tr>\n",
       "  </thead>\n",
       "  <tbody>\n",
       "    <tr>\n",
       "      <th>0</th>\n",
       "      <td>SNYK-JS-MBACKDOOR-565090</td>\n",
       "      <td>m-backdoor</td>\n",
       "      <td>2020-04-12</td>\n",
       "      <td>2020-04-10</td>\n",
       "      <td>critical</td>\n",
       "      <td>Malicious Package</td>\n",
       "      <td>NPM</td>\n",
       "      <td>9.8</td>\n",
       "      <td>()</td>\n",
       "      <td>[0.0.0,+inf)</td>\n",
       "      <td>open</td>\n",
       "    </tr>\n",
       "    <tr>\n",
       "      <th>1</th>\n",
       "      <td>SNYK-JS-PAYPALADAPTIVE-565089</td>\n",
       "      <td>paypal-adaptive</td>\n",
       "      <td>2020-04-12</td>\n",
       "      <td>2020-04-12</td>\n",
       "      <td>medium</td>\n",
       "      <td>Prototype Pollution</td>\n",
       "      <td>NPM</td>\n",
       "      <td>4.2</td>\n",
       "      <td>()</td>\n",
       "      <td>[0.0.0,+inf)</td>\n",
       "      <td>open</td>\n",
       "    </tr>\n",
       "    <tr>\n",
       "      <th>2</th>\n",
       "      <td>SNYK-JS-GRUNTUTILPROPERTY-565088</td>\n",
       "      <td>grunt-util-property</td>\n",
       "      <td>2020-04-12</td>\n",
       "      <td>2020-04-12</td>\n",
       "      <td>medium</td>\n",
       "      <td>Prototype Pollution</td>\n",
       "      <td>NPM</td>\n",
       "      <td>4.0</td>\n",
       "      <td>()</td>\n",
       "      <td>[0.0.0,+inf)</td>\n",
       "      <td>open</td>\n",
       "    </tr>\n",
       "    <tr>\n",
       "      <th>3</th>\n",
       "      <td>SNYK-JS-ELECTRON-565052</td>\n",
       "      <td>electron</td>\n",
       "      <td>2020-04-10</td>\n",
       "      <td>2020-03-06</td>\n",
       "      <td>high</td>\n",
       "      <td>Out-of-bounds Read</td>\n",
       "      <td>NPM</td>\n",
       "      <td>7.3</td>\n",
       "      <td>[8.2.0]</td>\n",
       "      <td>[0.0.0,8.2.0)</td>\n",
       "      <td>closed</td>\n",
       "    </tr>\n",
       "    <tr>\n",
       "      <th>4</th>\n",
       "      <td>SNYK-JS-ELECTRON-565051</td>\n",
       "      <td>electron</td>\n",
       "      <td>2020-04-10</td>\n",
       "      <td>2020-04-02</td>\n",
       "      <td>high</td>\n",
       "      <td>Heap Overflow</td>\n",
       "      <td>NPM</td>\n",
       "      <td>8.8</td>\n",
       "      <td>[8.2.1]</td>\n",
       "      <td>[0.0.0,8.2.1)</td>\n",
       "      <td>closed</td>\n",
       "    </tr>\n",
       "  </tbody>\n",
       "</table>\n",
       "</div>"
      ],
      "text/plain": [
       "                                 id              package  published  \\\n",
       "0          SNYK-JS-MBACKDOOR-565090           m-backdoor 2020-04-12   \n",
       "1     SNYK-JS-PAYPALADAPTIVE-565089      paypal-adaptive 2020-04-12   \n",
       "2  SNYK-JS-GRUNTUTILPROPERTY-565088  grunt-util-property 2020-04-12   \n",
       "3           SNYK-JS-ELECTRON-565052             electron 2020-04-10   \n",
       "4           SNYK-JS-ELECTRON-565051             electron 2020-04-10   \n",
       "\n",
       "   disclosed  severity        vulnerability ecosystem  score    fixed  \\\n",
       "0 2020-04-10  critical    Malicious Package       NPM    9.8       ()   \n",
       "1 2020-04-12    medium  Prototype Pollution       NPM    4.2       ()   \n",
       "2 2020-04-12    medium  Prototype Pollution       NPM    4.0       ()   \n",
       "3 2020-03-06      high   Out-of-bounds Read       NPM    7.3  [8.2.0]   \n",
       "4 2020-04-02      high        Heap Overflow       NPM    8.8  [8.2.1]   \n",
       "\n",
       "        affected  status  \n",
       "0   [0.0.0,+inf)    open  \n",
       "1   [0.0.0,+inf)    open  \n",
       "2   [0.0.0,+inf)    open  \n",
       "3  [0.0.0,8.2.0)  closed  \n",
       "4  [0.0.0,8.2.1)  closed  "
      ]
     },
     "execution_count": 61,
     "metadata": {},
     "output_type": "execute_result"
    }
   ],
   "source": [
    "df_vuln.head()"
   ]
  },
  {
   "cell_type": "code",
   "execution_count": null,
   "metadata": {},
   "outputs": [],
   "source": []
  },
  {
   "cell_type": "code",
   "execution_count": null,
   "metadata": {},
   "outputs": [],
   "source": []
  },
  {
   "cell_type": "markdown",
   "metadata": {},
   "source": [
    "**TODO**\n",
    "\n",
    " - Quantify the dataset, so to give an overview of what we have; \n",
    " - Ignore vulnerabilities that are not yet fixed; \n",
    " - For each vulnerability, tag each release of the vulnerable package as \"affected\" (yes/no), \"fixed\" (yes/no). This will allow to identify if a fix is deployed in a previous major as well. Keep in mind that you should do this for all vulnerabilities, not all packages (since a same package can have more than one vulnerability);\n",
    " - Quantify the number of backported fixes; \n",
    " - (possibly) Quantify the number of dependents that benefited from such backports; \n",
    " - (possibly) Quantify the number of dependents that could benefit from a backport. "
   ]
  },
  {
   "cell_type": "code",
   "execution_count": null,
   "metadata": {},
   "outputs": [],
   "source": []
  }
 ],
 "metadata": {
  "kernelspec": {
   "display_name": "Python 3",
   "language": "python",
   "name": "python3"
  },
  "language_info": {
   "codemirror_mode": {
    "name": "ipython",
    "version": 3
   },
   "file_extension": ".py",
   "mimetype": "text/x-python",
   "name": "python",
   "nbconvert_exporter": "python",
   "pygments_lexer": "ipython3",
   "version": "3.6.8"
  }
 },
 "nbformat": 4,
 "nbformat_minor": 4
}
